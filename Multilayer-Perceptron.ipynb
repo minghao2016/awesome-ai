{
 "cells": [
  {
   "cell_type": "code",
   "execution_count": 1,
   "metadata": {
    "ExecuteTime": {
     "end_time": "2019-02-28T18:08:36.440360Z",
     "start_time": "2019-02-28T18:08:34.888817Z"
    }
   },
   "outputs": [
    {
     "data": {
      "text/plain": [
       "'1.10.0'"
      ]
     },
     "execution_count": 1,
     "metadata": {},
     "output_type": "execute_result"
    }
   ],
   "source": [
    "# load packages\n",
    "import os\n",
    "import sys\n",
    "import numpy as np\n",
    "import pandas as pd\n",
    "import tensorflow as tf\n",
    "tf.__version__"
   ]
  },
  {
   "cell_type": "markdown",
   "metadata": {},
   "source": [
    "# Load Data"
   ]
  },
  {
   "cell_type": "code",
   "execution_count": 2,
   "metadata": {
    "ExecuteTime": {
     "end_time": "2019-02-28T18:08:36.822225Z",
     "start_time": "2019-02-28T18:08:36.443327Z"
    },
    "scrolled": true
   },
   "outputs": [
    {
     "data": {
      "text/plain": [
       "((60000, 28, 28), (60000,), (10000, 28, 28), (10000,))"
      ]
     },
     "execution_count": 2,
     "metadata": {},
     "output_type": "execute_result"
    }
   ],
   "source": [
    "(train_x, train_y), (test_x, test_y) = tf.keras.datasets.mnist.load_data()\n",
    "train_x.shape, train_y.shape, test_x.shape, test_y.shape"
   ]
  },
  {
   "cell_type": "code",
   "execution_count": 3,
   "metadata": {
    "ExecuteTime": {
     "end_time": "2019-02-28T18:08:37.018535Z",
     "start_time": "2019-02-28T18:08:36.826379Z"
    }
   },
   "outputs": [],
   "source": [
    "# normlize the data\n",
    "train_x = train_x.astype(\"float32\") / 255.0\n",
    "test_x = test_x.astype(\"float32\") / 255.0"
   ]
  },
  {
   "cell_type": "code",
   "execution_count": 4,
   "metadata": {
    "ExecuteTime": {
     "end_time": "2019-02-28T18:08:37.027989Z",
     "start_time": "2019-02-28T18:08:37.021542Z"
    }
   },
   "outputs": [],
   "source": [
    "# one-hot encode the labels\n",
    "train_y = tf.keras.utils.to_categorical(train_y, 10)\n",
    "test_y = tf.keras.utils.to_categorical(test_y, 10)"
   ]
  },
  {
   "cell_type": "code",
   "execution_count": 5,
   "metadata": {
    "ExecuteTime": {
     "end_time": "2019-02-28T18:08:37.037815Z",
     "start_time": "2019-02-28T18:08:37.032656Z"
    }
   },
   "outputs": [
    {
     "data": {
      "text/plain": [
       "(array([0., 0., 0., 0., 0., 1., 0., 0., 0., 0.], dtype=float32),\n",
       " array([0., 0., 0., 0., 0., 0., 0., 1., 0., 0.], dtype=float32))"
      ]
     },
     "execution_count": 5,
     "metadata": {},
     "output_type": "execute_result"
    }
   ],
   "source": [
    "train_y[0], test_y[0]"
   ]
  },
  {
   "cell_type": "code",
   "execution_count": 6,
   "metadata": {
    "ExecuteTime": {
     "end_time": "2019-02-28T18:08:37.044962Z",
     "start_time": "2019-02-28T18:08:37.041184Z"
    }
   },
   "outputs": [],
   "source": [
    "# reshape input image to 1-channel images form 3-channel images\n",
    "w, h = 28, 28\n",
    "train_x = train_x.reshape(train_x.shape[0], w*h)\n",
    "test_x = test_x.reshape(test_x.shape[0], w*h)"
   ]
  },
  {
   "cell_type": "code",
   "execution_count": 7,
   "metadata": {
    "ExecuteTime": {
     "end_time": "2019-02-28T18:08:37.051689Z",
     "start_time": "2019-02-28T18:08:37.046971Z"
    }
   },
   "outputs": [
    {
     "data": {
      "text/plain": [
       "((60000, 784), (60000, 10), (10000, 784), (10000, 10))"
      ]
     },
     "execution_count": 7,
     "metadata": {},
     "output_type": "execute_result"
    }
   ],
   "source": [
    "train_x.shape, train_y.shape, test_x.shape, test_y.shape"
   ]
  },
  {
   "cell_type": "markdown",
   "metadata": {},
   "source": [
    "# Perceptron Model"
   ]
  },
  {
   "cell_type": "code",
   "execution_count": 8,
   "metadata": {
    "ExecuteTime": {
     "end_time": "2019-02-28T18:08:37.057718Z",
     "start_time": "2019-02-28T18:08:37.053464Z"
    }
   },
   "outputs": [
    {
     "data": {
      "text/plain": [
       "(784, 10)"
      ]
     },
     "execution_count": 8,
     "metadata": {},
     "output_type": "execute_result"
    }
   ],
   "source": [
    "num_features = train_x.shape[1] # number of inputs\n",
    "num_classes = train_y.shape[1] # number of classes in output\n",
    "num_features, num_classes"
   ]
  },
  {
   "cell_type": "code",
   "execution_count": 9,
   "metadata": {
    "ExecuteTime": {
     "end_time": "2019-02-28T18:08:37.077408Z",
     "start_time": "2019-02-28T18:08:37.059975Z"
    }
   },
   "outputs": [],
   "source": [
    "# placeholders for input\n",
    "x = tf.placeholder(dtype=tf.float32, shape=(None, num_features), name=\"feature_x\")\n",
    "y = tf.placeholder(dtype=tf.float32, shape=(None, num_classes), name=\"target_y\")"
   ]
  },
  {
   "cell_type": "code",
   "execution_count": 10,
   "metadata": {
    "ExecuteTime": {
     "end_time": "2019-02-28T18:08:37.085405Z",
     "start_time": "2019-02-28T18:08:37.080709Z"
    }
   },
   "outputs": [
    {
     "data": {
      "text/plain": [
       "(<tf.Tensor 'feature_x:0' shape=(?, 784) dtype=float32>,\n",
       " <tf.Tensor 'target_y:0' shape=(?, 10) dtype=float32>)"
      ]
     },
     "execution_count": 10,
     "metadata": {},
     "output_type": "execute_result"
    }
   ],
   "source": [
    "x, y"
   ]
  },
  {
   "cell_type": "code",
   "execution_count": 11,
   "metadata": {
    "ExecuteTime": {
     "end_time": "2019-02-28T18:08:37.118180Z",
     "start_time": "2019-02-28T18:08:37.086877Z"
    }
   },
   "outputs": [],
   "source": [
    "# configure layer 1\n",
    "l1_nodes = 10\n",
    "\n",
    "w1 = tf.Variable(tf.random_normal(shape=(l1_nodes, num_features), mean=0.0, stddev=1.0, dtype=tf.float32, name=\"layer1_weights\")) # weight\n",
    "b1 = tf.Variable(tf.random_normal([l1_nodes], dtype=tf.float32, name=\"layer1_bias\")) # bias\n",
    "\n",
    "z1 = tf.matmul(x, tf.transpose(w1))\n",
    "\n",
    "l1_output = tf.nn.relu(z1 + b1) # layer1 output"
   ]
  },
  {
   "cell_type": "code",
   "execution_count": 12,
   "metadata": {
    "ExecuteTime": {
     "end_time": "2019-02-28T18:08:37.127514Z",
     "start_time": "2019-02-28T18:08:37.120247Z"
    }
   },
   "outputs": [
    {
     "data": {
      "text/plain": [
       "(<tf.Variable 'Variable:0' shape=(10, 784) dtype=float32_ref>,\n",
       " <tf.Variable 'Variable_1:0' shape=(10,) dtype=float32_ref>,\n",
       " <tf.Tensor 'Relu:0' shape=(?, 10) dtype=float32>)"
      ]
     },
     "execution_count": 12,
     "metadata": {},
     "output_type": "execute_result"
    }
   ],
   "source": [
    "w1, b1, l1_output"
   ]
  },
  {
   "cell_type": "code",
   "execution_count": 13,
   "metadata": {
    "ExecuteTime": {
     "end_time": "2019-02-28T18:08:37.158916Z",
     "start_time": "2019-02-28T18:08:37.130233Z"
    }
   },
   "outputs": [],
   "source": [
    "# configure layer 2\n",
    "l2_nodes = 10\n",
    "\n",
    "w2 = tf.Variable(tf.random_normal(shape=(l2_nodes, l1_nodes), mean=0.0, stddev=1.0, dtype=tf.float32, name=\"layer2_weights\"))\n",
    "b2 = tf.Variable(tf.random_normal([l2_nodes], dtype=tf.float32, name=\"layer2_bias\"))\n",
    "\n",
    "z2 = tf.matmul(l1_output, tf.transpose(w2))\n",
    "\n",
    "l2_output = tf.nn.relu(z2 + b2) # layer2 output"
   ]
  },
  {
   "cell_type": "code",
   "execution_count": 14,
   "metadata": {
    "ExecuteTime": {
     "end_time": "2019-02-28T18:08:37.189227Z",
     "start_time": "2019-02-28T18:08:37.160790Z"
    }
   },
   "outputs": [],
   "source": [
    "# output layer\n",
    "output_weight = tf.Variable(tf.random_normal(shape=(num_classes, l2_nodes), mean=0.0, stddev=1.0, dtype=tf.float32, name=\"output_layer_weights\"))\n",
    "output_bias = tf.Variable(tf.random_normal([num_classes], dtype=tf.float32, name=\"output_layer_bias\")) # bias\n",
    "\n",
    "output_z = tf.matmul(l1_output, tf.transpose(output_weight))\n",
    "\n",
    "output = tf.nn.softmax(output_z + output_bias) # softmax activation"
   ]
  },
  {
   "cell_type": "code",
   "execution_count": 15,
   "metadata": {
    "ExecuteTime": {
     "end_time": "2019-02-28T18:08:37.196001Z",
     "start_time": "2019-02-28T18:08:37.190928Z"
    }
   },
   "outputs": [
    {
     "data": {
      "text/plain": [
       "(<tf.Variable 'Variable_4:0' shape=(10, 10) dtype=float32_ref>,\n",
       " <tf.Variable 'Variable_5:0' shape=(10,) dtype=float32_ref>,\n",
       " <tf.Tensor 'Softmax:0' shape=(?, 10) dtype=float32>)"
      ]
     },
     "execution_count": 15,
     "metadata": {},
     "output_type": "execute_result"
    }
   ],
   "source": [
    "output_weight, output_bias, output"
   ]
  },
  {
   "cell_type": "code",
   "execution_count": 16,
   "metadata": {
    "ExecuteTime": {
     "end_time": "2019-02-28T18:08:37.211010Z",
     "start_time": "2019-02-28T18:08:37.198011Z"
    }
   },
   "outputs": [],
   "source": [
    "# define loss function\n",
    "loss_function = tf.reduce_mean(-tf.reduce_sum(y*tf.log(output + 1e-10))) # categorical cross entropy"
   ]
  },
  {
   "cell_type": "code",
   "execution_count": 17,
   "metadata": {
    "ExecuteTime": {
     "end_time": "2019-02-28T18:08:37.291019Z",
     "start_time": "2019-02-28T18:08:37.213549Z"
    }
   },
   "outputs": [],
   "source": [
    "trainer = tf.train.GradientDescentOptimizer(learning_rate = 0.0001).minimize(loss_function) # optimizer to minimize loss function"
   ]
  },
  {
   "cell_type": "code",
   "execution_count": 18,
   "metadata": {
    "ExecuteTime": {
     "end_time": "2019-02-28T18:08:37.301077Z",
     "start_time": "2019-02-28T18:08:37.297766Z"
    }
   },
   "outputs": [],
   "source": [
    "loss_list = list()\n",
    "val_loss_list = list()"
   ]
  },
  {
   "cell_type": "code",
   "execution_count": 19,
   "metadata": {
    "ExecuteTime": {
     "end_time": "2019-02-28T18:17:28.228925Z",
     "start_time": "2019-02-28T18:08:37.304822Z"
    },
    "scrolled": true
   },
   "outputs": [
    {
     "name": "stdout",
     "output_type": "stream",
     "text": [
      "Step: 0 :\t loss: 161161.97 val_loss: 26121.443\n",
      "Step: 100 :\t loss: 32708.795 val_loss: 5228.236\n",
      "Step: 200 :\t loss: 27351.91 val_loss: 4471.2485\n",
      "Step: 300 :\t loss: 24699.252 val_loss: 4116.421\n",
      "Step: 400 :\t loss: 23093.55 val_loss: 3875.726\n",
      "Step: 500 :\t loss: 21935.08 val_loss: 3694.0264\n",
      "Step: 600 :\t loss: 21007.895 val_loss: 3545.0928\n",
      "Step: 700 :\t loss: 20274.586 val_loss: 3426.6707\n",
      "Step: 800 :\t loss: 19671.396 val_loss: 3333.414\n",
      "Step: 900 :\t loss: 19179.928 val_loss: 3262.2212\n",
      "Step: 1000 :\t loss: 18767.268 val_loss: 3201.5908\n"
     ]
    }
   ],
   "source": [
    "# run the model\n",
    "epochs = 1000\n",
    "step = 100\n",
    "with tf.Session() as sess:\n",
    "    sess.run(tf.global_variables_initializer())\n",
    "    # write graph\n",
    "    writer = tf.summary.FileWriter(\"tensorboard_graphs/vanilla_perceptron\", sess.graph)\n",
    "    \n",
    "    # run epochs\n",
    "    for i in range(epochs+1):\n",
    "        j = 0\n",
    "        # run batch operation\n",
    "        while j in range(60000):\n",
    "            sess.run(trainer, feed_dict={x:train_x[j:j+step], y:train_y[j:j+step]})\n",
    "            j += step\n",
    "        loss = sess.run(loss_function, feed_dict={x:train_x, y:train_y})\n",
    "        val_loss = sess.run(loss_function, feed_dict={x:test_x, y:test_y})\n",
    "        loss_list.append(loss)\n",
    "        val_loss_list.append(val_loss)\n",
    "        if i % 100 == 0:\n",
    "            print(\"Step:\", i, \":\\t\", \"loss:\", loss, \"val_loss:\", val_loss)\n",
    "    \n",
    "    writer.close()"
   ]
  },
  {
   "cell_type": "markdown",
   "metadata": {},
   "source": [
    "# Visualize Model Performance"
   ]
  },
  {
   "cell_type": "code",
   "execution_count": 20,
   "metadata": {
    "ExecuteTime": {
     "end_time": "2019-02-28T18:17:28.522051Z",
     "start_time": "2019-02-28T18:17:28.231740Z"
    }
   },
   "outputs": [],
   "source": [
    "import matplotlib.pyplot as plt"
   ]
  },
  {
   "cell_type": "code",
   "execution_count": 21,
   "metadata": {
    "ExecuteTime": {
     "end_time": "2019-02-28T18:17:28.725789Z",
     "start_time": "2019-02-28T18:17:28.523791Z"
    }
   },
   "outputs": [
    {
     "data": {
      "image/png": "[encoded data removed]",
      "text/plain": [
       "<Figure size 432x288 with 1 Axes>"
      ]
     },
     "metadata": {
      "needs_background": "light"
     },
     "output_type": "display_data"
    }
   ],
   "source": [
    "epochs = range(1, len(loss_list) + 1)\n",
    "\n",
    "plt.plot(epochs, loss_list, \"b\", label=\"Training Loss\", color=\"blue\")\n",
    "plt.plot(epochs, val_loss_list, \"b\", label=\"Validation Loss\", color=\"green\")\n",
    "\n",
    "plt.legend()\n",
    "plt.xlabel(\"Iterations\")\n",
    "plt.ylabel(\"Loss\")\n",
    "plt.title(\"Train and Validation Loss\")\n",
    "\n",
    "plt.show()"
   ]
  },
  {
   "cell_type": "code",
   "execution_count": null,
   "metadata": {},
   "outputs": [],
   "source": []
  }
 ],
 "metadata": {
  "kernelspec": {
   "display_name": "Python [conda env:ai_env]",
   "language": "python",
   "name": "conda-env-ai_env-py"
  },
  "language_info": {
   "codemirror_mode": {
    "name": "ipython",
    "version": 3
   },
   "file_extension": ".py",
   "mimetype": "text/x-python",
   "name": "python",
   "nbconvert_exporter": "python",
   "pygments_lexer": "ipython3",
   "version": "3.6.6"
  }
 },
 "nbformat": 4,
 "nbformat_minor": 2
}
