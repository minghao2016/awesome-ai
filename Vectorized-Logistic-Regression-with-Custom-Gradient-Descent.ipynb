{
 "cells": [
  {
   "cell_type": "code",
   "execution_count": 1,
   "metadata": {
    "ExecuteTime": {
     "end_time": "2019-02-16T16:49:36.791880Z",
     "start_time": "2019-02-16T16:49:35.292304Z"
    }
   },
   "outputs": [
    {
     "data": {
      "text/plain": [
       "'1.10.0'"
      ]
     },
     "execution_count": 1,
     "metadata": {},
     "output_type": "execute_result"
    }
   ],
   "source": [
    "# load packages\n",
    "import os\n",
    "import sys\n",
    "import re\n",
    "import random\n",
    "import numpy as np\n",
    "import pandas as pd\n",
    "import tensorflow as tf\n",
    "tf.__version__"
   ]
  },
  {
   "cell_type": "markdown",
   "metadata": {},
   "source": [
    "# Load Data"
   ]
  },
  {
   "cell_type": "code",
   "execution_count": 4,
   "metadata": {
    "ExecuteTime": {
     "end_time": "2019-02-16T16:50:37.816161Z",
     "start_time": "2019-02-16T16:50:37.809160Z"
    }
   },
   "outputs": [],
   "source": [
    "data = pd.read_csv(\"../DATAHUB/iris-dataset.csv\")"
   ]
  },
  {
   "cell_type": "code",
   "execution_count": 5,
   "metadata": {
    "ExecuteTime": {
     "end_time": "2019-02-16T16:50:41.824445Z",
     "start_time": "2019-02-16T16:50:41.820414Z"
    }
   },
   "outputs": [
    {
     "data": {
      "text/plain": [
       "(150, 6)"
      ]
     },
     "execution_count": 5,
     "metadata": {},
     "output_type": "execute_result"
    }
   ],
   "source": [
    "data.shape"
   ]
  },
  {
   "cell_type": "code",
   "execution_count": 6,
   "metadata": {
    "ExecuteTime": {
     "end_time": "2019-02-16T16:50:45.166164Z",
     "start_time": "2019-02-16T16:50:45.145377Z"
    }
   },
   "outputs": [
    {
     "data": {
      "text/html": [
       "<div>\n",
       "<style scoped>\n",
       "    .dataframe tbody tr th:only-of-type {\n",
       "        vertical-align: middle;\n",
       "    }\n",
       "\n",
       "    .dataframe tbody tr th {\n",
       "        vertical-align: top;\n",
       "    }\n",
       "\n",
       "    .dataframe thead th {\n",
       "        text-align: right;\n",
       "    }\n",
       "</style>\n",
       "<table border=\"1\" class=\"dataframe\">\n",
       "  <thead>\n",
       "    <tr style=\"text-align: right;\">\n",
       "      <th></th>\n",
       "      <th>Id</th>\n",
       "      <th>SepalLengthCm</th>\n",
       "      <th>SepalWidthCm</th>\n",
       "      <th>PetalLengthCm</th>\n",
       "      <th>PetalWidthCm</th>\n",
       "      <th>Species</th>\n",
       "    </tr>\n",
       "  </thead>\n",
       "  <tbody>\n",
       "    <tr>\n",
       "      <th>0</th>\n",
       "      <td>1</td>\n",
       "      <td>5.1</td>\n",
       "      <td>3.5</td>\n",
       "      <td>1.4</td>\n",
       "      <td>0.2</td>\n",
       "      <td>Iris-setosa</td>\n",
       "    </tr>\n",
       "    <tr>\n",
       "      <th>1</th>\n",
       "      <td>2</td>\n",
       "      <td>4.9</td>\n",
       "      <td>3.0</td>\n",
       "      <td>1.4</td>\n",
       "      <td>0.2</td>\n",
       "      <td>Iris-setosa</td>\n",
       "    </tr>\n",
       "    <tr>\n",
       "      <th>2</th>\n",
       "      <td>3</td>\n",
       "      <td>4.7</td>\n",
       "      <td>3.2</td>\n",
       "      <td>1.3</td>\n",
       "      <td>0.2</td>\n",
       "      <td>Iris-setosa</td>\n",
       "    </tr>\n",
       "  </tbody>\n",
       "</table>\n",
       "</div>"
      ],
      "text/plain": [
       "   Id  SepalLengthCm  SepalWidthCm  PetalLengthCm  PetalWidthCm      Species\n",
       "0   1            5.1           3.5            1.4           0.2  Iris-setosa\n",
       "1   2            4.9           3.0            1.4           0.2  Iris-setosa\n",
       "2   3            4.7           3.2            1.3           0.2  Iris-setosa"
      ]
     },
     "execution_count": 6,
     "metadata": {},
     "output_type": "execute_result"
    }
   ],
   "source": [
    "data.head(3)"
   ]
  },
  {
   "cell_type": "code",
   "execution_count": 7,
   "metadata": {
    "ExecuteTime": {
     "end_time": "2019-02-16T16:51:32.031856Z",
     "start_time": "2019-02-16T16:51:32.024235Z"
    }
   },
   "outputs": [
    {
     "data": {
      "text/plain": [
       "array(['Iris-setosa', 'Iris-versicolor', 'Iris-virginica'], dtype=object)"
      ]
     },
     "execution_count": 7,
     "metadata": {},
     "output_type": "execute_result"
    }
   ],
   "source": [
    "target_values = data.Species.unique()\n",
    "target_values"
   ]
  },
  {
   "cell_type": "code",
   "execution_count": 8,
   "metadata": {
    "ExecuteTime": {
     "end_time": "2019-02-16T16:52:38.048404Z",
     "start_time": "2019-02-16T16:52:38.044199Z"
    }
   },
   "outputs": [],
   "source": [
    "# create mapping for target labels\n",
    "target_values_mapping = dict()\n",
    "i = 0\n",
    "for tar in target_values:\n",
    "    if tar not in target_values_mapping:\n",
    "        target_values_mapping[tar] = i\n",
    "        i += 1\n",
    "    else:\n",
    "        continue"
   ]
  },
  {
   "cell_type": "code",
   "execution_count": 9,
   "metadata": {
    "ExecuteTime": {
     "end_time": "2019-02-16T16:52:40.637643Z",
     "start_time": "2019-02-16T16:52:40.632305Z"
    }
   },
   "outputs": [
    {
     "data": {
      "text/plain": [
       "{'Iris-setosa': 0, 'Iris-versicolor': 1, 'Iris-virginica': 2}"
      ]
     },
     "execution_count": 9,
     "metadata": {},
     "output_type": "execute_result"
    }
   ],
   "source": [
    "target_values_mapping"
   ]
  },
  {
   "cell_type": "code",
   "execution_count": 10,
   "metadata": {
    "ExecuteTime": {
     "end_time": "2019-02-16T16:53:10.265369Z",
     "start_time": "2019-02-16T16:53:10.250468Z"
    }
   },
   "outputs": [
    {
     "data": {
      "text/html": [
       "<div>\n",
       "<style scoped>\n",
       "    .dataframe tbody tr th:only-of-type {\n",
       "        vertical-align: middle;\n",
       "    }\n",
       "\n",
       "    .dataframe tbody tr th {\n",
       "        vertical-align: top;\n",
       "    }\n",
       "\n",
       "    .dataframe thead th {\n",
       "        text-align: right;\n",
       "    }\n",
       "</style>\n",
       "<table border=\"1\" class=\"dataframe\">\n",
       "  <thead>\n",
       "    <tr style=\"text-align: right;\">\n",
       "      <th></th>\n",
       "      <th>Id</th>\n",
       "      <th>SepalLengthCm</th>\n",
       "      <th>SepalWidthCm</th>\n",
       "      <th>PetalLengthCm</th>\n",
       "      <th>PetalWidthCm</th>\n",
       "      <th>Species</th>\n",
       "    </tr>\n",
       "  </thead>\n",
       "  <tbody>\n",
       "    <tr>\n",
       "      <th>0</th>\n",
       "      <td>1</td>\n",
       "      <td>5.1</td>\n",
       "      <td>3.5</td>\n",
       "      <td>1.4</td>\n",
       "      <td>0.2</td>\n",
       "      <td>0</td>\n",
       "    </tr>\n",
       "    <tr>\n",
       "      <th>1</th>\n",
       "      <td>2</td>\n",
       "      <td>4.9</td>\n",
       "      <td>3.0</td>\n",
       "      <td>1.4</td>\n",
       "      <td>0.2</td>\n",
       "      <td>0</td>\n",
       "    </tr>\n",
       "    <tr>\n",
       "      <th>2</th>\n",
       "      <td>3</td>\n",
       "      <td>4.7</td>\n",
       "      <td>3.2</td>\n",
       "      <td>1.3</td>\n",
       "      <td>0.2</td>\n",
       "      <td>0</td>\n",
       "    </tr>\n",
       "  </tbody>\n",
       "</table>\n",
       "</div>"
      ],
      "text/plain": [
       "   Id  SepalLengthCm  SepalWidthCm  PetalLengthCm  PetalWidthCm  Species\n",
       "0   1            5.1           3.5            1.4           0.2        0\n",
       "1   2            4.9           3.0            1.4           0.2        0\n",
       "2   3            4.7           3.2            1.3           0.2        0"
      ]
     },
     "execution_count": 10,
     "metadata": {},
     "output_type": "execute_result"
    }
   ],
   "source": [
    "# convert target labels into categorical values\n",
    "data.Species = data.Species.apply(lambda x: target_values_mapping[x])\n",
    "data.head(3)"
   ]
  },
  {
   "cell_type": "markdown",
   "metadata": {},
   "source": [
    "## Converting To Binary Classification"
   ]
  },
  {
   "cell_type": "code",
   "execution_count": 11,
   "metadata": {
    "ExecuteTime": {
     "end_time": "2019-02-16T16:54:05.005165Z",
     "start_time": "2019-02-16T16:54:04.998752Z"
    }
   },
   "outputs": [
    {
     "data": {
      "text/plain": [
       "(100, 6)"
      ]
     },
     "execution_count": 11,
     "metadata": {},
     "output_type": "execute_result"
    }
   ],
   "source": [
    "data = data[data.Species <= 1]\n",
    "data.shape"
   ]
  },
  {
   "cell_type": "code",
   "execution_count": 12,
   "metadata": {
    "ExecuteTime": {
     "end_time": "2019-02-16T16:54:05.292598Z",
     "start_time": "2019-02-16T16:54:05.287427Z"
    }
   },
   "outputs": [
    {
     "data": {
      "text/plain": [
       "array([0, 1])"
      ]
     },
     "execution_count": 12,
     "metadata": {},
     "output_type": "execute_result"
    }
   ],
   "source": [
    "data.Species.unique()"
   ]
  },
  {
   "cell_type": "code",
   "execution_count": 13,
   "metadata": {
    "ExecuteTime": {
     "end_time": "2019-02-16T16:54:08.241843Z",
     "start_time": "2019-02-16T16:54:08.237396Z"
    }
   },
   "outputs": [
    {
     "data": {
      "text/plain": [
       "(100, 4)"
      ]
     },
     "execution_count": 13,
     "metadata": {},
     "output_type": "execute_result"
    }
   ],
   "source": [
    "features = np.array(data.iloc[:, 1:-1]) # load features into a numpy array\n",
    "features.shape"
   ]
  },
  {
   "cell_type": "code",
   "execution_count": 14,
   "metadata": {
    "ExecuteTime": {
     "end_time": "2019-02-16T16:54:08.588149Z",
     "start_time": "2019-02-16T16:54:08.580751Z"
    }
   },
   "outputs": [
    {
     "data": {
      "text/plain": [
       "(100, 1)"
      ]
     },
     "execution_count": 14,
     "metadata": {},
     "output_type": "execute_result"
    }
   ],
   "source": [
    "labels = np.array(data.iloc[:, [-1]]) # load target values into a numpy array\n",
    "labels.shape"
   ]
  },
  {
   "cell_type": "code",
   "execution_count": 15,
   "metadata": {
    "ExecuteTime": {
     "end_time": "2019-02-16T16:54:09.709521Z",
     "start_time": "2019-02-16T16:54:09.705046Z"
    }
   },
   "outputs": [
    {
     "data": {
      "text/plain": [
       "(array([5.1, 3.5, 1.4, 0.2]), array([0]))"
      ]
     },
     "execution_count": 15,
     "metadata": {},
     "output_type": "execute_result"
    }
   ],
   "source": [
    "features[0], labels[0]"
   ]
  },
  {
   "cell_type": "code",
   "execution_count": 16,
   "metadata": {
    "ExecuteTime": {
     "end_time": "2019-02-16T16:54:09.995808Z",
     "start_time": "2019-02-16T16:54:09.990378Z"
    }
   },
   "outputs": [
    {
     "data": {
      "text/plain": [
       "(array([4.9, 3. , 1.4, 0.2]), array([0]))"
      ]
     },
     "execution_count": 16,
     "metadata": {},
     "output_type": "execute_result"
    }
   ],
   "source": [
    "features[1], labels[1]"
   ]
  },
  {
   "cell_type": "code",
   "execution_count": 17,
   "metadata": {
    "ExecuteTime": {
     "end_time": "2019-02-16T16:54:25.634854Z",
     "start_time": "2019-02-16T16:54:25.630805Z"
    }
   },
   "outputs": [],
   "source": [
    "# split data into train and validate set\n",
    "val_split_size = 0.2\n",
    "random_indices = np.random.rand(len(features)) <= val_split_size\n",
    "\n",
    "train_x = features[~random_indices]\n",
    "train_y = labels[~random_indices]\n",
    "\n",
    "val_x = features[random_indices]\n",
    "val_y = labels[random_indices]"
   ]
  },
  {
   "cell_type": "code",
   "execution_count": 18,
   "metadata": {
    "ExecuteTime": {
     "end_time": "2019-02-16T16:54:26.292245Z",
     "start_time": "2019-02-16T16:54:26.288212Z"
    }
   },
   "outputs": [
    {
     "data": {
      "text/plain": [
       "((78, 4), (78, 1), (22, 4), (22, 1))"
      ]
     },
     "execution_count": 18,
     "metadata": {},
     "output_type": "execute_result"
    }
   ],
   "source": [
    "train_x.shape, train_y.shape, val_x.shape, val_y.shape"
   ]
  },
  {
   "cell_type": "markdown",
   "metadata": {},
   "source": [
    "# Vectorized Logistic Regression Model"
   ]
  },
  {
   "cell_type": "code",
   "execution_count": 19,
   "metadata": {
    "ExecuteTime": {
     "end_time": "2019-02-16T16:54:31.208946Z",
     "start_time": "2019-02-16T16:54:31.190728Z"
    }
   },
   "outputs": [],
   "source": [
    "# placeholders\n",
    "x = tf.placeholder(dtype=tf.float32, shape=(None, features.shape[1]), name=\"feature_x\")\n",
    "y = tf.placeholder(dtype=tf.float32, shape=(None, 1), name=\"target_y\")"
   ]
  },
  {
   "cell_type": "code",
   "execution_count": 20,
   "metadata": {
    "ExecuteTime": {
     "end_time": "2019-02-16T16:54:31.474744Z",
     "start_time": "2019-02-16T16:54:31.459746Z"
    }
   },
   "outputs": [],
   "source": [
    "# define weights and bias\n",
    "w = tf.Variable(tf.random_normal(shape=(1, features.shape[1]), dtype=tf.float32, mean=0.0, stddev=0.1))\n",
    "b = tf.Variable(tf.zeros(shape=(1, 1), dtype=tf.float32))"
   ]
  },
  {
   "cell_type": "code",
   "execution_count": 21,
   "metadata": {
    "ExecuteTime": {
     "end_time": "2019-02-16T16:54:31.764564Z",
     "start_time": "2019-02-16T16:54:31.751722Z"
    }
   },
   "outputs": [],
   "source": [
    "logistic_model = tf.sigmoid(tf.add(tf.matmul(x, tf.transpose(w)), b))"
   ]
  },
  {
   "cell_type": "code",
   "execution_count": 22,
   "metadata": {
    "ExecuteTime": {
     "end_time": "2019-02-16T16:54:32.210798Z",
     "start_time": "2019-02-16T16:54:32.199149Z"
    }
   },
   "outputs": [],
   "source": [
    "# loss to minimize\n",
    "loss_function = tf.reduce_mean(-(y*tf.log(logistic_model) + (1 - y)*tf.log(1 - logistic_model))) # binary cross entropy"
   ]
  },
  {
   "cell_type": "markdown",
   "metadata": {},
   "source": [
    "## Using Inbuilt Optimizer"
   ]
  },
  {
   "cell_type": "code",
   "execution_count": 23,
   "metadata": {
    "ExecuteTime": {
     "end_time": "2019-02-16T16:55:00.942335Z",
     "start_time": "2019-02-16T16:55:00.855234Z"
    }
   },
   "outputs": [],
   "source": [
    "trainer = tf.train.AdamOptimizer(learning_rate=0.1).minimize(loss_function) # define optimizer over loss function"
   ]
  },
  {
   "cell_type": "code",
   "execution_count": 24,
   "metadata": {
    "ExecuteTime": {
     "end_time": "2019-02-16T16:55:06.959173Z",
     "start_time": "2019-02-16T16:55:06.849391Z"
    }
   },
   "outputs": [
    {
     "name": "stdout",
     "output_type": "stream",
     "text": [
      "[Training...]\n",
      "Step: 0 \tTrain Loss: 0.66107166\tVal Loss: 0.70484805\n",
      "Step: 1 \tTrain Loss: 0.6873195\tVal Loss: 0.8089012\n",
      "Step: 2 \tTrain Loss: 0.6566027\tVal Loss: 0.781486\n",
      "Step: 3 \tTrain Loss: 0.56897557\tVal Loss: 0.66378504\n",
      "Step: 4 \tTrain Loss: 0.4748255\tVal Loss: 0.52935845\n",
      "Step: 5 \tTrain Loss: 0.40851447\tVal Loss: 0.42647317\n",
      "Step: 6 \tTrain Loss: 0.37489048\tVal Loss: 0.36724922\n",
      "Step: 7 \tTrain Loss: 0.3533003\tVal Loss: 0.33261317\n",
      "Step: 8 \tTrain Loss: 0.32356444\tVal Loss: 0.3002415\n",
      "Step: 9 \tTrain Loss: 0.28337237\tVal Loss: 0.26403475\n",
      "Final Weights: [[-0.1951803 -0.3899726  0.5876911  0.616648 ]]\n"
     ]
    }
   ],
   "source": [
    "# train the model\n",
    "with tf.Session() as sess:\n",
    "    sess.run(tf.global_variables_initializer())\n",
    "    print(\"[Training...]\")\n",
    "\n",
    "    for epoch in range(10):\n",
    "        sess.run(trainer, feed_dict={x:train_x, y:train_y})\n",
    "        train_loss = sess.run(loss_function, feed_dict={x:train_x, y:train_y})\n",
    "        print(\"Step:\", epoch, \"\\tTrain Loss:\", train_loss, end=\"\\t\")\n",
    "        val_loss = sess.run(loss_function, feed_dict={x:val_x, y:val_y})\n",
    "        print(\"Val Loss:\", val_loss)\n",
    "    \n",
    "    print(\"Final Weights:\", sess.run(w))\n",
    "    predicted_y = sess.run(logistic_model, feed_dict={x:val_x, y:val_y})"
   ]
  },
  {
   "cell_type": "markdown",
   "metadata": {},
   "source": [
    "## Prediction Analysis"
   ]
  },
  {
   "cell_type": "code",
   "execution_count": 25,
   "metadata": {
    "ExecuteTime": {
     "end_time": "2019-02-16T16:55:17.269924Z",
     "start_time": "2019-02-16T16:55:17.264012Z"
    }
   },
   "outputs": [
    {
     "data": {
      "text/plain": [
       "((22, 1), (22, 1))"
      ]
     },
     "execution_count": 25,
     "metadata": {},
     "output_type": "execute_result"
    }
   ],
   "source": [
    "# clip the prediction on threshold of 0.5 to get final prediction\n",
    "final_prediction = list()\n",
    "for pred in predicted_y:\n",
    "    if pred > 0.5:\n",
    "        final_prediction.append(1)\n",
    "    else:\n",
    "        final_prediction.append(0)\n",
    "final_prediction = np.array(final_prediction).reshape((len(final_prediction), 1))\n",
    "final_prediction.shape, val_y.shape"
   ]
  },
  {
   "cell_type": "code",
   "execution_count": 26,
   "metadata": {
    "ExecuteTime": {
     "end_time": "2019-02-16T16:55:20.065698Z",
     "start_time": "2019-02-16T16:55:20.060209Z"
    }
   },
   "outputs": [
    {
     "data": {
      "text/plain": [
       "('Accuracy = ', 100.0)"
      ]
     },
     "execution_count": 26,
     "metadata": {},
     "output_type": "execute_result"
    }
   ],
   "source": [
    "# find accuracy\n",
    "correct_prediciton = 0\n",
    "for i in range(val_y.shape[0]):\n",
    "    if final_prediction[i] == val_y[i]:\n",
    "        correct_prediciton += 1\n",
    "    else:\n",
    "        continue\n",
    "\"Accuracy = \", correct_prediciton / val_y.shape[0] * 100"
   ]
  },
  {
   "cell_type": "markdown",
   "metadata": {},
   "source": [
    "## Use Your Own Gradient Descent"
   ]
  },
  {
   "cell_type": "code",
   "execution_count": 27,
   "metadata": {
    "ExecuteTime": {
     "end_time": "2019-02-16T16:55:31.965548Z",
     "start_time": "2019-02-16T16:55:31.911070Z"
    }
   },
   "outputs": [],
   "source": [
    "# compute gradients\n",
    "grad_w, grad_b = tf.gradients(xs=[w, b], ys=loss_function)\n",
    "\n",
    "# update\n",
    "new_w = w.assign(w - 0.1*grad_w)\n",
    "new_b = b.assign(b - 0.1*grad_b)"
   ]
  },
  {
   "cell_type": "code",
   "execution_count": 28,
   "metadata": {
    "ExecuteTime": {
     "end_time": "2019-02-16T16:55:35.938183Z",
     "start_time": "2019-02-16T16:55:35.841627Z"
    }
   },
   "outputs": [
    {
     "name": "stdout",
     "output_type": "stream",
     "text": [
      "[Training...]\n",
      "Step: 0 \tTrain Loss: 0.6862202\tVal Loss: 0.6793507\n",
      "Step: 1 \tTrain Loss: 0.6364179\tVal Loss: 0.62880987\n",
      "Step: 2 \tTrain Loss: 0.597692\tVal Loss: 0.59168476\n",
      "Step: 3 \tTrain Loss: 0.56273824\tVal Loss: 0.556361\n",
      "Step: 4 \tTrain Loss: 0.5308453\tVal Loss: 0.52447164\n",
      "Step: 5 \tTrain Loss: 0.50170666\tVal Loss: 0.49534023\n",
      "Step: 6 \tTrain Loss: 0.47505248\tVal Loss: 0.46873626\n",
      "Step: 7 \tTrain Loss: 0.4506366\tVal Loss: 0.44439095\n",
      "Step: 8 \tTrain Loss: 0.4282361\tVal Loss: 0.4220727\n",
      "Step: 9 \tTrain Loss: 0.40764976\tVal Loss: 0.40157378\n",
      "Final Weights: [[-0.0784956  -0.2247189   0.4368278   0.21662694]]\n"
     ]
    }
   ],
   "source": [
    "# train the model\n",
    "with tf.Session() as sess:\n",
    "    sess.run(tf.global_variables_initializer())\n",
    "    print(\"[Training...]\")\n",
    "\n",
    "    for epoch in range(10):\n",
    "        _, _, train_loss = sess.run([new_w, new_b, loss_function], feed_dict={x:train_x, y:train_y})\n",
    "        print(\"Step:\", epoch, \"\\tTrain Loss:\", train_loss, end=\"\\t\")\n",
    "        val_loss = sess.run(loss_function, feed_dict={x:val_x, y:val_y})\n",
    "        print(\"Val Loss:\", val_loss)\n",
    "    \n",
    "    print(\"Final Weights:\", sess.run(w))\n",
    "    predicted_y = sess.run(logistic_model, feed_dict={x:val_x, y:val_y})"
   ]
  },
  {
   "cell_type": "markdown",
   "metadata": {},
   "source": [
    "## Prediction Analysis"
   ]
  },
  {
   "cell_type": "code",
   "execution_count": 29,
   "metadata": {
    "ExecuteTime": {
     "end_time": "2019-02-16T16:55:43.711049Z",
     "start_time": "2019-02-16T16:55:43.704558Z"
    }
   },
   "outputs": [
    {
     "data": {
      "text/plain": [
       "((22, 1), (22, 1))"
      ]
     },
     "execution_count": 29,
     "metadata": {},
     "output_type": "execute_result"
    }
   ],
   "source": [
    "# clip the prediction on threshold of 0.5 to get final prediction\n",
    "final_prediction = list()\n",
    "for pred in predicted_y:\n",
    "    if pred > 0.5:\n",
    "        final_prediction.append(1)\n",
    "    else:\n",
    "        final_prediction.append(0)\n",
    "final_prediction = np.array(final_prediction).reshape((len(final_prediction), 1))\n",
    "final_prediction.shape, val_y.shape"
   ]
  },
  {
   "cell_type": "code",
   "execution_count": 30,
   "metadata": {
    "ExecuteTime": {
     "end_time": "2019-02-16T16:55:45.049116Z",
     "start_time": "2019-02-16T16:55:45.043335Z"
    }
   },
   "outputs": [
    {
     "data": {
      "text/plain": [
       "('Accuracy = ', 100.0)"
      ]
     },
     "execution_count": 30,
     "metadata": {},
     "output_type": "execute_result"
    }
   ],
   "source": [
    "# find accuracy\n",
    "correct_prediciton = 0\n",
    "for i in range(val_y.shape[0]):\n",
    "    if final_prediction[i] == val_y[i]:\n",
    "        correct_prediciton += 1\n",
    "    else:\n",
    "        continue\n",
    "\"Accuracy = \", correct_prediciton / val_y.shape[0] * 100"
   ]
  },
  {
   "cell_type": "markdown",
   "metadata": {},
   "source": [
    "Perfect Score!"
   ]
  },
  {
   "cell_type": "code",
   "execution_count": null,
   "metadata": {},
   "outputs": [],
   "source": []
  }
 ],
 "metadata": {
  "kernelspec": {
   "display_name": "Python [conda env:ai_env]",
   "language": "python",
   "name": "conda-env-ai_env-py"
  },
  "language_info": {
   "codemirror_mode": {
    "name": "ipython",
    "version": 3
   },
   "file_extension": ".py",
   "mimetype": "text/x-python",
   "name": "python",
   "nbconvert_exporter": "python",
   "pygments_lexer": "ipython3",
   "version": "3.6.6"
  }
 },
 "nbformat": 4,
 "nbformat_minor": 2
}
