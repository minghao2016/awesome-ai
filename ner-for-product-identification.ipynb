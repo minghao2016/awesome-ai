{
 "cells": [
  {
   "cell_type": "code",
   "execution_count": 1,
   "metadata": {
    "ExecuteTime": {
     "end_time": "2018-12-28T10:40:43.541171Z",
     "start_time": "2018-12-28T10:40:42.259179Z"
    }
   },
   "outputs": [],
   "source": [
    "import os\n",
    "import sys\n",
    "import re\n",
    "import numpy as np\n",
    "import pandas as pd\n",
    "import pickle\n",
    "import tensorflow as tf\n",
    "import sklearn"
   ]
  },
  {
   "cell_type": "code",
   "execution_count": 2,
   "metadata": {
    "ExecuteTime": {
     "end_time": "2018-12-28T10:40:43.554327Z",
     "start_time": "2018-12-28T10:40:43.544360Z"
    }
   },
   "outputs": [
    {
     "data": {
      "text/plain": [
       "'1.12.0'"
      ]
     },
     "execution_count": 2,
     "metadata": {},
     "output_type": "execute_result"
    }
   ],
   "source": [
    "tf.__version__"
   ]
  },
  {
   "cell_type": "markdown",
   "metadata": {},
   "source": [
    "## Data Preprocessing"
   ]
  },
  {
   "cell_type": "code",
   "execution_count": 3,
   "metadata": {
    "ExecuteTime": {
     "end_time": "2018-12-28T10:40:43.559615Z",
     "start_time": "2018-12-28T10:40:43.556661Z"
    }
   },
   "outputs": [],
   "source": [
    "FILEPATH = \"../data/train_old.csv\" # train data path"
   ]
  },
  {
   "cell_type": "code",
   "execution_count": 4,
   "metadata": {
    "ExecuteTime": {
     "end_time": "2018-12-28T10:40:44.316394Z",
     "start_time": "2018-12-28T10:40:43.562946Z"
    }
   },
   "outputs": [],
   "source": [
    "# load data\n",
    "data = pd.read_csv(FILEPATH)"
   ]
  },
  {
   "cell_type": "code",
   "execution_count": 5,
   "metadata": {
    "ExecuteTime": {
     "end_time": "2018-12-28T10:40:44.323556Z",
     "start_time": "2018-12-28T10:40:44.319622Z"
    }
   },
   "outputs": [
    {
     "name": "stdout",
     "output_type": "stream",
     "text": [
      "Data Shape: (384048, 4)\n",
      "Columns: Index(['title', 'brand', 'model', 'model_len'], dtype='object')\n"
     ]
    }
   ],
   "source": [
    "print(\"Data Shape:\", data.shape)\n",
    "print(\"Columns:\", data.columns)"
   ]
  },
  {
   "cell_type": "code",
   "execution_count": 6,
   "metadata": {
    "ExecuteTime": {
     "end_time": "2018-12-28T10:40:44.337945Z",
     "start_time": "2018-12-28T10:40:44.325710Z"
    }
   },
   "outputs": [
    {
     "data": {
      "text/html": [
       "<div>\n",
       "<style scoped>\n",
       "    .dataframe tbody tr th:only-of-type {\n",
       "        vertical-align: middle;\n",
       "    }\n",
       "\n",
       "    .dataframe tbody tr th {\n",
       "        vertical-align: top;\n",
       "    }\n",
       "\n",
       "    .dataframe thead th {\n",
       "        text-align: right;\n",
       "    }\n",
       "</style>\n",
       "<table border=\"1\" class=\"dataframe\">\n",
       "  <thead>\n",
       "    <tr style=\"text-align: right;\">\n",
       "      <th></th>\n",
       "      <th>title</th>\n",
       "      <th>brand</th>\n",
       "      <th>model</th>\n",
       "      <th>model_len</th>\n",
       "    </tr>\n",
       "  </thead>\n",
       "  <tbody>\n",
       "    <tr>\n",
       "      <th>0</th>\n",
       "      <td>Sunrise 8 inch Ultra Thin With 15 inch Brass A...</td>\n",
       "      <td>Sunrise</td>\n",
       "      <td>8 inch Ultra Thin With 15 inch</td>\n",
       "      <td>7</td>\n",
       "    </tr>\n",
       "    <tr>\n",
       "      <th>1</th>\n",
       "      <td>Polytuf Overhead 4 Inches Chrome Plated Shower...</td>\n",
       "      <td>Polytuf</td>\n",
       "      <td>Overhead 4 Inches Chrome Plated</td>\n",
       "      <td>5</td>\n",
       "    </tr>\n",
       "    <tr>\n",
       "      <th>2</th>\n",
       "      <td>Kitsch SS Square 600mm Long 24 Shower Arm For ...</td>\n",
       "      <td>Kitsch</td>\n",
       "      <td>SS Square Long 24 Shower Arm For</td>\n",
       "      <td>7</td>\n",
       "    </tr>\n",
       "    <tr>\n",
       "      <th>3</th>\n",
       "      <td>Sunrise 6 Inch Ultra Thin With 18inch Showerar...</td>\n",
       "      <td>Sunrise</td>\n",
       "      <td>6 Inch Ultra Thin With 18inch Showerarm</td>\n",
       "      <td>7</td>\n",
       "    </tr>\n",
       "    <tr>\n",
       "      <th>4</th>\n",
       "      <td>ZakTag WATER BABY Dancing bubbles 18 inch Groo...</td>\n",
       "      <td>ZakTag</td>\n",
       "      <td>WATER BABY Dancing bubbles 18 inch</td>\n",
       "      <td>6</td>\n",
       "    </tr>\n",
       "  </tbody>\n",
       "</table>\n",
       "</div>"
      ],
      "text/plain": [
       "                                               title    brand  \\\n",
       "0  Sunrise 8 inch Ultra Thin With 15 inch Brass A...  Sunrise   \n",
       "1  Polytuf Overhead 4 Inches Chrome Plated Shower...  Polytuf   \n",
       "2  Kitsch SS Square 600mm Long 24 Shower Arm For ...   Kitsch   \n",
       "3  Sunrise 6 Inch Ultra Thin With 18inch Showerar...  Sunrise   \n",
       "4  ZakTag WATER BABY Dancing bubbles 18 inch Groo...   ZakTag   \n",
       "\n",
       "                                     model  model_len  \n",
       "0           8 inch Ultra Thin With 15 inch          7  \n",
       "1          Overhead 4 Inches Chrome Plated          5  \n",
       "2         SS Square Long 24 Shower Arm For          7  \n",
       "3  6 Inch Ultra Thin With 18inch Showerarm          7  \n",
       "4       WATER BABY Dancing bubbles 18 inch          6  "
      ]
     },
     "execution_count": 6,
     "metadata": {},
     "output_type": "execute_result"
    }
   ],
   "source": [
    "data.head(5)"
   ]
  },
  {
   "cell_type": "code",
   "execution_count": 7,
   "metadata": {
    "ExecuteTime": {
     "end_time": "2018-12-28T10:40:44.430839Z",
     "start_time": "2018-12-28T10:40:44.339618Z"
    }
   },
   "outputs": [
    {
     "data": {
      "text/plain": [
       "title           0\n",
       "brand           3\n",
       "model        8241\n",
       "model_len       0\n",
       "dtype: int64"
      ]
     },
     "execution_count": 7,
     "metadata": {},
     "output_type": "execute_result"
    }
   ],
   "source": [
    "# check for null or missing values\n",
    "data.isnull().sum()"
   ]
  },
  {
   "cell_type": "code",
   "execution_count": 8,
   "metadata": {
    "ExecuteTime": {
     "end_time": "2018-12-28T10:40:44.493392Z",
     "start_time": "2018-12-28T10:40:44.432910Z"
    }
   },
   "outputs": [],
   "source": [
    "# drop rows with null values based on brands\n",
    "data = data.dropna(axis=0, subset=[\"brand\"], how=\"any\")"
   ]
  },
  {
   "cell_type": "code",
   "execution_count": 9,
   "metadata": {
    "ExecuteTime": {
     "end_time": "2018-12-28T10:40:44.497575Z",
     "start_time": "2018-12-28T10:40:44.495359Z"
    }
   },
   "outputs": [],
   "source": [
    "# select rows where model name is present in title\n",
    "# data = data[data.present_in_title == True]"
   ]
  },
  {
   "cell_type": "code",
   "execution_count": 10,
   "metadata": {
    "ExecuteTime": {
     "end_time": "2018-12-28T10:40:44.503535Z",
     "start_time": "2018-12-28T10:40:44.499585Z"
    }
   },
   "outputs": [
    {
     "data": {
      "text/plain": [
       "(384045, 4)"
      ]
     },
     "execution_count": 10,
     "metadata": {},
     "output_type": "execute_result"
    }
   ],
   "source": [
    "data.shape"
   ]
  },
  {
   "cell_type": "code",
   "execution_count": 11,
   "metadata": {
    "ExecuteTime": {
     "end_time": "2018-12-28T10:40:44.507232Z",
     "start_time": "2018-12-28T10:40:44.505145Z"
    }
   },
   "outputs": [],
   "source": [
    "# keep rows where model name is present in description\n",
    "# data = data[data.present_in_description == True]"
   ]
  },
  {
   "cell_type": "code",
   "execution_count": 12,
   "metadata": {
    "ExecuteTime": {
     "end_time": "2018-12-28T10:40:44.869711Z",
     "start_time": "2018-12-28T10:40:44.509488Z"
    }
   },
   "outputs": [
    {
     "name": "stdout",
     "output_type": "stream",
     "text": [
      "8.365397284172428 8.0 77\n"
     ]
    }
   ],
   "source": [
    "# stats on title length\n",
    "title_lens = data.title.apply(lambda x: len(x.split()))\n",
    "print(np.mean(title_lens), np.median(title_lens), max(title_lens))"
   ]
  },
  {
   "cell_type": "code",
   "execution_count": 13,
   "metadata": {
    "ExecuteTime": {
     "end_time": "2018-12-28T10:40:44.874218Z",
     "start_time": "2018-12-28T10:40:44.871639Z"
    }
   },
   "outputs": [],
   "source": [
    "# desc_lens = data.description.apply(lambda x: len(x.split()))\n",
    "# print(np.mean(desc_lens), np.median(desc_lens), max(desc_lens))"
   ]
  },
  {
   "cell_type": "code",
   "execution_count": 14,
   "metadata": {
    "ExecuteTime": {
     "end_time": "2018-12-28T10:40:44.878971Z",
     "start_time": "2018-12-28T10:40:44.876484Z"
    }
   },
   "outputs": [],
   "source": [
    "# data[\"model_len\"] = data.model.apply(lambda x: len(x.split()))\n",
    "# data.head(5)"
   ]
  },
  {
   "cell_type": "code",
   "execution_count": 15,
   "metadata": {
    "ExecuteTime": {
     "end_time": "2018-12-28T10:40:44.911737Z",
     "start_time": "2018-12-28T10:40:44.880953Z"
    }
   },
   "outputs": [
    {
     "data": {
      "text/plain": [
       "(309239, 4)"
      ]
     },
     "execution_count": 15,
     "metadata": {},
     "output_type": "execute_result"
    }
   ],
   "source": [
    "# select rows with model name length less than or equal to 5\n",
    "data = data[data.model_len <= 5]\n",
    "data.shape"
   ]
  },
  {
   "cell_type": "code",
   "execution_count": 16,
   "metadata": {
    "ExecuteTime": {
     "end_time": "2018-12-28T10:40:44.924929Z",
     "start_time": "2018-12-28T10:40:44.915333Z"
    }
   },
   "outputs": [
    {
     "data": {
      "text/html": [
       "<div>\n",
       "<style scoped>\n",
       "    .dataframe tbody tr th:only-of-type {\n",
       "        vertical-align: middle;\n",
       "    }\n",
       "\n",
       "    .dataframe tbody tr th {\n",
       "        vertical-align: top;\n",
       "    }\n",
       "\n",
       "    .dataframe thead th {\n",
       "        text-align: right;\n",
       "    }\n",
       "</style>\n",
       "<table border=\"1\" class=\"dataframe\">\n",
       "  <thead>\n",
       "    <tr style=\"text-align: right;\">\n",
       "      <th></th>\n",
       "      <th>title</th>\n",
       "      <th>brand</th>\n",
       "      <th>model</th>\n",
       "      <th>model_len</th>\n",
       "    </tr>\n",
       "  </thead>\n",
       "  <tbody>\n",
       "    <tr>\n",
       "      <th>1</th>\n",
       "      <td>Polytuf Overhead 4 Inches Chrome Plated Shower...</td>\n",
       "      <td>Polytuf</td>\n",
       "      <td>Overhead 4 Inches Chrome Plated</td>\n",
       "      <td>5</td>\n",
       "    </tr>\n",
       "    <tr>\n",
       "      <th>5</th>\n",
       "      <td>Bael Wellness BAELTTO30ML</td>\n",
       "      <td>Bael Wellness</td>\n",
       "      <td>BAELTTO30ML</td>\n",
       "      <td>1</td>\n",
       "    </tr>\n",
       "    <tr>\n",
       "      <th>6</th>\n",
       "      <td>Shubhpuja Ganesh Laxmi Showpiece    10 cm</td>\n",
       "      <td>Shubhpuja</td>\n",
       "      <td>Ganesh Laxmi</td>\n",
       "      <td>2</td>\n",
       "    </tr>\n",
       "    <tr>\n",
       "      <th>7</th>\n",
       "      <td>Vamaa SGPS300MM  Linux 26 ARM A9 Dual Core 0 M...</td>\n",
       "      <td>Vamaa</td>\n",
       "      <td>SGPS300MM</td>\n",
       "      <td>1</td>\n",
       "    </tr>\n",
       "    <tr>\n",
       "      <th>8</th>\n",
       "      <td>eGlobal PAINTZOOM02 SMSPZGEP76 Airless Sprayer</td>\n",
       "      <td>eGlobal</td>\n",
       "      <td>PAINTZOOM02</td>\n",
       "      <td>1</td>\n",
       "    </tr>\n",
       "  </tbody>\n",
       "</table>\n",
       "</div>"
      ],
      "text/plain": [
       "                                               title          brand  \\\n",
       "1  Polytuf Overhead 4 Inches Chrome Plated Shower...        Polytuf   \n",
       "5                          Bael Wellness BAELTTO30ML  Bael Wellness   \n",
       "6          Shubhpuja Ganesh Laxmi Showpiece    10 cm      Shubhpuja   \n",
       "7  Vamaa SGPS300MM  Linux 26 ARM A9 Dual Core 0 M...          Vamaa   \n",
       "8     eGlobal PAINTZOOM02 SMSPZGEP76 Airless Sprayer        eGlobal   \n",
       "\n",
       "                             model  model_len  \n",
       "1  Overhead 4 Inches Chrome Plated          5  \n",
       "5                      BAELTTO30ML          1  \n",
       "6                     Ganesh Laxmi          2  \n",
       "7                        SGPS300MM          1  \n",
       "8                      PAINTZOOM02          1  "
      ]
     },
     "execution_count": 16,
     "metadata": {},
     "output_type": "execute_result"
    }
   ],
   "source": [
    "data.head(5)"
   ]
  },
  {
   "cell_type": "code",
   "execution_count": 17,
   "metadata": {
    "ExecuteTime": {
     "end_time": "2018-12-28T10:41:06.101222Z",
     "start_time": "2018-12-28T10:40:44.926491Z"
    }
   },
   "outputs": [],
   "source": [
    "# create word frequency mapping\n",
    "word_frequency_mapping = dict()\n",
    "for i, row in data.iterrows():\n",
    "    raw_string = row[\"title\"]\n",
    "    text = re.sub(\"[^a-zA-Z0-9 ]\", \"\", raw_string)\n",
    "    tokens = text.split()\n",
    "    for tok in tokens:\n",
    "        if tok not in word_frequency_mapping:\n",
    "            # if not in vocab, add new word\n",
    "            word_frequency_mapping[tok] = 1\n",
    "        else:\n",
    "            # if word present in vocab, update frequency\n",
    "            word_frequency_mapping[tok] += 1"
   ]
  },
  {
   "cell_type": "code",
   "execution_count": 18,
   "metadata": {
    "ExecuteTime": {
     "end_time": "2018-12-28T10:41:06.110732Z",
     "start_time": "2018-12-28T10:41:06.107416Z"
    }
   },
   "outputs": [
    {
     "name": "stdout",
     "output_type": "stream",
     "text": [
      "Number of unique words =  151709\n"
     ]
    }
   ],
   "source": [
    "print(\"Number of unique words = \", len(word_frequency_mapping))"
   ]
  },
  {
   "cell_type": "code",
   "execution_count": 19,
   "metadata": {
    "ExecuteTime": {
     "end_time": "2018-12-28T10:41:06.165456Z",
     "start_time": "2018-12-28T10:41:06.114250Z"
    }
   },
   "outputs": [
    {
     "data": {
      "text/plain": [
       "151709"
      ]
     },
     "execution_count": 19,
     "metadata": {},
     "output_type": "execute_result"
    }
   ],
   "source": [
    "# reverse the dict based on the values\n",
    "sorted_word_frequency_mapping = sorted(word_frequency_mapping.items(), key=lambda x: x[1], reverse=True)\n",
    "len(sorted_word_frequency_mapping)"
   ]
  },
  {
   "cell_type": "code",
   "execution_count": 20,
   "metadata": {
    "ExecuteTime": {
     "end_time": "2018-12-28T10:41:06.243047Z",
     "start_time": "2018-12-28T10:41:06.167547Z"
    }
   },
   "outputs": [
    {
     "data": {
      "text/plain": [
       "151711"
      ]
     },
     "execution_count": 20,
     "metadata": {},
     "output_type": "execute_result"
    }
   ],
   "source": [
    "# create a vocabulary for the embedding\n",
    "# add word for unknown words and for padding\n",
    "word2idx = {\"<PAD>\":0, \"<UNK>\": 1}\n",
    "for i in range(len(sorted_word_frequency_mapping)):\n",
    "    word2idx[sorted_word_frequency_mapping[i][0]] = i+2\n",
    "# check for the lenght of the vocab\n",
    "len(word2idx)"
   ]
  },
  {
   "cell_type": "code",
   "execution_count": 21,
   "metadata": {
    "ExecuteTime": {
     "end_time": "2018-12-28T10:41:06.270217Z",
     "start_time": "2018-12-28T10:41:06.244993Z"
    }
   },
   "outputs": [
    {
     "data": {
      "text/plain": [
       "151711"
      ]
     },
     "execution_count": 21,
     "metadata": {},
     "output_type": "execute_result"
    }
   ],
   "source": [
    "# get a mapping from index to word\n",
    "idx2word = {val:key for key, val in word2idx.items()}\n",
    "len(idx2word)"
   ]
  },
  {
   "cell_type": "code",
   "execution_count": 22,
   "metadata": {
    "ExecuteTime": {
     "end_time": "2018-12-28T10:41:06.276892Z",
     "start_time": "2018-12-28T10:41:06.271949Z"
    }
   },
   "outputs": [
    {
     "data": {
      "text/plain": [
       "67"
      ]
     },
     "execution_count": 22,
     "metadata": {},
     "output_type": "execute_result"
    }
   ],
   "source": [
    "chars = \"\"\"abcdefghijklmnopqrstuvwxyzABCDEFGHIJKLMNOPQRSTUVWXYZ0123456789-,_!.\"\"\"\n",
    "chars = [a for a in chars]\n",
    "len(chars)"
   ]
  },
  {
   "cell_type": "code",
   "execution_count": 23,
   "metadata": {
    "ExecuteTime": {
     "end_time": "2018-12-28T10:41:06.282270Z",
     "start_time": "2018-12-28T10:41:06.278889Z"
    }
   },
   "outputs": [],
   "source": [
    "char2idx = {\"<UNK>\": 1, \"<PAD>\": 0}\n",
    "for i in range(len(chars)):\n",
    "    char2idx[chars[i]] = i+2\n",
    "# len(char2idx)"
   ]
  },
  {
   "cell_type": "code",
   "execution_count": 24,
   "metadata": {
    "ExecuteTime": {
     "end_time": "2018-12-28T10:41:06.288956Z",
     "start_time": "2018-12-28T10:41:06.284198Z"
    }
   },
   "outputs": [
    {
     "data": {
      "text/plain": [
       "69"
      ]
     },
     "execution_count": 24,
     "metadata": {},
     "output_type": "execute_result"
    }
   ],
   "source": [
    "# get a mapping from index to word\n",
    "idx2char = {val:key for key, val in char2idx.items()}\n",
    "len(idx2char)"
   ]
  },
  {
   "cell_type": "code",
   "execution_count": 25,
   "metadata": {
    "ExecuteTime": {
     "end_time": "2018-12-28T10:41:06.300309Z",
     "start_time": "2018-12-28T10:41:06.290883Z"
    }
   },
   "outputs": [
    {
     "data": {
      "text/html": [
       "<div>\n",
       "<style scoped>\n",
       "    .dataframe tbody tr th:only-of-type {\n",
       "        vertical-align: middle;\n",
       "    }\n",
       "\n",
       "    .dataframe tbody tr th {\n",
       "        vertical-align: top;\n",
       "    }\n",
       "\n",
       "    .dataframe thead th {\n",
       "        text-align: right;\n",
       "    }\n",
       "</style>\n",
       "<table border=\"1\" class=\"dataframe\">\n",
       "  <thead>\n",
       "    <tr style=\"text-align: right;\">\n",
       "      <th></th>\n",
       "      <th>title</th>\n",
       "      <th>brand</th>\n",
       "      <th>model</th>\n",
       "      <th>model_len</th>\n",
       "    </tr>\n",
       "  </thead>\n",
       "  <tbody>\n",
       "    <tr>\n",
       "      <th>1</th>\n",
       "      <td>Polytuf Overhead 4 Inches Chrome Plated Shower...</td>\n",
       "      <td>Polytuf</td>\n",
       "      <td>Overhead 4 Inches Chrome Plated</td>\n",
       "      <td>5</td>\n",
       "    </tr>\n",
       "    <tr>\n",
       "      <th>5</th>\n",
       "      <td>Bael Wellness BAELTTO30ML</td>\n",
       "      <td>Bael Wellness</td>\n",
       "      <td>BAELTTO30ML</td>\n",
       "      <td>1</td>\n",
       "    </tr>\n",
       "    <tr>\n",
       "      <th>6</th>\n",
       "      <td>Shubhpuja Ganesh Laxmi Showpiece    10 cm</td>\n",
       "      <td>Shubhpuja</td>\n",
       "      <td>Ganesh Laxmi</td>\n",
       "      <td>2</td>\n",
       "    </tr>\n",
       "  </tbody>\n",
       "</table>\n",
       "</div>"
      ],
      "text/plain": [
       "                                               title          brand  \\\n",
       "1  Polytuf Overhead 4 Inches Chrome Plated Shower...        Polytuf   \n",
       "5                          Bael Wellness BAELTTO30ML  Bael Wellness   \n",
       "6          Shubhpuja Ganesh Laxmi Showpiece    10 cm      Shubhpuja   \n",
       "\n",
       "                             model  model_len  \n",
       "1  Overhead 4 Inches Chrome Plated          5  \n",
       "5                      BAELTTO30ML          1  \n",
       "6                     Ganesh Laxmi          2  "
      ]
     },
     "execution_count": 25,
     "metadata": {},
     "output_type": "execute_result"
    }
   ],
   "source": [
    "data.head(3)"
   ]
  },
  {
   "cell_type": "code",
   "execution_count": 26,
   "metadata": {
    "ExecuteTime": {
     "end_time": "2018-12-28T10:41:52.237376Z",
     "start_time": "2018-12-28T10:41:06.301893Z"
    }
   },
   "outputs": [],
   "source": [
    "# create character based codes for each title name\n",
    "x_char = list()\n",
    "max_len = 16\n",
    "max_char_len = 8\n",
    "for i, row in data.iterrows():\n",
    "    text = row[\"title\"]\n",
    "    text = re.sub(\"[^a-zA-Z0-9,-;.!?:’’’/\\|_@#$%ˆ&*˜‘+-=' ]\", \"\", text)\n",
    "    tokens = text.split()\n",
    "    total_token = list()\n",
    "    for k in range(max_len):\n",
    "        word_seq = list()\n",
    "        for j in range(max_char_len):\n",
    "            try:\n",
    "                word_seq.append(char2idx[tokens[k][j]])\n",
    "            except:\n",
    "                word_seq.append(char2idx[\"<PAD>\"])\n",
    "        total_token.append(word_seq)\n",
    "    x_char.append(total_token)"
   ]
  },
  {
   "cell_type": "code",
   "execution_count": 27,
   "metadata": {
    "ExecuteTime": {
     "end_time": "2018-12-28T10:42:14.631121Z",
     "start_time": "2018-12-28T10:41:52.239365Z"
    }
   },
   "outputs": [],
   "source": [
    "# create word based codes for each title name\n",
    "x_word = list()\n",
    "for i, row in data.iterrows():\n",
    "    text = row[\"title\"]\n",
    "    text = re.sub(\"[^a-zA-Z0-9,-;.!?:’’’/\\|_@#$%ˆ&*˜‘+-=' ]\", \"\", text)\n",
    "    tokens = text.split()\n",
    "    total_tokens=  list()\n",
    "    for tok in tokens:\n",
    "        if tok in word2idx.keys():\n",
    "            total_tokens.append(word2idx[tok])\n",
    "        else:\n",
    "            total_tokens.append(word2idx[\"<UNK>\"])\n",
    "    x_word.append(total_tokens)"
   ]
  },
  {
   "cell_type": "code",
   "execution_count": 28,
   "metadata": {
    "ExecuteTime": {
     "end_time": "2018-12-28T10:42:14.635894Z",
     "start_time": "2018-12-28T10:42:14.632946Z"
    }
   },
   "outputs": [],
   "source": [
    "tag2idx = {\n",
    "    \"O\": 0, # others\n",
    "    \"B-M\": 1, # begin of model_name\n",
    "    \"I-M\": 2 # intermediate model_name\n",
    "}"
   ]
  },
  {
   "cell_type": "code",
   "execution_count": 29,
   "metadata": {
    "ExecuteTime": {
     "end_time": "2018-12-28T10:42:39.722816Z",
     "start_time": "2018-12-28T10:42:14.638256Z"
    }
   },
   "outputs": [],
   "source": [
    "y = list()\n",
    "for i, row in data.iterrows():\n",
    "    model_name, title = row[\"model\"], row[\"title\"]\n",
    "    model_name = re.sub(\"[^a-zA-Z0-9,-;.!?:’’’/\\|_@#$%ˆ&*˜‘+-=' ]\", \"\", str(model_name))\n",
    "    model_name_tokens = model_name.split()\n",
    "    title = re.sub(\"[^a-zA-Z0-9,-;.!?:’’’/\\|_@#$%ˆ&*˜‘+-=' ]\", \"\", str(title))\n",
    "    title_tokens = title.split()\n",
    "    tags = list()\n",
    "    for t in title_tokens:\n",
    "        if t not in model_name_tokens:\n",
    "            tags.append(tag2idx[\"O\"])\n",
    "        elif model_name_tokens.index(t) == 0:\n",
    "            tags.append(tag2idx[\"B-M\"])\n",
    "        else:\n",
    "            tags.append(tag2idx[\"I-M\"])\n",
    "    y.append(tags)"
   ]
  },
  {
   "cell_type": "code",
   "execution_count": 30,
   "metadata": {
    "ExecuteTime": {
     "end_time": "2018-12-28T10:42:40.986124Z",
     "start_time": "2018-12-28T10:42:39.724802Z"
    },
    "scrolled": true
   },
   "outputs": [],
   "source": [
    "padded_labels = tf.keras.preprocessing.sequence.pad_sequences(y, maxlen=16, padding=\"post\", truncating=\"post\")\n",
    "categorical_labels = tf.keras.utils.to_categorical(padded_labels, 3)"
   ]
  },
  {
   "cell_type": "code",
   "execution_count": 31,
   "metadata": {
    "ExecuteTime": {
     "end_time": "2018-12-28T10:42:42.166198Z",
     "start_time": "2018-12-28T10:42:40.988067Z"
    }
   },
   "outputs": [],
   "source": [
    "padded_word = tf.keras.preprocessing.sequence.pad_sequences(x_word, maxlen=16, padding=\"post\", truncating=\"post\")"
   ]
  },
  {
   "cell_type": "code",
   "execution_count": 32,
   "metadata": {
    "ExecuteTime": {
     "end_time": "2018-12-28T10:42:42.172713Z",
     "start_time": "2018-12-28T10:42:42.168238Z"
    }
   },
   "outputs": [
    {
     "data": {
      "text/plain": [
       "(309239, 309239, 309239)"
      ]
     },
     "execution_count": 32,
     "metadata": {},
     "output_type": "execute_result"
    }
   ],
   "source": [
    "len(x_char), len(padded_word), len(padded_labels)"
   ]
  },
  {
   "cell_type": "code",
   "execution_count": 33,
   "metadata": {
    "ExecuteTime": {
     "end_time": "2018-12-28T10:42:42.177020Z",
     "start_time": "2018-12-28T10:42:42.174414Z"
    }
   },
   "outputs": [],
   "source": [
    "import sklearn"
   ]
  },
  {
   "cell_type": "code",
   "execution_count": 34,
   "metadata": {
    "ExecuteTime": {
     "end_time": "2018-12-28T10:42:42.337218Z",
     "start_time": "2018-12-28T10:42:42.179619Z"
    }
   },
   "outputs": [],
   "source": [
    "from sklearn.model_selection import train_test_split"
   ]
  },
  {
   "cell_type": "code",
   "execution_count": 35,
   "metadata": {
    "ExecuteTime": {
     "end_time": "2018-12-28T10:42:42.584512Z",
     "start_time": "2018-12-28T10:42:42.338966Z"
    }
   },
   "outputs": [],
   "source": [
    "x_word_tr, x_word_te, y_tr, y_te = train_test_split(padded_word, categorical_labels, test_size=0.15, random_state=69)\n",
    "x_char_tr, x_char_te, _, _ = train_test_split(x_char, categorical_labels, test_size=0.15, random_state=69)"
   ]
  },
  {
   "cell_type": "code",
   "execution_count": 36,
   "metadata": {
    "ExecuteTime": {
     "end_time": "2018-12-28T10:42:47.083107Z",
     "start_time": "2018-12-28T10:42:42.586259Z"
    }
   },
   "outputs": [],
   "source": [
    "x_word_tr = np.array(x_word_tr).reshape((len(x_word_tr), 16))\n",
    "x_char_tr = np.array(x_char_tr).reshape((len(x_char_tr), 16, 8))\n",
    "y_tr = np.array(y_tr).reshape(len(y_tr), 16, 3)\n",
    "\n",
    "x_word_te = np.array(x_word_te).reshape((len(x_word_te), 16))\n",
    "x_char_te = np.array(x_char_te).reshape((len(x_char_te), 16, 8))\n",
    "y_te = np.array(y_te).reshape(len(y_te), 16, 3)"
   ]
  },
  {
   "cell_type": "code",
   "execution_count": 37,
   "metadata": {
    "ExecuteTime": {
     "end_time": "2018-12-28T10:42:47.089276Z",
     "start_time": "2018-12-28T10:42:47.084842Z"
    }
   },
   "outputs": [
    {
     "data": {
      "text/plain": [
       "(262853, 46386, 262853, 46386, 262853, 46386)"
      ]
     },
     "execution_count": 37,
     "metadata": {},
     "output_type": "execute_result"
    }
   ],
   "source": [
    "len(x_word_tr), len(x_word_te), len(y_tr), len(y_te), len(x_char_tr), len(x_char_te)"
   ]
  },
  {
   "cell_type": "code",
   "execution_count": 38,
   "metadata": {
    "ExecuteTime": {
     "end_time": "2018-12-28T10:42:47.094768Z",
     "start_time": "2018-12-28T10:42:47.091018Z"
    }
   },
   "outputs": [
    {
     "data": {
      "text/plain": [
       "((262853, 16), (46386, 16))"
      ]
     },
     "execution_count": 38,
     "metadata": {},
     "output_type": "execute_result"
    }
   ],
   "source": [
    "x_word_tr.shape, x_word_te.shape"
   ]
  },
  {
   "cell_type": "code",
   "execution_count": 39,
   "metadata": {
    "ExecuteTime": {
     "end_time": "2018-12-28T10:42:47.100984Z",
     "start_time": "2018-12-28T10:42:47.096564Z"
    }
   },
   "outputs": [
    {
     "data": {
      "text/plain": [
       "((262853, 16, 8), (46386, 16, 8))"
      ]
     },
     "execution_count": 39,
     "metadata": {},
     "output_type": "execute_result"
    }
   ],
   "source": [
    "x_char_tr.shape, x_char_te.shape"
   ]
  },
  {
   "cell_type": "code",
   "execution_count": 40,
   "metadata": {
    "ExecuteTime": {
     "end_time": "2018-12-28T10:42:47.106665Z",
     "start_time": "2018-12-28T10:42:47.102569Z"
    }
   },
   "outputs": [
    {
     "data": {
      "text/plain": [
       "((262853, 16, 3), (46386, 16, 3))"
      ]
     },
     "execution_count": 40,
     "metadata": {},
     "output_type": "execute_result"
    }
   ],
   "source": [
    "y_tr.shape, y_te.shape"
   ]
  },
  {
   "cell_type": "markdown",
   "metadata": {},
   "source": [
    "## Model"
   ]
  },
  {
   "cell_type": "code",
   "execution_count": 41,
   "metadata": {
    "ExecuteTime": {
     "end_time": "2018-12-28T10:42:48.070368Z",
     "start_time": "2018-12-28T10:42:47.108649Z"
    }
   },
   "outputs": [],
   "source": [
    "# input word tensor\n",
    "word_in = tf.keras.Input(shape=(16, ))\n",
    "# pass tensor to embedding layer\n",
    "emb_word = tf.keras.layers.Embedding(input_dim=len(word2idx)+2, output_dim=64, input_length=16)(word_in)\n",
    "\n",
    "# input char tensor\n",
    "char_in = tf.keras.Input(shape=(16, 8, ))\n",
    "emb_char = tf.keras.layers.TimeDistributed(tf.keras.layers.Embedding(input_dim=len(char2idx)+2, output_dim=32, input_length=8))(char_in)\n",
    "\n",
    "# LSTM to get word encodings by character\n",
    "char_enc = tf.keras.layers.TimeDistributed(tf.keras.layers.Bidirectional(tf.keras.layers.LSTM(units=64, return_sequences=False, recurrent_dropout=0.4)))(emb_char)\n",
    "\n",
    "# main BiLSTM block\n",
    "merged = tf.keras.layers.concatenate([emb_word, char_enc])\n",
    "# add another BiLSTM for ner task\n",
    "main_lstm = tf.keras.layers.Bidirectional(tf.keras.layers.LSTM(units=64, return_sequences=True))(merged)\n",
    "# add a time distribute layer to work it in parallel\n",
    "out = tf.keras.layers.TimeDistributed(tf.keras.layers.Dense(units=3, activation=\"softmax\"))(main_lstm)\n",
    "\n",
    "# set the model together\n",
    "model = tf.keras.Model([word_in, char_in], out)"
   ]
  },
  {
   "cell_type": "code",
   "execution_count": 42,
   "metadata": {
    "ExecuteTime": {
     "end_time": "2018-12-28T10:42:48.165458Z",
     "start_time": "2018-12-28T10:42:48.072372Z"
    }
   },
   "outputs": [],
   "source": [
    "model.compile(optimizer=\"adam\", loss=\"categorical_crossentropy\", metrics=[\"accuracy\"])"
   ]
  },
  {
   "cell_type": "code",
   "execution_count": 43,
   "metadata": {
    "ExecuteTime": {
     "end_time": "2018-12-28T10:42:48.172843Z",
     "start_time": "2018-12-28T10:42:48.167428Z"
    }
   },
   "outputs": [
    {
     "name": "stdout",
     "output_type": "stream",
     "text": [
      "__________________________________________________________________________________________________\n",
      "Layer (type)                    Output Shape         Param #     Connected to                     \n",
      "==================================================================================================\n",
      "input_2 (InputLayer)            (None, 16, 8)        0                                            \n",
      "__________________________________________________________________________________________________\n",
      "input_1 (InputLayer)            (None, 16)           0                                            \n",
      "__________________________________________________________________________________________________\n",
      "time_distributed (TimeDistribut (None, 16, 8, 32)    2272        input_2[0][0]                    \n",
      "__________________________________________________________________________________________________\n",
      "embedding (Embedding)           (None, 16, 64)       9709632     input_1[0][0]                    \n",
      "__________________________________________________________________________________________________\n",
      "time_distributed_1 (TimeDistrib (None, 16, 128)      49664       time_distributed[0][0]           \n",
      "__________________________________________________________________________________________________\n",
      "concatenate (Concatenate)       (None, 16, 192)      0           embedding[0][0]                  \n",
      "                                                                 time_distributed_1[0][0]         \n",
      "__________________________________________________________________________________________________\n",
      "bidirectional_1 (Bidirectional) (None, 16, 128)      131584      concatenate[0][0]                \n",
      "__________________________________________________________________________________________________\n",
      "time_distributed_2 (TimeDistrib (None, 16, 3)        387         bidirectional_1[0][0]            \n",
      "==================================================================================================\n",
      "Total params: 9,893,539\n",
      "Trainable params: 9,893,539\n",
      "Non-trainable params: 0\n",
      "__________________________________________________________________________________________________\n"
     ]
    }
   ],
   "source": [
    "model.summary()"
   ]
  },
  {
   "cell_type": "code",
   "execution_count": null,
   "metadata": {
    "ExecuteTime": {
     "end_time": "2018-12-28T09:09:11.011646Z",
     "start_time": "2018-12-28T09:09:09.498Z"
    }
   },
   "outputs": [],
   "source": [
    "# model config\n",
    "cbk = [tf.keras.callbacks.ModelCheckpoint(filepath='model_char_level.weights.best.hdf5', verbose = 1, save_best_only=True, save_weights_only=False), tf.keras.callbacks.EarlyStopping(patience=3)]"
   ]
  },
  {
   "cell_type": "code",
   "execution_count": null,
   "metadata": {
    "ExecuteTime": {
     "end_time": "2018-12-28T09:09:11.013632Z",
     "start_time": "2018-12-28T09:09:09.501Z"
    }
   },
   "outputs": [],
   "source": [
    "# model.fit([x_word_tr, x_char_tr], y_tr, batch_size=32, epochs=10, verbose=1, validation_data=([x_word_te, x_char_te], y_te), callbacks=cbk)"
   ]
  },
  {
   "cell_type": "code",
   "execution_count": null,
   "metadata": {
    "ExecuteTime": {
     "end_time": "2018-12-28T09:09:11.015669Z",
     "start_time": "2018-12-28T09:09:09.502Z"
    }
   },
   "outputs": [],
   "source": [
    "# # save word - index mapping to a pickle file\n",
    "# output = open(\"data/word2idx.pkl\", \"wb\")\n",
    "# pickle.dump(word2idx, output)\n",
    "# output.close()\n",
    "\n",
    "# output = open(\"data/idx2word.pkl\", \"wb\")\n",
    "# pickle.dump(idx2word, output)\n",
    "# output.close()"
   ]
  },
  {
   "cell_type": "code",
   "execution_count": null,
   "metadata": {
    "ExecuteTime": {
     "end_time": "2018-12-28T09:09:11.017616Z",
     "start_time": "2018-12-28T09:09:09.504Z"
    }
   },
   "outputs": [],
   "source": [
    "# # save char - index mapping to a pickle file\n",
    "# output = open(\"data/char2idx.pkl\", \"wb\")\n",
    "# pickle.dump(char2idx, output)\n",
    "# output.close()\n",
    "\n",
    "# output = open(\"data/idx2char.pkl\", \"wb\")\n",
    "# pickle.dump(idx2char, output)\n",
    "# output.close()"
   ]
  },
  {
   "cell_type": "code",
   "execution_count": null,
   "metadata": {},
   "outputs": [],
   "source": []
  }
 ],
 "metadata": {
  "kernelspec": {
   "display_name": "Python [conda env:ai_env]",
   "language": "python",
   "name": "conda-env-ai_env-py"
  },
  "language_info": {
   "codemirror_mode": {
    "name": "ipython",
    "version": 3
   },
   "file_extension": ".py",
   "mimetype": "text/x-python",
   "name": "python",
   "nbconvert_exporter": "python",
   "pygments_lexer": "ipython3",
   "version": "3.6.6"
  }
 },
 "nbformat": 4,
 "nbformat_minor": 2
}
