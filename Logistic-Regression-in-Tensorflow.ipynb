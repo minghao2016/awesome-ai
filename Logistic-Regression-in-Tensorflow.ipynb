{
 "cells": [
  {
   "cell_type": "code",
   "execution_count": 1,
   "metadata": {
    "ExecuteTime": {
     "end_time": "2019-01-29T19:52:45.527749Z",
     "start_time": "2019-01-29T19:52:44.295664Z"
    }
   },
   "outputs": [
    {
     "data": {
      "text/plain": [
       "'1.12.0'"
      ]
     },
     "execution_count": 1,
     "metadata": {},
     "output_type": "execute_result"
    }
   ],
   "source": [
    "# load packages\n",
    "import os\n",
    "import sys\n",
    "import re\n",
    "import random\n",
    "import numpy as np\n",
    "import pandas as pd\n",
    "import tensorflow as tf\n",
    "tf.__version__"
   ]
  },
  {
   "cell_type": "markdown",
   "metadata": {},
   "source": [
    "## Prepare Data"
   ]
  },
  {
   "cell_type": "code",
   "execution_count": 2,
   "metadata": {
    "ExecuteTime": {
     "end_time": "2019-01-29T19:52:45.541220Z",
     "start_time": "2019-01-29T19:52:45.531104Z"
    }
   },
   "outputs": [
    {
     "data": {
      "text/plain": [
       "pandas.core.frame.DataFrame"
      ]
     },
     "execution_count": 2,
     "metadata": {},
     "output_type": "execute_result"
    }
   ],
   "source": [
    "data = pd.read_csv(\"data/iris-dataset.csv\") # load data\n",
    "type(data)"
   ]
  },
  {
   "cell_type": "code",
   "execution_count": 3,
   "metadata": {
    "ExecuteTime": {
     "end_time": "2019-01-29T19:52:45.546933Z",
     "start_time": "2019-01-29T19:52:45.543240Z"
    }
   },
   "outputs": [
    {
     "data": {
      "text/plain": [
       "(150, 6)"
      ]
     },
     "execution_count": 3,
     "metadata": {},
     "output_type": "execute_result"
    }
   ],
   "source": [
    "data.shape"
   ]
  },
  {
   "cell_type": "code",
   "execution_count": 4,
   "metadata": {
    "ExecuteTime": {
     "end_time": "2019-01-29T19:52:45.565343Z",
     "start_time": "2019-01-29T19:52:45.549918Z"
    }
   },
   "outputs": [
    {
     "data": {
      "text/html": [
       "<div>\n",
       "<style scoped>\n",
       "    .dataframe tbody tr th:only-of-type {\n",
       "        vertical-align: middle;\n",
       "    }\n",
       "\n",
       "    .dataframe tbody tr th {\n",
       "        vertical-align: top;\n",
       "    }\n",
       "\n",
       "    .dataframe thead th {\n",
       "        text-align: right;\n",
       "    }\n",
       "</style>\n",
       "<table border=\"1\" class=\"dataframe\">\n",
       "  <thead>\n",
       "    <tr style=\"text-align: right;\">\n",
       "      <th></th>\n",
       "      <th>Id</th>\n",
       "      <th>SepalLengthCm</th>\n",
       "      <th>SepalWidthCm</th>\n",
       "      <th>PetalLengthCm</th>\n",
       "      <th>PetalWidthCm</th>\n",
       "      <th>Species</th>\n",
       "    </tr>\n",
       "  </thead>\n",
       "  <tbody>\n",
       "    <tr>\n",
       "      <th>0</th>\n",
       "      <td>1</td>\n",
       "      <td>5.1</td>\n",
       "      <td>3.5</td>\n",
       "      <td>1.4</td>\n",
       "      <td>0.2</td>\n",
       "      <td>Iris-setosa</td>\n",
       "    </tr>\n",
       "    <tr>\n",
       "      <th>1</th>\n",
       "      <td>2</td>\n",
       "      <td>4.9</td>\n",
       "      <td>3.0</td>\n",
       "      <td>1.4</td>\n",
       "      <td>0.2</td>\n",
       "      <td>Iris-setosa</td>\n",
       "    </tr>\n",
       "    <tr>\n",
       "      <th>2</th>\n",
       "      <td>3</td>\n",
       "      <td>4.7</td>\n",
       "      <td>3.2</td>\n",
       "      <td>1.3</td>\n",
       "      <td>0.2</td>\n",
       "      <td>Iris-setosa</td>\n",
       "    </tr>\n",
       "    <tr>\n",
       "      <th>3</th>\n",
       "      <td>4</td>\n",
       "      <td>4.6</td>\n",
       "      <td>3.1</td>\n",
       "      <td>1.5</td>\n",
       "      <td>0.2</td>\n",
       "      <td>Iris-setosa</td>\n",
       "    </tr>\n",
       "    <tr>\n",
       "      <th>4</th>\n",
       "      <td>5</td>\n",
       "      <td>5.0</td>\n",
       "      <td>3.6</td>\n",
       "      <td>1.4</td>\n",
       "      <td>0.2</td>\n",
       "      <td>Iris-setosa</td>\n",
       "    </tr>\n",
       "  </tbody>\n",
       "</table>\n",
       "</div>"
      ],
      "text/plain": [
       "   Id  SepalLengthCm  SepalWidthCm  PetalLengthCm  PetalWidthCm      Species\n",
       "0   1            5.1           3.5            1.4           0.2  Iris-setosa\n",
       "1   2            4.9           3.0            1.4           0.2  Iris-setosa\n",
       "2   3            4.7           3.2            1.3           0.2  Iris-setosa\n",
       "3   4            4.6           3.1            1.5           0.2  Iris-setosa\n",
       "4   5            5.0           3.6            1.4           0.2  Iris-setosa"
      ]
     },
     "execution_count": 4,
     "metadata": {},
     "output_type": "execute_result"
    }
   ],
   "source": [
    "data.head(5)"
   ]
  },
  {
   "cell_type": "code",
   "execution_count": 5,
   "metadata": {
    "ExecuteTime": {
     "end_time": "2019-01-29T19:52:45.576749Z",
     "start_time": "2019-01-29T19:52:45.570580Z"
    }
   },
   "outputs": [
    {
     "data": {
      "text/plain": [
       "array(['Iris-setosa', 'Iris-versicolor', 'Iris-virginica'], dtype=object)"
      ]
     },
     "execution_count": 5,
     "metadata": {},
     "output_type": "execute_result"
    }
   ],
   "source": [
    "target_values = data.Species.unique()\n",
    "target_values"
   ]
  },
  {
   "cell_type": "code",
   "execution_count": 6,
   "metadata": {
    "ExecuteTime": {
     "end_time": "2019-01-29T19:52:45.582651Z",
     "start_time": "2019-01-29T19:52:45.578484Z"
    }
   },
   "outputs": [],
   "source": [
    "# create mapping string -> numeric value\n",
    "target_values_mapping = dict()\n",
    "i = 0\n",
    "for tar in target_values:\n",
    "    if tar not in target_values_mapping:\n",
    "        target_values_mapping[tar] = i\n",
    "        i += 1\n",
    "    else:\n",
    "        continue"
   ]
  },
  {
   "cell_type": "code",
   "execution_count": 7,
   "metadata": {
    "ExecuteTime": {
     "end_time": "2019-01-29T19:52:45.589562Z",
     "start_time": "2019-01-29T19:52:45.585080Z"
    }
   },
   "outputs": [
    {
     "data": {
      "text/plain": [
       "{'Iris-setosa': 0, 'Iris-versicolor': 1, 'Iris-virginica': 2}"
      ]
     },
     "execution_count": 7,
     "metadata": {},
     "output_type": "execute_result"
    }
   ],
   "source": [
    "target_values_mapping"
   ]
  },
  {
   "cell_type": "code",
   "execution_count": 8,
   "metadata": {
    "ExecuteTime": {
     "end_time": "2019-01-29T19:52:45.606386Z",
     "start_time": "2019-01-29T19:52:45.592616Z"
    }
   },
   "outputs": [
    {
     "data": {
      "text/html": [
       "<div>\n",
       "<style scoped>\n",
       "    .dataframe tbody tr th:only-of-type {\n",
       "        vertical-align: middle;\n",
       "    }\n",
       "\n",
       "    .dataframe tbody tr th {\n",
       "        vertical-align: top;\n",
       "    }\n",
       "\n",
       "    .dataframe thead th {\n",
       "        text-align: right;\n",
       "    }\n",
       "</style>\n",
       "<table border=\"1\" class=\"dataframe\">\n",
       "  <thead>\n",
       "    <tr style=\"text-align: right;\">\n",
       "      <th></th>\n",
       "      <th>Id</th>\n",
       "      <th>SepalLengthCm</th>\n",
       "      <th>SepalWidthCm</th>\n",
       "      <th>PetalLengthCm</th>\n",
       "      <th>PetalWidthCm</th>\n",
       "      <th>Species</th>\n",
       "    </tr>\n",
       "  </thead>\n",
       "  <tbody>\n",
       "    <tr>\n",
       "      <th>0</th>\n",
       "      <td>1</td>\n",
       "      <td>5.1</td>\n",
       "      <td>3.5</td>\n",
       "      <td>1.4</td>\n",
       "      <td>0.2</td>\n",
       "      <td>0</td>\n",
       "    </tr>\n",
       "    <tr>\n",
       "      <th>1</th>\n",
       "      <td>2</td>\n",
       "      <td>4.9</td>\n",
       "      <td>3.0</td>\n",
       "      <td>1.4</td>\n",
       "      <td>0.2</td>\n",
       "      <td>0</td>\n",
       "    </tr>\n",
       "    <tr>\n",
       "      <th>2</th>\n",
       "      <td>3</td>\n",
       "      <td>4.7</td>\n",
       "      <td>3.2</td>\n",
       "      <td>1.3</td>\n",
       "      <td>0.2</td>\n",
       "      <td>0</td>\n",
       "    </tr>\n",
       "    <tr>\n",
       "      <th>3</th>\n",
       "      <td>4</td>\n",
       "      <td>4.6</td>\n",
       "      <td>3.1</td>\n",
       "      <td>1.5</td>\n",
       "      <td>0.2</td>\n",
       "      <td>0</td>\n",
       "    </tr>\n",
       "    <tr>\n",
       "      <th>4</th>\n",
       "      <td>5</td>\n",
       "      <td>5.0</td>\n",
       "      <td>3.6</td>\n",
       "      <td>1.4</td>\n",
       "      <td>0.2</td>\n",
       "      <td>0</td>\n",
       "    </tr>\n",
       "  </tbody>\n",
       "</table>\n",
       "</div>"
      ],
      "text/plain": [
       "   Id  SepalLengthCm  SepalWidthCm  PetalLengthCm  PetalWidthCm  Species\n",
       "0   1            5.1           3.5            1.4           0.2        0\n",
       "1   2            4.9           3.0            1.4           0.2        0\n",
       "2   3            4.7           3.2            1.3           0.2        0\n",
       "3   4            4.6           3.1            1.5           0.2        0\n",
       "4   5            5.0           3.6            1.4           0.2        0"
      ]
     },
     "execution_count": 8,
     "metadata": {},
     "output_type": "execute_result"
    }
   ],
   "source": [
    "# convert string value to numeric values\n",
    "data.Species = data.Species.apply(lambda x: target_values_mapping[x])\n",
    "data.head(5)"
   ]
  },
  {
   "cell_type": "markdown",
   "metadata": {},
   "source": [
    "### Selecting Only 2 Classes -> Converting To Binary Classification"
   ]
  },
  {
   "cell_type": "code",
   "execution_count": 9,
   "metadata": {
    "ExecuteTime": {
     "end_time": "2019-01-29T19:52:45.618573Z",
     "start_time": "2019-01-29T19:52:45.611308Z"
    }
   },
   "outputs": [
    {
     "data": {
      "text/plain": [
       "(100, 6)"
      ]
     },
     "execution_count": 9,
     "metadata": {},
     "output_type": "execute_result"
    }
   ],
   "source": [
    "data = data[data.Species <= 1]\n",
    "data.shape"
   ]
  },
  {
   "cell_type": "code",
   "execution_count": 10,
   "metadata": {
    "ExecuteTime": {
     "end_time": "2019-01-29T19:52:45.625771Z",
     "start_time": "2019-01-29T19:52:45.620278Z"
    }
   },
   "outputs": [
    {
     "data": {
      "text/plain": [
       "array([0, 1])"
      ]
     },
     "execution_count": 10,
     "metadata": {},
     "output_type": "execute_result"
    }
   ],
   "source": [
    "data.Species.unique()"
   ]
  },
  {
   "cell_type": "code",
   "execution_count": 11,
   "metadata": {
    "ExecuteTime": {
     "end_time": "2019-01-29T19:52:45.633421Z",
     "start_time": "2019-01-29T19:52:45.627808Z"
    }
   },
   "outputs": [
    {
     "data": {
      "text/plain": [
       "(100, 4)"
      ]
     },
     "execution_count": 11,
     "metadata": {},
     "output_type": "execute_result"
    }
   ],
   "source": [
    "features = np.array(data.iloc[:, 1:-1]) # load features into a numpy array\n",
    "features.shape"
   ]
  },
  {
   "cell_type": "code",
   "execution_count": 12,
   "metadata": {
    "ExecuteTime": {
     "end_time": "2019-01-29T19:52:45.642611Z",
     "start_time": "2019-01-29T19:52:45.636466Z"
    }
   },
   "outputs": [
    {
     "data": {
      "text/plain": [
       "(100, 1)"
      ]
     },
     "execution_count": 12,
     "metadata": {},
     "output_type": "execute_result"
    }
   ],
   "source": [
    "labels = np.array(data.iloc[:, [-1]]) # load target values into a numpy array\n",
    "labels.shape"
   ]
  },
  {
   "cell_type": "code",
   "execution_count": 13,
   "metadata": {
    "ExecuteTime": {
     "end_time": "2019-01-29T19:52:45.650003Z",
     "start_time": "2019-01-29T19:52:45.644608Z"
    }
   },
   "outputs": [
    {
     "data": {
      "text/plain": [
       "(array([5.1, 3.5, 1.4, 0.2]), array([0]))"
      ]
     },
     "execution_count": 13,
     "metadata": {},
     "output_type": "execute_result"
    }
   ],
   "source": [
    "features[0], labels[0]"
   ]
  },
  {
   "cell_type": "code",
   "execution_count": 14,
   "metadata": {
    "ExecuteTime": {
     "end_time": "2019-01-29T19:52:45.656942Z",
     "start_time": "2019-01-29T19:52:45.652013Z"
    }
   },
   "outputs": [
    {
     "data": {
      "text/plain": [
       "(array([4.9, 3. , 1.4, 0.2]), array([0]))"
      ]
     },
     "execution_count": 14,
     "metadata": {},
     "output_type": "execute_result"
    }
   ],
   "source": [
    "features[1], labels[1]"
   ]
  },
  {
   "cell_type": "code",
   "execution_count": 15,
   "metadata": {
    "ExecuteTime": {
     "end_time": "2019-01-29T19:52:45.663300Z",
     "start_time": "2019-01-29T19:52:45.659394Z"
    }
   },
   "outputs": [],
   "source": [
    "# split data into train and validate\n",
    "val_split_size = 0.2\n",
    "random_indices = np.random.rand(len(features)) <= val_split_size\n",
    "\n",
    "# split data\n",
    "train_x = features[~random_indices]\n",
    "val_x = features[random_indices]\n",
    "train_y = labels[~random_indices]\n",
    "val_y = labels[random_indices]"
   ]
  },
  {
   "cell_type": "code",
   "execution_count": 16,
   "metadata": {
    "ExecuteTime": {
     "end_time": "2019-01-29T19:52:45.672562Z",
     "start_time": "2019-01-29T19:52:45.665981Z"
    }
   },
   "outputs": [
    {
     "data": {
      "text/plain": [
       "((80, 4), (80, 1), (20, 4), (20, 1))"
      ]
     },
     "execution_count": 16,
     "metadata": {},
     "output_type": "execute_result"
    }
   ],
   "source": [
    "train_x.shape, train_y.shape, val_x.shape, val_y.shape"
   ]
  },
  {
   "cell_type": "markdown",
   "metadata": {},
   "source": [
    "## Vectorized Logistic Regression Model"
   ]
  },
  {
   "cell_type": "code",
   "execution_count": 17,
   "metadata": {
    "ExecuteTime": {
     "end_time": "2019-01-29T19:52:45.693059Z",
     "start_time": "2019-01-29T19:52:45.674746Z"
    }
   },
   "outputs": [],
   "source": [
    "# placeholders\n",
    "x = tf.placeholder(dtype=tf.float32, shape=(None, features.shape[1]), name=\"feature_x\")\n",
    "y = tf.placeholder(dtype=tf.float32, shape=(None, 1), name=\"target_y\")"
   ]
  },
  {
   "cell_type": "code",
   "execution_count": 18,
   "metadata": {
    "ExecuteTime": {
     "end_time": "2019-01-29T19:52:45.715980Z",
     "start_time": "2019-01-29T19:52:45.698822Z"
    }
   },
   "outputs": [],
   "source": [
    "# define weights and bias\n",
    "w = tf.Variable(tf.random_normal(shape=(1, features.shape[1]), dtype=tf.float32, mean=0.0, stddev=0.1))\n",
    "b = tf.Variable(tf.zeros(shape=(1, 1), dtype=tf.float32))"
   ]
  },
  {
   "cell_type": "code",
   "execution_count": 19,
   "metadata": {
    "ExecuteTime": {
     "end_time": "2019-01-29T19:52:45.729775Z",
     "start_time": "2019-01-29T19:52:45.718199Z"
    }
   },
   "outputs": [],
   "source": [
    "logistic_model = tf.sigmoid(tf.add(tf.matmul(x, tf.transpose(w)), b))"
   ]
  },
  {
   "cell_type": "code",
   "execution_count": 20,
   "metadata": {
    "ExecuteTime": {
     "end_time": "2019-01-29T19:52:45.743908Z",
     "start_time": "2019-01-29T19:52:45.732940Z"
    }
   },
   "outputs": [],
   "source": [
    "# loss to minimize\n",
    "loss_function = tf.reduce_mean(-(y*tf.log(logistic_model) + (1 - y)*tf.log(1 - logistic_model))) # cross entropy"
   ]
  },
  {
   "cell_type": "markdown",
   "metadata": {},
   "source": [
    "## Using Inbuilt Optimizer"
   ]
  },
  {
   "cell_type": "code",
   "execution_count": 21,
   "metadata": {
    "ExecuteTime": {
     "end_time": "2019-01-29T19:52:45.837165Z",
     "start_time": "2019-01-29T19:52:45.745731Z"
    }
   },
   "outputs": [],
   "source": [
    "trainer = tf.train.AdamOptimizer(learning_rate=0.1).minimize(loss_function)"
   ]
  },
  {
   "cell_type": "code",
   "execution_count": 22,
   "metadata": {
    "ExecuteTime": {
     "end_time": "2019-01-29T19:52:45.942197Z",
     "start_time": "2019-01-29T19:52:45.838950Z"
    }
   },
   "outputs": [
    {
     "name": "stdout",
     "output_type": "stream",
     "text": [
      "[Training...]\n",
      "Step: 0 \tTrain Loss: 0.74772316\tVal Loss: 0.7370991\n",
      "Step: 1 \tTrain Loss: 0.65078795\tVal Loss: 0.64329976\n",
      "Step: 2 \tTrain Loss: 0.5390773\tVal Loss: 0.5372286\n",
      "Step: 3 \tTrain Loss: 0.46561718\tVal Loss: 0.46946755\n",
      "Step: 4 \tTrain Loss: 0.42046747\tVal Loss: 0.4285838\n",
      "Step: 5 \tTrain Loss: 0.37264067\tVal Loss: 0.38264337\n",
      "Step: 6 \tTrain Loss: 0.3171407\tVal Loss: 0.32662362\n",
      "Step: 7 \tTrain Loss: 0.26735657\tVal Loss: 0.27477592\n",
      "Step: 8 \tTrain Loss: 0.23131435\tVal Loss: 0.23625164\n",
      "Step: 9 \tTrain Loss: 0.20611635\tVal Loss: 0.20897885\n",
      "Final Weights: [[-0.12613446 -0.455915    0.7313433   0.82457274]]\n"
     ]
    }
   ],
   "source": [
    "# train the model\n",
    "with tf.Session() as sess:\n",
    "    sess.run(tf.global_variables_initializer())\n",
    "    print(\"[Training...]\")\n",
    "    for epoch in range(10):\n",
    "        sess.run(trainer, feed_dict={x:train_x, y:train_y})\n",
    "        train_loss = sess.run(loss_function, feed_dict={x:train_x, y:train_y})\n",
    "        print(\"Step:\", epoch, \"\\tTrain Loss:\", train_loss, end=\"\\t\")\n",
    "        val_loss = sess.run(loss_function, feed_dict={x:val_x, y:val_y})\n",
    "        print(\"Val Loss:\", val_loss)\n",
    "    print(\"Final Weights:\", sess.run(w))\n",
    "    predicted_y = sess.run(logistic_model, feed_dict={x:val_x, y:val_y})"
   ]
  },
  {
   "cell_type": "markdown",
   "metadata": {},
   "source": [
    "### > Prediction Analysis"
   ]
  },
  {
   "cell_type": "code",
   "execution_count": 23,
   "metadata": {
    "ExecuteTime": {
     "end_time": "2019-01-29T19:52:45.949852Z",
     "start_time": "2019-01-29T19:52:45.944052Z"
    }
   },
   "outputs": [
    {
     "data": {
      "text/plain": [
       "((20, 1), (20, 1))"
      ]
     },
     "execution_count": 23,
     "metadata": {},
     "output_type": "execute_result"
    }
   ],
   "source": [
    "# clip the prediction on threshold of 0.5 to get final prediction\n",
    "final_prediction = list()\n",
    "for pred in predicted_y:\n",
    "    if pred > 0.5:\n",
    "        final_prediction.append(1)\n",
    "    else:\n",
    "        final_prediction.append(0)\n",
    "final_prediction = np.array(final_prediction).reshape((len(final_prediction), 1))\n",
    "final_prediction.shape, val_y.shape"
   ]
  },
  {
   "cell_type": "code",
   "execution_count": 24,
   "metadata": {
    "ExecuteTime": {
     "end_time": "2019-01-29T19:52:45.956891Z",
     "start_time": "2019-01-29T19:52:45.951473Z"
    }
   },
   "outputs": [
    {
     "data": {
      "text/plain": [
       "('Accuracy = ', 100.0)"
      ]
     },
     "execution_count": 24,
     "metadata": {},
     "output_type": "execute_result"
    }
   ],
   "source": [
    "# find accuracy\n",
    "correct_prediciton = 0\n",
    "for i in range(val_y.shape[0]):\n",
    "    if final_prediction[i] == val_y[i]:\n",
    "        correct_prediciton += 1\n",
    "    else:\n",
    "        continue\n",
    "\"Accuracy = \", correct_prediciton / val_y.shape[0] * 100"
   ]
  },
  {
   "cell_type": "markdown",
   "metadata": {},
   "source": [
    "## Use Your Own Gradient Descent"
   ]
  },
  {
   "cell_type": "code",
   "execution_count": 29,
   "metadata": {
    "ExecuteTime": {
     "end_time": "2019-01-29T19:53:02.965853Z",
     "start_time": "2019-01-29T19:53:02.911111Z"
    }
   },
   "outputs": [],
   "source": [
    "# compute gradients\n",
    "grad_w, grad_b = tf.gradients(xs=[w, b], ys=loss_function)\n",
    "# update\n",
    "new_w = w.assign(w - 0.1*grad_w)\n",
    "new_b = b.assign(b - 0.1*grad_b)"
   ]
  },
  {
   "cell_type": "code",
   "execution_count": 30,
   "metadata": {
    "ExecuteTime": {
     "end_time": "2019-01-29T19:53:03.294127Z",
     "start_time": "2019-01-29T19:53:03.199981Z"
    }
   },
   "outputs": [
    {
     "name": "stdout",
     "output_type": "stream",
     "text": [
      "[Training...]\n",
      "Step: 0 \tTrain Loss: 0.69910735\tVal Loss: 0.5988066\n",
      "Step: 1 \tTrain Loss: 0.6065371\tVal Loss: 0.56245935\n",
      "Step: 2 \tTrain Loss: 0.56668675\tVal Loss: 0.5298294\n",
      "Step: 3 \tTrain Loss: 0.53313893\tVal Loss: 0.5006746\n",
      "Step: 4 \tTrain Loss: 0.50273067\tVal Loss: 0.47396994\n",
      "Step: 5 \tTrain Loss: 0.47503144\tVal Loss: 0.4495758\n",
      "Step: 6 \tTrain Loss: 0.44975376\tVal Loss: 0.42723188\n",
      "Step: 7 \tTrain Loss: 0.426644\tVal Loss: 0.40673083\n",
      "Step: 8 \tTrain Loss: 0.40547562\tVal Loss: 0.38788348\n",
      "Step: 9 \tTrain Loss: 0.3860467\tVal Loss: 0.37052208\n",
      "Final Weights: [[-0.20299733 -0.12416423  0.4987455   0.34011272]]\n"
     ]
    }
   ],
   "source": [
    "# train the model\n",
    "with tf.Session() as sess:\n",
    "    sess.run(tf.global_variables_initializer())\n",
    "    print(\"[Training...]\")\n",
    "    for epoch in range(10):\n",
    "        _, _, train_loss = sess.run([new_w, new_b, loss_function], feed_dict={x:train_x, y:train_y})\n",
    "        print(\"Step:\", epoch, \"\\tTrain Loss:\", train_loss, end=\"\\t\")\n",
    "        val_loss = sess.run(loss_function, feed_dict={x:val_x, y:val_y})\n",
    "        print(\"Val Loss:\", val_loss)\n",
    "    print(\"Final Weights:\", sess.run(w))\n",
    "    predicted_y = sess.run(logistic_model, feed_dict={x:val_x, y:val_y})"
   ]
  },
  {
   "cell_type": "markdown",
   "metadata": {},
   "source": [
    "### > Prediction Analysis"
   ]
  },
  {
   "cell_type": "code",
   "execution_count": 31,
   "metadata": {
    "ExecuteTime": {
     "end_time": "2019-01-29T19:53:03.955489Z",
     "start_time": "2019-01-29T19:53:03.949016Z"
    }
   },
   "outputs": [
    {
     "data": {
      "text/plain": [
       "((20, 1), (20, 1))"
      ]
     },
     "execution_count": 31,
     "metadata": {},
     "output_type": "execute_result"
    }
   ],
   "source": [
    "# clip the prediction on threshold of 0.5 to get final prediction\n",
    "final_prediction = list()\n",
    "for pred in predicted_y:\n",
    "    if pred > 0.5:\n",
    "        final_prediction.append(1)\n",
    "    else:\n",
    "        final_prediction.append(0)\n",
    "final_prediction = np.array(final_prediction).reshape((len(final_prediction), 1))\n",
    "final_prediction.shape, val_y.shape"
   ]
  },
  {
   "cell_type": "code",
   "execution_count": 32,
   "metadata": {
    "ExecuteTime": {
     "end_time": "2019-01-29T19:53:05.665154Z",
     "start_time": "2019-01-29T19:53:05.659822Z"
    }
   },
   "outputs": [
    {
     "data": {
      "text/plain": [
       "('Accuracy = ', 100.0)"
      ]
     },
     "execution_count": 32,
     "metadata": {},
     "output_type": "execute_result"
    }
   ],
   "source": [
    "# find accuracy\n",
    "correct_prediciton = 0\n",
    "for i in range(val_y.shape[0]):\n",
    "    if final_prediction[i] == val_y[i]:\n",
    "        correct_prediciton += 1\n",
    "    else:\n",
    "        continue\n",
    "\"Accuracy = \", correct_prediciton / val_y.shape[0] * 100"
   ]
  },
  {
   "cell_type": "markdown",
   "metadata": {},
   "source": [
    "Perfect Score!"
   ]
  },
  {
   "cell_type": "code",
   "execution_count": null,
   "metadata": {},
   "outputs": [],
   "source": []
  }
 ],
 "metadata": {
  "kernelspec": {
   "display_name": "Python [conda env:ai_env]",
   "language": "python",
   "name": "conda-env-ai_env-py"
  },
  "language_info": {
   "codemirror_mode": {
    "name": "ipython",
    "version": 3
   },
   "file_extension": ".py",
   "mimetype": "text/x-python",
   "name": "python",
   "nbconvert_exporter": "python",
   "pygments_lexer": "ipython3",
   "version": "3.6.6"
  }
 },
 "nbformat": 4,
 "nbformat_minor": 2
}
