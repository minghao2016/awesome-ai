{
 "cells": [
  {
   "cell_type": "code",
   "execution_count": 1,
   "metadata": {
    "ExecuteTime": {
     "end_time": "2019-01-31T21:07:57.299651Z",
     "start_time": "2019-01-31T21:07:55.732957Z"
    }
   },
   "outputs": [
    {
     "data": {
      "text/plain": [
       "'1.12.0'"
      ]
     },
     "execution_count": 1,
     "metadata": {},
     "output_type": "execute_result"
    }
   ],
   "source": [
    "# load packages\n",
    "import os\n",
    "import sys\n",
    "import re\n",
    "import random\n",
    "import numpy as np\n",
    "import pandas as pd\n",
    "import tensorflow as tf\n",
    "tf.__version__"
   ]
  },
  {
   "cell_type": "markdown",
   "metadata": {},
   "source": [
    "## Prepare Data"
   ]
  },
  {
   "cell_type": "code",
   "execution_count": 2,
   "metadata": {
    "ExecuteTime": {
     "end_time": "2019-01-31T21:07:57.314514Z",
     "start_time": "2019-01-31T21:07:57.302784Z"
    }
   },
   "outputs": [
    {
     "data": {
      "text/plain": [
       "pandas.core.frame.DataFrame"
      ]
     },
     "execution_count": 2,
     "metadata": {},
     "output_type": "execute_result"
    }
   ],
   "source": [
    "data = pd.read_csv(\"data/iris-dataset.csv\") # load data\n",
    "type(data)"
   ]
  },
  {
   "cell_type": "code",
   "execution_count": 3,
   "metadata": {
    "ExecuteTime": {
     "end_time": "2019-01-31T21:07:57.320630Z",
     "start_time": "2019-01-31T21:07:57.316218Z"
    }
   },
   "outputs": [
    {
     "data": {
      "text/plain": [
       "(150, 6)"
      ]
     },
     "execution_count": 3,
     "metadata": {},
     "output_type": "execute_result"
    }
   ],
   "source": [
    "data.shape"
   ]
  },
  {
   "cell_type": "code",
   "execution_count": 4,
   "metadata": {
    "ExecuteTime": {
     "end_time": "2019-01-31T21:07:57.339738Z",
     "start_time": "2019-01-31T21:07:57.323904Z"
    }
   },
   "outputs": [
    {
     "data": {
      "text/html": [
       "<div>\n",
       "<style scoped>\n",
       "    .dataframe tbody tr th:only-of-type {\n",
       "        vertical-align: middle;\n",
       "    }\n",
       "\n",
       "    .dataframe tbody tr th {\n",
       "        vertical-align: top;\n",
       "    }\n",
       "\n",
       "    .dataframe thead th {\n",
       "        text-align: right;\n",
       "    }\n",
       "</style>\n",
       "<table border=\"1\" class=\"dataframe\">\n",
       "  <thead>\n",
       "    <tr style=\"text-align: right;\">\n",
       "      <th></th>\n",
       "      <th>Id</th>\n",
       "      <th>SepalLengthCm</th>\n",
       "      <th>SepalWidthCm</th>\n",
       "      <th>PetalLengthCm</th>\n",
       "      <th>PetalWidthCm</th>\n",
       "      <th>Species</th>\n",
       "    </tr>\n",
       "  </thead>\n",
       "  <tbody>\n",
       "    <tr>\n",
       "      <th>0</th>\n",
       "      <td>1</td>\n",
       "      <td>5.1</td>\n",
       "      <td>3.5</td>\n",
       "      <td>1.4</td>\n",
       "      <td>0.2</td>\n",
       "      <td>Iris-setosa</td>\n",
       "    </tr>\n",
       "    <tr>\n",
       "      <th>1</th>\n",
       "      <td>2</td>\n",
       "      <td>4.9</td>\n",
       "      <td>3.0</td>\n",
       "      <td>1.4</td>\n",
       "      <td>0.2</td>\n",
       "      <td>Iris-setosa</td>\n",
       "    </tr>\n",
       "    <tr>\n",
       "      <th>2</th>\n",
       "      <td>3</td>\n",
       "      <td>4.7</td>\n",
       "      <td>3.2</td>\n",
       "      <td>1.3</td>\n",
       "      <td>0.2</td>\n",
       "      <td>Iris-setosa</td>\n",
       "    </tr>\n",
       "    <tr>\n",
       "      <th>3</th>\n",
       "      <td>4</td>\n",
       "      <td>4.6</td>\n",
       "      <td>3.1</td>\n",
       "      <td>1.5</td>\n",
       "      <td>0.2</td>\n",
       "      <td>Iris-setosa</td>\n",
       "    </tr>\n",
       "    <tr>\n",
       "      <th>4</th>\n",
       "      <td>5</td>\n",
       "      <td>5.0</td>\n",
       "      <td>3.6</td>\n",
       "      <td>1.4</td>\n",
       "      <td>0.2</td>\n",
       "      <td>Iris-setosa</td>\n",
       "    </tr>\n",
       "  </tbody>\n",
       "</table>\n",
       "</div>"
      ],
      "text/plain": [
       "   Id  SepalLengthCm  SepalWidthCm  PetalLengthCm  PetalWidthCm      Species\n",
       "0   1            5.1           3.5            1.4           0.2  Iris-setosa\n",
       "1   2            4.9           3.0            1.4           0.2  Iris-setosa\n",
       "2   3            4.7           3.2            1.3           0.2  Iris-setosa\n",
       "3   4            4.6           3.1            1.5           0.2  Iris-setosa\n",
       "4   5            5.0           3.6            1.4           0.2  Iris-setosa"
      ]
     },
     "execution_count": 4,
     "metadata": {},
     "output_type": "execute_result"
    }
   ],
   "source": [
    "data.head(5)"
   ]
  },
  {
   "cell_type": "code",
   "execution_count": 5,
   "metadata": {
    "ExecuteTime": {
     "end_time": "2019-01-31T21:07:57.347621Z",
     "start_time": "2019-01-31T21:07:57.343198Z"
    }
   },
   "outputs": [
    {
     "data": {
      "text/plain": [
       "array(['Iris-setosa', 'Iris-versicolor', 'Iris-virginica'], dtype=object)"
      ]
     },
     "execution_count": 5,
     "metadata": {},
     "output_type": "execute_result"
    }
   ],
   "source": [
    "target_values = data.Species.unique()\n",
    "target_values"
   ]
  },
  {
   "cell_type": "code",
   "execution_count": 6,
   "metadata": {
    "ExecuteTime": {
     "end_time": "2019-01-31T21:07:57.354298Z",
     "start_time": "2019-01-31T21:07:57.350455Z"
    }
   },
   "outputs": [],
   "source": [
    "# create mapping string -> numeric value\n",
    "target_values_mapping = dict()\n",
    "i = 0\n",
    "for tar in target_values:\n",
    "    if tar not in target_values_mapping:\n",
    "        target_values_mapping[tar] = i\n",
    "        i += 1\n",
    "    else:\n",
    "        continue"
   ]
  },
  {
   "cell_type": "code",
   "execution_count": 7,
   "metadata": {
    "ExecuteTime": {
     "end_time": "2019-01-31T21:07:57.363863Z",
     "start_time": "2019-01-31T21:07:57.358121Z"
    }
   },
   "outputs": [
    {
     "data": {
      "text/plain": [
       "{'Iris-setosa': 0, 'Iris-versicolor': 1, 'Iris-virginica': 2}"
      ]
     },
     "execution_count": 7,
     "metadata": {},
     "output_type": "execute_result"
    }
   ],
   "source": [
    "target_values_mapping"
   ]
  },
  {
   "cell_type": "code",
   "execution_count": 8,
   "metadata": {
    "ExecuteTime": {
     "end_time": "2019-01-31T21:07:57.381501Z",
     "start_time": "2019-01-31T21:07:57.367681Z"
    }
   },
   "outputs": [
    {
     "data": {
      "text/html": [
       "<div>\n",
       "<style scoped>\n",
       "    .dataframe tbody tr th:only-of-type {\n",
       "        vertical-align: middle;\n",
       "    }\n",
       "\n",
       "    .dataframe tbody tr th {\n",
       "        vertical-align: top;\n",
       "    }\n",
       "\n",
       "    .dataframe thead th {\n",
       "        text-align: right;\n",
       "    }\n",
       "</style>\n",
       "<table border=\"1\" class=\"dataframe\">\n",
       "  <thead>\n",
       "    <tr style=\"text-align: right;\">\n",
       "      <th></th>\n",
       "      <th>Id</th>\n",
       "      <th>SepalLengthCm</th>\n",
       "      <th>SepalWidthCm</th>\n",
       "      <th>PetalLengthCm</th>\n",
       "      <th>PetalWidthCm</th>\n",
       "      <th>Species</th>\n",
       "    </tr>\n",
       "  </thead>\n",
       "  <tbody>\n",
       "    <tr>\n",
       "      <th>0</th>\n",
       "      <td>1</td>\n",
       "      <td>5.1</td>\n",
       "      <td>3.5</td>\n",
       "      <td>1.4</td>\n",
       "      <td>0.2</td>\n",
       "      <td>0</td>\n",
       "    </tr>\n",
       "    <tr>\n",
       "      <th>1</th>\n",
       "      <td>2</td>\n",
       "      <td>4.9</td>\n",
       "      <td>3.0</td>\n",
       "      <td>1.4</td>\n",
       "      <td>0.2</td>\n",
       "      <td>0</td>\n",
       "    </tr>\n",
       "    <tr>\n",
       "      <th>2</th>\n",
       "      <td>3</td>\n",
       "      <td>4.7</td>\n",
       "      <td>3.2</td>\n",
       "      <td>1.3</td>\n",
       "      <td>0.2</td>\n",
       "      <td>0</td>\n",
       "    </tr>\n",
       "    <tr>\n",
       "      <th>3</th>\n",
       "      <td>4</td>\n",
       "      <td>4.6</td>\n",
       "      <td>3.1</td>\n",
       "      <td>1.5</td>\n",
       "      <td>0.2</td>\n",
       "      <td>0</td>\n",
       "    </tr>\n",
       "    <tr>\n",
       "      <th>4</th>\n",
       "      <td>5</td>\n",
       "      <td>5.0</td>\n",
       "      <td>3.6</td>\n",
       "      <td>1.4</td>\n",
       "      <td>0.2</td>\n",
       "      <td>0</td>\n",
       "    </tr>\n",
       "  </tbody>\n",
       "</table>\n",
       "</div>"
      ],
      "text/plain": [
       "   Id  SepalLengthCm  SepalWidthCm  PetalLengthCm  PetalWidthCm  Species\n",
       "0   1            5.1           3.5            1.4           0.2        0\n",
       "1   2            4.9           3.0            1.4           0.2        0\n",
       "2   3            4.7           3.2            1.3           0.2        0\n",
       "3   4            4.6           3.1            1.5           0.2        0\n",
       "4   5            5.0           3.6            1.4           0.2        0"
      ]
     },
     "execution_count": 8,
     "metadata": {},
     "output_type": "execute_result"
    }
   ],
   "source": [
    "# convert string value to numeric values\n",
    "data.Species = data.Species.apply(lambda x: target_values_mapping[x])\n",
    "data.head(5)"
   ]
  },
  {
   "cell_type": "markdown",
   "metadata": {},
   "source": [
    "### Selecting Only 2 Classes -> Converting To Binary Classification"
   ]
  },
  {
   "cell_type": "code",
   "execution_count": 9,
   "metadata": {
    "ExecuteTime": {
     "end_time": "2019-01-31T21:07:57.391469Z",
     "start_time": "2019-01-31T21:07:57.384320Z"
    }
   },
   "outputs": [
    {
     "data": {
      "text/plain": [
       "(100, 6)"
      ]
     },
     "execution_count": 9,
     "metadata": {},
     "output_type": "execute_result"
    }
   ],
   "source": [
    "data = data[data.Species <= 1]\n",
    "data.shape"
   ]
  },
  {
   "cell_type": "code",
   "execution_count": 10,
   "metadata": {
    "ExecuteTime": {
     "end_time": "2019-01-31T21:07:57.397410Z",
     "start_time": "2019-01-31T21:07:57.393115Z"
    }
   },
   "outputs": [
    {
     "data": {
      "text/plain": [
       "array([0, 1])"
      ]
     },
     "execution_count": 10,
     "metadata": {},
     "output_type": "execute_result"
    }
   ],
   "source": [
    "data.Species.unique()"
   ]
  },
  {
   "cell_type": "code",
   "execution_count": 11,
   "metadata": {
    "ExecuteTime": {
     "end_time": "2019-01-31T21:07:57.408350Z",
     "start_time": "2019-01-31T21:07:57.400119Z"
    }
   },
   "outputs": [
    {
     "data": {
      "text/plain": [
       "(100, 4)"
      ]
     },
     "execution_count": 11,
     "metadata": {},
     "output_type": "execute_result"
    }
   ],
   "source": [
    "features = np.array(data.iloc[:, 1:-1]) # load features into a numpy array\n",
    "features.shape"
   ]
  },
  {
   "cell_type": "code",
   "execution_count": 12,
   "metadata": {
    "ExecuteTime": {
     "end_time": "2019-01-31T21:07:57.414724Z",
     "start_time": "2019-01-31T21:07:57.410070Z"
    }
   },
   "outputs": [
    {
     "data": {
      "text/plain": [
       "(100, 1)"
      ]
     },
     "execution_count": 12,
     "metadata": {},
     "output_type": "execute_result"
    }
   ],
   "source": [
    "labels = np.array(data.iloc[:, [-1]]) # load target values into a numpy array\n",
    "labels.shape"
   ]
  },
  {
   "cell_type": "code",
   "execution_count": 13,
   "metadata": {
    "ExecuteTime": {
     "end_time": "2019-01-31T21:07:57.423326Z",
     "start_time": "2019-01-31T21:07:57.416662Z"
    }
   },
   "outputs": [
    {
     "data": {
      "text/plain": [
       "(array([5.1, 3.5, 1.4, 0.2]), array([0]))"
      ]
     },
     "execution_count": 13,
     "metadata": {},
     "output_type": "execute_result"
    }
   ],
   "source": [
    "features[0], labels[0]"
   ]
  },
  {
   "cell_type": "code",
   "execution_count": 14,
   "metadata": {
    "ExecuteTime": {
     "end_time": "2019-01-31T21:07:57.432094Z",
     "start_time": "2019-01-31T21:07:57.426067Z"
    }
   },
   "outputs": [
    {
     "data": {
      "text/plain": [
       "(array([4.9, 3. , 1.4, 0.2]), array([0]))"
      ]
     },
     "execution_count": 14,
     "metadata": {},
     "output_type": "execute_result"
    }
   ],
   "source": [
    "features[1], labels[1]"
   ]
  },
  {
   "cell_type": "code",
   "execution_count": 15,
   "metadata": {
    "ExecuteTime": {
     "end_time": "2019-01-31T21:07:57.439804Z",
     "start_time": "2019-01-31T21:07:57.434696Z"
    }
   },
   "outputs": [],
   "source": [
    "# split data into train and validate\n",
    "val_split_size = 0.2\n",
    "random_indices = np.random.rand(len(features)) <= val_split_size\n",
    "\n",
    "# split data\n",
    "train_x = features[~random_indices]\n",
    "val_x = features[random_indices]\n",
    "train_y = labels[~random_indices]\n",
    "val_y = labels[random_indices]"
   ]
  },
  {
   "cell_type": "code",
   "execution_count": 16,
   "metadata": {
    "ExecuteTime": {
     "end_time": "2019-01-31T21:07:57.450830Z",
     "start_time": "2019-01-31T21:07:57.444238Z"
    }
   },
   "outputs": [
    {
     "data": {
      "text/plain": [
       "((88, 4), (88, 1), (12, 4), (12, 1))"
      ]
     },
     "execution_count": 16,
     "metadata": {},
     "output_type": "execute_result"
    }
   ],
   "source": [
    "train_x.shape, train_y.shape, val_x.shape, val_y.shape"
   ]
  },
  {
   "cell_type": "markdown",
   "metadata": {},
   "source": [
    "# Vectorized Logistic Regression Model"
   ]
  },
  {
   "cell_type": "code",
   "execution_count": 17,
   "metadata": {
    "ExecuteTime": {
     "end_time": "2019-01-31T21:07:57.473908Z",
     "start_time": "2019-01-31T21:07:57.453537Z"
    }
   },
   "outputs": [],
   "source": [
    "# placeholders\n",
    "x = tf.placeholder(dtype=tf.float32, shape=(None, features.shape[1]), name=\"feature_x\")\n",
    "y = tf.placeholder(dtype=tf.float32, shape=(None, 1), name=\"target_y\")"
   ]
  },
  {
   "cell_type": "code",
   "execution_count": 18,
   "metadata": {
    "ExecuteTime": {
     "end_time": "2019-01-31T21:07:57.505172Z",
     "start_time": "2019-01-31T21:07:57.480817Z"
    }
   },
   "outputs": [],
   "source": [
    "# define weights and bias\n",
    "w = tf.Variable(tf.random_normal(shape=(1, features.shape[1]), dtype=tf.float32, mean=0.0, stddev=0.1))\n",
    "b = tf.Variable(tf.zeros(shape=(1, 1), dtype=tf.float32))"
   ]
  },
  {
   "cell_type": "code",
   "execution_count": 19,
   "metadata": {
    "ExecuteTime": {
     "end_time": "2019-01-31T21:07:57.520717Z",
     "start_time": "2019-01-31T21:07:57.508499Z"
    }
   },
   "outputs": [],
   "source": [
    "logistic_model = tf.sigmoid(tf.add(tf.matmul(x, tf.transpose(w)), b))"
   ]
  },
  {
   "cell_type": "code",
   "execution_count": 20,
   "metadata": {
    "ExecuteTime": {
     "end_time": "2019-01-31T21:07:57.539149Z",
     "start_time": "2019-01-31T21:07:57.524730Z"
    }
   },
   "outputs": [],
   "source": [
    "# loss to minimize\n",
    "loss_function = tf.reduce_mean(-(y*tf.log(logistic_model) + (1 - y)*tf.log(1 - logistic_model))) # binary cross entropy"
   ]
  },
  {
   "cell_type": "markdown",
   "metadata": {},
   "source": [
    "## Using Inbuilt Optimizer"
   ]
  },
  {
   "cell_type": "code",
   "execution_count": 21,
   "metadata": {
    "ExecuteTime": {
     "end_time": "2019-01-31T21:07:57.650362Z",
     "start_time": "2019-01-31T21:07:57.540695Z"
    }
   },
   "outputs": [],
   "source": [
    "trainer = tf.train.AdamOptimizer(learning_rate=0.1).minimize(loss_function)"
   ]
  },
  {
   "cell_type": "code",
   "execution_count": 22,
   "metadata": {
    "ExecuteTime": {
     "end_time": "2019-01-31T21:07:57.779876Z",
     "start_time": "2019-01-31T21:07:57.652684Z"
    }
   },
   "outputs": [
    {
     "name": "stdout",
     "output_type": "stream",
     "text": [
      "[Training...]\n",
      "Step: 0 \tTrain Loss: 0.5430743\tVal Loss: 0.5674382\n",
      "Step: 1 \tTrain Loss: 0.47200394\tVal Loss: 0.4925133\n",
      "Step: 2 \tTrain Loss: 0.3943813\tVal Loss: 0.39631525\n",
      "Step: 3 \tTrain Loss: 0.33927426\tVal Loss: 0.3242364\n",
      "Step: 4 \tTrain Loss: 0.29528952\tVal Loss: 0.27345732\n",
      "Step: 5 \tTrain Loss: 0.25094116\tVal Loss: 0.23194475\n",
      "Step: 6 \tTrain Loss: 0.21222673\tVal Loss: 0.19988249\n",
      "Step: 7 \tTrain Loss: 0.18310398\tVal Loss: 0.1765037\n",
      "Step: 8 \tTrain Loss: 0.1603501\tVal Loss: 0.15669073\n",
      "Step: 9 \tTrain Loss: 0.14019422\tVal Loss: 0.13682549\n",
      "Final Weights: [[ 0.11733446 -0.97399986  0.7963999   1.0043694 ]]\n"
     ]
    }
   ],
   "source": [
    "# train the model\n",
    "with tf.Session() as sess:\n",
    "    sess.run(tf.global_variables_initializer())\n",
    "    print(\"[Training...]\")\n",
    "    for epoch in range(10):\n",
    "        sess.run(trainer, feed_dict={x:train_x, y:train_y})\n",
    "        train_loss = sess.run(loss_function, feed_dict={x:train_x, y:train_y})\n",
    "        print(\"Step:\", epoch, \"\\tTrain Loss:\", train_loss, end=\"\\t\")\n",
    "        val_loss = sess.run(loss_function, feed_dict={x:val_x, y:val_y})\n",
    "        print(\"Val Loss:\", val_loss)\n",
    "    print(\"Final Weights:\", sess.run(w))\n",
    "    predicted_y = sess.run(logistic_model, feed_dict={x:val_x, y:val_y})"
   ]
  },
  {
   "cell_type": "markdown",
   "metadata": {},
   "source": [
    "### > Prediction Analysis"
   ]
  },
  {
   "cell_type": "code",
   "execution_count": 23,
   "metadata": {
    "ExecuteTime": {
     "end_time": "2019-01-31T21:07:57.790086Z",
     "start_time": "2019-01-31T21:07:57.782048Z"
    }
   },
   "outputs": [
    {
     "data": {
      "text/plain": [
       "((12, 1), (12, 1))"
      ]
     },
     "execution_count": 23,
     "metadata": {},
     "output_type": "execute_result"
    }
   ],
   "source": [
    "# clip the prediction on threshold of 0.5 to get final prediction\n",
    "final_prediction = list()\n",
    "for pred in predicted_y:\n",
    "    if pred > 0.5:\n",
    "        final_prediction.append(1)\n",
    "    else:\n",
    "        final_prediction.append(0)\n",
    "final_prediction = np.array(final_prediction).reshape((len(final_prediction), 1))\n",
    "final_prediction.shape, val_y.shape"
   ]
  },
  {
   "cell_type": "code",
   "execution_count": 24,
   "metadata": {
    "ExecuteTime": {
     "end_time": "2019-01-31T21:07:57.798443Z",
     "start_time": "2019-01-31T21:07:57.791987Z"
    }
   },
   "outputs": [
    {
     "data": {
      "text/plain": [
       "('Accuracy = ', 100.0)"
      ]
     },
     "execution_count": 24,
     "metadata": {},
     "output_type": "execute_result"
    }
   ],
   "source": [
    "# find accuracy\n",
    "correct_prediciton = 0\n",
    "for i in range(val_y.shape[0]):\n",
    "    if final_prediction[i] == val_y[i]:\n",
    "        correct_prediciton += 1\n",
    "    else:\n",
    "        continue\n",
    "\"Accuracy = \", correct_prediciton / val_y.shape[0] * 100"
   ]
  },
  {
   "cell_type": "markdown",
   "metadata": {},
   "source": [
    "## Use Your Own Gradient Descent"
   ]
  },
  {
   "cell_type": "code",
   "execution_count": 25,
   "metadata": {
    "ExecuteTime": {
     "end_time": "2019-01-31T21:07:57.871551Z",
     "start_time": "2019-01-31T21:07:57.801649Z"
    }
   },
   "outputs": [],
   "source": [
    "# compute gradients\n",
    "grad_w, grad_b = tf.gradients(xs=[w, b], ys=loss_function)\n",
    "# update\n",
    "new_w = w.assign(w - 0.1*grad_w)\n",
    "new_b = b.assign(b - 0.1*grad_b)"
   ]
  },
  {
   "cell_type": "code",
   "execution_count": 26,
   "metadata": {
    "ExecuteTime": {
     "end_time": "2019-01-31T21:07:57.971665Z",
     "start_time": "2019-01-31T21:07:57.873212Z"
    }
   },
   "outputs": [
    {
     "name": "stdout",
     "output_type": "stream",
     "text": [
      "[Training...]\n",
      "Step: 0 \tTrain Loss: 0.6490481\tVal Loss: 0.62043035\n",
      "Step: 1 \tTrain Loss: 0.6003631\tVal Loss: 0.5768913\n",
      "Step: 2 \tTrain Loss: 0.56400037\tVal Loss: 0.5441076\n",
      "Step: 3 \tTrain Loss: 0.53140634\tVal Loss: 0.5129469\n",
      "Step: 4 \tTrain Loss: 0.50171995\tVal Loss: 0.48477176\n",
      "Step: 5 \tTrain Loss: 0.47462568\tVal Loss: 0.4589727\n",
      "Step: 6 \tTrain Loss: 0.44985744\tVal Loss: 0.43535772\n",
      "Step: 7 \tTrain Loss: 0.42717648\tVal Loss: 0.41369376\n",
      "Step: 8 \tTrain Loss: 0.40636876\tVal Loss: 0.39378253\n",
      "Step: 9 \tTrain Loss: 0.387243\tVal Loss: 0.3754464\n",
      "Final Weights: [[-0.05141738 -0.2923927   0.40628156  0.346352  ]]\n"
     ]
    }
   ],
   "source": [
    "# train the model\n",
    "with tf.Session() as sess:\n",
    "    sess.run(tf.global_variables_initializer())\n",
    "    print(\"[Training...]\")\n",
    "    for epoch in range(10):\n",
    "        _, _, train_loss = sess.run([new_w, new_b, loss_function], feed_dict={x:train_x, y:train_y})\n",
    "        print(\"Step:\", epoch, \"\\tTrain Loss:\", train_loss, end=\"\\t\")\n",
    "        val_loss = sess.run(loss_function, feed_dict={x:val_x, y:val_y})\n",
    "        print(\"Val Loss:\", val_loss)\n",
    "    print(\"Final Weights:\", sess.run(w))\n",
    "    predicted_y = sess.run(logistic_model, feed_dict={x:val_x, y:val_y})"
   ]
  },
  {
   "cell_type": "markdown",
   "metadata": {},
   "source": [
    "### > Prediction Analysis"
   ]
  },
  {
   "cell_type": "code",
   "execution_count": 27,
   "metadata": {
    "ExecuteTime": {
     "end_time": "2019-01-31T21:07:57.982303Z",
     "start_time": "2019-01-31T21:07:57.974213Z"
    }
   },
   "outputs": [
    {
     "data": {
      "text/plain": [
       "((12, 1), (12, 1))"
      ]
     },
     "execution_count": 27,
     "metadata": {},
     "output_type": "execute_result"
    }
   ],
   "source": [
    "# clip the prediction on threshold of 0.5 to get final prediction\n",
    "final_prediction = list()\n",
    "for pred in predicted_y:\n",
    "    if pred > 0.5:\n",
    "        final_prediction.append(1)\n",
    "    else:\n",
    "        final_prediction.append(0)\n",
    "final_prediction = np.array(final_prediction).reshape((len(final_prediction), 1))\n",
    "final_prediction.shape, val_y.shape"
   ]
  },
  {
   "cell_type": "code",
   "execution_count": 28,
   "metadata": {
    "ExecuteTime": {
     "end_time": "2019-01-31T21:07:57.991154Z",
     "start_time": "2019-01-31T21:07:57.985464Z"
    }
   },
   "outputs": [
    {
     "data": {
      "text/plain": [
       "('Accuracy = ', 100.0)"
      ]
     },
     "execution_count": 28,
     "metadata": {},
     "output_type": "execute_result"
    }
   ],
   "source": [
    "# find accuracy\n",
    "correct_prediciton = 0\n",
    "for i in range(val_y.shape[0]):\n",
    "    if final_prediction[i] == val_y[i]:\n",
    "        correct_prediciton += 1\n",
    "    else:\n",
    "        continue\n",
    "\"Accuracy = \", correct_prediciton / val_y.shape[0] * 100"
   ]
  },
  {
   "cell_type": "markdown",
   "metadata": {},
   "source": [
    "Perfect Score!"
   ]
  },
  {
   "cell_type": "code",
   "execution_count": null,
   "metadata": {},
   "outputs": [],
   "source": []
  }
 ],
 "metadata": {
  "kernelspec": {
   "display_name": "Python [conda env:ai_env]",
   "language": "python",
   "name": "conda-env-ai_env-py"
  },
  "language_info": {
   "codemirror_mode": {
    "name": "ipython",
    "version": 3
   },
   "file_extension": ".py",
   "mimetype": "text/x-python",
   "name": "python",
   "nbconvert_exporter": "python",
   "pygments_lexer": "ipython3",
   "version": "3.6.6"
  }
 },
 "nbformat": 4,
 "nbformat_minor": 2
}
