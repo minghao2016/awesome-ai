{
 "cells": [
  {
   "cell_type": "code",
   "execution_count": 1,
   "metadata": {
    "ExecuteTime": {
     "end_time": "2019-03-25T10:55:16.405091Z",
     "start_time": "2019-03-25T10:55:14.496197Z"
    }
   },
   "outputs": [
    {
     "data": {
      "text/plain": [
       "'1.12.0'"
      ]
     },
     "execution_count": 1,
     "metadata": {},
     "output_type": "execute_result"
    }
   ],
   "source": [
    "# Load packages\n",
    "import os\n",
    "import sys\n",
    "import numpy as np\n",
    "import tensorflow as tf\n",
    "tf.__version__"
   ]
  },
  {
   "cell_type": "code",
   "execution_count": 2,
   "metadata": {
    "ExecuteTime": {
     "end_time": "2019-03-25T10:55:48.850886Z",
     "start_time": "2019-03-25T10:55:48.804403Z"
    }
   },
   "outputs": [],
   "source": [
    "# Initialize weights and bias\n",
    "weights = tf.Variable([[1]], dtype=tf.float32, name=\"weights\") # Single layer - single neuron\n",
    "bias = tf.Variable([[0.1]], dtype=tf.float32, name=\"bias\") # Signle bias"
   ]
  },
  {
   "cell_type": "code",
   "execution_count": 3,
   "metadata": {
    "ExecuteTime": {
     "end_time": "2019-03-25T10:56:03.269304Z",
     "start_time": "2019-03-25T10:56:03.260602Z"
    }
   },
   "outputs": [],
   "source": [
    "input_x = tf.placeholder(dtype=tf.float32, name=\"feature_x\") # Input feature\n",
    "output_y = tf.placeholder(dtype=tf.float32, name=\"output_y\") # Input target value"
   ]
  },
  {
   "cell_type": "code",
   "execution_count": 4,
   "metadata": {
    "ExecuteTime": {
     "end_time": "2019-03-25T10:56:26.071252Z",
     "start_time": "2019-03-25T10:56:26.060558Z"
    }
   },
   "outputs": [],
   "source": [
    "# define nn model\n",
    "model = tf.add(tf.matmul(input_x, weights, name=\"model\"), bias)"
   ]
  },
  {
   "cell_type": "code",
   "execution_count": 5,
   "metadata": {
    "ExecuteTime": {
     "end_time": "2019-03-25T10:57:05.113202Z",
     "start_time": "2019-03-25T10:57:05.103009Z"
    }
   },
   "outputs": [],
   "source": [
    "# Define loss function -> MSE\n",
    "loss_function = tf.pow(x=output_y - model, y=2, name=\"loss_function\")"
   ]
  },
  {
   "cell_type": "code",
   "execution_count": 6,
   "metadata": {
    "ExecuteTime": {
     "end_time": "2019-03-25T10:57:25.977794Z",
     "start_time": "2019-03-25T10:57:25.909819Z"
    }
   },
   "outputs": [],
   "source": [
    "# optimizer to minimize loss thur train -> Gradient Descent\n",
    "optimizer = tf.train.GradientDescentOptimizer(learning_rate=0.01, name=\"GradientDescent\").minimize(loss=loss_function)"
   ]
  },
  {
   "cell_type": "code",
   "execution_count": 7,
   "metadata": {
    "ExecuteTime": {
     "end_time": "2019-03-25T10:57:45.921935Z",
     "start_time": "2019-03-25T10:57:45.918785Z"
    }
   },
   "outputs": [],
   "source": [
    "# number of iterations over the whole data\n",
    "epochs = 50"
   ]
  },
  {
   "cell_type": "code",
   "execution_count": 9,
   "metadata": {
    "ExecuteTime": {
     "end_time": "2019-03-25T10:59:48.092301Z",
     "start_time": "2019-03-25T10:59:47.878415Z"
    },
    "scrolled": true
   },
   "outputs": [
    {
     "name": "stdout",
     "output_type": "stream",
     "text": [
      "At epoch: 0 predicted value = [[1.1]\n",
      " [2.1]\n",
      " [3.1]\n",
      " [4.1]] and actual value = [[2], [4], [6], [8]]\n",
      "At epoch: 1 predicted value = [[1.872    ]\n",
      " [3.452    ]\n",
      " [5.0319996]\n",
      " [6.6119995]] and actual value = [[2], [4], [6], [8]]\n",
      "At epoch: 2 predicted value = [[2.12624  ]\n",
      " [3.8998399]\n",
      " [5.67344  ]\n",
      " [7.44704  ]] and actual value = [[2], [4], [6], [8]]\n",
      "At epoch: 3 predicted value = [[2.2086208]\n",
      " [4.047533 ]\n",
      " [5.886445 ]\n",
      " [7.725357 ]] and actual value = [[2], [4], [6], [8]]\n",
      "At epoch: 4 predicted value = [[2.2339728]\n",
      " [4.095596 ]\n",
      " [5.957219 ]\n",
      " [7.818842 ]] and actual value = [[2], [4], [6], [8]]\n",
      "At epoch: 5 predicted value = [[2.2404163]\n",
      " [4.1105957]\n",
      " [5.980775 ]\n",
      " [7.850954 ]] and actual value = [[2], [4], [6], [8]]\n",
      "At epoch: 6 predicted value = [[2.2406065]\n",
      " [4.1146307]\n",
      " [5.988655 ]\n",
      " [7.8626795]] and actual value = [[2], [4], [6], [8]]\n",
      "At epoch: 7 predicted value = [[2.2387443]\n",
      " [4.1150374]\n",
      " [5.991331 ]\n",
      " [7.8676243]] and actual value = [[2], [4], [6], [8]]\n",
      "At epoch: 8 predicted value = [[2.2362232]\n",
      " [4.11425  ]\n",
      " [5.9922776]\n",
      " [7.8703046]] and actual value = [[2], [4], [6], [8]]\n",
      "At epoch: 9 predicted value = [[2.2335067]\n",
      " [4.113078 ]\n",
      " [5.99265  ]\n",
      " [7.872221 ]] and actual value = [[2], [4], [6], [8]]\n",
      "At epoch: 10 predicted value = [[2.2307475]\n",
      " [4.111789 ]\n",
      " [5.9928308]\n",
      " [7.8738723]] and actual value = [[2], [4], [6], [8]]\n",
      "At epoch: 11 predicted value = [[2.2279966]\n",
      " [4.110472 ]\n",
      " [5.9929476]\n",
      " [7.875423 ]] and actual value = [[2], [4], [6], [8]]\n",
      "At epoch: 12 predicted value = [[2.2252703]\n",
      " [4.109156 ]\n",
      " [5.9930425]\n",
      " [7.8769283]] and actual value = [[2], [4], [6], [8]]\n",
      "At epoch: 13 predicted value = [[2.2225738]\n",
      " [4.1078515]\n",
      " [5.993129 ]\n",
      " [7.8784065]] and actual value = [[2], [4], [6], [8]]\n",
      "At epoch: 14 predicted value = [[2.219909 ]\n",
      " [4.1065607]\n",
      " [5.993212 ]\n",
      " [7.879864 ]] and actual value = [[2], [4], [6], [8]]\n",
      "At epoch: 15 predicted value = [[2.2172756]\n",
      " [4.1052847]\n",
      " [5.9932942]\n",
      " [7.8813033]] and actual value = [[2], [4], [6], [8]]\n",
      "At epoch: 16 predicted value = [[2.2146735]\n",
      " [4.104024 ]\n",
      " [5.993375 ]\n",
      " [7.8827252]] and actual value = [[2], [4], [6], [8]]\n",
      "At epoch: 17 predicted value = [[2.2121027]\n",
      " [4.1027784]\n",
      " [5.993454 ]\n",
      " [7.8841295]] and actual value = [[2], [4], [6], [8]]\n",
      "At epoch: 18 predicted value = [[2.2095625]\n",
      " [4.1015472]\n",
      " [5.9935317]\n",
      " [7.8855166]] and actual value = [[2], [4], [6], [8]]\n",
      "At epoch: 19 predicted value = [[2.207053 ]\n",
      " [4.1003313]\n",
      " [5.99361  ]\n",
      " [7.886888 ]] and actual value = [[2], [4], [6], [8]]\n",
      "At epoch: 20 predicted value = [[2.2045734]\n",
      " [4.0991297]\n",
      " [5.993686 ]\n",
      " [7.8882427]] and actual value = [[2], [4], [6], [8]]\n",
      "At epoch: 21 predicted value = [[2.2021236]\n",
      " [4.097943 ]\n",
      " [5.993762 ]\n",
      " [7.889581 ]] and actual value = [[2], [4], [6], [8]]\n",
      "At epoch: 22 predicted value = [[2.199703 ]\n",
      " [4.09677  ]\n",
      " [5.9938364]\n",
      " [7.8909035]] and actual value = [[2], [4], [6], [8]]\n",
      "At epoch: 23 predicted value = [[2.1973114]\n",
      " [4.095611 ]\n",
      " [5.9939103]\n",
      " [7.89221  ]] and actual value = [[2], [4], [6], [8]]\n",
      "At epoch: 24 predicted value = [[2.1949487]\n",
      " [4.094466 ]\n",
      " [5.9939837]\n",
      " [7.8935013]] and actual value = [[2], [4], [6], [8]]\n",
      "At epoch: 25 predicted value = [[2.1926138]\n",
      " [4.0933347]\n",
      " [5.9940557]\n",
      " [7.8947763]] and actual value = [[2], [4], [6], [8]]\n",
      "At epoch: 26 predicted value = [[2.1903071]\n",
      " [4.092217 ]\n",
      " [5.9941263]\n",
      " [7.896036 ]] and actual value = [[2], [4], [6], [8]]\n",
      "At epoch: 27 predicted value = [[2.188028 ]\n",
      " [4.0911126]\n",
      " [5.994197 ]\n",
      " [7.897281 ]] and actual value = [[2], [4], [6], [8]]\n",
      "At epoch: 28 predicted value = [[2.1857762]\n",
      " [4.090021 ]\n",
      " [5.9942665]\n",
      " [7.8985114]] and actual value = [[2], [4], [6], [8]]\n",
      "At epoch: 29 predicted value = [[2.1835515]\n",
      " [4.088943 ]\n",
      " [5.9943347]\n",
      " [7.8997264]] and actual value = [[2], [4], [6], [8]]\n",
      "At epoch: 30 predicted value = [[2.1813536]\n",
      " [4.087878 ]\n",
      " [5.9944034]\n",
      " [7.900928 ]] and actual value = [[2], [4], [6], [8]]\n",
      "At epoch: 31 predicted value = [[2.1791816]\n",
      " [4.086826 ]\n",
      " [5.9944696]\n",
      " [7.902114 ]] and actual value = [[2], [4], [6], [8]]\n",
      "At epoch: 32 predicted value = [[2.1770358]\n",
      " [4.085786 ]\n",
      " [5.9945364]\n",
      " [7.9032865]] and actual value = [[2], [4], [6], [8]]\n",
      "At epoch: 33 predicted value = [[2.1749158]\n",
      " [4.0847588]\n",
      " [5.9946017]\n",
      " [7.9044447]] and actual value = [[2], [4], [6], [8]]\n",
      "At epoch: 34 predicted value = [[2.172821 ]\n",
      " [4.0837436]\n",
      " [5.9946666]\n",
      " [7.905589 ]] and actual value = [[2], [4], [6], [8]]\n",
      "At epoch: 35 predicted value = [[2.1707513]\n",
      " [4.082741 ]\n",
      " [5.99473  ]\n",
      " [7.906719 ]] and actual value = [[2], [4], [6], [8]]\n",
      "At epoch: 36 predicted value = [[2.1687064]\n",
      " [4.08175  ]\n",
      " [5.994793 ]\n",
      " [7.9078364]] and actual value = [[2], [4], [6], [8]]\n",
      "At epoch: 37 predicted value = [[2.166686 ]\n",
      " [4.080771 ]\n",
      " [5.994856 ]\n",
      " [7.9089403]] and actual value = [[2], [4], [6], [8]]\n",
      "At epoch: 38 predicted value = [[2.16469  ]\n",
      " [4.0798035]\n",
      " [5.9949174]\n",
      " [7.910031 ]] and actual value = [[2], [4], [6], [8]]\n",
      "At epoch: 39 predicted value = [[2.1627176]\n",
      " [4.078848 ]\n",
      " [5.994978 ]\n",
      " [7.911108 ]] and actual value = [[2], [4], [6], [8]]\n",
      "At epoch: 40 predicted value = [[2.160769 ]\n",
      " [4.0779037]\n",
      " [5.995038 ]\n",
      " [7.9121733]] and actual value = [[2], [4], [6], [8]]\n",
      "At epoch: 41 predicted value = [[2.1588438]\n",
      " [4.0769706]\n",
      " [5.9950976]\n",
      " [7.9132247]] and actual value = [[2], [4], [6], [8]]\n",
      "At epoch: 42 predicted value = [[2.1569414]\n",
      " [4.076049 ]\n",
      " [5.9951563]\n",
      " [7.9142637]] and actual value = [[2], [4], [6], [8]]\n",
      "At epoch: 43 predicted value = [[2.155062 ]\n",
      " [4.075138 ]\n",
      " [5.995214 ]\n",
      " [7.9152904]] and actual value = [[2], [4], [6], [8]]\n",
      "At epoch: 44 predicted value = [[2.153205 ]\n",
      " [4.0742383]\n",
      " [5.995271 ]\n",
      " [7.9163046]] and actual value = [[2], [4], [6], [8]]\n",
      "At epoch: 45 predicted value = [[2.1513703]\n",
      " [4.0733495]\n",
      " [5.9953284]\n",
      " [7.9173074]] and actual value = [[2], [4], [6], [8]]\n",
      "At epoch: 46 predicted value = [[2.1495576]\n",
      " [4.0724707]\n",
      " [5.9953837]\n",
      " [7.9182973]] and actual value = [[2], [4], [6], [8]]\n",
      "At epoch: 47 predicted value = [[2.1477666]\n",
      " [4.071603 ]\n",
      " [5.995439 ]\n",
      " [7.9192758]] and actual value = [[2], [4], [6], [8]]\n",
      "At epoch: 48 predicted value = [[2.145997 ]\n",
      " [4.0707455]\n",
      " [5.995495 ]\n",
      " [7.9202433]] and actual value = [[2], [4], [6], [8]]\n",
      "At epoch: 49 predicted value = [[2.1442485]\n",
      " [4.069898 ]\n",
      " [5.9955482]\n",
      " [7.921198 ]] and actual value = [[2], [4], [6], [8]]\n"
     ]
    }
   ],
   "source": [
    "# Create a new session\n",
    "with tf.Session() as sess:\n",
    "    # Initialize global variables\n",
    "    sess.run(tf.global_variables_initializer())\n",
    "    # Start a graph writer\n",
    "    writer = tf.summary.FileWriter(\"graphs/single_neuron_model\", sess.graph)\n",
    "    # Run model\n",
    "    for i in range(epochs):\n",
    "        # Evaluate multiple tensors\n",
    "        _, predicted_y = sess.run([optimizer, model], feed_dict={input_x:[[1], [2], [3], [4]], output_y:[[2], [4], [6], [8]]})\n",
    "        print(\"At epoch: {} predicted value = {} and actual value = {}\".format(i, predicted_y, [[2], [4], [6], [8]]))\n",
    "    writer.close()"
   ]
  },
  {
   "cell_type": "markdown",
   "metadata": {},
   "source": [
    "To view the graph created in an interactive manner, use Tensorboard. To launch Tensorboard, use command : tensorboard --logdir=\"path/to/dir/with/graphs\""
   ]
  },
  {
   "cell_type": "code",
   "execution_count": null,
   "metadata": {},
   "outputs": [],
   "source": []
  }
 ],
 "metadata": {
  "kernelspec": {
   "display_name": "Python [conda env:ai_env]",
   "language": "python",
   "name": "conda-env-ai_env-py"
  },
  "language_info": {
   "codemirror_mode": {
    "name": "ipython",
    "version": 3
   },
   "file_extension": ".py",
   "mimetype": "text/x-python",
   "name": "python",
   "nbconvert_exporter": "python",
   "pygments_lexer": "ipython3",
   "version": "3.6.8"
  }
 },
 "nbformat": 4,
 "nbformat_minor": 2
}
