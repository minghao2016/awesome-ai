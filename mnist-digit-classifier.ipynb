{
 "cells": [
  {
   "cell_type": "code",
   "execution_count": 1,
   "metadata": {
    "ExecuteTime": {
     "end_time": "2019-01-24T10:43:13.708438Z",
     "start_time": "2019-01-24T10:43:12.320419Z"
    }
   },
   "outputs": [
    {
     "name": "stdout",
     "output_type": "stream",
     "text": [
      "1.12.0\n"
     ]
    }
   ],
   "source": [
    "# load packages\n",
    "import os\n",
    "import sys\n",
    "import tensorflow as tf\n",
    "import numpy as np\n",
    "import matplotlib.pyplot as plt\n",
    "print(tf.__version__)"
   ]
  },
  {
   "cell_type": "markdown",
   "metadata": {},
   "source": [
    "# Prepare Data"
   ]
  },
  {
   "cell_type": "code",
   "execution_count": 2,
   "metadata": {
    "ExecuteTime": {
     "end_time": "2019-01-24T10:43:14.048024Z",
     "start_time": "2019-01-24T10:43:13.711071Z"
    }
   },
   "outputs": [],
   "source": [
    "# load data\n",
    "(x_train, y_train), (x_test, y_test) = tf.keras.datasets.mnist.load_data()"
   ]
  },
  {
   "cell_type": "code",
   "execution_count": 3,
   "metadata": {
    "ExecuteTime": {
     "end_time": "2019-01-24T10:43:14.053580Z",
     "start_time": "2019-01-24T10:43:14.049815Z"
    }
   },
   "outputs": [
    {
     "name": "stdout",
     "output_type": "stream",
     "text": [
      "Train: (60000, 28, 28) (60000,)\n",
      "Test: (10000, 28, 28) (10000,)\n"
     ]
    }
   ],
   "source": [
    "print(\"Train:\", x_train.shape, y_train.shape)\n",
    "print(\"Test:\", x_test.shape, y_test.shape)"
   ]
  },
  {
   "cell_type": "code",
   "execution_count": 4,
   "metadata": {
    "ExecuteTime": {
     "end_time": "2019-01-24T10:43:14.243316Z",
     "start_time": "2019-01-24T10:43:14.058078Z"
    }
   },
   "outputs": [],
   "source": [
    "# normlize the data\n",
    "x_train = x_train.astype(\"float32\") / 255.0\n",
    "x_test = x_test.astype(\"float32\") / 255.0"
   ]
  },
  {
   "cell_type": "code",
   "execution_count": 5,
   "metadata": {
    "ExecuteTime": {
     "end_time": "2019-01-24T10:43:14.252515Z",
     "start_time": "2019-01-24T10:43:14.246610Z"
    }
   },
   "outputs": [],
   "source": [
    "# one-hot encode the labels\n",
    "y_train = tf.keras.utils.to_categorical(y_train, 10)\n",
    "y_test = tf.keras.utils.to_categorical(y_test, 10)"
   ]
  },
  {
   "cell_type": "code",
   "execution_count": 6,
   "metadata": {
    "ExecuteTime": {
     "end_time": "2019-01-24T10:43:14.257837Z",
     "start_time": "2019-01-24T10:43:14.254127Z"
    }
   },
   "outputs": [],
   "source": [
    "# reshape input image to 1-channel images form 3-channel images\n",
    "w, h = 28, 28\n",
    "x_train = x_train.reshape(x_train.shape[0], w, h, 1)\n",
    "x_test = x_test.reshape(x_test.shape[0], w, h, 1)"
   ]
  },
  {
   "cell_type": "markdown",
   "metadata": {},
   "source": [
    "# Simple Perceptron Based Model"
   ]
  },
  {
   "cell_type": "code",
   "execution_count": 7,
   "metadata": {
    "ExecuteTime": {
     "end_time": "2019-01-24T10:43:14.338040Z",
     "start_time": "2019-01-24T10:43:14.260732Z"
    }
   },
   "outputs": [],
   "source": [
    "# create a baseline model\n",
    "model = tf.keras.Sequential()\n",
    "\n",
    "# flatten the image\n",
    "model.add(tf.keras.layers.Flatten())\n",
    "\n",
    "# first dense layer\n",
    "model.add(tf.keras.layers.Dense(units=512, activation=\"relu\", input_shape=(28, 28)))\n",
    "\n",
    "# classifier layer\n",
    "model.add(tf.keras.layers.Dense(units=10, activation=\"softmax\"))\n",
    "\n",
    "# compile the model\n",
    "model.compile(\n",
    "    loss=\"categorical_crossentropy\",\n",
    "    optimizer=\"rmsprop\",\n",
    "    metrics=[\"accuracy\"])\n",
    "\n",
    "# set callback config\n",
    "cbk = [tf.keras.callbacks.EarlyStopping(patience=3)]\n",
    "\n",
    "# view the model architecture\n",
    "# model.summary()"
   ]
  },
  {
   "cell_type": "code",
   "execution_count": 8,
   "metadata": {
    "ExecuteTime": {
     "end_time": "2019-01-24T10:43:42.156375Z",
     "start_time": "2019-01-24T10:43:14.339893Z"
    }
   },
   "outputs": [
    {
     "name": "stdout",
     "output_type": "stream",
     "text": [
      "Train on 60000 samples, validate on 10000 samples\n",
      "Epoch 1/10\n",
      "60000/60000 [==============================] - 3s 56us/step - loss: 0.2220 - acc: 0.9344 - val_loss: 0.1291 - val_acc: 0.9605\n",
      "Epoch 2/10\n",
      "60000/60000 [==============================] - 3s 51us/step - loss: 0.0911 - acc: 0.9728 - val_loss: 0.0911 - val_acc: 0.9728\n",
      "Epoch 3/10\n",
      "60000/60000 [==============================] - 3s 50us/step - loss: 0.0612 - acc: 0.9820 - val_loss: 0.0935 - val_acc: 0.9705\n",
      "Epoch 4/10\n",
      "60000/60000 [==============================] - 3s 48us/step - loss: 0.0463 - acc: 0.9863 - val_loss: 0.0688 - val_acc: 0.9800\n",
      "Epoch 5/10\n",
      "60000/60000 [==============================] - 3s 48us/step - loss: 0.0348 - acc: 0.9893 - val_loss: 0.0765 - val_acc: 0.9777\n",
      "Epoch 6/10\n",
      "60000/60000 [==============================] - 3s 50us/step - loss: 0.0275 - acc: 0.9922 - val_loss: 0.0688 - val_acc: 0.9809\n",
      "Epoch 7/10\n",
      "60000/60000 [==============================] - 3s 51us/step - loss: 0.0215 - acc: 0.9941 - val_loss: 0.0788 - val_acc: 0.9795\n",
      "Epoch 8/10\n",
      "60000/60000 [==============================] - 3s 51us/step - loss: 0.0172 - acc: 0.9951 - val_loss: 0.0768 - val_acc: 0.9812\n",
      "Epoch 9/10\n",
      "60000/60000 [==============================] - 3s 55us/step - loss: 0.0138 - acc: 0.9958 - val_loss: 0.0763 - val_acc: 0.9827\n"
     ]
    }
   ],
   "source": [
    "# train the model\n",
    "history1 = model.fit(\n",
    "    x_train, y_train,\n",
    "    epochs=10,\n",
    "    batch_size=64,\n",
    "    validation_data=(x_test, y_test),\n",
    "    verbose=True,\n",
    "    callbacks=cbk\n",
    ")"
   ]
  },
  {
   "cell_type": "markdown",
   "metadata": {},
   "source": [
    "# CNN Based Model"
   ]
  },
  {
   "cell_type": "code",
   "execution_count": 9,
   "metadata": {
    "ExecuteTime": {
     "end_time": "2019-01-24T10:43:42.407043Z",
     "start_time": "2019-01-24T10:43:42.159759Z"
    }
   },
   "outputs": [],
   "source": [
    "# define a sequential cnn model\n",
    "model2 = tf.keras.Sequential()\n",
    "\n",
    "# add a convolutional block\n",
    "model2.add(tf.keras.layers.Conv2D(filters=32,\n",
    "                                kernel_size=(2, 2),\n",
    "                                input_shape=(28, 28, 1)))\n",
    "\n",
    "# add a max pooling layer\n",
    "model2.add(tf.keras.layers.MaxPool2D(pool_size=(2, 2)))\n",
    "\n",
    "# add a dropout layer\n",
    "model2.add(tf.keras.layers.Dropout(rate=0.5))\n",
    "\n",
    "# now flatten the output\n",
    "model2.add(tf.keras.layers.Flatten())\n",
    "\n",
    "# add a dense layer with relu activation\n",
    "model2.add(tf.keras.layers.Dense(256, activation=\"relu\"))\n",
    "\n",
    "# add a dropout layer\n",
    "model2.add(tf.keras.layers.Dropout(rate=0.5))\n",
    "\n",
    "# now add the final output layer: softmax layer\n",
    "model2.add(tf.keras.layers.Dense(10, activation=\"softmax\"))\n",
    "\n",
    "# compile the model\n",
    "model2.compile(\n",
    "    loss=\"categorical_crossentropy\",\n",
    "    optimizer=\"rmsprop\",\n",
    "    metrics=[\"accuracy\"])\n",
    "\n",
    "# view model architecture\n",
    "# model2.summary()"
   ]
  },
  {
   "cell_type": "code",
   "execution_count": 10,
   "metadata": {
    "ExecuteTime": {
     "end_time": "2019-01-24T10:46:59.914700Z",
     "start_time": "2019-01-24T10:43:42.408904Z"
    }
   },
   "outputs": [
    {
     "name": "stdout",
     "output_type": "stream",
     "text": [
      "Train on 60000 samples, validate on 10000 samples\n",
      "Epoch 1/10\n",
      "60000/60000 [==============================] - 25s 420us/step - loss: 0.3025 - acc: 0.9079 - val_loss: 0.1306 - val_acc: 0.9612\n",
      "Epoch 2/10\n",
      "60000/60000 [==============================] - 22s 372us/step - loss: 0.1602 - acc: 0.9523 - val_loss: 0.0865 - val_acc: 0.9739\n",
      "Epoch 3/10\n",
      "60000/60000 [==============================] - 35s 588us/step - loss: 0.1331 - acc: 0.9600 - val_loss: 0.0771 - val_acc: 0.9783\n",
      "Epoch 4/10\n",
      "60000/60000 [==============================] - 17s 287us/step - loss: 0.1214 - acc: 0.9638 - val_loss: 0.0720 - val_acc: 0.9794\n",
      "Epoch 5/10\n",
      "60000/60000 [==============================] - 16s 275us/step - loss: 0.1160 - acc: 0.9662 - val_loss: 0.0755 - val_acc: 0.9791\n",
      "Epoch 6/10\n",
      "60000/60000 [==============================] - 16s 268us/step - loss: 0.1102 - acc: 0.9677 - val_loss: 0.0862 - val_acc: 0.9748\n",
      "Epoch 7/10\n",
      "60000/60000 [==============================] - 16s 266us/step - loss: 0.1117 - acc: 0.9683 - val_loss: 0.0592 - val_acc: 0.9835\n",
      "Epoch 8/10\n",
      "60000/60000 [==============================] - 17s 276us/step - loss: 0.1048 - acc: 0.9694 - val_loss: 0.0648 - val_acc: 0.9804\n",
      "Epoch 9/10\n",
      "60000/60000 [==============================] - 16s 265us/step - loss: 0.1017 - acc: 0.9704 - val_loss: 0.0788 - val_acc: 0.9769\n",
      "Epoch 10/10\n",
      "60000/60000 [==============================] - 16s 269us/step - loss: 0.0975 - acc: 0.9714 - val_loss: 0.0787 - val_acc: 0.9766\n"
     ]
    }
   ],
   "source": [
    "# train the model\n",
    "history2 = model2.fit(\n",
    "    x_train, y_train,\n",
    "    epochs=10,\n",
    "    batch_size=64,\n",
    "    validation_data=(x_test, y_test),\n",
    "    verbose=True,\n",
    "    callbacks=cbk\n",
    ")"
   ]
  },
  {
   "cell_type": "code",
   "execution_count": 14,
   "metadata": {
    "ExecuteTime": {
     "end_time": "2019-01-24T10:50:56.078939Z",
     "start_time": "2019-01-24T10:50:56.075047Z"
    }
   },
   "outputs": [
    {
     "data": {
      "text/plain": [
       "(dict_keys(['val_loss', 'val_acc', 'loss', 'acc']),\n",
       " dict_keys(['val_loss', 'val_acc', 'loss', 'acc']))"
      ]
     },
     "execution_count": 14,
     "metadata": {},
     "output_type": "execute_result"
    }
   ],
   "source": [
    "history1.history.keys(), history2.history.keys()"
   ]
  },
  {
   "cell_type": "markdown",
   "metadata": {},
   "source": [
    "## Simple Perceptron Model Visualization"
   ]
  },
  {
   "cell_type": "code",
   "execution_count": 13,
   "metadata": {
    "ExecuteTime": {
     "end_time": "2019-01-24T10:50:23.631324Z",
     "start_time": "2019-01-24T10:50:23.455331Z"
    }
   },
   "outputs": [
    {
     "data": {
      "image/png": "[encoded data removed]",
      "text/plain": [
       "<Figure size 432x288 with 1 Axes>"
      ]
     },
     "metadata": {
      "needs_background": "light"
     },
     "output_type": "display_data"
    }
   ],
   "source": [
    "loss, val_loss = history1.history[\"loss\"], history1.history[\"val_loss\"] # accumulate data\n",
    "\n",
    "epochs = range(1, len(loss) + 1) # number of epochs experiment ran\n",
    "\n",
    "plt.plot(epochs, loss, \"b\", label=\"Training Loss\", color=\"blue\")\n",
    "plt.plot(epochs, val_loss, \"b\", label=\"Validation Loss\", color=\"green\")\n",
    "plt.legend()\n",
    "plt.xlabel(\"Epochs\")\n",
    "plt.ylabel(\"Loss\")\n",
    "plt.title(\"Train and Validation Loss\")\n",
    "plt.show()"
   ]
  },
  {
   "cell_type": "code",
   "execution_count": 18,
   "metadata": {
    "ExecuteTime": {
     "end_time": "2019-01-24T10:53:47.436403Z",
     "start_time": "2019-01-24T10:53:47.245749Z"
    }
   },
   "outputs": [
    {
     "data": {
      "image/png": "[encoded data removed]",
      "text/plain": [
       "<Figure size 432x288 with 1 Axes>"
      ]
     },
     "metadata": {
      "needs_background": "light"
     },
     "output_type": "display_data"
    }
   ],
   "source": [
    "acc, val_acc = history1.history[\"acc\"], history1.history[\"val_acc\"] # accumulate data\n",
    "\n",
    "epochs = range(1, len(acc) + 1) # number of epochs experiment ran\n",
    "\n",
    "plt.plot(epochs, acc, \"b\", label=\"Training Accuracy\", color=\"blue\")\n",
    "plt.plot(epochs, val_acc, \"b\", label=\"Validation Accuracy\", color=\"green\")\n",
    "plt.legend()\n",
    "plt.xlabel(\"Epochs\")\n",
    "plt.ylabel(\"Accuracy\")\n",
    "plt.title(\"Train and Validation Accuracy\")\n",
    "plt.show()"
   ]
  },
  {
   "cell_type": "markdown",
   "metadata": {},
   "source": [
    "## CNN Model Visualization"
   ]
  },
  {
   "cell_type": "code",
   "execution_count": 16,
   "metadata": {
    "ExecuteTime": {
     "end_time": "2019-01-24T10:51:18.147394Z",
     "start_time": "2019-01-24T10:51:17.980597Z"
    }
   },
   "outputs": [
    {
     "data": {
      "image/png": "[encoded data removed]",
      "text/plain": [
       "<Figure size 432x288 with 1 Axes>"
      ]
     },
     "metadata": {
      "needs_background": "light"
     },
     "output_type": "display_data"
    }
   ],
   "source": [
    "loss, val_loss = history2.history[\"loss\"], history2.history[\"val_loss\"] # accumulate data\n",
    "\n",
    "epochs = range(1, len(loss) + 1) # number of epochs experiment ran\n",
    "\n",
    "plt.plot(epochs, loss, \"b\", label=\"Training Loss\", color=\"blue\")\n",
    "plt.plot(epochs, val_loss, \"b\", label=\"Validation Loss\", color=\"green\")\n",
    "plt.legend()\n",
    "plt.xlabel(\"Epochs\")\n",
    "plt.ylabel(\"Loss\")\n",
    "plt.title(\"Train and Validation Loss\")\n",
    "plt.show()"
   ]
  },
  {
   "cell_type": "code",
   "execution_count": 19,
   "metadata": {
    "ExecuteTime": {
     "end_time": "2019-01-24T10:54:12.088547Z",
     "start_time": "2019-01-24T10:54:11.905428Z"
    }
   },
   "outputs": [
    {
     "data": {
      "image/png": "[encoded data removed]",
      "text/plain": [
       "<Figure size 432x288 with 1 Axes>"
      ]
     },
     "metadata": {
      "needs_background": "light"
     },
     "output_type": "display_data"
    }
   ],
   "source": [
    "acc, val_acc = history2.history[\"acc\"], history2.history[\"val_acc\"] # accumulate data\n",
    "\n",
    "epochs = range(1, len(acc) + 1) # number of epochs experiment ran\n",
    "\n",
    "plt.plot(epochs, acc, \"b\", label=\"Training Accuracy\", color=\"blue\")\n",
    "plt.plot(epochs, val_acc, \"b\", label=\"Validation Accuracy\", color=\"green\")\n",
    "plt.legend()\n",
    "plt.xlabel(\"Epochs\")\n",
    "plt.ylabel(\"Accuracy\")\n",
    "plt.title(\"Train and Validation Accuracy\")\n",
    "plt.show()"
   ]
  },
  {
   "cell_type": "markdown",
   "metadata": {},
   "source": [
    "As you can see, the CNN model is more robust and generalized than the simpler perceptron architecture in this scenario even though they perform very similar."
   ]
  },
  {
   "cell_type": "code",
   "execution_count": null,
   "metadata": {},
   "outputs": [],
   "source": []
  }
 ],
 "metadata": {
  "kernelspec": {
   "display_name": "Python [conda env:ai_env]",
   "language": "python",
   "name": "conda-env-ai_env-py"
  },
  "language_info": {
   "codemirror_mode": {
    "name": "ipython",
    "version": 3
   },
   "file_extension": ".py",
   "mimetype": "text/x-python",
   "name": "python",
   "nbconvert_exporter": "python",
   "pygments_lexer": "ipython3",
   "version": "3.6.6"
  }
 },
 "nbformat": 4,
 "nbformat_minor": 2
}
