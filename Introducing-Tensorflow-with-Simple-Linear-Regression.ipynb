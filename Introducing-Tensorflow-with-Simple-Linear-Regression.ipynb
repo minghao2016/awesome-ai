{
 "cells": [
  {
   "cell_type": "code",
   "execution_count": 2,
   "metadata": {
    "ExecuteTime": {
     "end_time": "2019-03-25T10:46:14.674431Z",
     "start_time": "2019-03-25T10:46:12.689166Z"
    }
   },
   "outputs": [
    {
     "data": {
      "text/plain": [
       "'1.12.0'"
      ]
     },
     "execution_count": 2,
     "metadata": {},
     "output_type": "execute_result"
    }
   ],
   "source": [
    "# Import packages\n",
    "import os\n",
    "import sys\n",
    "import numpy as np\n",
    "import tensorflow as tf\n",
    "tf.__version__"
   ]
  },
  {
   "cell_type": "markdown",
   "metadata": {},
   "source": [
    "## Tensorflow APIs"
   ]
  },
  {
   "cell_type": "markdown",
   "metadata": {},
   "source": [
    "### tf.constant()"
   ]
  },
  {
   "cell_type": "markdown",
   "metadata": {
    "ExecuteTime": {
     "end_time": "2019-02-16T16:17:03.889555Z",
     "start_time": "2019-02-16T16:17:03.886077Z"
    }
   },
   "source": [
    "It is used to hold fixed numeric values. Ex: 2, 3.4 etc."
   ]
  },
  {
   "cell_type": "code",
   "execution_count": 3,
   "metadata": {
    "ExecuteTime": {
     "end_time": "2019-03-25T10:46:16.312617Z",
     "start_time": "2019-03-25T10:46:16.268913Z"
    }
   },
   "outputs": [],
   "source": [
    "node1 = tf.constant(3.0, tf.float32) # Nodes are nothing but tensors\n",
    "node2 = tf.constant(4.5) # Implicitly applied: float32"
   ]
  },
  {
   "cell_type": "code",
   "execution_count": 4,
   "metadata": {
    "ExecuteTime": {
     "end_time": "2019-03-25T10:46:17.904689Z",
     "start_time": "2019-03-25T10:46:17.897937Z"
    }
   },
   "outputs": [
    {
     "data": {
      "text/plain": [
       "(<tf.Tensor 'Const:0' shape=() dtype=float32>,\n",
       " <tf.Tensor 'Const_1:0' shape=() dtype=float32>)"
      ]
     },
     "execution_count": 4,
     "metadata": {},
     "output_type": "execute_result"
    }
   ],
   "source": [
    "node1, node2"
   ]
  },
  {
   "cell_type": "code",
   "execution_count": 7,
   "metadata": {
    "ExecuteTime": {
     "end_time": "2019-03-25T10:46:49.848950Z",
     "start_time": "2019-03-25T10:46:49.838540Z"
    }
   },
   "outputs": [
    {
     "name": "stdout",
     "output_type": "stream",
     "text": [
      "3.0\n"
     ]
    }
   ],
   "source": [
    "# Always create a session object to evaluate nodes\n",
    "with tf.Session() as sess:\n",
    "    print(sess.run(node1))"
   ]
  },
  {
   "cell_type": "code",
   "execution_count": 8,
   "metadata": {
    "ExecuteTime": {
     "end_time": "2019-03-25T10:46:51.039379Z",
     "start_time": "2019-03-25T10:46:51.022440Z"
    }
   },
   "outputs": [
    {
     "name": "stdout",
     "output_type": "stream",
     "text": [
      "[3.0, 4.5]\n"
     ]
    }
   ],
   "source": [
    "# evaluate multiple nodes at once\n",
    "with tf.Session() as sess:\n",
    "    print(sess.run([node1, node2]))"
   ]
  },
  {
   "cell_type": "code",
   "execution_count": 9,
   "metadata": {
    "ExecuteTime": {
     "end_time": "2019-03-25T10:47:09.452896Z",
     "start_time": "2019-03-25T10:47:09.445197Z"
    }
   },
   "outputs": [
    {
     "data": {
      "text/plain": [
       "<tf.Tensor 'Add:0' shape=() dtype=float32>"
      ]
     },
     "execution_count": 9,
     "metadata": {},
     "output_type": "execute_result"
    }
   ],
   "source": [
    "node3 = tf.add(node1, node2)\n",
    "node3"
   ]
  },
  {
   "cell_type": "code",
   "execution_count": 10,
   "metadata": {
    "ExecuteTime": {
     "end_time": "2019-03-25T10:47:23.285681Z",
     "start_time": "2019-03-25T10:47:23.264930Z"
    }
   },
   "outputs": [
    {
     "name": "stdout",
     "output_type": "stream",
     "text": [
      "7.5\n"
     ]
    }
   ],
   "source": [
    "# Evaluate node\n",
    "with tf.Session() as sess:\n",
    "    print(sess.run(node3))"
   ]
  },
  {
   "cell_type": "markdown",
   "metadata": {},
   "source": [
    "### tf.placeholders()"
   ]
  },
  {
   "cell_type": "markdown",
   "metadata": {
    "ExecuteTime": {
     "end_time": "2019-02-16T16:20:34.364425Z",
     "start_time": "2019-02-16T16:20:34.359641Z"
    }
   },
   "source": [
    "It is used to hold variables. It can change. Mostly used to assign weights, biases of a neural network."
   ]
  },
  {
   "cell_type": "code",
   "execution_count": 11,
   "metadata": {
    "ExecuteTime": {
     "end_time": "2019-03-25T10:49:15.266461Z",
     "start_time": "2019-03-25T10:49:15.255955Z"
    }
   },
   "outputs": [],
   "source": [
    "a = tf.placeholder(dtype=tf.int32, shape=None, name=\"a\") # Shape is not necessary\n",
    "b = tf.placeholder(dtype=tf.int32, name=\"b\") # Data type is must"
   ]
  },
  {
   "cell_type": "code",
   "execution_count": 12,
   "metadata": {
    "ExecuteTime": {
     "end_time": "2019-03-25T10:49:28.202903Z",
     "start_time": "2019-03-25T10:49:28.195777Z"
    }
   },
   "outputs": [],
   "source": [
    "adder_node = tf.add(a, b) # Operation on the placeholders"
   ]
  },
  {
   "cell_type": "code",
   "execution_count": 13,
   "metadata": {
    "ExecuteTime": {
     "end_time": "2019-03-25T10:49:45.344752Z",
     "start_time": "2019-03-25T10:49:45.316601Z"
    }
   },
   "outputs": [
    {
     "name": "stdout",
     "output_type": "stream",
     "text": [
      "6\n"
     ]
    }
   ],
   "source": [
    "# Evaluate computation graph -> evaluate node\n",
    "with tf.Session() as sess:\n",
    "    print(sess.run(adder_node, feed_dict={a: 2, b: 4})) # Using feed_dict to pass input to the nodes for computation"
   ]
  },
  {
   "cell_type": "code",
   "execution_count": 14,
   "metadata": {
    "ExecuteTime": {
     "end_time": "2019-03-25T10:50:02.147852Z",
     "start_time": "2019-03-25T10:50:02.124063Z"
    }
   },
   "outputs": [
    {
     "name": "stdout",
     "output_type": "stream",
     "text": [
      "[ 4 12]\n"
     ]
    }
   ],
   "source": [
    "# Evaluate computation graph\n",
    "with tf.Session() as sess:\n",
    "    print(sess.run(adder_node, feed_dict={a:[1, 2], b:[3, 10]})) # Can pass multiple input to nodes"
   ]
  },
  {
   "cell_type": "code",
   "execution_count": 15,
   "metadata": {
    "ExecuteTime": {
     "end_time": "2019-03-25T10:50:53.078929Z",
     "start_time": "2019-03-25T10:50:53.053856Z"
    }
   },
   "outputs": [
    {
     "name": "stdout",
     "output_type": "stream",
     "text": [
      "[ 6  8 10]\n"
     ]
    }
   ],
   "source": [
    "# evaluate computation graph\n",
    "with tf.Session() as sess:\n",
    "    # Save results to access it outside the current session\n",
    "    result = sess.run(adder_node, feed_dict={a:[2, 3, 4], b:[4, 5, 6]})\n",
    "    print(result)"
   ]
  },
  {
   "cell_type": "code",
   "execution_count": 17,
   "metadata": {
    "ExecuteTime": {
     "end_time": "2019-03-25T10:51:10.521201Z",
     "start_time": "2019-03-25T10:51:10.515347Z"
    }
   },
   "outputs": [
    {
     "data": {
      "text/plain": [
       "(array([ 6,  8, 10], dtype=int32), (3,))"
      ]
     },
     "execution_count": 17,
     "metadata": {},
     "output_type": "execute_result"
    }
   ],
   "source": [
    "# Access outside the session object scope\n",
    "result, result.shape"
   ]
  },
  {
   "cell_type": "markdown",
   "metadata": {},
   "source": [
    "### tf.Variable()"
   ]
  },
  {
   "cell_type": "markdown",
   "metadata": {},
   "source": [
    "Variable is used to hold values that keep changing during the process like placeholder but variable maintains state in the graph across calls to run."
   ]
  },
  {
   "cell_type": "code",
   "execution_count": 18,
   "metadata": {
    "ExecuteTime": {
     "end_time": "2019-03-25T10:51:18.191828Z",
     "start_time": "2019-03-25T10:51:18.178669Z"
    }
   },
   "outputs": [
    {
     "data": {
      "text/plain": [
       "<tf.Variable 'Variable:0' shape=() dtype=float32_ref>"
      ]
     },
     "execution_count": 18,
     "metadata": {},
     "output_type": "execute_result"
    }
   ],
   "source": [
    "variable_a = tf.Variable(1.0, tf.float32) # assign variable\n",
    "variable_a"
   ]
  },
  {
   "cell_type": "code",
   "execution_count": 19,
   "metadata": {
    "ExecuteTime": {
     "end_time": "2019-03-25T10:51:18.710684Z",
     "start_time": "2019-03-25T10:51:18.699020Z"
    }
   },
   "outputs": [
    {
     "data": {
      "text/plain": [
       "<tf.Variable 'Variable_1:0' shape=(2,) dtype=float32_ref>"
      ]
     },
     "execution_count": 19,
     "metadata": {},
     "output_type": "execute_result"
    }
   ],
   "source": [
    "variable_b = tf.Variable([1.0, 2.0], tf.float32)\n",
    "variable_b"
   ]
  },
  {
   "cell_type": "markdown",
   "metadata": {},
   "source": [
    "## Forward pass of a linear regression model with unit feature"
   ]
  },
  {
   "cell_type": "code",
   "execution_count": 20,
   "metadata": {
    "ExecuteTime": {
     "end_time": "2019-03-25T10:53:49.831922Z",
     "start_time": "2019-03-25T10:53:49.721796Z"
    }
   },
   "outputs": [
    {
     "name": "stdout",
     "output_type": "stream",
     "text": [
      "Loss =  41.0\n",
      "[2. 3. 4. 5.]\n"
     ]
    }
   ],
   "source": [
    "weight = tf.Variable([1.0], tf.float32) # Set intial weight as 1.0\n",
    "bias = tf.Variable([1.0], tf.float32) # Set initial bais as 1.0\n",
    "\n",
    "x = tf.placeholder(tf.float32) # Unit feature -> pass value using feed_dict\n",
    "\n",
    "model = weight * x + bias # Linear regression model -> predicts\n",
    "\n",
    "# Create placeholder for to hold original target value\n",
    "y = tf.placeholder(tf.float32)\n",
    "\n",
    "# Ereate a error metric\n",
    "error_measure = tf.squared_difference(model, y)\n",
    "\n",
    "# Loss function\n",
    "loss_function = tf.reduce_mean(error_measure)\n",
    "\n",
    "# Create a session to evaluate tensors\n",
    "with tf.Session() as sess:\n",
    "    # Do not forget to initialize global variables\n",
    "    sess.run(tf.global_variables_initializer())\n",
    "    # Now run multiple tensors\n",
    "    print(\"Loss = \", sess.run(loss_function, feed_dict={x:[1, 2, 3, 4], y:[-1, -2, -3, -4]}))\n",
    "    # Prediction\n",
    "    print(sess.run(model, feed_dict={x:[1, 2, 3, 4], y:[-1, -2, -3, -4]}))"
   ]
  },
  {
   "cell_type": "markdown",
   "metadata": {},
   "source": [
    "## Using new weights and bias"
   ]
  },
  {
   "cell_type": "code",
   "execution_count": 21,
   "metadata": {
    "ExecuteTime": {
     "end_time": "2019-03-25T10:54:45.632020Z",
     "start_time": "2019-03-25T10:54:45.509310Z"
    }
   },
   "outputs": [
    {
     "name": "stdout",
     "output_type": "stream",
     "text": [
      "Loss =  0.0\n",
      "[-1. -2. -3. -4.]\n"
     ]
    }
   ],
   "source": [
    "weight = tf.Variable([-1.0], tf.float32) # Set intial weight as 1.0\n",
    "bias = tf.Variable([0.0], tf.float32) # Set initial bais as 1.0\n",
    "\n",
    "x = tf.placeholder(tf.float32) # Unit feature -> pass value using feed_dict\n",
    "\n",
    "model = weight * x + bias # Linear regression model -> predicts\n",
    "\n",
    "# Create placeholder for to hold original target value\n",
    "y = tf.placeholder(tf.float32)\n",
    "\n",
    "# Ereate a error metric\n",
    "error_measure = tf.squared_difference(model, y)\n",
    "\n",
    "# Loss function\n",
    "loss_function = tf.reduce_mean(error_measure)\n",
    "\n",
    "# Create a session to evaluate tensors\n",
    "with tf.Session() as sess:\n",
    "    # Do not forget to initialize global variables\n",
    "    sess.run(tf.global_variables_initializer())\n",
    "    # Now run multiple tensors\n",
    "    print(\"Loss = \", sess.run(loss_function, feed_dict={x:[1, 2, 3, 4], y:[-1, -2, -3, -4]}))\n",
    "    # Prediction\n",
    "    print(sess.run(model, feed_dict={x:[1, 2, 3, 4], y:[-1, -2, -3, -4]}))"
   ]
  },
  {
   "cell_type": "code",
   "execution_count": null,
   "metadata": {},
   "outputs": [],
   "source": []
  }
 ],
 "metadata": {
  "kernelspec": {
   "display_name": "Python [conda env:ai_env]",
   "language": "python",
   "name": "conda-env-ai_env-py"
  },
  "language_info": {
   "codemirror_mode": {
    "name": "ipython",
    "version": 3
   },
   "file_extension": ".py",
   "mimetype": "text/x-python",
   "name": "python",
   "nbconvert_exporter": "python",
   "pygments_lexer": "ipython3",
   "version": "3.6.8"
  }
 },
 "nbformat": 4,
 "nbformat_minor": 2
}
