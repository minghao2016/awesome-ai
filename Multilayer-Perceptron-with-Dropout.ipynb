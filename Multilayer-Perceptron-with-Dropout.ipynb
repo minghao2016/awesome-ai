{
 "cells": [
  {
   "cell_type": "code",
   "execution_count": 1,
   "metadata": {
    "ExecuteTime": {
     "end_time": "2019-02-28T17:59:28.743813Z",
     "start_time": "2019-02-28T17:59:27.218083Z"
    }
   },
   "outputs": [
    {
     "data": {
      "text/plain": [
       "'1.10.0'"
      ]
     },
     "execution_count": 1,
     "metadata": {},
     "output_type": "execute_result"
    }
   ],
   "source": [
    "# load packages\n",
    "import os\n",
    "import sys\n",
    "import numpy as np\n",
    "import pandas as pd\n",
    "import tensorflow as tf\n",
    "import tensorboard as tb\n",
    "tf.__version__"
   ]
  },
  {
   "cell_type": "markdown",
   "metadata": {},
   "source": [
    "# Prepare Data"
   ]
  },
  {
   "cell_type": "code",
   "execution_count": 2,
   "metadata": {
    "ExecuteTime": {
     "end_time": "2019-02-28T17:59:29.096337Z",
     "start_time": "2019-02-28T17:59:28.746260Z"
    }
   },
   "outputs": [
    {
     "data": {
      "text/plain": [
       "((60000, 28, 28), (60000,), (10000, 28, 28), (10000,))"
      ]
     },
     "execution_count": 2,
     "metadata": {},
     "output_type": "execute_result"
    }
   ],
   "source": [
    "# load data\n",
    "(train_x, train_y), (test_x, test_y) = tf.keras.datasets.mnist.load_data()\n",
    "train_x.shape, train_y.shape, test_x.shape, test_y.shape"
   ]
  },
  {
   "cell_type": "code",
   "execution_count": 3,
   "metadata": {
    "ExecuteTime": {
     "end_time": "2019-02-28T17:59:29.283070Z",
     "start_time": "2019-02-28T17:59:29.098217Z"
    }
   },
   "outputs": [],
   "source": [
    "# normlize the data\n",
    "train_x = train_x.astype(\"float32\") / 255.0\n",
    "test_x = test_x.astype(\"float32\") / 255.0"
   ]
  },
  {
   "cell_type": "code",
   "execution_count": 4,
   "metadata": {
    "ExecuteTime": {
     "end_time": "2019-02-28T17:59:29.291490Z",
     "start_time": "2019-02-28T17:59:29.285823Z"
    }
   },
   "outputs": [],
   "source": [
    "# one-hot encode the labels\n",
    "train_y = tf.keras.utils.to_categorical(train_y, 10)\n",
    "test_y = tf.keras.utils.to_categorical(test_y, 10)"
   ]
  },
  {
   "cell_type": "code",
   "execution_count": 5,
   "metadata": {
    "ExecuteTime": {
     "end_time": "2019-02-28T17:59:29.299409Z",
     "start_time": "2019-02-28T17:59:29.294458Z"
    }
   },
   "outputs": [
    {
     "data": {
      "text/plain": [
       "(array([0., 0., 0., 0., 0., 1., 0., 0., 0., 0.], dtype=float32),\n",
       " array([0., 0., 0., 0., 0., 0., 0., 1., 0., 0.], dtype=float32))"
      ]
     },
     "execution_count": 5,
     "metadata": {},
     "output_type": "execute_result"
    }
   ],
   "source": [
    "train_y[0], test_y[0]"
   ]
  },
  {
   "cell_type": "code",
   "execution_count": 6,
   "metadata": {
    "ExecuteTime": {
     "end_time": "2019-02-28T17:59:29.305220Z",
     "start_time": "2019-02-28T17:59:29.302076Z"
    }
   },
   "outputs": [],
   "source": [
    "# reshape input image to 1-channel images form 3-channel images\n",
    "w, h = 28, 28\n",
    "train_x = train_x.reshape(train_x.shape[0], w*h)\n",
    "test_x = test_x.reshape(test_x.shape[0], w*h)"
   ]
  },
  {
   "cell_type": "code",
   "execution_count": 7,
   "metadata": {
    "ExecuteTime": {
     "end_time": "2019-02-28T17:59:29.313856Z",
     "start_time": "2019-02-28T17:59:29.307474Z"
    }
   },
   "outputs": [
    {
     "data": {
      "text/plain": [
       "((60000, 784), (60000, 10), (10000, 784), (10000, 10))"
      ]
     },
     "execution_count": 7,
     "metadata": {},
     "output_type": "execute_result"
    }
   ],
   "source": [
    "train_x.shape, train_y.shape, test_x.shape, test_y.shape"
   ]
  },
  {
   "cell_type": "code",
   "execution_count": 8,
   "metadata": {
    "ExecuteTime": {
     "end_time": "2019-02-28T17:59:29.711365Z",
     "start_time": "2019-02-28T17:59:29.317212Z"
    }
   },
   "outputs": [
    {
     "data": {
      "text/plain": [
       "((60000, 28, 28), (60000,), (10000, 28, 28), (10000,))"
      ]
     },
     "execution_count": 8,
     "metadata": {},
     "output_type": "execute_result"
    }
   ],
   "source": [
    "(train_x, train_y), (test_x, test_y) = tf.keras.datasets.mnist.load_data()\n",
    "train_x.shape, train_y.shape, test_x.shape, test_y.shape"
   ]
  },
  {
   "cell_type": "code",
   "execution_count": 9,
   "metadata": {
    "ExecuteTime": {
     "end_time": "2019-02-28T17:59:29.898044Z",
     "start_time": "2019-02-28T17:59:29.713138Z"
    }
   },
   "outputs": [],
   "source": [
    "# normlize the data\n",
    "train_x = train_x.astype(\"float32\") / 255.0\n",
    "test_x = test_x.astype(\"float32\") / 255.0"
   ]
  },
  {
   "cell_type": "code",
   "execution_count": 10,
   "metadata": {
    "ExecuteTime": {
     "end_time": "2019-02-28T17:59:29.907717Z",
     "start_time": "2019-02-28T17:59:29.899765Z"
    }
   },
   "outputs": [],
   "source": [
    "# one-hot encode the labels\n",
    "train_y = tf.keras.utils.to_categorical(train_y, 10)\n",
    "test_y = tf.keras.utils.to_categorical(test_y, 10)"
   ]
  },
  {
   "cell_type": "code",
   "execution_count": 11,
   "metadata": {
    "ExecuteTime": {
     "end_time": "2019-02-28T17:59:29.913982Z",
     "start_time": "2019-02-28T17:59:29.909237Z"
    }
   },
   "outputs": [
    {
     "data": {
      "text/plain": [
       "(array([0., 0., 0., 0., 0., 1., 0., 0., 0., 0.], dtype=float32),\n",
       " array([0., 0., 0., 0., 0., 0., 0., 1., 0., 0.], dtype=float32))"
      ]
     },
     "execution_count": 11,
     "metadata": {},
     "output_type": "execute_result"
    }
   ],
   "source": [
    "train_y[0], test_y[0]"
   ]
  },
  {
   "cell_type": "code",
   "execution_count": 12,
   "metadata": {
    "ExecuteTime": {
     "end_time": "2019-02-28T17:59:29.919301Z",
     "start_time": "2019-02-28T17:59:29.915843Z"
    }
   },
   "outputs": [],
   "source": [
    "# reshape input image to 1-channel images form 3-channel images\n",
    "w, h = 28, 28\n",
    "train_x = train_x.reshape(train_x.shape[0], w*h)\n",
    "test_x = test_x.reshape(test_x.shape[0], w*h)"
   ]
  },
  {
   "cell_type": "code",
   "execution_count": 13,
   "metadata": {
    "ExecuteTime": {
     "end_time": "2019-02-28T17:59:29.924843Z",
     "start_time": "2019-02-28T17:59:29.921047Z"
    }
   },
   "outputs": [
    {
     "data": {
      "text/plain": [
       "((60000, 784), (60000, 10), (10000, 784), (10000, 10))"
      ]
     },
     "execution_count": 13,
     "metadata": {},
     "output_type": "execute_result"
    }
   ],
   "source": [
    "train_x.shape, train_y.shape, test_x.shape, test_y.shape"
   ]
  },
  {
   "cell_type": "markdown",
   "metadata": {},
   "source": [
    "# Model"
   ]
  },
  {
   "cell_type": "code",
   "execution_count": 14,
   "metadata": {
    "ExecuteTime": {
     "end_time": "2019-02-28T17:59:29.931111Z",
     "start_time": "2019-02-28T17:59:29.926641Z"
    }
   },
   "outputs": [
    {
     "data": {
      "text/plain": [
       "(784, 10)"
      ]
     },
     "execution_count": 14,
     "metadata": {},
     "output_type": "execute_result"
    }
   ],
   "source": [
    "num_features = train_x.shape[1]\n",
    "num_classes = train_y.shape[1]\n",
    "num_features, num_classes"
   ]
  },
  {
   "cell_type": "code",
   "execution_count": 15,
   "metadata": {
    "ExecuteTime": {
     "end_time": "2019-02-28T17:59:29.954099Z",
     "start_time": "2019-02-28T17:59:29.932875Z"
    }
   },
   "outputs": [],
   "source": [
    "x = tf.placeholder(dtype=tf.float32, shape=(None, num_features), name=\"input_x\") # input feature\n",
    "y = tf.placeholder(dtype=tf.float32, shape=(None, num_classes), name=\"output_y\") # output"
   ]
  },
  {
   "cell_type": "code",
   "execution_count": 16,
   "metadata": {
    "ExecuteTime": {
     "end_time": "2019-02-28T17:59:29.962072Z",
     "start_time": "2019-02-28T17:59:29.956303Z"
    }
   },
   "outputs": [],
   "source": [
    "dropout_keep = tf.placeholder(dtype=tf.float32, name=\"dropout_layer\") # scaler tensor for dropout"
   ]
  },
  {
   "cell_type": "code",
   "execution_count": 17,
   "metadata": {
    "ExecuteTime": {
     "end_time": "2019-02-28T17:59:29.997439Z",
     "start_time": "2019-02-28T17:59:29.965927Z"
    }
   },
   "outputs": [],
   "source": [
    "# layer 1 configuration\n",
    "num_nodes_layer_1 = 50\n",
    "\n",
    "weight_layer_1 = tf.Variable(tf.random_normal(shape=(num_nodes_layer_1, num_features), name=\"weight_layer_1\"))\n",
    "bias_layer_1 = tf.Variable(tf.random_normal([num_nodes_layer_1], name=\"bias_layer_1\"))\n",
    "\n",
    "# layer activation\n",
    "output_layer_1 = tf.nn.relu(tf.matmul(x, weight_layer_1, transpose_b=True) + bias_layer_1, name=\"relu_act_layer_1\")\n",
    "\n",
    "# add dropout\n",
    "output_layer_1_dp = tf.nn.dropout(output_layer_1, keep_prob=dropout_keep, name=\"layer_1_dropout\")"
   ]
  },
  {
   "cell_type": "code",
   "execution_count": 18,
   "metadata": {
    "ExecuteTime": {
     "end_time": "2019-02-28T17:59:30.035955Z",
     "start_time": "2019-02-28T17:59:30.002693Z"
    }
   },
   "outputs": [],
   "source": [
    "# layer 2 configuration\n",
    "num_nodes_layer_2 = 20\n",
    "\n",
    "weight_layer_2 = tf.Variable(tf.random_normal(shape=(num_nodes_layer_2, num_nodes_layer_1), name=\"weight_layer_2\"))\n",
    "bias_layer_2 = tf.Variable(tf.random_normal([num_nodes_layer_2], name=\"bias_layer_2\"))\n",
    "\n",
    "# layer activation\n",
    "output_layer_2 = tf.nn.relu(tf.matmul(output_layer_1, weight_layer_2, transpose_b=True) + bias_layer_2, name=\"relu_act_layer_2\")\n",
    "\n",
    "# add dropout\n",
    "output_layer_2_dp = tf.nn.dropout(output_layer_2, keep_prob=dropout_keep, name=\"layer_2_dropout\")"
   ]
  },
  {
   "cell_type": "code",
   "execution_count": 19,
   "metadata": {
    "ExecuteTime": {
     "end_time": "2019-02-28T17:59:30.058476Z",
     "start_time": "2019-02-28T17:59:30.038543Z"
    }
   },
   "outputs": [],
   "source": [
    "# softmax layer - output layer\n",
    "weight_layer_output = tf.Variable(tf.random_normal(shape=(num_classes, num_nodes_layer_2), name=\"weight_layer_output\"))\n",
    "bias_layer_output = tf.Variable(tf.random_normal([num_classes], name=\"bias_layer_output\"))\n",
    "\n",
    "# layer activation\n",
    "output_layer = tf.matmul(output_layer_2_dp, weight_layer_output, transpose_b=True) + bias_layer_output\n",
    "\n",
    "# softmax\n",
    "softmax_output = tf.nn.softmax(output_layer, name=\"softmax_output\")"
   ]
  },
  {
   "cell_type": "code",
   "execution_count": 20,
   "metadata": {
    "ExecuteTime": {
     "end_time": "2019-02-28T17:59:30.071508Z",
     "start_time": "2019-02-28T17:59:30.060259Z"
    }
   },
   "outputs": [],
   "source": [
    "# loss function\n",
    "loss_function = tf.reduce_mean(-tf.reduce_sum(y*tf.log(softmax_output + 1e-10)))"
   ]
  },
  {
   "cell_type": "code",
   "execution_count": 21,
   "metadata": {
    "ExecuteTime": {
     "end_time": "2019-02-28T17:59:30.244108Z",
     "start_time": "2019-02-28T17:59:30.073516Z"
    }
   },
   "outputs": [],
   "source": [
    "# optimizer\n",
    "optimizer = tf.train.RMSPropOptimizer(learning_rate=0.0001).minimize(loss=loss_function)"
   ]
  },
  {
   "cell_type": "code",
   "execution_count": 22,
   "metadata": {
    "ExecuteTime": {
     "end_time": "2019-02-28T18:05:07.129104Z",
     "start_time": "2019-02-28T17:59:30.246704Z"
    }
   },
   "outputs": [
    {
     "name": "stdout",
     "output_type": "stream",
     "text": [
      "Step: 0 :\t loss: 1237397.4 val_loss: 205865.22\n",
      "Step: 100 :\t loss: 140068.5 val_loss: 22764.176\n",
      "Step: 200 :\t loss: 117835.766 val_loss: 19840.467\n",
      "Step: 300 :\t loss: 108897.22 val_loss: 18475.55\n",
      "Step: 400 :\t loss: 103838.87 val_loss: 17599.545\n",
      "Step: 500 :\t loss: 99790.17 val_loss: 17250.848\n",
      "Step: 600 :\t loss: 96071.31 val_loss: 16735.656\n",
      "Step: 700 :\t loss: 91865.09 val_loss: 16096.846\n",
      "Step: 800 :\t loss: 88988.234 val_loss: 15677.936\n",
      "Step: 900 :\t loss: 87019.336 val_loss: 15259.619\n",
      "Step: 1000 :\t loss: 85477.63 val_loss: 15255.496\n"
     ]
    }
   ],
   "source": [
    "# run the model\n",
    "loss_list = list()\n",
    "val_loss_list = list()\n",
    "\n",
    "epochs = 1000\n",
    "step = 1000\n",
    "\n",
    "with tf.Session() as sess:\n",
    "    sess.run(tf.global_variables_initializer())\n",
    "    \n",
    "    # write graph\n",
    "    writer = tf.summary.FileWriter(\"graphs/perceptron_with_dp\", sess.graph)\n",
    "    \n",
    "    # run epochs\n",
    "    for i in range(epochs+1):\n",
    "        j = 0\n",
    "        # run batch operation\n",
    "        while j in range(60000):\n",
    "            sess.run(optimizer, feed_dict={x:train_x[j:j+step], y:train_y[j:j+step], dropout_keep:0.50})\n",
    "            j += step\n",
    "        loss = sess.run(loss_function, feed_dict={x:train_x, y:train_y, dropout_keep:0.50}) # get train loss\n",
    "        val_loss = sess.run(loss_function, feed_dict={x:test_x, y:test_y, dropout_keep:0.50}) # get validation loss\n",
    "        loss_list.append(loss)\n",
    "        val_loss_list.append(val_loss)\n",
    "        # prompt\n",
    "        if i % 100 == 0:\n",
    "            print(\"Step:\", i, \":\\t\", \"loss:\", loss, \"val_loss:\", val_loss)    \n",
    "    writer.close()"
   ]
  },
  {
   "cell_type": "markdown",
   "metadata": {},
   "source": [
    "# Visualize Model Performance"
   ]
  },
  {
   "cell_type": "code",
   "execution_count": 23,
   "metadata": {
    "ExecuteTime": {
     "end_time": "2019-02-28T18:05:07.337965Z",
     "start_time": "2019-02-28T18:05:07.131166Z"
    }
   },
   "outputs": [],
   "source": [
    "import matplotlib.pyplot as plt"
   ]
  },
  {
   "cell_type": "code",
   "execution_count": 24,
   "metadata": {
    "ExecuteTime": {
     "end_time": "2019-02-28T18:05:07.545345Z",
     "start_time": "2019-02-28T18:05:07.339883Z"
    }
   },
   "outputs": [
    {
     "data": {
      "image/png": "[encoded data removed]",
      "text/plain": [
       "<Figure size 432x288 with 1 Axes>"
      ]
     },
     "metadata": {
      "needs_background": "light"
     },
     "output_type": "display_data"
    }
   ],
   "source": [
    "epochs = range(1, len(loss_list) + 1)\n",
    "\n",
    "plt.plot(epochs, loss_list, \"b\", label=\"Training Loss\", color=\"blue\")\n",
    "plt.plot(epochs, val_loss_list, \"b\", label=\"Validation Loss\", color=\"green\")\n",
    "\n",
    "plt.legend()\n",
    "plt.xlabel(\"Iterations\")\n",
    "plt.ylabel(\"Loss\")\n",
    "plt.title(\"Train and Validation Loss\")\n",
    "\n",
    "plt.show()"
   ]
  },
  {
   "cell_type": "code",
   "execution_count": null,
   "metadata": {},
   "outputs": [],
   "source": []
  }
 ],
 "metadata": {
  "kernelspec": {
   "display_name": "Python [conda env:ai_env]",
   "language": "python",
   "name": "conda-env-ai_env-py"
  },
  "language_info": {
   "codemirror_mode": {
    "name": "ipython",
    "version": 3
   },
   "file_extension": ".py",
   "mimetype": "text/x-python",
   "name": "python",
   "nbconvert_exporter": "python",
   "pygments_lexer": "ipython3",
   "version": "3.6.6"
  }
 },
 "nbformat": 4,
 "nbformat_minor": 2
}
