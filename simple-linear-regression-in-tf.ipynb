{
 "cells": [
  {
   "cell_type": "code",
   "execution_count": 1,
   "metadata": {
    "ExecuteTime": {
     "end_time": "2019-01-26T20:44:37.779645Z",
     "start_time": "2019-01-26T20:44:36.257404Z"
    }
   },
   "outputs": [
    {
     "data": {
      "text/plain": [
       "'1.12.0'"
      ]
     },
     "execution_count": 1,
     "metadata": {},
     "output_type": "execute_result"
    }
   ],
   "source": [
    "# load packages\n",
    "import os\n",
    "import sys\n",
    "import numpy as np\n",
    "import tensorflow as tf\n",
    "import matplotlib.pyplot as plt\n",
    "\n",
    "tf.__version__"
   ]
  },
  {
   "cell_type": "code",
   "execution_count": 2,
   "metadata": {
    "ExecuteTime": {
     "end_time": "2019-01-26T20:44:37.786563Z",
     "start_time": "2019-01-26T20:44:37.781993Z"
    }
   },
   "outputs": [],
   "source": [
    "# sample data\n",
    "x_train = np.arange(1000, step=0.1)\n",
    "x_train = x_train.reshape((len(x_train), 1))\n",
    "y_train = x_train + 20 * np.sin(x_train / 10)\n",
    "y_train = y_train.reshape((len(y_train), 1))"
   ]
  },
  {
   "cell_type": "code",
   "execution_count": 3,
   "metadata": {
    "ExecuteTime": {
     "end_time": "2019-01-26T20:44:37.791994Z",
     "start_time": "2019-01-26T20:44:37.788209Z"
    }
   },
   "outputs": [
    {
     "data": {
      "text/plain": [
       "((10000, 1), (10000, 1))"
      ]
     },
     "execution_count": 3,
     "metadata": {},
     "output_type": "execute_result"
    }
   ],
   "source": [
    "x_train.shape, y_train.shape"
   ]
  },
  {
   "cell_type": "code",
   "execution_count": 4,
   "metadata": {
    "ExecuteTime": {
     "end_time": "2019-01-26T20:44:37.960437Z",
     "start_time": "2019-01-26T20:44:37.795446Z"
    }
   },
   "outputs": [
    {
     "data": {
      "image/png": "[encoded data removed]",
      "text/plain": [
       "<Figure size 432x288 with 1 Axes>"
      ]
     },
     "metadata": {
      "needs_background": "light"
     },
     "output_type": "display_data"
    }
   ],
   "source": [
    "plt.plot(x_train, y_train, c=\"red\")\n",
    "plt.show()"
   ]
  },
  {
   "cell_type": "code",
   "execution_count": 5,
   "metadata": {
    "ExecuteTime": {
     "end_time": "2019-01-26T20:44:37.966719Z",
     "start_time": "2019-01-26T20:44:37.963876Z"
    }
   },
   "outputs": [],
   "source": [
    "num_samples = x_train.shape[0]\n",
    "batch_size = 100"
   ]
  },
  {
   "cell_type": "code",
   "execution_count": 6,
   "metadata": {
    "ExecuteTime": {
     "end_time": "2019-01-26T20:44:37.974371Z",
     "start_time": "2019-01-26T20:44:37.969083Z"
    }
   },
   "outputs": [
    {
     "data": {
      "text/plain": [
       "10000"
      ]
     },
     "execution_count": 6,
     "metadata": {},
     "output_type": "execute_result"
    }
   ],
   "source": [
    "num_samples"
   ]
  },
  {
   "cell_type": "code",
   "execution_count": 7,
   "metadata": {
    "ExecuteTime": {
     "end_time": "2019-01-26T20:44:37.999349Z",
     "start_time": "2019-01-26T20:44:37.976768Z"
    }
   },
   "outputs": [],
   "source": [
    "# define placeholders for input\n",
    "x = tf.placeholder(tf.float32, shape=(batch_size, 1))\n",
    "y = tf.placeholder(tf.float32, shape=(batch_size, 1))"
   ]
  },
  {
   "cell_type": "code",
   "execution_count": 8,
   "metadata": {
    "ExecuteTime": {
     "end_time": "2019-01-26T20:44:38.080571Z",
     "start_time": "2019-01-26T20:44:38.001411Z"
    }
   },
   "outputs": [],
   "source": [
    "# define variables to be learned\n",
    "w = tf.get_variable(\"weights\", (1, 1), initializer=tf.random_normal_initializer())\n",
    "b = tf.get_variable(\"bias\", (1, 1), initializer=tf.constant_initializer(0.0))"
   ]
  },
  {
   "cell_type": "code",
   "execution_count": 9,
   "metadata": {
    "ExecuteTime": {
     "end_time": "2019-01-26T20:44:38.092982Z",
     "start_time": "2019-01-26T20:44:38.082892Z"
    }
   },
   "outputs": [],
   "source": [
    "# prediction\n",
    "y_pred = np.add(np.multiply(x, w), b)\n",
    "\n",
    "# loss function\n",
    "loss = tf.reduce_mean(tf.square(tf.subtract(y_pred, y)))"
   ]
  },
  {
   "cell_type": "code",
   "execution_count": 10,
   "metadata": {
    "ExecuteTime": {
     "end_time": "2019-01-26T20:44:38.159418Z",
     "start_time": "2019-01-26T20:44:38.094818Z"
    }
   },
   "outputs": [],
   "source": [
    "optimizer = tf.train.AdamOptimizer().minimize(loss) # set optimizer"
   ]
  },
  {
   "cell_type": "code",
   "execution_count": 11,
   "metadata": {
    "ExecuteTime": {
     "end_time": "2019-01-26T20:44:40.764075Z",
     "start_time": "2019-01-26T20:44:38.161238Z"
    },
    "scrolled": true
   },
   "outputs": [
    {
     "name": "stdout",
     "output_type": "stream",
     "text": [
      "Index 2 -> Loss Decreased: 1733755.9\n",
      "\n",
      "Index 10 -> Loss Decreased: 1658009.1\n",
      "\n",
      "Index 39 -> Loss Decreased: 1567911.5\n",
      "\n",
      "Index 73 -> Loss Decreased: 1390565.5\n",
      "\n",
      "Index 128 -> Loss Decreased: 1193951.5\n",
      "\n",
      "Index 344 -> Loss Decreased: 1132258.1\n",
      "\n",
      "Index 407 -> Loss Decreased: 1094846.9\n",
      "\n",
      "Index 446 -> Loss Decreased: 1030191.06\n",
      "\n",
      "Index 533 -> Loss Decreased: 1020672.25\n",
      "\n",
      "Index 536 -> Loss Decreased: 998142.4\n",
      "\n",
      "Index 565 -> Loss Decreased: 993921.2\n",
      "\n",
      "Index 593 -> Loss Decreased: 985792.0\n",
      "\n",
      "Index 601 -> Loss Decreased: 972643.5\n",
      "\n",
      "Index 626 -> Loss Decreased: 912385.1\n",
      "\n",
      "Index 657 -> Loss Decreased: 905624.56\n",
      "\n",
      "Index 664 -> Loss Decreased: 877723.8\n",
      "\n",
      "Index 707 -> Loss Decreased: 857290.6\n",
      "\n",
      "Index 732 -> Loss Decreased: 833292.06\n",
      "\n",
      "Index 741 -> Loss Decreased: 823925.44\n",
      "\n",
      "Index 753 -> Loss Decreased: 818666.75\n",
      "\n",
      "Index 827 -> Loss Decreased: 818146.9\n",
      "\n",
      "Index 842 -> Loss Decreased: 743728.8\n",
      "\n",
      "Index 872 -> Loss Decreased: 734730.0\n",
      "\n",
      "Index 917 -> Loss Decreased: 730583.1\n",
      "\n",
      "Index 926 -> Loss Decreased: 708732.4\n",
      "\n",
      "Index 952 -> Loss Decreased: 680578.06\n",
      "\n",
      "Index 969 -> Loss Decreased: 676783.6\n",
      "\n",
      "Index 1008 -> Loss Decreased: 651953.1\n",
      "\n",
      "Index 1041 -> Loss Decreased: 528180.2\n",
      "\n",
      "Index 1177 -> Loss Decreased: 515964.44\n",
      "\n",
      "Index 1185 -> Loss Decreased: 504183.1\n",
      "\n",
      "Index 1205 -> Loss Decreased: 477271.0\n",
      "\n",
      "Index 1314 -> Loss Decreased: 473301.72\n",
      "\n",
      "Index 1332 -> Loss Decreased: 392817.03\n",
      "\n",
      "Index 1486 -> Loss Decreased: 383806.53\n",
      "\n",
      "Index 1497 -> Loss Decreased: 345076.16\n",
      "\n",
      "Index 1513 -> Loss Decreased: 341851.47\n",
      "\n",
      "Index 1580 -> Loss Decreased: 339172.12\n",
      "\n",
      "Index 1596 -> Loss Decreased: 338656.25\n",
      "\n",
      "Index 1621 -> Loss Decreased: 333518.03\n",
      "\n",
      "Index 1626 -> Loss Decreased: 318243.03\n",
      "\n",
      "Index 1644 -> Loss Decreased: 312362.06\n",
      "\n",
      "Index 1661 -> Loss Decreased: 260123.05\n",
      "\n",
      "Index 1744 -> Loss Decreased: 243070.52\n",
      "\n",
      "Index 1840 -> Loss Decreased: 214399.6\n",
      "\n",
      "Index 1889 -> Loss Decreased: 209909.36\n",
      "\n",
      "Index 1923 -> Loss Decreased: 187676.86\n",
      "\n",
      "Index 2009 -> Loss Decreased: 183963.77\n",
      "\n",
      "Index 2035 -> Loss Decreased: 178227.02\n",
      "\n",
      "Index 2041 -> Loss Decreased: 172299.7\n",
      "\n",
      "Index 2044 -> Loss Decreased: 171992.94\n",
      "\n",
      "Index 2045 -> Loss Decreased: 169587.14\n",
      "\n",
      "Index 2047 -> Loss Decreased: 162020.12\n",
      "\n",
      "Index 2088 -> Loss Decreased: 159107.48\n",
      "\n",
      "Index 2110 -> Loss Decreased: 155883.98\n",
      "\n",
      "Index 2132 -> Loss Decreased: 155070.98\n",
      "\n",
      "Index 2133 -> Loss Decreased: 151293.84\n",
      "\n",
      "Index 2159 -> Loss Decreased: 145239.9\n",
      "\n",
      "Index 2167 -> Loss Decreased: 142457.12\n",
      "\n",
      "Index 2176 -> Loss Decreased: 138090.23\n",
      "\n",
      "Index 2202 -> Loss Decreased: 126697.34\n",
      "\n",
      "Index 2276 -> Loss Decreased: 126173.02\n",
      "\n",
      "Index 2299 -> Loss Decreased: 122392.4\n",
      "\n",
      "Index 2315 -> Loss Decreased: 120971.12\n",
      "\n",
      "Index 2335 -> Loss Decreased: 114983.96\n",
      "\n",
      "Index 2336 -> Loss Decreased: 108699.29\n",
      "\n",
      "Index 2346 -> Loss Decreased: 98061.07\n",
      "\n",
      "Index 2380 -> Loss Decreased: 91452.8\n",
      "\n",
      "Index 2431 -> Loss Decreased: 89807.35\n",
      "\n",
      "Index 2454 -> Loss Decreased: 88137.5\n",
      "\n",
      "Index 2484 -> Loss Decreased: 79969.26\n",
      "\n",
      "Index 2509 -> Loss Decreased: 76160.35\n",
      "\n",
      "Index 2545 -> Loss Decreased: 75468.59\n",
      "\n",
      "Index 2550 -> Loss Decreased: 75433.98\n",
      "\n",
      "Index 2588 -> Loss Decreased: 68409.61\n",
      "\n",
      "Index 2591 -> Loss Decreased: 68004.55\n",
      "\n",
      "Index 2627 -> Loss Decreased: 61535.75\n",
      "\n",
      "Index 2643 -> Loss Decreased: 59959.305\n",
      "\n",
      "Index 2681 -> Loss Decreased: 57288.57\n",
      "\n",
      "Index 2717 -> Loss Decreased: 52738.477\n",
      "\n",
      "Index 2755 -> Loss Decreased: 48226.79\n",
      "\n",
      "Index 2787 -> Loss Decreased: 45659.953\n",
      "\n",
      "Index 2871 -> Loss Decreased: 45408.6\n",
      "\n",
      "Index 2873 -> Loss Decreased: 43473.93\n",
      "\n",
      "Index 2876 -> Loss Decreased: 41977.29\n",
      "\n",
      "Index 2879 -> Loss Decreased: 41686.28\n",
      "\n",
      "Index 2896 -> Loss Decreased: 41650.25\n",
      "\n",
      "Index 2900 -> Loss Decreased: 40792.844\n",
      "\n",
      "Index 2908 -> Loss Decreased: 40352.04\n",
      "\n",
      "Index 2912 -> Loss Decreased: 40174.25\n",
      "\n",
      "Index 2913 -> Loss Decreased: 38781.742\n",
      "\n",
      "Index 2925 -> Loss Decreased: 36698.906\n",
      "\n",
      "Index 2933 -> Loss Decreased: 32871.285\n",
      "\n",
      "Index 2990 -> Loss Decreased: 31797.678\n",
      "\n",
      "Index 3005 -> Loss Decreased: 30886.457\n",
      "\n",
      "Index 3028 -> Loss Decreased: 30179.285\n",
      "\n",
      "Index 3048 -> Loss Decreased: 28629.65\n",
      "\n",
      "Index 3067 -> Loss Decreased: 28295.418\n",
      "\n",
      "Index 3073 -> Loss Decreased: 24945.676\n",
      "\n",
      "Index 3107 -> Loss Decreased: 23857.547\n",
      "\n",
      "Index 3143 -> Loss Decreased: 22973.69\n",
      "\n",
      "Index 3145 -> Loss Decreased: 22574.545\n",
      "\n",
      "Index 3184 -> Loss Decreased: 19841.273\n",
      "\n",
      "Index 3201 -> Loss Decreased: 18386.436\n",
      "\n",
      "Index 3238 -> Loss Decreased: 18317.227\n",
      "\n",
      "Index 3249 -> Loss Decreased: 16059.622\n",
      "\n",
      "Index 3303 -> Loss Decreased: 13010.151\n",
      "\n",
      "Index 3395 -> Loss Decreased: 12182.058\n",
      "\n",
      "Index 3412 -> Loss Decreased: 11174.598\n",
      "\n",
      "Index 3427 -> Loss Decreased: 10542.488\n",
      "\n",
      "Index 3448 -> Loss Decreased: 9993.791\n",
      "\n",
      "Index 3474 -> Loss Decreased: 9396.334\n",
      "\n",
      "Index 3476 -> Loss Decreased: 9057.511\n",
      "\n",
      "Index 3525 -> Loss Decreased: 9013.238\n",
      "\n",
      "Index 3527 -> Loss Decreased: 8598.65\n",
      "\n",
      "Index 3536 -> Loss Decreased: 8332.834\n",
      "\n",
      "Index 3540 -> Loss Decreased: 8041.0645\n",
      "\n",
      "Index 3557 -> Loss Decreased: 8025.866\n",
      "\n",
      "Index 3562 -> Loss Decreased: 7846.7417\n",
      "\n",
      "Index 3563 -> Loss Decreased: 7023.985\n",
      "\n",
      "Index 3595 -> Loss Decreased: 6974.7954\n",
      "\n",
      "Index 3604 -> Loss Decreased: 6672.95\n",
      "\n",
      "Index 3628 -> Loss Decreased: 6653.1133\n",
      "\n",
      "Index 3641 -> Loss Decreased: 6047.6235\n",
      "\n",
      "Index 3645 -> Loss Decreased: 5947.814\n",
      "\n",
      "Index 3658 -> Loss Decreased: 5767.245\n",
      "\n",
      "Index 3667 -> Loss Decreased: 5501.244\n",
      "\n",
      "Index 3672 -> Loss Decreased: 4891.15\n",
      "\n",
      "Index 3734 -> Loss Decreased: 4791.3594\n",
      "\n",
      "Index 3750 -> Loss Decreased: 4365.9043\n",
      "\n",
      "Index 3766 -> Loss Decreased: 4335.929\n",
      "\n",
      "Index 3768 -> Loss Decreased: 3889.9778\n",
      "\n",
      "Index 3799 -> Loss Decreased: 3602.8406\n",
      "\n",
      "Index 3807 -> Loss Decreased: 3395.335\n",
      "\n",
      "Index 3812 -> Loss Decreased: 3296.4385\n",
      "\n",
      "Index 3861 -> Loss Decreased: 3227.3357\n",
      "\n",
      "Index 3864 -> Loss Decreased: 2964.0952\n",
      "\n",
      "Index 3865 -> Loss Decreased: 2954.9731\n",
      "\n",
      "Index 3882 -> Loss Decreased: 2870.696\n",
      "\n",
      "Index 3886 -> Loss Decreased: 2815.0435\n",
      "\n",
      "Index 3890 -> Loss Decreased: 2789.6685\n",
      "\n",
      "Index 3914 -> Loss Decreased: 2750.9622\n",
      "\n",
      "Index 3919 -> Loss Decreased: 2708.6582\n",
      "\n",
      "Index 3926 -> Loss Decreased: 2624.3625\n",
      "\n",
      "Index 3939 -> Loss Decreased: 2275.3394\n",
      "\n",
      "Index 3962 -> Loss Decreased: 2251.4612\n",
      "\n",
      "Index 3984 -> Loss Decreased: 2180.9136\n",
      "\n",
      "Index 3997 -> Loss Decreased: 2120.482\n",
      "\n",
      "Index 4003 -> Loss Decreased: 1914.5568\n",
      "\n",
      "Index 4016 -> Loss Decreased: 1894.9781\n",
      "\n",
      "Index 4021 -> Loss Decreased: 1827.1835\n",
      "\n",
      "Index 4030 -> Loss Decreased: 1657.9321\n",
      "\n",
      "Index 4061 -> Loss Decreased: 1481.5714\n",
      "\n",
      "Index 4106 -> Loss Decreased: 1315.2678\n",
      "\n",
      "Index 4143 -> Loss Decreased: 1294.0958\n",
      "\n",
      "Index 4148 -> Loss Decreased: 1252.5087\n",
      "\n",
      "Index 4159 -> Loss Decreased: 1078.4404\n",
      "\n",
      "Index 4183 -> Loss Decreased: 1005.3631\n",
      "\n",
      "Index 4188 -> Loss Decreased: 977.8119\n",
      "\n",
      "Index 4216 -> Loss Decreased: 970.6325\n",
      "\n",
      "Index 4236 -> Loss Decreased: 942.1133\n",
      "\n",
      "Index 4248 -> Loss Decreased: 868.2381\n",
      "\n",
      "Index 4255 -> Loss Decreased: 835.4869\n",
      "\n",
      "Index 4260 -> Loss Decreased: 797.7564\n",
      "\n",
      "Index 4269 -> Loss Decreased: 794.2696\n",
      "\n",
      "Index 4298 -> Loss Decreased: 759.5304\n",
      "\n",
      "Index 4316 -> Loss Decreased: 717.3684\n",
      "\n",
      "Index 4318 -> Loss Decreased: 666.39594\n",
      "\n",
      "Index 4343 -> Loss Decreased: 553.9032\n",
      "\n",
      "Index 4404 -> Loss Decreased: 537.3808\n",
      "\n",
      "Index 4409 -> Loss Decreased: 488.79462\n",
      "\n",
      "Index 4427 -> Loss Decreased: 453.77036\n",
      "\n",
      "Index 4451 -> Loss Decreased: 453.15067\n",
      "\n",
      "Index 4452 -> Loss Decreased: 383.72595\n",
      "\n",
      "Index 4462 -> Loss Decreased: 374.58932\n",
      "\n",
      "Index 4509 -> Loss Decreased: 370.0111\n",
      "\n",
      "Index 4514 -> Loss Decreased: 351.26672\n",
      "\n",
      "Index 4548 -> Loss Decreased: 351.21204\n",
      "\n",
      "Index 4556 -> Loss Decreased: 345.71503\n",
      "\n",
      "Index 4565 -> Loss Decreased: 340.93964\n",
      "\n",
      "Index 4573 -> Loss Decreased: 305.9475\n",
      "\n",
      "Index 4611 -> Loss Decreased: 259.24667\n",
      "\n",
      "Index 4673 -> Loss Decreased: 253.33511\n",
      "\n",
      "Index 4674 -> Loss Decreased: 245.27911\n",
      "\n",
      "Index 4685 -> Loss Decreased: 225.55238\n",
      "\n",
      "Index 4759 -> Loss Decreased: 219.88672\n",
      "\n",
      "Index 4774 -> Loss Decreased: 187.59314\n",
      "\n",
      "Index 4947 -> Loss Decreased: 180.24574\n",
      "\n"
     ]
    }
   ],
   "source": [
    "iterations = 5000\n",
    "with tf.Session() as sess:\n",
    "    # initialize variables in graph\n",
    "    sess.run(tf.global_variables_initializer())\n",
    "    # iterations\n",
    "    for step_idx in range(1, iterations+1):\n",
    "        # select random mini-batch\n",
    "        indices = np.random.choice(num_samples, batch_size)\n",
    "        x_batch, y_batch = x_train[indices], y_train[indices]\n",
    "        _, loss_val = sess.run([optimizer, loss], feed_dict={x: x_batch, y: y_batch})\n",
    "        if step_idx > 1:\n",
    "            if loss_val < prev_loss:\n",
    "                w_val, b_val = sess.run([w, b])\n",
    "                print(\"Index\", step_idx, \"->\", \"Loss Decreased:\", loss_val)\n",
    "                print()\n",
    "                prev_loss = loss_val\n",
    "        else:\n",
    "            prev_loss = loss_val"
   ]
  },
  {
   "cell_type": "code",
   "execution_count": 12,
   "metadata": {
    "ExecuteTime": {
     "end_time": "2019-01-26T20:44:40.770032Z",
     "start_time": "2019-01-26T20:44:40.765793Z"
    }
   },
   "outputs": [
    {
     "data": {
      "text/plain": [
       "(array([[0.9870746]], dtype=float32), array([[2.4200003]], dtype=float32))"
      ]
     },
     "execution_count": 12,
     "metadata": {},
     "output_type": "execute_result"
    }
   ],
   "source": [
    "w_val, b_val"
   ]
  },
  {
   "cell_type": "code",
   "execution_count": 13,
   "metadata": {
    "ExecuteTime": {
     "end_time": "2019-01-26T20:44:40.933194Z",
     "start_time": "2019-01-26T20:44:40.772084Z"
    }
   },
   "outputs": [
    {
     "data": {
      "image/png": "[encoded data removed]",
      "text/plain": [
       "<Figure size 432x288 with 1 Axes>"
      ]
     },
     "metadata": {
      "needs_background": "light"
     },
     "output_type": "display_data"
    }
   ],
   "source": [
    "# test sample\n",
    "x_test = x_train\n",
    "y_test = x_test * np.float(w_val) + np.float(b_val)\n",
    "\n",
    "# visualize results\n",
    "plt.plot(x_train, y_train, c=\"red\")\n",
    "plt.plot(x_test, y_test, c=\"blue\")\n",
    "plt.show()"
   ]
  },
  {
   "cell_type": "markdown",
   "metadata": {},
   "source": [
    "As expected since the model is a linear in nature, the prediction is linear and did not get the non-linear nature of the data."
   ]
  },
  {
   "cell_type": "code",
   "execution_count": null,
   "metadata": {},
   "outputs": [],
   "source": []
  }
 ],
 "metadata": {
  "kernelspec": {
   "display_name": "Python [conda env:ai_env]",
   "language": "python",
   "name": "conda-env-ai_env-py"
  },
  "language_info": {
   "codemirror_mode": {
    "name": "ipython",
    "version": 3
   },
   "file_extension": ".py",
   "mimetype": "text/x-python",
   "name": "python",
   "nbconvert_exporter": "python",
   "pygments_lexer": "ipython3",
   "version": "3.6.6"
  }
 },
 "nbformat": 4,
 "nbformat_minor": 2
}
