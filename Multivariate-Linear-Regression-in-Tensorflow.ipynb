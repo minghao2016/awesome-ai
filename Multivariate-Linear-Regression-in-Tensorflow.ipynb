{
 "cells": [
  {
   "cell_type": "code",
   "execution_count": 1,
   "metadata": {
    "ExecuteTime": {
     "end_time": "2019-01-29T18:19:31.875548Z",
     "start_time": "2019-01-29T18:19:30.393046Z"
    }
   },
   "outputs": [
    {
     "data": {
      "text/plain": [
       "'1.12.0'"
      ]
     },
     "execution_count": 1,
     "metadata": {},
     "output_type": "execute_result"
    }
   ],
   "source": [
    "# load packages\n",
    "import os\n",
    "import sys\n",
    "import re\n",
    "import numpy as np\n",
    "import tensorflow as tf\n",
    "from sklearn.datasets import load_boston\n",
    "tf.__version__"
   ]
  },
  {
   "cell_type": "code",
   "execution_count": 2,
   "metadata": {
    "ExecuteTime": {
     "end_time": "2019-01-29T18:19:31.889499Z",
     "start_time": "2019-01-29T18:19:31.878913Z"
    }
   },
   "outputs": [
    {
     "data": {
      "text/plain": [
       "((506, 13), (506,))"
      ]
     },
     "execution_count": 2,
     "metadata": {},
     "output_type": "execute_result"
    }
   ],
   "source": [
    "# load data\n",
    "boston = load_boston()\n",
    "features = np.array(boston.data)\n",
    "labels = np.array(boston.target)\n",
    "features.shape, labels.shape"
   ]
  },
  {
   "cell_type": "code",
   "execution_count": 3,
   "metadata": {
    "ExecuteTime": {
     "end_time": "2019-01-29T18:19:31.895794Z",
     "start_time": "2019-01-29T18:19:31.891378Z"
    }
   },
   "outputs": [
    {
     "data": {
      "text/plain": [
       "(506, 1)"
      ]
     },
     "execution_count": 3,
     "metadata": {},
     "output_type": "execute_result"
    }
   ],
   "source": [
    "labels = labels.reshape((len(labels), 1)) # reshape rank 1 array to have 1 dim\n",
    "labels.shape"
   ]
  },
  {
   "cell_type": "code",
   "execution_count": 4,
   "metadata": {
    "ExecuteTime": {
     "end_time": "2019-01-29T18:19:31.904798Z",
     "start_time": "2019-01-29T18:19:31.899124Z"
    }
   },
   "outputs": [
    {
     "data": {
      "text/plain": [
       "array([6.320e-03, 1.800e+01, 2.310e+00, 0.000e+00, 5.380e-01, 6.575e+00,\n",
       "       6.520e+01, 4.090e+00, 1.000e+00, 2.960e+02, 1.530e+01, 3.969e+02,\n",
       "       4.980e+00])"
      ]
     },
     "execution_count": 4,
     "metadata": {},
     "output_type": "execute_result"
    }
   ],
   "source": [
    "features[0]"
   ]
  },
  {
   "cell_type": "code",
   "execution_count": 5,
   "metadata": {
    "ExecuteTime": {
     "end_time": "2019-01-29T18:19:31.913914Z",
     "start_time": "2019-01-29T18:19:31.909226Z"
    }
   },
   "outputs": [
    {
     "data": {
      "text/plain": [
       "array([24.])"
      ]
     },
     "execution_count": 5,
     "metadata": {},
     "output_type": "execute_result"
    }
   ],
   "source": [
    "labels[0]"
   ]
  },
  {
   "cell_type": "code",
   "execution_count": 6,
   "metadata": {
    "ExecuteTime": {
     "end_time": "2019-01-29T18:19:31.921413Z",
     "start_time": "2019-01-29T18:19:31.915843Z"
    }
   },
   "outputs": [
    {
     "data": {
      "text/plain": [
       "(506, 13)"
      ]
     },
     "execution_count": 6,
     "metadata": {},
     "output_type": "execute_result"
    }
   ],
   "source": [
    "mean = np.mean(features, axis=0) # feature wise mean\n",
    "std = np.std(features, axis=0) # feature wise standard deviation\n",
    "# normalize feature now\n",
    "features = (features - mean) / std\n",
    "features.shape"
   ]
  },
  {
   "cell_type": "code",
   "execution_count": 7,
   "metadata": {
    "ExecuteTime": {
     "end_time": "2019-01-29T18:19:31.928587Z",
     "start_time": "2019-01-29T18:19:31.923256Z"
    }
   },
   "outputs": [
    {
     "data": {
      "text/plain": [
       "array([-0.41978194,  0.28482986, -1.2879095 , -0.27259857, -0.14421743,\n",
       "        0.41367189, -0.12001342,  0.1402136 , -0.98284286, -0.66660821,\n",
       "       -1.45900038,  0.44105193, -1.0755623 ])"
      ]
     },
     "execution_count": 7,
     "metadata": {},
     "output_type": "execute_result"
    }
   ],
   "source": [
    "features[0]"
   ]
  },
  {
   "cell_type": "code",
   "execution_count": 8,
   "metadata": {
    "ExecuteTime": {
     "end_time": "2019-01-29T18:19:31.934972Z",
     "start_time": "2019-01-29T18:19:31.930587Z"
    }
   },
   "outputs": [],
   "source": [
    "random_indices = np.random.rand(len(features)) < 0.80 # random indexes for splitting\n",
    "# splti data\n",
    "train_x = features[random_indices]\n",
    "train_y = labels[random_indices]\n",
    "val_x = features[~random_indices]\n",
    "val_y = labels[~random_indices]"
   ]
  },
  {
   "cell_type": "code",
   "execution_count": 9,
   "metadata": {
    "ExecuteTime": {
     "end_time": "2019-01-29T18:19:31.940854Z",
     "start_time": "2019-01-29T18:19:31.937025Z"
    }
   },
   "outputs": [
    {
     "data": {
      "text/plain": [
       "13"
      ]
     },
     "execution_count": 9,
     "metadata": {},
     "output_type": "execute_result"
    }
   ],
   "source": [
    "# set dimension\n",
    "num_features = features.shape[1]\n",
    "num_features"
   ]
  },
  {
   "cell_type": "code",
   "execution_count": 10,
   "metadata": {
    "ExecuteTime": {
     "end_time": "2019-01-29T18:19:31.962530Z",
     "start_time": "2019-01-29T18:19:31.943131Z"
    }
   },
   "outputs": [],
   "source": [
    "# create placeholders for input\n",
    "x = tf.placeholder(dtype=tf.float32, shape=(None, num_features), name=\"feature_matrix\") # num_samples x num_features\n",
    "y = tf.placeholder(dtype=tf.float32, shape=(None, 1), name=\"target_vector\") # num_sampels X 1"
   ]
  },
  {
   "cell_type": "code",
   "execution_count": 11,
   "metadata": {
    "ExecuteTime": {
     "end_time": "2019-01-29T18:19:31.973644Z",
     "start_time": "2019-01-29T18:19:31.964671Z"
    }
   },
   "outputs": [],
   "source": [
    "# define weight for the model\n",
    "w = tf.Variable(tf.zeros(dtype=tf.float32, shape=(1, num_features)))"
   ]
  },
  {
   "cell_type": "code",
   "execution_count": 12,
   "metadata": {
    "ExecuteTime": {
     "end_time": "2019-01-29T18:19:31.982991Z",
     "start_time": "2019-01-29T18:19:31.975275Z"
    }
   },
   "outputs": [],
   "source": [
    "# define bais\n",
    "b = tf.Variable(tf.zeros(dtype=tf.float32, shape=(1, num_features)))"
   ]
  },
  {
   "cell_type": "code",
   "execution_count": 13,
   "metadata": {
    "ExecuteTime": {
     "end_time": "2019-01-29T18:19:31.989767Z",
     "start_time": "2019-01-29T18:19:31.984627Z"
    }
   },
   "outputs": [],
   "source": [
    "# linear model\n",
    "linear_model = tf.add(tf.multiply(w, x), b)"
   ]
  },
  {
   "cell_type": "code",
   "execution_count": 14,
   "metadata": {
    "ExecuteTime": {
     "end_time": "2019-01-29T18:19:31.999951Z",
     "start_time": "2019-01-29T18:19:31.991617Z"
    }
   },
   "outputs": [],
   "source": [
    "loss_function = tf.reduce_mean(tf.square(linear_model - y)) # define loss function"
   ]
  },
  {
   "cell_type": "markdown",
   "metadata": {},
   "source": [
    "### Using Inbuilt Optimizer"
   ]
  },
  {
   "cell_type": "code",
   "execution_count": 15,
   "metadata": {
    "ExecuteTime": {
     "end_time": "2019-01-29T18:19:32.067355Z",
     "start_time": "2019-01-29T18:19:32.001595Z"
    }
   },
   "outputs": [],
   "source": [
    "trainer = tf.train.AdamOptimizer(learning_rate=0.01).minimize(loss_function) # trainer"
   ]
  },
  {
   "cell_type": "code",
   "execution_count": 16,
   "metadata": {
    "ExecuteTime": {
     "end_time": "2019-01-29T18:19:40.590393Z",
     "start_time": "2019-01-29T18:19:32.069078Z"
    }
   },
   "outputs": [
    {
     "name": "stdout",
     "output_type": "stream",
     "text": [
      "[Training...]\n",
      "\n",
      "Step 0 :\tTrain Loss:  583.68005\n",
      "Step 1000 :\tTrain Loss:  245.65903\n",
      "Step 2000 :\tTrain Loss:  110.3113\n",
      "Step 3000 :\tTrain Loss:  71.29766\n",
      "Step 4000 :\tTrain Loss:  66.01469\n",
      "Step 5000 :\tTrain Loss:  65.832054\n",
      "Step 6000 :\tTrain Loss:  65.83143\n",
      "Step 7000 :\tTrain Loss:  65.831436\n",
      "Step 8000 :\tTrain Loss:  65.83145\n",
      "Step 9000 :\tTrain Loss:  65.83146\n",
      "Step 10000 :\tTrain Loss:  65.83145\n",
      "Validation Loss:  72.300446\n",
      "Final Weight: [[-3.433359   3.2114494 -4.4950027  1.3011824 -3.9602838  6.361422\n",
      "  -3.3996427  2.2104735 -3.5277543 -4.3166003 -4.481557   3.0122895\n",
      "  -6.688876 ]]\n",
      "Final Bias: [[22.403582 22.365278 22.244686 22.401722 22.311848 22.432194 22.349125\n",
      "  22.327875 22.364016 22.301714 22.412426 22.37409  22.375612]]\n",
      "\n"
     ]
    }
   ],
   "source": [
    "# run the mode\n",
    "with tf.Session() as sess:\n",
    "    epochs = 10000\n",
    "    print(\"[Training...]\\n\")\n",
    "    sess.run(tf.global_variables_initializer()) # initialize variables\n",
    "    # run the optimizer\n",
    "    for i in range(epochs+1):\n",
    "        sess.run(trainer, feed_dict={x:train_x, y:train_y}) # train and update weights and bais\n",
    "        c = sess.run(loss_function, feed_dict={x:train_x, y:train_y}) # get the loss for current w and b\n",
    "        if i % 1000 == 0:\n",
    "            print(\"Step\", i, \":\", end=\"\\t\")\n",
    "            print(\"Train Loss: \", c)\n",
    "    print(\"Validation Loss: \", sess.run(loss_function, feed_dict={x:val_x, y:val_y}))\n",
    "    print(\"Final Weight:\", sess.run(w))\n",
    "    print(\"Final Bias:\", sess.run(b))\n",
    "    print()"
   ]
  },
  {
   "cell_type": "markdown",
   "metadata": {},
   "source": [
    "### Using Implemented Optimizer"
   ]
  },
  {
   "cell_type": "code",
   "execution_count": 17,
   "metadata": {
    "ExecuteTime": {
     "end_time": "2019-01-29T18:19:40.626290Z",
     "start_time": "2019-01-29T18:19:40.592248Z"
    }
   },
   "outputs": [],
   "source": [
    "grad_w, grad_b = tf.gradients(xs=[w, b], ys=loss_function) # compute gradient"
   ]
  },
  {
   "cell_type": "code",
   "execution_count": 18,
   "metadata": {
    "ExecuteTime": {
     "end_time": "2019-01-29T18:19:40.641410Z",
     "start_time": "2019-01-29T18:19:40.630825Z"
    }
   },
   "outputs": [],
   "source": [
    "# update weights and bias\n",
    "new_w = w.assign(w - 0.01 * grad_w) # assign new value\n",
    "new_b = b.assign(b - 0.01 * grad_b)"
   ]
  },
  {
   "cell_type": "code",
   "execution_count": 21,
   "metadata": {
    "ExecuteTime": {
     "end_time": "2019-01-29T18:20:31.332381Z",
     "start_time": "2019-01-29T18:20:25.065076Z"
    },
    "scrolled": true
   },
   "outputs": [
    {
     "name": "stdout",
     "output_type": "stream",
     "text": [
      "[Training...]\n",
      "\n",
      "Step 0 :\tTrain Loss:  584.2093\n",
      "Step 1000 :\tTrain Loss:  89.48396\n",
      "Step 2000 :\tTrain Loss:  66.91366\n",
      "Step 3000 :\tTrain Loss:  65.88108\n",
      "Step 4000 :\tTrain Loss:  65.8337\n",
      "Step 5000 :\tTrain Loss:  65.83154\n",
      "Step 6000 :\tTrain Loss:  65.83145\n",
      "Step 7000 :\tTrain Loss:  65.83143\n",
      "Step 8000 :\tTrain Loss:  65.83143\n",
      "Step 9000 :\tTrain Loss:  65.83143\n",
      "Step 10000 :\tTrain Loss:  65.83143\n",
      "Validation Loss:  72.30171\n",
      "Final Weights: [[-3.4332843  3.2113822 -4.495178   1.3011379 -3.9602969  6.3612566\n",
      "  -3.3995965  2.2105646 -3.5276856 -4.3165474 -4.4813957  3.0122185\n",
      "  -6.688724 ]]\n",
      "Final Bias: [[22.402983 22.364681 22.244083 22.401127 22.311249 22.431597 22.348528\n",
      "  22.327276 22.363417 22.301117 22.411829 22.373493 22.375015]]\n"
     ]
    }
   ],
   "source": [
    "# run the mode\n",
    "with tf.Session() as sess:\n",
    "    epochs = 10000\n",
    "    print(\"[Training...]\\n\")\n",
    "    sess.run(tf.global_variables_initializer()) # initialize variables\n",
    "    # run the optimizer for 1000 iterations\n",
    "    for i in range(epochs+1):\n",
    "        _, _, c = sess.run([new_w, new_b, loss_function], feed_dict={x:train_x, y:train_y})\n",
    "        if i % 1000 == 0:\n",
    "            print(\"Step\", i, \":\", end=\"\\t\")\n",
    "            print(\"Train Loss: \", c)\n",
    "    print(\"Validation Loss: \", sess.run(loss_function, feed_dict={x:val_x, y:val_y}))\n",
    "    print(\"Final Weights:\", sess.run(w))\n",
    "    print(\"Final Bias:\", sess.run(b))"
   ]
  },
  {
   "cell_type": "code",
   "execution_count": null,
   "metadata": {},
   "outputs": [],
   "source": []
  }
 ],
 "metadata": {
  "kernelspec": {
   "display_name": "Python [conda env:ai_env]",
   "language": "python",
   "name": "conda-env-ai_env-py"
  },
  "language_info": {
   "codemirror_mode": {
    "name": "ipython",
    "version": 3
   },
   "file_extension": ".py",
   "mimetype": "text/x-python",
   "name": "python",
   "nbconvert_exporter": "python",
   "pygments_lexer": "ipython3",
   "version": "3.6.6"
  }
 },
 "nbformat": 4,
 "nbformat_minor": 2
}
