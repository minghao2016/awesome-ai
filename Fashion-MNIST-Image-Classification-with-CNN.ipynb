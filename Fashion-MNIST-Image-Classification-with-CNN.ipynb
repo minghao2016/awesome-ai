{
 "cells": [
  {
   "cell_type": "code",
   "execution_count": 1,
   "metadata": {
    "ExecuteTime": {
     "end_time": "2019-01-30T17:53:45.640384Z",
     "start_time": "2019-01-30T17:53:44.275272Z"
    }
   },
   "outputs": [
    {
     "name": "stdout",
     "output_type": "stream",
     "text": [
      "1.12.0\n"
     ]
    }
   ],
   "source": [
    "# load packages\n",
    "import os\n",
    "import sys\n",
    "import numpy as np\n",
    "import tensorflow as tf\n",
    "import matplotlib.pyplot as plt\n",
    "print(tf.__version__)"
   ]
  },
  {
   "cell_type": "markdown",
   "metadata": {},
   "source": [
    "## Load Data"
   ]
  },
  {
   "cell_type": "code",
   "execution_count": 2,
   "metadata": {
    "ExecuteTime": {
     "end_time": "2019-01-30T17:53:46.067547Z",
     "start_time": "2019-01-30T17:53:45.643036Z"
    }
   },
   "outputs": [],
   "source": [
    "(x_train, y_train), (x_test, y_test) = tf.keras.datasets.fashion_mnist.load_data()"
   ]
  },
  {
   "cell_type": "code",
   "execution_count": 3,
   "metadata": {
    "ExecuteTime": {
     "end_time": "2019-01-30T17:53:46.073229Z",
     "start_time": "2019-01-30T17:53:46.069445Z"
    }
   },
   "outputs": [
    {
     "name": "stdout",
     "output_type": "stream",
     "text": [
      "Train: (60000, 28, 28) (60000,)\n",
      "Test: (10000, 28, 28) (10000,)\n"
     ]
    }
   ],
   "source": [
    "print(\"Train:\", x_train.shape, y_train.shape)\n",
    "print(\"Test:\", x_test.shape, y_test.shape)"
   ]
  },
  {
   "cell_type": "code",
   "execution_count": 4,
   "metadata": {
    "ExecuteTime": {
     "end_time": "2019-01-30T17:53:46.246957Z",
     "start_time": "2019-01-30T17:53:46.076997Z"
    }
   },
   "outputs": [
    {
     "data": {
      "text/plain": [
       "<matplotlib.image.AxesImage at 0xb2d6a5278>"
      ]
     },
     "execution_count": 4,
     "metadata": {},
     "output_type": "execute_result"
    },
    {
     "data": {
      "image/png": "[encoded data removed]",
      "text/plain": [
       "<Figure size 432x288 with 1 Axes>"
      ]
     },
     "metadata": {
      "needs_background": "light"
     },
     "output_type": "display_data"
    }
   ],
   "source": [
    "# view one of the samples\n",
    "plt.imshow(x_train[0])"
   ]
  },
  {
   "cell_type": "code",
   "execution_count": 5,
   "metadata": {
    "ExecuteTime": {
     "end_time": "2019-01-30T17:53:46.256437Z",
     "start_time": "2019-01-30T17:53:46.250881Z"
    }
   },
   "outputs": [
    {
     "name": "stdout",
     "output_type": "stream",
     "text": [
      "Validation: (2000, 28, 28) (2000,)\n",
      "Test: (58000, 28, 28) (58000,)\n"
     ]
    }
   ],
   "source": [
    "# create validation dataset\n",
    "(x_train, x_val) = x_train[2000:], x_train[:2000]\n",
    "(y_train, y_val) = y_train[2000:], y_train[:2000]\n",
    "\n",
    "print(\"Validation:\", x_val.shape, y_val.shape)\n",
    "print(\"Test:\", x_train.shape, y_train.shape)"
   ]
  },
  {
   "cell_type": "code",
   "execution_count": 6,
   "metadata": {
    "ExecuteTime": {
     "end_time": "2019-01-30T17:53:46.264107Z",
     "start_time": "2019-01-30T17:53:46.259168Z"
    }
   },
   "outputs": [
    {
     "data": {
      "text/plain": [
       "((28, 28), (58000,))"
      ]
     },
     "execution_count": 6,
     "metadata": {},
     "output_type": "execute_result"
    }
   ],
   "source": [
    "x_train[0].shape, y_train.shape"
   ]
  },
  {
   "cell_type": "code",
   "execution_count": 7,
   "metadata": {
    "ExecuteTime": {
     "end_time": "2019-01-30T17:53:46.270874Z",
     "start_time": "2019-01-30T17:53:46.266154Z"
    }
   },
   "outputs": [],
   "source": [
    "# reshape input data from (28, 28) to (28, 28, 1)\n",
    "w, h = 28, 28\n",
    "x_train = x_train.reshape(x_train.shape[0], w, h, 1)\n",
    "x_test = x_test.reshape(x_test.shape[0], w, h, 1)\n",
    "x_val = x_val.reshape(x_val.shape[0], w, h, 1)"
   ]
  },
  {
   "cell_type": "code",
   "execution_count": 8,
   "metadata": {
    "ExecuteTime": {
     "end_time": "2019-01-30T17:53:46.277154Z",
     "start_time": "2019-01-30T17:53:46.273123Z"
    }
   },
   "outputs": [],
   "source": [
    "num_classes = 10"
   ]
  },
  {
   "cell_type": "code",
   "execution_count": 9,
   "metadata": {
    "ExecuteTime": {
     "end_time": "2019-01-30T17:53:46.288016Z",
     "start_time": "2019-01-30T17:53:46.280637Z"
    }
   },
   "outputs": [],
   "source": [
    "# one-hot encode the labels\n",
    "y_train = tf.keras.utils.to_categorical(y_train, 10)\n",
    "y_test = tf.keras.utils.to_categorical(y_test, 10)\n",
    "y_val = tf.keras.utils.to_categorical(y_val, 10)"
   ]
  },
  {
   "cell_type": "code",
   "execution_count": 10,
   "metadata": {
    "ExecuteTime": {
     "end_time": "2019-01-30T17:53:46.296777Z",
     "start_time": "2019-01-30T17:53:46.290255Z"
    }
   },
   "outputs": [
    {
     "data": {
      "text/plain": [
       "((58000, 28, 28, 1),\n",
       " (58000, 10),\n",
       " (10000, 28, 28, 1),\n",
       " (10000, 10),\n",
       " (2000, 28, 28, 1),\n",
       " (2000, 10))"
      ]
     },
     "execution_count": 10,
     "metadata": {},
     "output_type": "execute_result"
    }
   ],
   "source": [
    "x_train.shape, y_train.shape, x_test.shape, y_test.shape, x_val.shape, y_val.shape"
   ]
  },
  {
   "cell_type": "markdown",
   "metadata": {},
   "source": [
    "## Convolutional Neural Network"
   ]
  },
  {
   "cell_type": "code",
   "execution_count": 11,
   "metadata": {
    "ExecuteTime": {
     "end_time": "2019-01-30T17:53:46.313755Z",
     "start_time": "2019-01-30T17:53:46.298751Z"
    }
   },
   "outputs": [],
   "source": [
    "# initiate a sequential model\n",
    "baseline_model = tf.keras.Sequential()"
   ]
  },
  {
   "cell_type": "code",
   "execution_count": 12,
   "metadata": {
    "ExecuteTime": {
     "end_time": "2019-01-30T18:01:58.324188Z",
     "start_time": "2019-01-30T17:53:46.315568Z"
    },
    "scrolled": true
   },
   "outputs": [
    {
     "name": "stdout",
     "output_type": "stream",
     "text": [
      "Train on 58000 samples, validate on 2000 samples\n",
      "Epoch 1/20\n",
      "57920/58000 [============================>.] - ETA: 0s - loss: 3.4247 - acc: 0.6323\n",
      "Epoch 00001: val_loss improved from inf to 0.48341, saving model to weights/fmnist_cnn_model__0.84.weights.best.h5\n",
      "58000/58000 [==============================] - 33s 563us/step - loss: 3.4207 - acc: 0.6326 - val_loss: 0.4834 - val_acc: 0.8370\n",
      "Epoch 2/20\n",
      "57920/58000 [============================>.] - ETA: 0s - loss: 0.5504 - acc: 0.7958\n",
      "Epoch 00002: val_loss improved from 0.48341 to 0.39054, saving model to weights/fmnist_cnn_model__0.86.weights.best.h5\n",
      "58000/58000 [==============================] - 33s 570us/step - loss: 0.5503 - acc: 0.7958 - val_loss: 0.3905 - val_acc: 0.8610\n",
      "Epoch 3/20\n",
      "57920/58000 [============================>.] - ETA: 0s - loss: 0.4747 - acc: 0.8241\n",
      "Epoch 00003: val_loss improved from 0.39054 to 0.36717, saving model to weights/fmnist_cnn_model__0.86.weights.best.h5\n",
      "58000/58000 [==============================] - 33s 573us/step - loss: 0.4750 - acc: 0.8241 - val_loss: 0.3672 - val_acc: 0.8620\n",
      "Epoch 4/20\n",
      "57920/58000 [============================>.] - ETA: 0s - loss: 0.4313 - acc: 0.8406\n",
      "Epoch 00004: val_loss improved from 0.36717 to 0.32194, saving model to weights/fmnist_cnn_model__0.89.weights.best.h5\n",
      "58000/58000 [==============================] - 33s 567us/step - loss: 0.4311 - acc: 0.8407 - val_loss: 0.3219 - val_acc: 0.8880\n",
      "Epoch 5/20\n",
      "57920/58000 [============================>.] - ETA: 0s - loss: 0.4082 - acc: 0.8506\n",
      "Epoch 00005: val_loss improved from 0.32194 to 0.31711, saving model to weights/fmnist_cnn_model__0.88.weights.best.h5\n",
      "58000/58000 [==============================] - 33s 561us/step - loss: 0.4084 - acc: 0.8506 - val_loss: 0.3171 - val_acc: 0.8800\n",
      "Epoch 6/20\n",
      "57920/58000 [============================>.] - ETA: 0s - loss: 0.3830 - acc: 0.8590\n",
      "Epoch 00006: val_loss improved from 0.31711 to 0.30647, saving model to weights/fmnist_cnn_model__0.88.weights.best.h5\n",
      "58000/58000 [==============================] - 33s 566us/step - loss: 0.3829 - acc: 0.8590 - val_loss: 0.3065 - val_acc: 0.8815\n",
      "Epoch 7/20\n",
      "57920/58000 [============================>.] - ETA: 0s - loss: 0.3653 - acc: 0.8659\n",
      "Epoch 00007: val_loss improved from 0.30647 to 0.30213, saving model to weights/fmnist_cnn_model__0.89.weights.best.h5\n",
      "58000/58000 [==============================] - 33s 565us/step - loss: 0.3655 - acc: 0.8659 - val_loss: 0.3021 - val_acc: 0.8895\n",
      "Epoch 8/20\n",
      "57920/58000 [============================>.] - ETA: 0s - loss: 0.3526 - acc: 0.8703\n",
      "Epoch 00008: val_loss improved from 0.30213 to 0.27911, saving model to weights/fmnist_cnn_model__0.90.weights.best.h5\n",
      "58000/58000 [==============================] - 33s 566us/step - loss: 0.3528 - acc: 0.8703 - val_loss: 0.2791 - val_acc: 0.8960\n",
      "Epoch 9/20\n",
      "57920/58000 [============================>.] - ETA: 0s - loss: 0.3426 - acc: 0.8749\n",
      "Epoch 00009: val_loss improved from 0.27911 to 0.26385, saving model to weights/fmnist_cnn_model__0.90.weights.best.h5\n",
      "58000/58000 [==============================] - 33s 567us/step - loss: 0.3425 - acc: 0.8749 - val_loss: 0.2639 - val_acc: 0.9010\n",
      "Epoch 10/20\n",
      "57920/58000 [============================>.] - ETA: 0s - loss: 0.3301 - acc: 0.8801\n",
      "Epoch 00010: val_loss did not improve from 0.26385\n",
      "58000/58000 [==============================] - 33s 562us/step - loss: 0.3302 - acc: 0.8800 - val_loss: 0.2879 - val_acc: 0.8985\n",
      "Epoch 11/20\n",
      "57920/58000 [============================>.] - ETA: 0s - loss: 0.3246 - acc: 0.8808\n",
      "Epoch 00011: val_loss improved from 0.26385 to 0.25936, saving model to weights/fmnist_cnn_model__0.91.weights.best.h5\n",
      "58000/58000 [==============================] - 33s 565us/step - loss: 0.3246 - acc: 0.8808 - val_loss: 0.2594 - val_acc: 0.9095\n",
      "Epoch 12/20\n",
      "57920/58000 [============================>.] - ETA: 0s - loss: 0.3232 - acc: 0.8806\n",
      "Epoch 00012: val_loss did not improve from 0.25936\n",
      "58000/58000 [==============================] - 32s 557us/step - loss: 0.3231 - acc: 0.8806 - val_loss: 0.2594 - val_acc: 0.9060\n",
      "Epoch 13/20\n",
      "57920/58000 [============================>.] - ETA: 0s - loss: 0.3146 - acc: 0.8852\n",
      "Epoch 00013: val_loss improved from 0.25936 to 0.24688, saving model to weights/fmnist_cnn_model__0.91.weights.best.h5\n",
      "58000/58000 [==============================] - 33s 564us/step - loss: 0.3147 - acc: 0.8852 - val_loss: 0.2469 - val_acc: 0.9115\n",
      "Epoch 14/20\n",
      "57920/58000 [============================>.] - ETA: 0s - loss: 0.3044 - acc: 0.8864\n",
      "Epoch 00014: val_loss did not improve from 0.24688\n",
      "58000/58000 [==============================] - 33s 566us/step - loss: 0.3046 - acc: 0.8864 - val_loss: 0.2497 - val_acc: 0.9090\n",
      "Epoch 15/20\n",
      "57920/58000 [============================>.] - ETA: 0s - loss: 0.2991 - acc: 0.8900\n",
      "Epoch 00015: val_loss did not improve from 0.24688\n",
      "58000/58000 [==============================] - 32s 558us/step - loss: 0.2992 - acc: 0.8899 - val_loss: 0.2503 - val_acc: 0.9055\n"
     ]
    }
   ],
   "source": [
    "# add a convolution block\n",
    "baseline_model.add(tf.keras.layers.Conv2D(\n",
    "    filters=64,\n",
    "    kernel_size=2,\n",
    "    padding=\"same\",\n",
    "    activation=\"relu\",\n",
    "    input_shape=(28, 28, 1)))\n",
    "\n",
    "# add a maxpooling layer\n",
    "baseline_model.add(tf.keras.layers.MaxPooling2D(pool_size=2))\n",
    "\n",
    "# add a dropout layer\n",
    "baseline_model.add(tf.keras.layers.Dropout(rate=0.3))\n",
    "\n",
    "# add another convolutional block\n",
    "baseline_model.add(tf.keras.layers.Conv2D(\n",
    "    filters=32,\n",
    "    kernel_size=2,\n",
    "    padding=\"same\",\n",
    "    activation=\"relu\"))\n",
    "\n",
    "# add a maxpooling layer\n",
    "baseline_model.add(tf.keras.layers.MaxPooling2D(pool_size=2))\n",
    "\n",
    "# add a dropout layer\n",
    "baseline_model.add(tf.keras.layers.Dropout(rate=0.3))\n",
    "\n",
    "# now flatten the output\n",
    "baseline_model.add(tf.keras.layers.Flatten())\n",
    "\n",
    "# add a dense layer with relu activation\n",
    "baseline_model.add(tf.keras.layers.Dense(256, activation=\"relu\"))\n",
    "\n",
    "# add a dropout layer\n",
    "baseline_model.add(tf.keras.layers.Dropout(rate=0.5))\n",
    "\n",
    "# now add the final output layer: softmax layer\n",
    "baseline_model.add(tf.keras.layers.Dense(num_classes, activation=\"softmax\"))\n",
    "\n",
    "# compile the model\n",
    "baseline_model.compile(\n",
    "    loss=\"categorical_crossentropy\",\n",
    "    optimizer=\"adam\",\n",
    "    metrics=[\"accuracy\"])\n",
    "\n",
    "# train the model\n",
    "hist = baseline_model.fit(x_train,\n",
    "                  y_train,\n",
    "                  batch_size=64,\n",
    "                  epochs=20,\n",
    "                  validation_data=(x_val, y_val),\n",
    "                  callbacks=[tf.keras.callbacks.EarlyStopping(patience=2)])"
   ]
  },
  {
   "cell_type": "markdown",
   "metadata": {},
   "source": [
    "## Visualization"
   ]
  },
  {
   "cell_type": "code",
   "execution_count": 15,
   "metadata": {
    "ExecuteTime": {
     "end_time": "2019-01-30T18:04:38.359719Z",
     "start_time": "2019-01-30T18:04:38.355852Z"
    }
   },
   "outputs": [
    {
     "data": {
      "text/plain": [
       "dict_keys(['val_loss', 'val_acc', 'loss', 'acc'])"
      ]
     },
     "execution_count": 15,
     "metadata": {},
     "output_type": "execute_result"
    }
   ],
   "source": [
    "hist.history.keys()"
   ]
  },
  {
   "cell_type": "code",
   "execution_count": 18,
   "metadata": {
    "ExecuteTime": {
     "end_time": "2019-01-30T18:08:02.861767Z",
     "start_time": "2019-01-30T18:08:02.681499Z"
    }
   },
   "outputs": [
    {
     "data": {
      "image/png": "[encoded data removed]",
      "text/plain": [
       "<Figure size 432x288 with 1 Axes>"
      ]
     },
     "metadata": {
      "needs_background": "light"
     },
     "output_type": "display_data"
    }
   ],
   "source": [
    "loss = hist.history[\"loss\"]\n",
    "val_loss = hist.history[\"val_loss\"]\n",
    "\n",
    "epochs = range(1, len(loss) + 1)\n",
    "\n",
    "plt.plot(epochs, loss, \"b\", label=\"Training Loss\", color=\"blue\")\n",
    "plt.plot(epochs, val_loss, \"b\", label=\"Validation Loss\", color=\"green\")\n",
    "plt.xlabel(\"Epochs\")\n",
    "plt.ylabel(\"Some Loss\")\n",
    "plt.title(\"Train and Validation Loss\")\n",
    "plt.legend()\n",
    "plt.show()"
   ]
  },
  {
   "cell_type": "markdown",
   "metadata": {},
   "source": [
    "## Evaluation on Test Set"
   ]
  },
  {
   "cell_type": "code",
   "execution_count": 13,
   "metadata": {
    "ExecuteTime": {
     "end_time": "2019-01-30T18:01:59.677699Z",
     "start_time": "2019-01-30T18:01:58.325952Z"
    }
   },
   "outputs": [
    {
     "name": "stdout",
     "output_type": "stream",
     "text": [
      "10000/10000 [==============================] - 1s 135us/step\n"
     ]
    }
   ],
   "source": [
    "score = baseline_model.evaluate(x_test, y_test, verbose=1)"
   ]
  },
  {
   "cell_type": "code",
   "execution_count": 14,
   "metadata": {
    "ExecuteTime": {
     "end_time": "2019-01-30T18:01:59.682429Z",
     "start_time": "2019-01-30T18:01:59.679184Z"
    }
   },
   "outputs": [
    {
     "name": "stdout",
     "output_type": "stream",
     "text": [
      "Test Accuracy =  0.9043\n"
     ]
    }
   ],
   "source": [
    "print(\"Test Accuracy = \", score[1])"
   ]
  },
  {
   "cell_type": "code",
   "execution_count": null,
   "metadata": {},
   "outputs": [],
   "source": []
  }
 ],
 "metadata": {
  "kernelspec": {
   "display_name": "Python [conda env:ai_env]",
   "language": "python",
   "name": "conda-env-ai_env-py"
  },
  "language_info": {
   "codemirror_mode": {
    "name": "ipython",
    "version": 3
   },
   "file_extension": ".py",
   "mimetype": "text/x-python",
   "name": "python",
   "nbconvert_exporter": "python",
   "pygments_lexer": "ipython3",
   "version": "3.6.6"
  }
 },
 "nbformat": 4,
 "nbformat_minor": 2
}
