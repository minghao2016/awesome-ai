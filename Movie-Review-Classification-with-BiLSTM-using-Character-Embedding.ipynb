{
 "cells": [
  {
   "cell_type": "code",
   "execution_count": 1,
   "metadata": {
    "ExecuteTime": {
     "end_time": "2019-02-26T15:23:20.291783Z",
     "start_time": "2019-02-26T15:23:18.209988Z"
    }
   },
   "outputs": [
    {
     "name": "stdout",
     "output_type": "stream",
     "text": [
      "1.10.0\n"
     ]
    }
   ],
   "source": [
    "# load packages\n",
    "import os\n",
    "import sys\n",
    "import re\n",
    "import numpy as np\n",
    "import tensorflow as tf\n",
    "import matplotlib.pyplot as plt\n",
    "print(tf.__version__)"
   ]
  },
  {
   "cell_type": "markdown",
   "metadata": {},
   "source": [
    "## Load Data"
   ]
  },
  {
   "cell_type": "code",
   "execution_count": 2,
   "metadata": {
    "ExecuteTime": {
     "end_time": "2019-02-26T15:23:25.155963Z",
     "start_time": "2019-02-26T15:23:20.294547Z"
    }
   },
   "outputs": [],
   "source": [
    "(x_train, y_train), (x_test, y_test) = tf.keras.datasets.imdb.load_data()"
   ]
  },
  {
   "cell_type": "code",
   "execution_count": 3,
   "metadata": {
    "ExecuteTime": {
     "end_time": "2019-02-26T15:23:25.162088Z",
     "start_time": "2019-02-26T15:23:25.158387Z"
    }
   },
   "outputs": [
    {
     "name": "stdout",
     "output_type": "stream",
     "text": [
      "Train: (25000,) (25000,)\n",
      "Test: (25000,) (25000,)\n"
     ]
    }
   ],
   "source": [
    "print(\"Train:\", x_train.shape, y_train.shape)\n",
    "print(\"Test:\", x_test.shape, y_test.shape)"
   ]
  },
  {
   "cell_type": "code",
   "execution_count": 4,
   "metadata": {
    "ExecuteTime": {
     "end_time": "2019-02-26T15:23:25.229551Z",
     "start_time": "2019-02-26T15:23:25.165757Z"
    }
   },
   "outputs": [],
   "source": [
    "vocab = tf.keras.datasets.imdb.get_word_index()"
   ]
  },
  {
   "cell_type": "code",
   "execution_count": 5,
   "metadata": {
    "ExecuteTime": {
     "end_time": "2019-02-26T15:23:25.237892Z",
     "start_time": "2019-02-26T15:23:25.232717Z"
    }
   },
   "outputs": [
    {
     "data": {
      "text/plain": [
       "88584"
      ]
     },
     "execution_count": 5,
     "metadata": {},
     "output_type": "execute_result"
    }
   ],
   "source": [
    "len(vocab)"
   ]
  },
  {
   "cell_type": "code",
   "execution_count": 6,
   "metadata": {
    "ExecuteTime": {
     "end_time": "2019-02-26T15:23:25.266546Z",
     "start_time": "2019-02-26T15:23:25.239846Z"
    }
   },
   "outputs": [],
   "source": [
    "keys = list(vocab.keys())\n",
    "values = list(vocab.values())\n",
    "# get a key-word mapping\n",
    "reverse_vocab = dict()\n",
    "for i in range(len(vocab)):\n",
    "    reverse_vocab[values[i]] = keys[i]"
   ]
  },
  {
   "cell_type": "code",
   "execution_count": 7,
   "metadata": {
    "ExecuteTime": {
     "end_time": "2019-02-26T15:23:25.273125Z",
     "start_time": "2019-02-26T15:23:25.268789Z"
    }
   },
   "outputs": [
    {
     "data": {
      "text/plain": [
       "88584"
      ]
     },
     "execution_count": 7,
     "metadata": {},
     "output_type": "execute_result"
    }
   ],
   "source": [
    "len(reverse_vocab)"
   ]
  },
  {
   "cell_type": "code",
   "execution_count": 8,
   "metadata": {
    "ExecuteTime": {
     "end_time": "2019-02-26T15:23:25.279526Z",
     "start_time": "2019-02-26T15:23:25.275601Z"
    }
   },
   "outputs": [],
   "source": [
    "# implement method to get back the original text\n",
    "def get_original_text(vector):\n",
    "    text = list()\n",
    "    for v in vector:\n",
    "        if v in reverse_vocab:\n",
    "            text.append(reverse_vocab[v])\n",
    "        else:\n",
    "            continue\n",
    "    return \" \".join(text)\n",
    "# call\n",
    "# get_original_text(x_train[0])"
   ]
  },
  {
   "cell_type": "code",
   "execution_count": 9,
   "metadata": {
    "ExecuteTime": {
     "end_time": "2019-02-26T15:23:26.760057Z",
     "start_time": "2019-02-26T15:23:25.282273Z"
    },
    "scrolled": true
   },
   "outputs": [],
   "source": [
    "# get training reviews\n",
    "train_text = list()\n",
    "for x in x_train:\n",
    "    train_text.append(get_original_text(x))"
   ]
  },
  {
   "cell_type": "code",
   "execution_count": 10,
   "metadata": {
    "ExecuteTime": {
     "end_time": "2019-02-26T15:23:28.104383Z",
     "start_time": "2019-02-26T15:23:26.761847Z"
    }
   },
   "outputs": [],
   "source": [
    "# get test reviews\n",
    "test_text = list()\n",
    "for x in x_test:\n",
    "    test_text.append(get_original_text(x))"
   ]
  },
  {
   "cell_type": "code",
   "execution_count": 11,
   "metadata": {
    "ExecuteTime": {
     "end_time": "2019-02-26T15:23:28.110761Z",
     "start_time": "2019-02-26T15:23:28.106492Z"
    }
   },
   "outputs": [],
   "source": [
    "# create word frequency mapping\n",
    "word_frequency_mapping = dict()\n",
    "def get_word_frequency(text_list):\n",
    "    for text in text_list:\n",
    "        text = re.sub(\"[^a-zA-Z0-9 ]\", \"\", text)\n",
    "        tokens = text.split()\n",
    "        for tok in tokens:\n",
    "            if tok not in word_frequency_mapping:\n",
    "                # if not in vocab, add new word\n",
    "                word_frequency_mapping[tok] = 1\n",
    "            else:\n",
    "                # if word present in vocab, update frequency\n",
    "                word_frequency_mapping[tok] += 1"
   ]
  },
  {
   "cell_type": "code",
   "execution_count": 12,
   "metadata": {
    "ExecuteTime": {
     "end_time": "2019-02-26T15:23:30.056829Z",
     "start_time": "2019-02-26T15:23:28.113373Z"
    }
   },
   "outputs": [],
   "source": [
    "# call method\n",
    "get_word_frequency(text_list=train_text)"
   ]
  },
  {
   "cell_type": "code",
   "execution_count": 13,
   "metadata": {
    "ExecuteTime": {
     "end_time": "2019-02-26T15:23:30.062582Z",
     "start_time": "2019-02-26T15:23:30.058808Z"
    }
   },
   "outputs": [
    {
     "data": {
      "text/plain": [
       "79341"
      ]
     },
     "execution_count": 13,
     "metadata": {},
     "output_type": "execute_result"
    }
   ],
   "source": [
    "len(word_frequency_mapping)"
   ]
  },
  {
   "cell_type": "code",
   "execution_count": 14,
   "metadata": {
    "ExecuteTime": {
     "end_time": "2019-02-26T15:23:30.121614Z",
     "start_time": "2019-02-26T15:23:30.064861Z"
    }
   },
   "outputs": [
    {
     "data": {
      "text/plain": [
       "79341"
      ]
     },
     "execution_count": 14,
     "metadata": {},
     "output_type": "execute_result"
    }
   ],
   "source": [
    "# reverse the dict based on the values\n",
    "sorted_word_frequency_mapping = sorted(word_frequency_mapping.items(), key=lambda x: x[1], reverse=True)\n",
    "len(sorted_word_frequency_mapping)"
   ]
  },
  {
   "cell_type": "code",
   "execution_count": 15,
   "metadata": {
    "ExecuteTime": {
     "end_time": "2019-02-26T15:23:30.162385Z",
     "start_time": "2019-02-26T15:23:30.123751Z"
    }
   },
   "outputs": [
    {
     "data": {
      "text/plain": [
       "79343"
      ]
     },
     "execution_count": 15,
     "metadata": {},
     "output_type": "execute_result"
    }
   ],
   "source": [
    "# create a vocabulary for the embedding\n",
    "# add word for unknown words and for padding\n",
    "word2idx = {\"<PAD>\":0, \"<UNK>\": 1}\n",
    "for i in range(len(sorted_word_frequency_mapping)):\n",
    "    word2idx[sorted_word_frequency_mapping[i][0]] = i+2\n",
    "# check for the lenght of the vocab\n",
    "len(word2idx)"
   ]
  },
  {
   "cell_type": "code",
   "execution_count": 16,
   "metadata": {
    "ExecuteTime": {
     "end_time": "2019-02-26T15:23:30.180985Z",
     "start_time": "2019-02-26T15:23:30.163995Z"
    }
   },
   "outputs": [
    {
     "data": {
      "text/plain": [
       "79343"
      ]
     },
     "execution_count": 16,
     "metadata": {},
     "output_type": "execute_result"
    }
   ],
   "source": [
    "# get a mapping from index to word\n",
    "idx2word = {val:key for key, val in word2idx.items()}\n",
    "len(idx2word)"
   ]
  },
  {
   "cell_type": "code",
   "execution_count": 17,
   "metadata": {
    "ExecuteTime": {
     "end_time": "2019-02-26T15:23:30.188433Z",
     "start_time": "2019-02-26T15:23:30.182764Z"
    }
   },
   "outputs": [
    {
     "data": {
      "text/plain": [
       "67"
      ]
     },
     "execution_count": 17,
     "metadata": {},
     "output_type": "execute_result"
    }
   ],
   "source": [
    "chars = \"\"\"abcdefghijklmnopqrstuvwxyzABCDEFGHIJKLMNOPQRSTUVWXYZ0123456789-,_!.\"\"\"\n",
    "chars = [a for a in chars]\n",
    "len(chars)"
   ]
  },
  {
   "cell_type": "code",
   "execution_count": 18,
   "metadata": {
    "ExecuteTime": {
     "end_time": "2019-02-26T15:23:30.199876Z",
     "start_time": "2019-02-26T15:23:30.194370Z"
    }
   },
   "outputs": [
    {
     "data": {
      "text/plain": [
       "69"
      ]
     },
     "execution_count": 18,
     "metadata": {},
     "output_type": "execute_result"
    }
   ],
   "source": [
    "char2idx = {\"<UNK>\": 1, \"<PAD>\": 0}\n",
    "for i in range(len(chars)):\n",
    "    char2idx[chars[i]] = i+2\n",
    "len(char2idx)"
   ]
  },
  {
   "cell_type": "code",
   "execution_count": 19,
   "metadata": {
    "ExecuteTime": {
     "end_time": "2019-02-26T15:23:30.208028Z",
     "start_time": "2019-02-26T15:23:30.202873Z"
    }
   },
   "outputs": [
    {
     "data": {
      "text/plain": [
       "69"
      ]
     },
     "execution_count": 19,
     "metadata": {},
     "output_type": "execute_result"
    }
   ],
   "source": [
    "# get a mapping from index to word\n",
    "idx2char = {val:key for key, val in char2idx.items()}\n",
    "len(idx2char)"
   ]
  },
  {
   "cell_type": "markdown",
   "metadata": {},
   "source": [
    "## Prepare Data"
   ]
  },
  {
   "cell_type": "code",
   "execution_count": 20,
   "metadata": {
    "ExecuteTime": {
     "end_time": "2019-02-26T15:23:30.217531Z",
     "start_time": "2019-02-26T15:23:30.209857Z"
    }
   },
   "outputs": [],
   "source": [
    "# create character based codes for each title name\n",
    "def get_char_codes(text_list):\n",
    "    x_char = list()\n",
    "    max_len = 256\n",
    "    max_char_len = 8\n",
    "    for text in text_list:\n",
    "        text = re.sub(\"[^a-zA-Z0-9,-;.!?:’’’/\\|_@#$%ˆ&*˜‘+-=' ]\", \"\", text)\n",
    "        tokens = text.split()\n",
    "        total_token = list()\n",
    "        for k in range(max_len):\n",
    "            word_seq = list()\n",
    "            for j in range(max_char_len):\n",
    "                try:\n",
    "                    word_seq.append(char2idx[tokens[k][j]])\n",
    "                except:\n",
    "                    word_seq.append(char2idx[\"<PAD>\"])\n",
    "            total_token.append(word_seq)\n",
    "        x_char.append(total_token)\n",
    "    return x_char"
   ]
  },
  {
   "cell_type": "code",
   "execution_count": 21,
   "metadata": {
    "ExecuteTime": {
     "end_time": "2019-02-26T15:24:23.569115Z",
     "start_time": "2019-02-26T15:23:30.219495Z"
    }
   },
   "outputs": [],
   "source": [
    "# generate char codes for both train and test reviews\n",
    "train_char = get_char_codes(text_list=train_text)\n",
    "test_char = get_char_codes(text_list=test_text)"
   ]
  },
  {
   "cell_type": "code",
   "execution_count": 22,
   "metadata": {
    "ExecuteTime": {
     "end_time": "2019-02-26T15:24:23.576041Z",
     "start_time": "2019-02-26T15:24:23.571241Z"
    }
   },
   "outputs": [],
   "source": [
    "# create word based codes for each title name\n",
    "def get_word_codes(text_list):\n",
    "    x_word = list()\n",
    "    for text in text_list:\n",
    "        text = re.sub(\"[^a-zA-Z0-9,-;.!?:’’’/\\|_@#$%ˆ&*˜‘+-=' ]\", \"\", text)\n",
    "        tokens = text.split()\n",
    "        total_tokens=  list()\n",
    "        for tok in tokens:\n",
    "            if tok in word2idx.keys():\n",
    "                total_tokens.append(word2idx[tok])\n",
    "            else:\n",
    "                total_tokens.append(word2idx[\"<UNK>\"])\n",
    "        x_word.append(total_tokens)\n",
    "    return x_word"
   ]
  },
  {
   "cell_type": "code",
   "execution_count": 23,
   "metadata": {
    "ExecuteTime": {
     "end_time": "2019-02-26T15:24:28.490424Z",
     "start_time": "2019-02-26T15:24:23.578384Z"
    }
   },
   "outputs": [],
   "source": [
    "# generate word codes for both train and test reviews\n",
    "train_word = get_word_codes(text_list=train_text)\n",
    "test_word = get_word_codes(text_list=test_text)"
   ]
  },
  {
   "cell_type": "code",
   "execution_count": 24,
   "metadata": {
    "ExecuteTime": {
     "end_time": "2019-02-26T15:24:29.327358Z",
     "start_time": "2019-02-26T15:24:28.492510Z"
    }
   },
   "outputs": [],
   "source": [
    "# padd to make all reviews to equal length of words\n",
    "train_word = tf.keras.preprocessing.sequence.pad_sequences(train_word, maxlen=256, padding=\"post\", truncating=\"post\")\n",
    "test_word = tf.keras.preprocessing.sequence.pad_sequences(test_word, maxlen=256, padding=\"post\", truncating=\"post\")"
   ]
  },
  {
   "cell_type": "code",
   "execution_count": 25,
   "metadata": {
    "ExecuteTime": {
     "end_time": "2019-02-26T15:24:38.127037Z",
     "start_time": "2019-02-26T15:24:29.329113Z"
    }
   },
   "outputs": [],
   "source": [
    "# convert lists into numpy array\n",
    "train_word = np.array(train_word).reshape((len(train_word), 256))\n",
    "test_word = np.array(test_word).reshape((len(test_word), 256))\n",
    "train_char = np.array(train_char).reshape((len(train_char), 256, 8))\n",
    "test_char = np.array(test_char).reshape((len(test_char), 256, 8))\n",
    "y_train = np.array(y_train).reshape((len(y_train), 1))\n",
    "y_test = np.array(y_test).reshape((len(y_test), 1))"
   ]
  },
  {
   "cell_type": "code",
   "execution_count": 26,
   "metadata": {
    "ExecuteTime": {
     "end_time": "2019-02-26T15:24:38.133367Z",
     "start_time": "2019-02-26T15:24:38.128924Z"
    }
   },
   "outputs": [
    {
     "data": {
      "text/plain": [
       "((25000, 256),\n",
       " (25000, 256),\n",
       " (25000, 256, 8),\n",
       " (25000, 256, 8),\n",
       " (25000, 1),\n",
       " (25000, 1))"
      ]
     },
     "execution_count": 26,
     "metadata": {},
     "output_type": "execute_result"
    }
   ],
   "source": [
    "train_word.shape, test_word.shape, train_char.shape, test_char.shape, y_train.shape, y_test.shape"
   ]
  },
  {
   "cell_type": "markdown",
   "metadata": {},
   "source": [
    "## BiLSTM Model"
   ]
  },
  {
   "cell_type": "code",
   "execution_count": 27,
   "metadata": {
    "ExecuteTime": {
     "end_time": "2019-02-26T15:24:38.138013Z",
     "start_time": "2019-02-26T15:24:38.135032Z"
    }
   },
   "outputs": [],
   "source": [
    "# input word tensor\n",
    "word_in = tf.keras.Input(shape=(256, ))\n",
    "emb_word = tf.keras.layers.Embedding(input_dim=len(word2idx)+2, output_dim=64, input_length=256)(word_in)\n",
    "\n",
    "# input char tensor\n",
    "char_in = tf.keras.Input(shape=(256, 8, ))\n",
    "emb_char = tf.keras.layers.TimeDistributed(tf.keras.layers.Embedding(input_dim=len(char2idx)+2, output_dim=32, input_length=8))(char_in)\n",
    "\n",
    "# LSTM to get word encodings by character\n",
    "char_enc = tf.keras.layers.TimeDistributed(tf.keras.layers.Bidirectional(tf.keras.layers.LSTM(units=512, recurrent_dropout=0.4)))(emb_char)\n",
    "\n",
    "# main BiLSTM block\n",
    "merged = tf.keras.layers.concatenate([emb_word, char_enc])\n",
    "\n",
    "# add another BiLSTM for ner task\n",
    "main_lstm = tf.keras.layers.Bidirectional(tf.keras.layers.LSTM(units=128))(merged)\n",
    "\n",
    "# add a time distribute layer to work it in parallel\n",
    "out = tf.keras.layers.Dense(units=2, activation=\"softmax\")(main_lstm)\n",
    "\n",
    "# set the model together\n",
    "model = tf.keras.Model([word_in, char_in], out)\n",
    "\n",
    "model.compile(\n",
    "    optimizer=\"adam\",\n",
    "    loss=\"sparse_categorical_crossentropy\",\n",
    "    metrics=[\"accuracy\"]\n",
    ")\n",
    "\n",
    "hist = model.fit(\n",
    "    [train_word, train_char], y_train,\n",
    "    batch_size=32,\n",
    "    epochs=20,\n",
    "    verbose=True,\n",
    "    validation_data=([test_word, test_char], y_test),\n",
    "    callbacks=[tf.keras.callbacks.EarlyStopping(patience=3)]\n",
    ")"
   ]
  },
  {
   "cell_type": "markdown",
   "metadata": {},
   "source": [
    "### Visualization"
   ]
  },
  {
   "cell_type": "code",
   "execution_count": 28,
   "metadata": {
    "ExecuteTime": {
     "end_time": "2019-02-26T15:24:38.142805Z",
     "start_time": "2019-02-26T15:24:38.140033Z"
    }
   },
   "outputs": [],
   "source": [
    "loss = hist.history[\"loss\"]\n",
    "val_loss = hist.history[\"val_loss\"]\n",
    "\n",
    "epochs = range(1, len(loss) + 1)\n",
    "\n",
    "plt.plot(epochs, loss, \"b\", label=\"Training Loss\", color=\"blue\")\n",
    "plt.plot(epochs, val_loss, \"b\", label=\"Validation Loss\", color=\"green\")\n",
    "plt.xlabel(\"Epochs\")\n",
    "plt.ylabel(\"Some Loss\")\n",
    "plt.title(\"Train and Validation Loss\")\n",
    "plt.legend()\n",
    "plt.show()"
   ]
  },
  {
   "cell_type": "code",
   "execution_count": null,
   "metadata": {},
   "outputs": [],
   "source": []
  }
 ],
 "metadata": {
  "kernelspec": {
   "display_name": "Python [conda env:ai_env]",
   "language": "python",
   "name": "conda-env-ai_env-py"
  },
  "language_info": {
   "codemirror_mode": {
    "name": "ipython",
    "version": 3
   },
   "file_extension": ".py",
   "mimetype": "text/x-python",
   "name": "python",
   "nbconvert_exporter": "python",
   "pygments_lexer": "ipython3",
   "version": "3.6.6"
  }
 },
 "nbformat": 4,
 "nbformat_minor": 2
}
