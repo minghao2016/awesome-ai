{
 "cells": [
  {
   "cell_type": "code",
   "execution_count": 1,
   "metadata": {
    "ExecuteTime": {
     "end_time": "2019-03-13T09:07:49.133952Z",
     "start_time": "2019-03-13T09:07:45.921779Z"
    }
   },
   "outputs": [
    {
     "name": "stdout",
     "output_type": "stream",
     "text": [
      "1.12.0\n"
     ]
    }
   ],
   "source": [
    "# load packages\n",
    "import os\n",
    "import sys\n",
    "import re\n",
    "import numpy as np\n",
    "import tensorflow as tf\n",
    "import matplotlib.pyplot as plt\n",
    "print(tf.__version__)"
   ]
  },
  {
   "cell_type": "markdown",
   "metadata": {},
   "source": [
    "## Load Data"
   ]
  },
  {
   "cell_type": "code",
   "execution_count": 2,
   "metadata": {
    "ExecuteTime": {
     "end_time": "2019-03-13T09:07:54.410142Z",
     "start_time": "2019-03-13T09:07:49.136768Z"
    }
   },
   "outputs": [],
   "source": [
    "(x_train, y_train), (x_test, y_test) = tf.keras.datasets.imdb.load_data()"
   ]
  },
  {
   "cell_type": "code",
   "execution_count": 3,
   "metadata": {
    "ExecuteTime": {
     "end_time": "2019-03-13T09:07:54.416194Z",
     "start_time": "2019-03-13T09:07:54.411897Z"
    }
   },
   "outputs": [
    {
     "name": "stdout",
     "output_type": "stream",
     "text": [
      "Train: (25000,) (25000,)\n",
      "Test: (25000,) (25000,)\n"
     ]
    }
   ],
   "source": [
    "print(\"Train:\", x_train.shape, y_train.shape)\n",
    "print(\"Test:\", x_test.shape, y_test.shape)"
   ]
  },
  {
   "cell_type": "code",
   "execution_count": 4,
   "metadata": {
    "ExecuteTime": {
     "end_time": "2019-03-13T09:07:54.494779Z",
     "start_time": "2019-03-13T09:07:54.419978Z"
    }
   },
   "outputs": [],
   "source": [
    "vocab = tf.keras.datasets.imdb.get_word_index()"
   ]
  },
  {
   "cell_type": "code",
   "execution_count": 5,
   "metadata": {
    "ExecuteTime": {
     "end_time": "2019-03-13T09:07:54.506171Z",
     "start_time": "2019-03-13T09:07:54.499153Z"
    }
   },
   "outputs": [
    {
     "data": {
      "text/plain": [
       "88584"
      ]
     },
     "execution_count": 5,
     "metadata": {},
     "output_type": "execute_result"
    }
   ],
   "source": [
    "len(vocab)"
   ]
  },
  {
   "cell_type": "code",
   "execution_count": 6,
   "metadata": {
    "ExecuteTime": {
     "end_time": "2019-03-13T09:07:54.550970Z",
     "start_time": "2019-03-13T09:07:54.508497Z"
    }
   },
   "outputs": [],
   "source": [
    "keys = list(vocab.keys())\n",
    "values = list(vocab.values())\n",
    "# get a key-word mapping\n",
    "reverse_vocab = dict()\n",
    "for i in range(len(vocab)):\n",
    "    reverse_vocab[values[i]] = keys[i]"
   ]
  },
  {
   "cell_type": "code",
   "execution_count": 7,
   "metadata": {
    "ExecuteTime": {
     "end_time": "2019-03-13T09:07:54.560059Z",
     "start_time": "2019-03-13T09:07:54.553716Z"
    }
   },
   "outputs": [
    {
     "data": {
      "text/plain": [
       "88584"
      ]
     },
     "execution_count": 7,
     "metadata": {},
     "output_type": "execute_result"
    }
   ],
   "source": [
    "len(reverse_vocab)"
   ]
  },
  {
   "cell_type": "code",
   "execution_count": 8,
   "metadata": {
    "ExecuteTime": {
     "end_time": "2019-03-13T09:07:54.566953Z",
     "start_time": "2019-03-13T09:07:54.562082Z"
    }
   },
   "outputs": [],
   "source": [
    "# implement method to get back the original text\n",
    "def get_original_text(vector):\n",
    "    text = list()\n",
    "    for v in vector:\n",
    "        if v in reverse_vocab:\n",
    "            text.append(reverse_vocab[v])\n",
    "        else:\n",
    "            continue\n",
    "    return \" \".join(text)\n",
    "# call\n",
    "# get_original_text(x_train[0])"
   ]
  },
  {
   "cell_type": "code",
   "execution_count": 9,
   "metadata": {
    "ExecuteTime": {
     "end_time": "2019-03-13T09:07:56.157871Z",
     "start_time": "2019-03-13T09:07:54.570126Z"
    },
    "scrolled": true
   },
   "outputs": [],
   "source": [
    "# get training reviews\n",
    "train_text = list()\n",
    "for x in x_train:\n",
    "    train_text.append(get_original_text(x))"
   ]
  },
  {
   "cell_type": "code",
   "execution_count": 10,
   "metadata": {
    "ExecuteTime": {
     "end_time": "2019-03-13T09:07:57.631560Z",
     "start_time": "2019-03-13T09:07:56.159805Z"
    }
   },
   "outputs": [],
   "source": [
    "# get test reviews\n",
    "test_text = list()\n",
    "for x in x_test:\n",
    "    test_text.append(get_original_text(x))"
   ]
  },
  {
   "cell_type": "code",
   "execution_count": 11,
   "metadata": {
    "ExecuteTime": {
     "end_time": "2019-03-13T09:07:57.637820Z",
     "start_time": "2019-03-13T09:07:57.633461Z"
    }
   },
   "outputs": [],
   "source": [
    "# create word frequency mapping\n",
    "word_frequency_mapping = dict()\n",
    "def get_word_frequency(text_list):\n",
    "    for text in text_list:\n",
    "        text = re.sub(\"[^a-zA-Z0-9 ]\", \"\", text)\n",
    "        tokens = text.split()\n",
    "        for tok in tokens:\n",
    "            if tok not in word_frequency_mapping:\n",
    "                # if not in vocab, add new word\n",
    "                word_frequency_mapping[tok] = 1\n",
    "            else:\n",
    "                # if word present in vocab, update frequency\n",
    "                word_frequency_mapping[tok] += 1"
   ]
  },
  {
   "cell_type": "code",
   "execution_count": 12,
   "metadata": {
    "ExecuteTime": {
     "end_time": "2019-03-13T09:07:59.658858Z",
     "start_time": "2019-03-13T09:07:57.640480Z"
    }
   },
   "outputs": [],
   "source": [
    "# call method\n",
    "get_word_frequency(text_list=train_text)"
   ]
  },
  {
   "cell_type": "code",
   "execution_count": 13,
   "metadata": {
    "ExecuteTime": {
     "end_time": "2019-03-13T09:07:59.664437Z",
     "start_time": "2019-03-13T09:07:59.660812Z"
    }
   },
   "outputs": [
    {
     "data": {
      "text/plain": [
       "79341"
      ]
     },
     "execution_count": 13,
     "metadata": {},
     "output_type": "execute_result"
    }
   ],
   "source": [
    "len(word_frequency_mapping)"
   ]
  },
  {
   "cell_type": "code",
   "execution_count": 14,
   "metadata": {
    "ExecuteTime": {
     "end_time": "2019-03-13T09:07:59.987502Z",
     "start_time": "2019-03-13T09:07:59.667029Z"
    }
   },
   "outputs": [
    {
     "data": {
      "text/plain": [
       "79341"
      ]
     },
     "execution_count": 14,
     "metadata": {},
     "output_type": "execute_result"
    }
   ],
   "source": [
    "# reverse the dict based on the values\n",
    "sorted_word_frequency_mapping = sorted(word_frequency_mapping.items(), key=lambda x: x[1], reverse=True)\n",
    "len(sorted_word_frequency_mapping)"
   ]
  },
  {
   "cell_type": "code",
   "execution_count": 15,
   "metadata": {
    "ExecuteTime": {
     "end_time": "2019-03-13T09:08:00.036000Z",
     "start_time": "2019-03-13T09:07:59.989647Z"
    }
   },
   "outputs": [
    {
     "data": {
      "text/plain": [
       "79343"
      ]
     },
     "execution_count": 15,
     "metadata": {},
     "output_type": "execute_result"
    }
   ],
   "source": [
    "# create a vocabulary for the embedding\n",
    "# add word for unknown words and for padding\n",
    "word2idx = {\"<PAD>\":0, \"<UNK>\": 1}\n",
    "for i in range(len(sorted_word_frequency_mapping)):\n",
    "    word2idx[sorted_word_frequency_mapping[i][0]] = i+2\n",
    "# check for the lenght of the vocab\n",
    "len(word2idx)"
   ]
  },
  {
   "cell_type": "code",
   "execution_count": 16,
   "metadata": {
    "ExecuteTime": {
     "end_time": "2019-03-13T09:08:00.063830Z",
     "start_time": "2019-03-13T09:08:00.039167Z"
    }
   },
   "outputs": [
    {
     "data": {
      "text/plain": [
       "79343"
      ]
     },
     "execution_count": 16,
     "metadata": {},
     "output_type": "execute_result"
    }
   ],
   "source": [
    "# get a mapping from index to word\n",
    "idx2word = {val:key for key, val in word2idx.items()}\n",
    "len(idx2word)"
   ]
  },
  {
   "cell_type": "code",
   "execution_count": 17,
   "metadata": {
    "ExecuteTime": {
     "end_time": "2019-03-13T09:08:00.076305Z",
     "start_time": "2019-03-13T09:08:00.069058Z"
    }
   },
   "outputs": [
    {
     "data": {
      "text/plain": [
       "67"
      ]
     },
     "execution_count": 17,
     "metadata": {},
     "output_type": "execute_result"
    }
   ],
   "source": [
    "chars = \"\"\"abcdefghijklmnopqrstuvwxyzABCDEFGHIJKLMNOPQRSTUVWXYZ0123456789-,_!.\"\"\"\n",
    "chars = [a for a in chars]\n",
    "len(chars)"
   ]
  },
  {
   "cell_type": "code",
   "execution_count": 18,
   "metadata": {
    "ExecuteTime": {
     "end_time": "2019-03-13T09:08:00.094140Z",
     "start_time": "2019-03-13T09:08:00.087137Z"
    }
   },
   "outputs": [
    {
     "data": {
      "text/plain": [
       "69"
      ]
     },
     "execution_count": 18,
     "metadata": {},
     "output_type": "execute_result"
    }
   ],
   "source": [
    "char2idx = {\"<UNK>\": 1, \"<PAD>\": 0}\n",
    "for i in range(len(chars)):\n",
    "    char2idx[chars[i]] = i+2\n",
    "len(char2idx)"
   ]
  },
  {
   "cell_type": "code",
   "execution_count": null,
   "metadata": {
    "ExecuteTime": {
     "start_time": "2019-03-13T09:07:45.986Z"
    }
   },
   "outputs": [
    {
     "data": {
      "text/plain": [
       "69"
      ]
     },
     "execution_count": 19,
     "metadata": {},
     "output_type": "execute_result"
    }
   ],
   "source": [
    "# get a mapping from index to word\n",
    "idx2char = {val:key for key, val in char2idx.items()}\n",
    "len(idx2char)"
   ]
  },
  {
   "cell_type": "markdown",
   "metadata": {},
   "source": [
    "## Prepare Data"
   ]
  },
  {
   "cell_type": "code",
   "execution_count": null,
   "metadata": {
    "ExecuteTime": {
     "start_time": "2019-03-13T09:07:45.989Z"
    }
   },
   "outputs": [],
   "source": [
    "# create character based codes for each title name\n",
    "def get_char_codes(text_list):\n",
    "    x_char = list()\n",
    "    max_len = 256\n",
    "    max_char_len = 8\n",
    "    for text in text_list:\n",
    "        text = re.sub(\"[^a-zA-Z0-9,-;.!?:’’’/\\|_@#$%ˆ&*˜‘+-=' ]\", \"\", text)\n",
    "        tokens = text.split()\n",
    "        total_token = list()\n",
    "        for k in range(max_len):\n",
    "            word_seq = list()\n",
    "            for j in range(max_char_len):\n",
    "                try:\n",
    "                    word_seq.append(char2idx[tokens[k][j]])\n",
    "                except:\n",
    "                    word_seq.append(char2idx[\"<PAD>\"])\n",
    "            total_token.append(word_seq)\n",
    "        x_char.append(total_token)\n",
    "    return x_char"
   ]
  },
  {
   "cell_type": "code",
   "execution_count": null,
   "metadata": {
    "ExecuteTime": {
     "start_time": "2019-03-13T09:07:45.992Z"
    }
   },
   "outputs": [],
   "source": [
    "# generate char codes for both train and test reviews\n",
    "train_char = get_char_codes(text_list=train_text)\n",
    "test_char = get_char_codes(text_list=test_text)"
   ]
  },
  {
   "cell_type": "code",
   "execution_count": null,
   "metadata": {
    "ExecuteTime": {
     "start_time": "2019-03-13T09:07:45.993Z"
    }
   },
   "outputs": [],
   "source": [
    "# create word based codes for each title name\n",
    "def get_word_codes(text_list):\n",
    "    x_word = list()\n",
    "    for text in text_list:\n",
    "        text = re.sub(\"[^a-zA-Z0-9,-;.!?:’’’/\\|_@#$%ˆ&*˜‘+-=' ]\", \"\", text)\n",
    "        tokens = text.split()\n",
    "        total_tokens=  list()\n",
    "        for tok in tokens:\n",
    "            if tok in word2idx.keys():\n",
    "                total_tokens.append(word2idx[tok])\n",
    "            else:\n",
    "                total_tokens.append(word2idx[\"<UNK>\"])\n",
    "        x_word.append(total_tokens)\n",
    "    return x_word"
   ]
  },
  {
   "cell_type": "code",
   "execution_count": null,
   "metadata": {
    "ExecuteTime": {
     "start_time": "2019-03-13T09:07:45.995Z"
    }
   },
   "outputs": [],
   "source": [
    "# generate word codes for both train and test reviews\n",
    "train_word = get_word_codes(text_list=train_text)\n",
    "test_word = get_word_codes(text_list=test_text)"
   ]
  },
  {
   "cell_type": "code",
   "execution_count": null,
   "metadata": {
    "ExecuteTime": {
     "start_time": "2019-03-13T09:07:45.996Z"
    }
   },
   "outputs": [],
   "source": [
    "# padd to make all reviews to equal length of words\n",
    "train_word = tf.keras.preprocessing.sequence.pad_sequences(train_word, maxlen=256, padding=\"post\", truncating=\"post\")\n",
    "test_word = tf.keras.preprocessing.sequence.pad_sequences(test_word, maxlen=256, padding=\"post\", truncating=\"post\")"
   ]
  },
  {
   "cell_type": "code",
   "execution_count": null,
   "metadata": {
    "ExecuteTime": {
     "start_time": "2019-03-13T09:07:45.999Z"
    }
   },
   "outputs": [],
   "source": [
    "# convert lists into numpy array\n",
    "train_word = np.array(train_word).reshape((len(train_word), 256))\n",
    "test_word = np.array(test_word).reshape((len(test_word), 256))\n",
    "train_char = np.array(train_char).reshape((len(train_char), 256, 8))\n",
    "test_char = np.array(test_char).reshape((len(test_char), 256, 8))\n",
    "y_train = np.array(y_train).reshape((len(y_train), 1))\n",
    "y_test = np.array(y_test).reshape((len(y_test), 1))"
   ]
  },
  {
   "cell_type": "code",
   "execution_count": null,
   "metadata": {
    "ExecuteTime": {
     "start_time": "2019-03-13T09:07:46.001Z"
    }
   },
   "outputs": [
    {
     "data": {
      "text/plain": [
       "((25000, 256),\n",
       " (25000, 256),\n",
       " (25000, 256, 8),\n",
       " (25000, 256, 8),\n",
       " (25000, 1),\n",
       " (25000, 1))"
      ]
     },
     "execution_count": 26,
     "metadata": {},
     "output_type": "execute_result"
    }
   ],
   "source": [
    "train_word.shape, test_word.shape, train_char.shape, test_char.shape, y_train.shape, y_test.shape"
   ]
  },
  {
   "cell_type": "markdown",
   "metadata": {},
   "source": [
    "## BiLSTM Model"
   ]
  },
  {
   "cell_type": "code",
   "execution_count": null,
   "metadata": {
    "ExecuteTime": {
     "start_time": "2019-03-13T09:07:46.004Z"
    }
   },
   "outputs": [
    {
     "name": "stderr",
     "output_type": "stream",
     "text": [
      "/Users/nityansuman/anaconda3/envs/ai_env/lib/python3.6/site-packages/tensorflow/python/ops/gradients_impl.py:112: UserWarning: Converting sparse IndexedSlices to a dense Tensor of unknown shape. This may consume a large amount of memory.\n",
      "  \"Converting sparse IndexedSlices to a dense Tensor of unknown shape. \"\n"
     ]
    },
    {
     "name": "stdout",
     "output_type": "stream",
     "text": [
      "Train on 25000 samples, validate on 25000 samples\n",
      "Epoch 1/20\n",
      " 1120/25000 [>.............................] - ETA: 4:04:49 - loss: 0.6954 - acc: 0.5062"
     ]
    }
   ],
   "source": [
    "# input word tensor\n",
    "word_in = tf.keras.Input(shape=(256, ))\n",
    "emb_word = tf.keras.layers.Embedding(input_dim=len(word2idx)+2, output_dim=64, input_length=256)(word_in)\n",
    "\n",
    "# input char tensor\n",
    "char_in = tf.keras.Input(shape=(256, 8, ))\n",
    "emb_char = tf.keras.layers.TimeDistributed(tf.keras.layers.Embedding(input_dim=len(char2idx)+2, output_dim=32, input_length=8))(char_in)\n",
    "\n",
    "# LSTM to get word encodings by character\n",
    "char_enc = tf.keras.layers.TimeDistributed(tf.keras.layers.Bidirectional(tf.keras.layers.LSTM(units=512, recurrent_dropout=0.4)))(emb_char)\n",
    "\n",
    "# main BiLSTM block\n",
    "merged = tf.keras.layers.concatenate([emb_word, char_enc])\n",
    "\n",
    "# add another BiLSTM for ner task\n",
    "main_lstm = tf.keras.layers.Bidirectional(tf.keras.layers.LSTM(units=128))(merged)\n",
    "\n",
    "# add a time distribute layer to work it in parallel\n",
    "out = tf.keras.layers.Dense(units=2, activation=\"softmax\")(main_lstm)\n",
    "\n",
    "# set the model together\n",
    "model = tf.keras.Model([word_in, char_in], out)\n",
    "\n",
    "model.compile(\n",
    "    optimizer=\"adam\",\n",
    "    loss=\"sparse_categorical_crossentropy\",\n",
    "    metrics=[\"accuracy\"]\n",
    ")\n",
    "\n",
    "hist = model.fit(\n",
    "    [train_word, train_char], y_train,\n",
    "    batch_size=32,\n",
    "    epochs=20,\n",
    "    verbose=True,\n",
    "    validation_data=([test_word, test_char], y_test),\n",
    "    callbacks=[tf.keras.callbacks.EarlyStopping(patience=3)]\n",
    ")"
   ]
  },
  {
   "cell_type": "markdown",
   "metadata": {},
   "source": [
    "### Visualization"
   ]
  },
  {
   "cell_type": "code",
   "execution_count": null,
   "metadata": {
    "ExecuteTime": {
     "start_time": "2019-03-13T09:07:46.006Z"
    }
   },
   "outputs": [],
   "source": [
    "loss = hist.history[\"loss\"]\n",
    "val_loss = hist.history[\"val_loss\"]\n",
    "\n",
    "epochs = range(1, len(loss) + 1)\n",
    "\n",
    "plt.plot(epochs, loss, \"b\", label=\"Training Loss\", color=\"blue\")\n",
    "plt.plot(epochs, val_loss, \"b\", label=\"Validation Loss\", color=\"green\")\n",
    "plt.xlabel(\"Epochs\")\n",
    "plt.ylabel(\"Some Loss\")\n",
    "plt.title(\"Train and Validation Loss\")\n",
    "plt.legend()\n",
    "plt.show()"
   ]
  },
  {
   "cell_type": "code",
   "execution_count": null,
   "metadata": {},
   "outputs": [],
   "source": []
  }
 ],
 "metadata": {
  "kernelspec": {
   "display_name": "Python [conda env:ai_env]",
   "language": "python",
   "name": "conda-env-ai_env-py"
  },
  "language_info": {
   "codemirror_mode": {
    "name": "ipython",
    "version": 3
   },
   "file_extension": ".py",
   "mimetype": "text/x-python",
   "name": "python",
   "nbconvert_exporter": "python",
   "pygments_lexer": "ipython3",
   "version": "3.6.8"
  }
 },
 "nbformat": 4,
 "nbformat_minor": 2
}
