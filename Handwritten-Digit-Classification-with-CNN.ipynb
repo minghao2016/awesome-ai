{
 "cells": [
  {
   "cell_type": "code",
   "execution_count": 1,
   "metadata": {
    "ExecuteTime": {
     "end_time": "2019-01-30T18:11:37.748782Z",
     "start_time": "2019-01-30T18:11:36.388019Z"
    }
   },
   "outputs": [
    {
     "name": "stdout",
     "output_type": "stream",
     "text": [
      "1.12.0\n"
     ]
    }
   ],
   "source": [
    "# load packages\n",
    "import os\n",
    "import sys\n",
    "import tensorflow as tf\n",
    "import numpy as np\n",
    "import matplotlib.pyplot as plt\n",
    "print(tf.__version__)"
   ]
  },
  {
   "cell_type": "markdown",
   "metadata": {},
   "source": [
    "# Prepare Data"
   ]
  },
  {
   "cell_type": "code",
   "execution_count": 2,
   "metadata": {
    "ExecuteTime": {
     "end_time": "2019-01-30T18:11:38.084251Z",
     "start_time": "2019-01-30T18:11:37.751488Z"
    }
   },
   "outputs": [],
   "source": [
    "# load data\n",
    "(x_train, y_train), (x_test, y_test) = tf.keras.datasets.mnist.load_data()"
   ]
  },
  {
   "cell_type": "code",
   "execution_count": 3,
   "metadata": {
    "ExecuteTime": {
     "end_time": "2019-01-30T18:11:38.089866Z",
     "start_time": "2019-01-30T18:11:38.086193Z"
    }
   },
   "outputs": [
    {
     "name": "stdout",
     "output_type": "stream",
     "text": [
      "Train: (60000, 28, 28) (60000,)\n",
      "Test: (10000, 28, 28) (10000,)\n"
     ]
    }
   ],
   "source": [
    "print(\"Train:\", x_train.shape, y_train.shape)\n",
    "print(\"Test:\", x_test.shape, y_test.shape)"
   ]
  },
  {
   "cell_type": "code",
   "execution_count": 4,
   "metadata": {
    "ExecuteTime": {
     "end_time": "2019-01-30T18:11:38.270243Z",
     "start_time": "2019-01-30T18:11:38.094146Z"
    }
   },
   "outputs": [],
   "source": [
    "# normlize the data\n",
    "x_train = x_train.astype(\"float32\") / 255.0\n",
    "x_test = x_test.astype(\"float32\") / 255.0"
   ]
  },
  {
   "cell_type": "code",
   "execution_count": 5,
   "metadata": {
    "ExecuteTime": {
     "end_time": "2019-01-30T18:11:38.278252Z",
     "start_time": "2019-01-30T18:11:38.272845Z"
    }
   },
   "outputs": [],
   "source": [
    "# one-hot encode the labels\n",
    "y_train = tf.keras.utils.to_categorical(y_train, 10)\n",
    "y_test = tf.keras.utils.to_categorical(y_test, 10)"
   ]
  },
  {
   "cell_type": "code",
   "execution_count": 6,
   "metadata": {
    "ExecuteTime": {
     "end_time": "2019-01-30T18:11:38.283149Z",
     "start_time": "2019-01-30T18:11:38.279797Z"
    }
   },
   "outputs": [],
   "source": [
    "# reshape input image to 1-channel images form 3-channel images\n",
    "w, h = 28, 28\n",
    "x_train = x_train.reshape(x_train.shape[0], w, h, 1)\n",
    "x_test = x_test.reshape(x_test.shape[0], w, h, 1)"
   ]
  },
  {
   "cell_type": "markdown",
   "metadata": {},
   "source": [
    "# Perceptron Image Classifier"
   ]
  },
  {
   "cell_type": "code",
   "execution_count": 7,
   "metadata": {
    "ExecuteTime": {
     "end_time": "2019-01-30T18:12:00.094348Z",
     "start_time": "2019-01-30T18:11:38.284888Z"
    }
   },
   "outputs": [
    {
     "name": "stdout",
     "output_type": "stream",
     "text": [
      "Train on 60000 samples, validate on 10000 samples\n",
      "Epoch 1/10\n",
      "60000/60000 [==============================] - 3s 54us/step - loss: 0.2204 - acc: 0.9359 - val_loss: 0.1173 - val_acc: 0.9651\n",
      "Epoch 2/10\n",
      "60000/60000 [==============================] - 3s 51us/step - loss: 0.0909 - acc: 0.9725 - val_loss: 0.1050 - val_acc: 0.9690\n",
      "Epoch 3/10\n",
      "60000/60000 [==============================] - 3s 51us/step - loss: 0.0613 - acc: 0.9818 - val_loss: 0.0742 - val_acc: 0.9766\n",
      "Epoch 4/10\n",
      "60000/60000 [==============================] - 3s 51us/step - loss: 0.0465 - acc: 0.9866 - val_loss: 0.0725 - val_acc: 0.9798\n",
      "Epoch 5/10\n",
      "60000/60000 [==============================] - 3s 50us/step - loss: 0.0351 - acc: 0.9894 - val_loss: 0.0735 - val_acc: 0.9803\n",
      "Epoch 6/10\n",
      "60000/60000 [==============================] - 3s 50us/step - loss: 0.0273 - acc: 0.9921 - val_loss: 0.0750 - val_acc: 0.9802\n",
      "Epoch 7/10\n",
      "60000/60000 [==============================] - 3s 51us/step - loss: 0.0212 - acc: 0.9937 - val_loss: 0.0748 - val_acc: 0.9825\n"
     ]
    }
   ],
   "source": [
    "# create a baseline model\n",
    "model = tf.keras.Sequential()\n",
    "\n",
    "# flatten the image\n",
    "model.add(tf.keras.layers.Flatten())\n",
    "\n",
    "# first dense layer\n",
    "model.add(tf.keras.layers.Dense(units=512, activation=\"relu\", input_shape=(28, 28)))\n",
    "\n",
    "# classifier layer\n",
    "model.add(tf.keras.layers.Dense(units=10, activation=\"softmax\"))\n",
    "\n",
    "# compile the model\n",
    "model.compile(\n",
    "    loss=\"categorical_crossentropy\",\n",
    "    optimizer=\"rmsprop\",\n",
    "    metrics=[\"accuracy\"])\n",
    "\n",
    "# train the model\n",
    "history1 = model.fit(\n",
    "    x_train, y_train,\n",
    "    epochs=10,\n",
    "    batch_size=64,\n",
    "    validation_data=(x_test, y_test),\n",
    "    verbose=True,\n",
    "    callbacks=[tf.keras.callbacks.EarlyStopping(patience=3)]\n",
    ")"
   ]
  },
  {
   "cell_type": "markdown",
   "metadata": {},
   "source": [
    "### Visualization"
   ]
  },
  {
   "cell_type": "code",
   "execution_count": 8,
   "metadata": {
    "ExecuteTime": {
     "end_time": "2019-01-30T18:12:00.286246Z",
     "start_time": "2019-01-30T18:12:00.096294Z"
    }
   },
   "outputs": [
    {
     "data": {
      "image/png": "[encoded data removed]",
      "text/plain": [
       "<Figure size 432x288 with 1 Axes>"
      ]
     },
     "metadata": {
      "needs_background": "light"
     },
     "output_type": "display_data"
    }
   ],
   "source": [
    "loss, val_loss = history1.history[\"loss\"], history1.history[\"val_loss\"] # accumulate data\n",
    "\n",
    "epochs = range(1, len(loss) + 1) # number of epochs experiment ran\n",
    "\n",
    "plt.plot(epochs, loss, \"b\", label=\"Training Loss\", color=\"blue\")\n",
    "plt.plot(epochs, val_loss, \"b\", label=\"Validation Loss\", color=\"green\")\n",
    "plt.legend()\n",
    "plt.xlabel(\"Epochs\")\n",
    "plt.ylabel(\"Loss\")\n",
    "plt.title(\"Train and Validation Loss\")\n",
    "plt.show()"
   ]
  },
  {
   "cell_type": "code",
   "execution_count": 9,
   "metadata": {
    "ExecuteTime": {
     "end_time": "2019-01-30T18:12:00.463726Z",
     "start_time": "2019-01-30T18:12:00.288354Z"
    }
   },
   "outputs": [
    {
     "data": {
      "image/png": "[encoded data removed]",
      "text/plain": [
       "<Figure size 432x288 with 1 Axes>"
      ]
     },
     "metadata": {
      "needs_background": "light"
     },
     "output_type": "display_data"
    }
   ],
   "source": [
    "acc, val_acc = history1.history[\"acc\"], history1.history[\"val_acc\"] # accumulate data\n",
    "\n",
    "epochs = range(1, len(acc) + 1) # number of epochs experiment ran\n",
    "\n",
    "plt.plot(epochs, acc, \"b\", label=\"Training Accuracy\", color=\"blue\")\n",
    "plt.plot(epochs, val_acc, \"b\", label=\"Validation Accuracy\", color=\"green\")\n",
    "plt.legend()\n",
    "plt.xlabel(\"Epochs\")\n",
    "plt.ylabel(\"Accuracy\")\n",
    "plt.title(\"Train and Validation Accuracy\")\n",
    "plt.show()"
   ]
  },
  {
   "cell_type": "markdown",
   "metadata": {},
   "source": [
    "# CNN Classifier"
   ]
  },
  {
   "cell_type": "code",
   "execution_count": 11,
   "metadata": {
    "ExecuteTime": {
     "end_time": "2019-01-30T18:15:01.243439Z",
     "start_time": "2019-01-30T18:12:19.298385Z"
    }
   },
   "outputs": [
    {
     "name": "stdout",
     "output_type": "stream",
     "text": [
      "Train on 60000 samples, validate on 10000 samples\n",
      "Epoch 1/10\n",
      "60000/60000 [==============================] - 16s 273us/step - loss: 0.2973 - acc: 0.9102 - val_loss: 0.1182 - val_acc: 0.9632\n",
      "Epoch 2/10\n",
      "60000/60000 [==============================] - 16s 272us/step - loss: 0.1560 - acc: 0.9530 - val_loss: 0.0868 - val_acc: 0.9744\n",
      "Epoch 3/10\n",
      "60000/60000 [==============================] - 17s 278us/step - loss: 0.1333 - acc: 0.9600 - val_loss: 0.0744 - val_acc: 0.9770\n",
      "Epoch 4/10\n",
      "60000/60000 [==============================] - 17s 276us/step - loss: 0.1243 - acc: 0.9633 - val_loss: 0.0777 - val_acc: 0.9768\n",
      "Epoch 5/10\n",
      "60000/60000 [==============================] - 16s 268us/step - loss: 0.1230 - acc: 0.9643 - val_loss: 0.0678 - val_acc: 0.9796\n",
      "Epoch 6/10\n",
      "60000/60000 [==============================] - 16s 264us/step - loss: 0.1154 - acc: 0.9663 - val_loss: 0.0657 - val_acc: 0.9808\n",
      "Epoch 7/10\n",
      "60000/60000 [==============================] - 16s 265us/step - loss: 0.1097 - acc: 0.9670 - val_loss: 0.0644 - val_acc: 0.9820\n",
      "Epoch 8/10\n",
      "60000/60000 [==============================] - 16s 267us/step - loss: 0.1093 - acc: 0.9690 - val_loss: 0.0634 - val_acc: 0.9814\n",
      "Epoch 9/10\n",
      "60000/60000 [==============================] - 16s 264us/step - loss: 0.1039 - acc: 0.9694 - val_loss: 0.0841 - val_acc: 0.9771\n",
      "Epoch 10/10\n",
      "60000/60000 [==============================] - 16s 263us/step - loss: 0.0981 - acc: 0.9711 - val_loss: 0.0577 - val_acc: 0.9827\n"
     ]
    }
   ],
   "source": [
    "# define a sequential cnn model\n",
    "model2 = tf.keras.Sequential()\n",
    "\n",
    "# add a convolutional block\n",
    "model2.add(tf.keras.layers.Conv2D(filters=32,\n",
    "                                kernel_size=(2, 2),\n",
    "                                input_shape=(28, 28, 1)))\n",
    "\n",
    "# add a max pooling layer\n",
    "model2.add(tf.keras.layers.MaxPool2D(pool_size=(2, 2)))\n",
    "\n",
    "# add a dropout layer\n",
    "model2.add(tf.keras.layers.Dropout(rate=0.5))\n",
    "\n",
    "# now flatten the output\n",
    "model2.add(tf.keras.layers.Flatten())\n",
    "\n",
    "# add a dense layer with relu activation\n",
    "model2.add(tf.keras.layers.Dense(256, activation=\"relu\"))\n",
    "\n",
    "# add a dropout layer\n",
    "model2.add(tf.keras.layers.Dropout(rate=0.5))\n",
    "\n",
    "# now add the final output layer: softmax layer\n",
    "model2.add(tf.keras.layers.Dense(10, activation=\"softmax\"))\n",
    "\n",
    "# compile the model\n",
    "model2.compile(\n",
    "    loss=\"categorical_crossentropy\",\n",
    "    optimizer=\"rmsprop\",\n",
    "    metrics=[\"accuracy\"])\n",
    "\n",
    "# train the model\n",
    "history2 = model2.fit(\n",
    "    x_train, y_train,\n",
    "    epochs=10,\n",
    "    batch_size=64,\n",
    "    validation_data=(x_test, y_test),\n",
    "    verbose=True,\n",
    "    callbacks=[tf.keras.callbacks.EarlyStopping(patience=3)]\n",
    ")"
   ]
  },
  {
   "cell_type": "markdown",
   "metadata": {},
   "source": [
    "### Visualization"
   ]
  },
  {
   "cell_type": "code",
   "execution_count": 12,
   "metadata": {
    "ExecuteTime": {
     "end_time": "2019-01-30T18:15:01.412314Z",
     "start_time": "2019-01-30T18:15:01.245945Z"
    }
   },
   "outputs": [
    {
     "data": {
      "image/png": "[encoded data removed]",
      "text/plain": [
       "<Figure size 432x288 with 1 Axes>"
      ]
     },
     "metadata": {
      "needs_background": "light"
     },
     "output_type": "display_data"
    }
   ],
   "source": [
    "loss, val_loss = history2.history[\"loss\"], history2.history[\"val_loss\"] # accumulate data\n",
    "\n",
    "epochs = range(1, len(loss) + 1) # number of epochs experiment ran\n",
    "\n",
    "plt.plot(epochs, loss, \"b\", label=\"Training Loss\", color=\"blue\")\n",
    "plt.plot(epochs, val_loss, \"b\", label=\"Validation Loss\", color=\"green\")\n",
    "plt.legend()\n",
    "plt.xlabel(\"Epochs\")\n",
    "plt.ylabel(\"Loss\")\n",
    "plt.title(\"Train and Validation Loss\")\n",
    "plt.show()"
   ]
  },
  {
   "cell_type": "code",
   "execution_count": 13,
   "metadata": {
    "ExecuteTime": {
     "end_time": "2019-01-30T18:15:01.594171Z",
     "start_time": "2019-01-30T18:15:01.414390Z"
    }
   },
   "outputs": [
    {
     "data": {
      "image/png": "[encoded data removed]",
      "text/plain": [
       "<Figure size 432x288 with 1 Axes>"
      ]
     },
     "metadata": {
      "needs_background": "light"
     },
     "output_type": "display_data"
    }
   ],
   "source": [
    "acc, val_acc = history2.history[\"acc\"], history2.history[\"val_acc\"] # accumulate data\n",
    "\n",
    "epochs = range(1, len(acc) + 1) # number of epochs experiment ran\n",
    "\n",
    "plt.plot(epochs, acc, \"b\", label=\"Training Accuracy\", color=\"blue\")\n",
    "plt.plot(epochs, val_acc, \"b\", label=\"Validation Accuracy\", color=\"green\")\n",
    "plt.legend()\n",
    "plt.xlabel(\"Epochs\")\n",
    "plt.ylabel(\"Accuracy\")\n",
    "plt.title(\"Train and Validation Accuracy\")\n",
    "plt.show()"
   ]
  },
  {
   "cell_type": "markdown",
   "metadata": {},
   "source": [
    "As you can see, the CNN model is more robust and generalized than the simpler perceptron architecture in this scenario even though they perform very similar."
   ]
  },
  {
   "cell_type": "code",
   "execution_count": null,
   "metadata": {},
   "outputs": [],
   "source": []
  }
 ],
 "metadata": {
  "kernelspec": {
   "display_name": "Python [conda env:ai_env]",
   "language": "python",
   "name": "conda-env-ai_env-py"
  },
  "language_info": {
   "codemirror_mode": {
    "name": "ipython",
    "version": 3
   },
   "file_extension": ".py",
   "mimetype": "text/x-python",
   "name": "python",
   "nbconvert_exporter": "python",
   "pygments_lexer": "ipython3",
   "version": "3.6.6"
  }
 },
 "nbformat": 4,
 "nbformat_minor": 2
}
