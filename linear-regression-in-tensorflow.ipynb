{
 "cells": [
  {
   "cell_type": "code",
   "execution_count": 1,
   "metadata": {
    "ExecuteTime": {
     "end_time": "2019-01-28T19:40:23.918629Z",
     "start_time": "2019-01-28T19:40:22.448265Z"
    }
   },
   "outputs": [
    {
     "data": {
      "text/plain": [
       "'1.12.0'"
      ]
     },
     "execution_count": 1,
     "metadata": {},
     "output_type": "execute_result"
    }
   ],
   "source": [
    "# load packages\n",
    "import os\n",
    "import sys\n",
    "import re\n",
    "import numpy as np\n",
    "import tensorflow as tf\n",
    "from sklearn.datasets import load_boston\n",
    "tf.__version__"
   ]
  },
  {
   "cell_type": "code",
   "execution_count": 2,
   "metadata": {
    "ExecuteTime": {
     "end_time": "2019-01-28T19:40:23.932796Z",
     "start_time": "2019-01-28T19:40:23.921797Z"
    }
   },
   "outputs": [
    {
     "data": {
      "text/plain": [
       "((506, 13), (506,))"
      ]
     },
     "execution_count": 2,
     "metadata": {},
     "output_type": "execute_result"
    }
   ],
   "source": [
    "# load data\n",
    "boston = load_boston()\n",
    "features = np.array(boston.data)\n",
    "labels = np.array(boston.target)\n",
    "features.shape, labels.shape"
   ]
  },
  {
   "cell_type": "code",
   "execution_count": 3,
   "metadata": {
    "ExecuteTime": {
     "end_time": "2019-01-28T19:40:23.938685Z",
     "start_time": "2019-01-28T19:40:23.934487Z"
    }
   },
   "outputs": [
    {
     "data": {
      "text/plain": [
       "(506, 1)"
      ]
     },
     "execution_count": 3,
     "metadata": {},
     "output_type": "execute_result"
    }
   ],
   "source": [
    "labels = labels.reshape((len(labels), 1)) # reshape rank 1 array to have 1 dim\n",
    "labels.shape"
   ]
  },
  {
   "cell_type": "code",
   "execution_count": 4,
   "metadata": {
    "ExecuteTime": {
     "end_time": "2019-01-28T19:40:23.949752Z",
     "start_time": "2019-01-28T19:40:23.941442Z"
    }
   },
   "outputs": [
    {
     "data": {
      "text/plain": [
       "array([6.320e-03, 1.800e+01, 2.310e+00, 0.000e+00, 5.380e-01, 6.575e+00,\n",
       "       6.520e+01, 4.090e+00, 1.000e+00, 2.960e+02, 1.530e+01, 3.969e+02,\n",
       "       4.980e+00])"
      ]
     },
     "execution_count": 4,
     "metadata": {},
     "output_type": "execute_result"
    }
   ],
   "source": [
    "features[0]"
   ]
  },
  {
   "cell_type": "code",
   "execution_count": 5,
   "metadata": {
    "ExecuteTime": {
     "end_time": "2019-01-28T19:40:23.957888Z",
     "start_time": "2019-01-28T19:40:23.953129Z"
    }
   },
   "outputs": [
    {
     "data": {
      "text/plain": [
       "array([24.])"
      ]
     },
     "execution_count": 5,
     "metadata": {},
     "output_type": "execute_result"
    }
   ],
   "source": [
    "labels[0]"
   ]
  },
  {
   "cell_type": "code",
   "execution_count": 6,
   "metadata": {
    "ExecuteTime": {
     "end_time": "2019-01-28T19:40:23.966798Z",
     "start_time": "2019-01-28T19:40:23.959806Z"
    }
   },
   "outputs": [
    {
     "data": {
      "text/plain": [
       "(506, 13)"
      ]
     },
     "execution_count": 6,
     "metadata": {},
     "output_type": "execute_result"
    }
   ],
   "source": [
    "mean = np.mean(features, axis=0) # feature wise mean\n",
    "std = np.std(features, axis=0) # feature wise standard deviation\n",
    "# normalize feature now\n",
    "features = (features - mean) / std\n",
    "features.shape"
   ]
  },
  {
   "cell_type": "code",
   "execution_count": 7,
   "metadata": {
    "ExecuteTime": {
     "end_time": "2019-01-28T19:40:23.974309Z",
     "start_time": "2019-01-28T19:40:23.969572Z"
    }
   },
   "outputs": [
    {
     "data": {
      "text/plain": [
       "array([-0.41978194,  0.28482986, -1.2879095 , -0.27259857, -0.14421743,\n",
       "        0.41367189, -0.12001342,  0.1402136 , -0.98284286, -0.66660821,\n",
       "       -1.45900038,  0.44105193, -1.0755623 ])"
      ]
     },
     "execution_count": 7,
     "metadata": {},
     "output_type": "execute_result"
    }
   ],
   "source": [
    "features[0]"
   ]
  },
  {
   "cell_type": "code",
   "execution_count": 8,
   "metadata": {
    "ExecuteTime": {
     "end_time": "2019-01-28T19:40:23.980816Z",
     "start_time": "2019-01-28T19:40:23.976774Z"
    }
   },
   "outputs": [],
   "source": [
    "random_indices = np.random.rand(len(features)) < 0.80 # random indexes for splitting\n",
    "# splti data\n",
    "train_x = features[random_indices]\n",
    "train_y = labels[random_indices]\n",
    "val_x = features[~random_indices]\n",
    "val_y = labels[~random_indices]"
   ]
  },
  {
   "cell_type": "code",
   "execution_count": 9,
   "metadata": {
    "ExecuteTime": {
     "end_time": "2019-01-28T19:40:23.986563Z",
     "start_time": "2019-01-28T19:40:23.982592Z"
    }
   },
   "outputs": [
    {
     "data": {
      "text/plain": [
       "13"
      ]
     },
     "execution_count": 9,
     "metadata": {},
     "output_type": "execute_result"
    }
   ],
   "source": [
    "# set dimension\n",
    "num_features = features.shape[1]\n",
    "num_features"
   ]
  },
  {
   "cell_type": "code",
   "execution_count": 20,
   "metadata": {
    "ExecuteTime": {
     "end_time": "2019-01-28T19:41:22.070984Z",
     "start_time": "2019-01-28T19:41:22.065308Z"
    }
   },
   "outputs": [],
   "source": [
    "# create placeholders for input\n",
    "x = tf.placeholder(dtype=tf.float32, shape=(None, num_features), name=\"feature_matrix\") # num_samples x num_features\n",
    "y = tf.placeholder(dtype=tf.float32, shape=(None, 1), name=\"target_vector\") # num_sampels X 1"
   ]
  },
  {
   "cell_type": "code",
   "execution_count": 21,
   "metadata": {
    "ExecuteTime": {
     "end_time": "2019-01-28T19:41:22.426579Z",
     "start_time": "2019-01-28T19:41:22.418996Z"
    }
   },
   "outputs": [],
   "source": [
    "# define weight for the model\n",
    "w = tf.Variable(tf.zeros(dtype=tf.float32, shape=(1, num_features)))"
   ]
  },
  {
   "cell_type": "code",
   "execution_count": 22,
   "metadata": {
    "ExecuteTime": {
     "end_time": "2019-01-28T19:41:22.675485Z",
     "start_time": "2019-01-28T19:41:22.667712Z"
    }
   },
   "outputs": [],
   "source": [
    "# define bais\n",
    "b = tf.Variable(tf.zeros(dtype=tf.float32, shape=(1, num_features)))"
   ]
  },
  {
   "cell_type": "code",
   "execution_count": 23,
   "metadata": {
    "ExecuteTime": {
     "end_time": "2019-01-28T19:41:22.918077Z",
     "start_time": "2019-01-28T19:41:22.913237Z"
    }
   },
   "outputs": [],
   "source": [
    "# linear model\n",
    "linear_model = tf.add(tf.multiply(w, x), b)"
   ]
  },
  {
   "cell_type": "code",
   "execution_count": 24,
   "metadata": {
    "ExecuteTime": {
     "end_time": "2019-01-28T19:41:23.185985Z",
     "start_time": "2019-01-28T19:41:23.179201Z"
    }
   },
   "outputs": [],
   "source": [
    "loss_function = tf.reduce_mean(tf.square(linear_model - y)) # define loss function"
   ]
  },
  {
   "cell_type": "markdown",
   "metadata": {},
   "source": [
    "### using Inbuilt Adam Optimizer"
   ]
  },
  {
   "cell_type": "code",
   "execution_count": 25,
   "metadata": {
    "ExecuteTime": {
     "end_time": "2019-01-28T19:41:23.797875Z",
     "start_time": "2019-01-28T19:41:23.730815Z"
    }
   },
   "outputs": [],
   "source": [
    "trainer = tf.train.AdamOptimizer(learning_rate=0.01).minimize(loss_function) # trainer"
   ]
  },
  {
   "cell_type": "code",
   "execution_count": 26,
   "metadata": {
    "ExecuteTime": {
     "end_time": "2019-01-28T19:41:32.406585Z",
     "start_time": "2019-01-28T19:41:23.984771Z"
    }
   },
   "outputs": [
    {
     "name": "stdout",
     "output_type": "stream",
     "text": [
      "[Training...]\n",
      "\n",
      "Step 0 :\tTrain Loss:  597.1853\n",
      "Step 1000 :\tTrain Loss:  255.944\n",
      "Step 2000 :\tTrain Loss:  116.56724\n",
      "Step 3000 :\tTrain Loss:  75.38359\n",
      "Step 4000 :\tTrain Loss:  69.538506\n",
      "Step 5000 :\tTrain Loss:  69.31896\n",
      "Step 6000 :\tTrain Loss:  69.3181\n",
      "Step 7000 :\tTrain Loss:  69.3181\n",
      "Step 8000 :\tTrain Loss:  69.31809\n",
      "Step 9000 :\tTrain Loss:  69.3181\n",
      "Step 10000 :\tTrain Loss:  69.318115\n",
      "Validation Loss:  58.303604\n",
      "Final Weight: [[-3.2571695  3.0029676 -4.342824   2.1187878 -3.7252488  6.3930073\n",
      "  -3.1344957  2.1410244 -3.4117022 -4.2930226 -4.456309   3.0973756\n",
      "  -6.856764 ]]\n",
      "Final Bias: [[22.60375  22.745926 22.70757  22.613136 22.62807  22.625416 22.64883\n",
      "  22.692284 22.579054 22.615358 22.473026 22.655428 22.565424]]\n",
      "\n"
     ]
    }
   ],
   "source": [
    "# run the mode\n",
    "with tf.Session() as sess:\n",
    "    epochs = 10000\n",
    "    print(\"[Training...]\\n\")\n",
    "    sess.run(tf.global_variables_initializer()) # initialize variables\n",
    "    # run the optimizer\n",
    "    for i in range(epochs+1):\n",
    "        sess.run(trainer, feed_dict={x:train_x, y:train_y}) # train and update weights and bais\n",
    "        c = sess.run(loss_function, feed_dict={x:train_x, y:train_y}) # get the loss for current w and b\n",
    "        if i % 1000 == 0:\n",
    "            print(\"Step\", i, \":\", end=\"\\t\")\n",
    "            print(\"Train Loss: \", c)\n",
    "    print(\"Validation Loss: \", sess.run(loss_function, feed_dict={x:val_x, y:val_y}))\n",
    "    print(\"Final Weight:\", sess.run(w))\n",
    "    print(\"Final Bias:\", sess.run(b))\n",
    "    print()"
   ]
  },
  {
   "cell_type": "markdown",
   "metadata": {},
   "source": [
    "### Using Gradient From Scratch"
   ]
  },
  {
   "cell_type": "code",
   "execution_count": 15,
   "metadata": {
    "ExecuteTime": {
     "end_time": "2019-01-28T19:40:29.066828Z",
     "start_time": "2019-01-28T19:40:29.033371Z"
    }
   },
   "outputs": [],
   "source": [
    "grad_w, grad_b = tf.gradients(xs=[w, b], ys=loss_function) # compute gradient"
   ]
  },
  {
   "cell_type": "code",
   "execution_count": 16,
   "metadata": {
    "ExecuteTime": {
     "end_time": "2019-01-28T19:40:29.356816Z",
     "start_time": "2019-01-28T19:40:29.347193Z"
    }
   },
   "outputs": [],
   "source": [
    "# update weights and bias\n",
    "new_w = w.assign(w - 0.01 * grad_w) # assign new value\n",
    "new_b = b.assign(b - 0.01 * grad_b)"
   ]
  },
  {
   "cell_type": "code",
   "execution_count": 17,
   "metadata": {
    "ExecuteTime": {
     "end_time": "2019-01-28T19:40:37.944878Z",
     "start_time": "2019-01-28T19:40:31.867419Z"
    },
    "scrolled": true
   },
   "outputs": [
    {
     "name": "stdout",
     "output_type": "stream",
     "text": [
      "[Training...]\n",
      "\n",
      "Step 0 :\tTrain Loss:  597.7122\n",
      "Step 1000 :\tTrain Loss:  93.70311\n",
      "Step 2000 :\tTrain Loss:  70.45078\n",
      "Step 3000 :\tTrain Loss:  69.371155\n",
      "Step 4000 :\tTrain Loss:  69.32062\n",
      "Step 5000 :\tTrain Loss:  69.318214\n",
      "Step 6000 :\tTrain Loss:  69.31811\n",
      "Step 7000 :\tTrain Loss:  69.3181\n",
      "Step 8000 :\tTrain Loss:  69.3181\n",
      "Step 9000 :\tTrain Loss:  69.31811\n",
      "Step 10000 :\tTrain Loss:  69.31811\n",
      "Validation Loss:  58.30311\n",
      "Final Weights: [[-3.2571068  3.0028489 -4.3426533  2.1187181 -3.7251704  6.392851\n",
      "  -3.134415   2.1409216 -3.4116397 -4.2928643 -4.456479   3.0972924\n",
      "  -6.8566117]]\n",
      "Final Bias: [[22.603153 22.745323 22.706968 22.612541 22.627474 22.624819 22.648232\n",
      "  22.691685 22.578457 22.614761 22.472424 22.65483  22.564829]]\n",
      "\n"
     ]
    }
   ],
   "source": [
    "# run the mode\n",
    "with tf.Session() as sess:\n",
    "    epochs = 10000\n",
    "    print(\"[Training...]\\n\")\n",
    "    sess.run(tf.global_variables_initializer()) # initialize variables\n",
    "    # run the optimizer for 1000 iterations\n",
    "    for i in range(epochs+1):\n",
    "        _, _, c = sess.run([new_w, new_b, loss_function], feed_dict={x:train_x, y:train_y})\n",
    "        if i % 1000 == 0:\n",
    "            print(\"Step\", i, \":\", end=\"\\t\")\n",
    "            print(\"Train Loss: \", c)\n",
    "    print(\"Validation Loss: \", sess.run(loss_function, feed_dict={x:val_x, y:val_y}))\n",
    "    print(\"Final Weights:\", sess.run(w))\n",
    "    print(\"Final Bias:\", sess.run(b))\n",
    "    print()"
   ]
  },
  {
   "cell_type": "code",
   "execution_count": null,
   "metadata": {},
   "outputs": [],
   "source": []
  }
 ],
 "metadata": {
  "kernelspec": {
   "display_name": "Python [conda env:ai_env]",
   "language": "python",
   "name": "conda-env-ai_env-py"
  },
  "language_info": {
   "codemirror_mode": {
    "name": "ipython",
    "version": 3
   },
   "file_extension": ".py",
   "mimetype": "text/x-python",
   "name": "python",
   "nbconvert_exporter": "python",
   "pygments_lexer": "ipython3",
   "version": "3.6.6"
  }
 },
 "nbformat": 4,
 "nbformat_minor": 2
}
