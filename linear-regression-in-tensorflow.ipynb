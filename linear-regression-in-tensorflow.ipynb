{
 "cells": [
  {
   "cell_type": "code",
   "execution_count": 2,
   "metadata": {
    "ExecuteTime": {
     "end_time": "2019-01-28T17:30:39.048064Z",
     "start_time": "2019-01-28T17:30:39.042871Z"
    }
   },
   "outputs": [
    {
     "data": {
      "text/plain": [
       "'1.12.0'"
      ]
     },
     "execution_count": 2,
     "metadata": {},
     "output_type": "execute_result"
    }
   ],
   "source": [
    "# load packages\n",
    "import os\n",
    "import sys\n",
    "import re\n",
    "import numpy as np\n",
    "import tensorflow as tf\n",
    "from sklearn.datasets import load_boston\n",
    "tf.__version__"
   ]
  },
  {
   "cell_type": "code",
   "execution_count": 3,
   "metadata": {
    "ExecuteTime": {
     "end_time": "2019-01-28T17:37:26.049924Z",
     "start_time": "2019-01-28T17:37:26.037505Z"
    }
   },
   "outputs": [
    {
     "data": {
      "text/plain": [
       "((506, 13), (506,))"
      ]
     },
     "execution_count": 3,
     "metadata": {},
     "output_type": "execute_result"
    }
   ],
   "source": [
    "# load data\n",
    "boston = load_boston()\n",
    "features = np.array(boston.data)\n",
    "labels = np.array(boston.target)\n",
    "features.shape, labels.shape"
   ]
  },
  {
   "cell_type": "code",
   "execution_count": 4,
   "metadata": {
    "ExecuteTime": {
     "end_time": "2019-01-28T17:38:00.417815Z",
     "start_time": "2019-01-28T17:38:00.413130Z"
    }
   },
   "outputs": [
    {
     "data": {
      "text/plain": [
       "(506, 1)"
      ]
     },
     "execution_count": 4,
     "metadata": {},
     "output_type": "execute_result"
    }
   ],
   "source": [
    "labels = labels.reshape((len(labels), 1))\n",
    "labels.shape"
   ]
  },
  {
   "cell_type": "code",
   "execution_count": 5,
   "metadata": {
    "ExecuteTime": {
     "end_time": "2019-01-28T17:38:07.908796Z",
     "start_time": "2019-01-28T17:38:07.903742Z"
    }
   },
   "outputs": [
    {
     "data": {
      "text/plain": [
       "array([6.320e-03, 1.800e+01, 2.310e+00, 0.000e+00, 5.380e-01, 6.575e+00,\n",
       "       6.520e+01, 4.090e+00, 1.000e+00, 2.960e+02, 1.530e+01, 3.969e+02,\n",
       "       4.980e+00])"
      ]
     },
     "execution_count": 5,
     "metadata": {},
     "output_type": "execute_result"
    }
   ],
   "source": [
    "features[0]"
   ]
  },
  {
   "cell_type": "code",
   "execution_count": 7,
   "metadata": {
    "ExecuteTime": {
     "end_time": "2019-01-28T17:40:50.893190Z",
     "start_time": "2019-01-28T17:40:50.888548Z"
    }
   },
   "outputs": [
    {
     "data": {
      "text/plain": [
       "array([24.])"
      ]
     },
     "execution_count": 7,
     "metadata": {},
     "output_type": "execute_result"
    }
   ],
   "source": [
    "labels[0]"
   ]
  },
  {
   "cell_type": "code",
   "execution_count": 8,
   "metadata": {
    "ExecuteTime": {
     "end_time": "2019-01-28T17:42:49.055155Z",
     "start_time": "2019-01-28T17:42:49.049084Z"
    }
   },
   "outputs": [
    {
     "data": {
      "text/plain": [
       "(506, 13)"
      ]
     },
     "execution_count": 8,
     "metadata": {},
     "output_type": "execute_result"
    }
   ],
   "source": [
    "mean = np.mean(features, axis=0) # feature wise mean\n",
    "std = np.std(features, axis=0) # feature wise standard deviation\n",
    "# normalize feature now\n",
    "features = (features - mean) / std\n",
    "features.shape"
   ]
  },
  {
   "cell_type": "code",
   "execution_count": 9,
   "metadata": {
    "ExecuteTime": {
     "end_time": "2019-01-28T17:42:54.961240Z",
     "start_time": "2019-01-28T17:42:54.957219Z"
    }
   },
   "outputs": [
    {
     "data": {
      "text/plain": [
       "array([-0.41978194,  0.28482986, -1.2879095 , -0.27259857, -0.14421743,\n",
       "        0.41367189, -0.12001342,  0.1402136 , -0.98284286, -0.66660821,\n",
       "       -1.45900038,  0.44105193, -1.0755623 ])"
      ]
     },
     "execution_count": 9,
     "metadata": {},
     "output_type": "execute_result"
    }
   ],
   "source": [
    "features[0]"
   ]
  },
  {
   "cell_type": "code",
   "execution_count": 39,
   "metadata": {
    "ExecuteTime": {
     "end_time": "2019-01-28T18:04:02.619657Z",
     "start_time": "2019-01-28T18:04:02.614179Z"
    }
   },
   "outputs": [],
   "source": [
    "random_indices = np.random.rand(len(features)) < 0.80 # random indexes for splitting\n",
    "# splti data\n",
    "train_x = features[random_indices]\n",
    "train_y = labels[random_indices]\n",
    "val_x = features[~random_indices]\n",
    "val_y = labels[~random_indices]"
   ]
  },
  {
   "cell_type": "code",
   "execution_count": 40,
   "metadata": {
    "ExecuteTime": {
     "end_time": "2019-01-28T18:04:09.504171Z",
     "start_time": "2019-01-28T18:04:09.500244Z"
    }
   },
   "outputs": [
    {
     "data": {
      "text/plain": [
       "13"
      ]
     },
     "execution_count": 40,
     "metadata": {},
     "output_type": "execute_result"
    }
   ],
   "source": [
    "# set dimension\n",
    "num_features = features.shape[1]\n",
    "num_features"
   ]
  },
  {
   "cell_type": "code",
   "execution_count": 41,
   "metadata": {
    "ExecuteTime": {
     "end_time": "2019-01-28T18:04:10.982696Z",
     "start_time": "2019-01-28T18:04:10.976857Z"
    }
   },
   "outputs": [],
   "source": [
    "# create placeholders for input\n",
    "x = tf.placeholder(dtype=tf.float32, shape=(None, num_features), name=\"feature_matrix\") # num_samples x num_features\n",
    "y = tf.placeholder(dtype=tf.float32, shape=(None, 1), name=\"target_vector\") # num_sampels X 1"
   ]
  },
  {
   "cell_type": "code",
   "execution_count": 42,
   "metadata": {
    "ExecuteTime": {
     "end_time": "2019-01-28T18:04:17.890702Z",
     "start_time": "2019-01-28T18:04:17.882375Z"
    }
   },
   "outputs": [],
   "source": [
    "# define weight for the model\n",
    "w = tf.Variable(tf.zeros(dtype=tf.float32, shape=(1, num_features)))"
   ]
  },
  {
   "cell_type": "code",
   "execution_count": 43,
   "metadata": {
    "ExecuteTime": {
     "end_time": "2019-01-28T18:04:18.200749Z",
     "start_time": "2019-01-28T18:04:18.190672Z"
    }
   },
   "outputs": [],
   "source": [
    "# define bais\n",
    "b = tf.Variable(tf.zeros(dtype=tf.float32, shape=(1, num_features)))"
   ]
  },
  {
   "cell_type": "code",
   "execution_count": 44,
   "metadata": {
    "ExecuteTime": {
     "end_time": "2019-01-28T18:04:18.499927Z",
     "start_time": "2019-01-28T18:04:18.495061Z"
    }
   },
   "outputs": [],
   "source": [
    "# linear model\n",
    "linear_model = tf.add(tf.multiply(w, x), b)"
   ]
  },
  {
   "cell_type": "code",
   "execution_count": 45,
   "metadata": {
    "ExecuteTime": {
     "end_time": "2019-01-28T18:04:18.865001Z",
     "start_time": "2019-01-28T18:04:18.858013Z"
    }
   },
   "outputs": [],
   "source": [
    "loss = tf.reduce_mean(tf.square(linear_model - y)) # define loss function"
   ]
  },
  {
   "cell_type": "code",
   "execution_count": 46,
   "metadata": {
    "ExecuteTime": {
     "end_time": "2019-01-28T18:04:21.073636Z",
     "start_time": "2019-01-28T18:04:21.006076Z"
    }
   },
   "outputs": [],
   "source": [
    "# set optimizer for weight updates\n",
    "trainer = tf.train.AdamOptimizer(learning_rate=0.01).minimize(loss)"
   ]
  },
  {
   "cell_type": "code",
   "execution_count": 51,
   "metadata": {
    "ExecuteTime": {
     "end_time": "2019-01-28T18:08:53.430458Z",
     "start_time": "2019-01-28T18:08:53.427445Z"
    }
   },
   "outputs": [],
   "source": [
    "num_iterations = 10000"
   ]
  },
  {
   "cell_type": "code",
   "execution_count": 56,
   "metadata": {
    "ExecuteTime": {
     "end_time": "2019-01-28T18:11:13.640167Z",
     "start_time": "2019-01-28T18:11:08.057146Z"
    }
   },
   "outputs": [
    {
     "name": "stdout",
     "output_type": "stream",
     "text": [
      "[Training...]\n",
      "\n",
      "Step 0 :\tTrain Loss:  615.5407\tValidation Loss:  483.96448\n",
      "Step 1000 :\tTrain Loss:  266.24237\tValidation Loss:  181.4687\n",
      "Step 2000 :\tTrain Loss:  122.7175\tValidation Loss:  65.10624\n",
      "Step 3000 :\tTrain Loss:  79.224884\tValidation Loss:  39.27142\n",
      "Step 4000 :\tTrain Loss:  72.752846\tValidation Loss:  41.03009\n",
      "Step 5000 :\tTrain Loss:  72.488625\tValidation Loss:  42.67291\n",
      "Step 6000 :\tTrain Loss:  72.48744\tValidation Loss:  42.80791\n",
      "Step 7000 :\tTrain Loss:  72.48744\tValidation Loss:  42.809036\n",
      "Step 8000 :\tTrain Loss:  72.48742\tValidation Loss:  42.809196\n",
      "Step 9000 :\tTrain Loss:  72.48741\tValidation Loss:  42.8093\n",
      "Step 10000 :\tTrain Loss:  72.487404\tValidation Loss:  42.809357\n"
     ]
    }
   ],
   "source": [
    "# run the mode\n",
    "with tf.Session() as sess:\n",
    "    print(\"[Training...]\\n\")\n",
    "    sess.run(tf.global_variables_initializer()) # initialize variables\n",
    "    # run the optimizer for 1000 iterations\n",
    "    for i in range(num_iterations+1):\n",
    "        sess.run(trainer, feed_dict={x:train_x, y:train_y})\n",
    "        if i % 1000 == 0:\n",
    "            print(\"Step\", i, \":\", end=\"\\t\")\n",
    "            print(\"Train Loss: \", sess.run(loss, feed_dict={x:train_x, y:train_y}), end=\"\\t\")\n",
    "            print(\"Validation Loss: \", sess.run(loss, feed_dict={x:val_x, y:val_y}))"
   ]
  },
  {
   "cell_type": "code",
   "execution_count": null,
   "metadata": {},
   "outputs": [],
   "source": []
  }
 ],
 "metadata": {
  "kernelspec": {
   "display_name": "Python [conda env:ai_env]",
   "language": "python",
   "name": "conda-env-ai_env-py"
  },
  "language_info": {
   "codemirror_mode": {
    "name": "ipython",
    "version": 3
   },
   "file_extension": ".py",
   "mimetype": "text/x-python",
   "name": "python",
   "nbconvert_exporter": "python",
   "pygments_lexer": "ipython3",
   "version": "3.6.6"
  }
 },
 "nbformat": 4,
 "nbformat_minor": 2
}
