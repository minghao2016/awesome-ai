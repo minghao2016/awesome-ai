{
 "cells": [
  {
   "cell_type": "code",
   "execution_count": 1,
   "metadata": {
    "ExecuteTime": {
     "end_time": "2019-01-28T18:13:59.840520Z",
     "start_time": "2019-01-28T18:13:58.366128Z"
    }
   },
   "outputs": [
    {
     "data": {
      "text/plain": [
       "'1.12.0'"
      ]
     },
     "execution_count": 1,
     "metadata": {},
     "output_type": "execute_result"
    }
   ],
   "source": [
    "# load packages\n",
    "import os\n",
    "import sys\n",
    "import re\n",
    "import numpy as np\n",
    "import tensorflow as tf\n",
    "from sklearn.datasets import load_boston\n",
    "tf.__version__"
   ]
  },
  {
   "cell_type": "code",
   "execution_count": 2,
   "metadata": {
    "ExecuteTime": {
     "end_time": "2019-01-28T18:13:59.854295Z",
     "start_time": "2019-01-28T18:13:59.843538Z"
    }
   },
   "outputs": [
    {
     "data": {
      "text/plain": [
       "((506, 13), (506,))"
      ]
     },
     "execution_count": 2,
     "metadata": {},
     "output_type": "execute_result"
    }
   ],
   "source": [
    "# load data\n",
    "boston = load_boston()\n",
    "features = np.array(boston.data)\n",
    "labels = np.array(boston.target)\n",
    "features.shape, labels.shape"
   ]
  },
  {
   "cell_type": "code",
   "execution_count": 3,
   "metadata": {
    "ExecuteTime": {
     "end_time": "2019-01-28T18:13:59.861045Z",
     "start_time": "2019-01-28T18:13:59.856351Z"
    }
   },
   "outputs": [
    {
     "data": {
      "text/plain": [
       "(506, 1)"
      ]
     },
     "execution_count": 3,
     "metadata": {},
     "output_type": "execute_result"
    }
   ],
   "source": [
    "labels = labels.reshape((len(labels), 1)) # reshape rank 1 array to have 1 dim\n",
    "labels.shape"
   ]
  },
  {
   "cell_type": "code",
   "execution_count": 4,
   "metadata": {
    "ExecuteTime": {
     "end_time": "2019-01-28T18:13:59.870705Z",
     "start_time": "2019-01-28T18:13:59.865209Z"
    }
   },
   "outputs": [
    {
     "data": {
      "text/plain": [
       "array([6.320e-03, 1.800e+01, 2.310e+00, 0.000e+00, 5.380e-01, 6.575e+00,\n",
       "       6.520e+01, 4.090e+00, 1.000e+00, 2.960e+02, 1.530e+01, 3.969e+02,\n",
       "       4.980e+00])"
      ]
     },
     "execution_count": 4,
     "metadata": {},
     "output_type": "execute_result"
    }
   ],
   "source": [
    "features[0]"
   ]
  },
  {
   "cell_type": "code",
   "execution_count": 5,
   "metadata": {
    "ExecuteTime": {
     "end_time": "2019-01-28T18:13:59.878093Z",
     "start_time": "2019-01-28T18:13:59.873610Z"
    }
   },
   "outputs": [
    {
     "data": {
      "text/plain": [
       "array([24.])"
      ]
     },
     "execution_count": 5,
     "metadata": {},
     "output_type": "execute_result"
    }
   ],
   "source": [
    "labels[0]"
   ]
  },
  {
   "cell_type": "code",
   "execution_count": 6,
   "metadata": {
    "ExecuteTime": {
     "end_time": "2019-01-28T18:13:59.888091Z",
     "start_time": "2019-01-28T18:13:59.881645Z"
    }
   },
   "outputs": [
    {
     "data": {
      "text/plain": [
       "(506, 13)"
      ]
     },
     "execution_count": 6,
     "metadata": {},
     "output_type": "execute_result"
    }
   ],
   "source": [
    "mean = np.mean(features, axis=0) # feature wise mean\n",
    "std = np.std(features, axis=0) # feature wise standard deviation\n",
    "# normalize feature now\n",
    "features = (features - mean) / std\n",
    "features.shape"
   ]
  },
  {
   "cell_type": "code",
   "execution_count": 7,
   "metadata": {
    "ExecuteTime": {
     "end_time": "2019-01-28T18:13:59.894072Z",
     "start_time": "2019-01-28T18:13:59.889724Z"
    }
   },
   "outputs": [
    {
     "data": {
      "text/plain": [
       "array([-0.41978194,  0.28482986, -1.2879095 , -0.27259857, -0.14421743,\n",
       "        0.41367189, -0.12001342,  0.1402136 , -0.98284286, -0.66660821,\n",
       "       -1.45900038,  0.44105193, -1.0755623 ])"
      ]
     },
     "execution_count": 7,
     "metadata": {},
     "output_type": "execute_result"
    }
   ],
   "source": [
    "features[0]"
   ]
  },
  {
   "cell_type": "code",
   "execution_count": 8,
   "metadata": {
    "ExecuteTime": {
     "end_time": "2019-01-28T18:13:59.900830Z",
     "start_time": "2019-01-28T18:13:59.895904Z"
    }
   },
   "outputs": [],
   "source": [
    "random_indices = np.random.rand(len(features)) < 0.80 # random indexes for splitting\n",
    "# splti data\n",
    "train_x = features[random_indices]\n",
    "train_y = labels[random_indices]\n",
    "val_x = features[~random_indices]\n",
    "val_y = labels[~random_indices]"
   ]
  },
  {
   "cell_type": "code",
   "execution_count": 9,
   "metadata": {
    "ExecuteTime": {
     "end_time": "2019-01-28T18:13:59.907264Z",
     "start_time": "2019-01-28T18:13:59.902262Z"
    }
   },
   "outputs": [
    {
     "data": {
      "text/plain": [
       "13"
      ]
     },
     "execution_count": 9,
     "metadata": {},
     "output_type": "execute_result"
    }
   ],
   "source": [
    "# set dimension\n",
    "num_features = features.shape[1]\n",
    "num_features"
   ]
  },
  {
   "cell_type": "code",
   "execution_count": 10,
   "metadata": {
    "ExecuteTime": {
     "end_time": "2019-01-28T18:13:59.929502Z",
     "start_time": "2019-01-28T18:13:59.910031Z"
    }
   },
   "outputs": [],
   "source": [
    "# create placeholders for input\n",
    "x = tf.placeholder(dtype=tf.float32, shape=(None, num_features), name=\"feature_matrix\") # num_samples x num_features\n",
    "y = tf.placeholder(dtype=tf.float32, shape=(None, 1), name=\"target_vector\") # num_sampels X 1"
   ]
  },
  {
   "cell_type": "code",
   "execution_count": 11,
   "metadata": {
    "ExecuteTime": {
     "end_time": "2019-01-28T18:13:59.941069Z",
     "start_time": "2019-01-28T18:13:59.932299Z"
    }
   },
   "outputs": [],
   "source": [
    "# define weight for the model\n",
    "w = tf.Variable(tf.zeros(dtype=tf.float32, shape=(1, num_features)))"
   ]
  },
  {
   "cell_type": "code",
   "execution_count": 12,
   "metadata": {
    "ExecuteTime": {
     "end_time": "2019-01-28T18:13:59.950171Z",
     "start_time": "2019-01-28T18:13:59.943020Z"
    }
   },
   "outputs": [],
   "source": [
    "# define bais\n",
    "b = tf.Variable(tf.zeros(dtype=tf.float32, shape=(1, num_features)))"
   ]
  },
  {
   "cell_type": "code",
   "execution_count": 13,
   "metadata": {
    "ExecuteTime": {
     "end_time": "2019-01-28T18:13:59.957203Z",
     "start_time": "2019-01-28T18:13:59.951881Z"
    }
   },
   "outputs": [],
   "source": [
    "# linear model\n",
    "linear_model = tf.add(tf.multiply(w, x), b)"
   ]
  },
  {
   "cell_type": "code",
   "execution_count": 14,
   "metadata": {
    "ExecuteTime": {
     "end_time": "2019-01-28T18:13:59.970305Z",
     "start_time": "2019-01-28T18:13:59.959177Z"
    }
   },
   "outputs": [],
   "source": [
    "loss = tf.reduce_mean(tf.square(linear_model - y)) # define loss function"
   ]
  },
  {
   "cell_type": "code",
   "execution_count": 15,
   "metadata": {
    "ExecuteTime": {
     "end_time": "2019-01-28T18:14:00.046958Z",
     "start_time": "2019-01-28T18:13:59.972418Z"
    }
   },
   "outputs": [],
   "source": [
    "# set optimizer for weight updates\n",
    "trainer = tf.train.AdamOptimizer(learning_rate=0.01).minimize(loss)"
   ]
  },
  {
   "cell_type": "code",
   "execution_count": 16,
   "metadata": {
    "ExecuteTime": {
     "end_time": "2019-01-28T18:14:00.051604Z",
     "start_time": "2019-01-28T18:14:00.048738Z"
    }
   },
   "outputs": [],
   "source": [
    "num_iterations = 10000"
   ]
  },
  {
   "cell_type": "code",
   "execution_count": 17,
   "metadata": {
    "ExecuteTime": {
     "end_time": "2019-01-28T18:14:05.551951Z",
     "start_time": "2019-01-28T18:14:00.053272Z"
    }
   },
   "outputs": [
    {
     "name": "stdout",
     "output_type": "stream",
     "text": [
      "[Training...]\n",
      "\n",
      "Step 0 :\tTrain Loss:  569.3327\tValidation Loss:  676.7248\n",
      "Step 1000 :\tTrain Loss:  238.79741\tValidation Loss:  301.08655\n",
      "Step 2000 :\tTrain Loss:  106.13626\tValidation Loss:  145.13638\n",
      "Step 3000 :\tTrain Loss:  68.60378\tValidation Loss:  93.228424\n",
      "Step 4000 :\tTrain Loss:  63.693157\tValidation Loss:  82.17353\n",
      "Step 5000 :\tTrain Loss:  63.533283\tValidation Loss:  80.76761\n",
      "Step 6000 :\tTrain Loss:  63.53281\tValidation Loss:  80.69479\n",
      "Step 7000 :\tTrain Loss:  63.53278\tValidation Loss:  80.69461\n",
      "Step 8000 :\tTrain Loss:  63.53278\tValidation Loss:  80.69448\n",
      "Step 9000 :\tTrain Loss:  63.532784\tValidation Loss:  80.694405\n",
      "Step 10000 :\tTrain Loss:  63.53279\tValidation Loss:  80.69436\n"
     ]
    }
   ],
   "source": [
    "# run the mode\n",
    "with tf.Session() as sess:\n",
    "    print(\"[Training...]\\n\")\n",
    "    sess.run(tf.global_variables_initializer()) # initialize variables\n",
    "    # run the optimizer for 1000 iterations\n",
    "    for i in range(num_iterations+1):\n",
    "        sess.run(trainer, feed_dict={x:train_x, y:train_y})\n",
    "        if i % 1000 == 0:\n",
    "            print(\"Step\", i, \":\", end=\"\\t\")\n",
    "            print(\"Train Loss: \", sess.run(loss, feed_dict={x:train_x, y:train_y}), end=\"\\t\")\n",
    "            print(\"Validation Loss: \", sess.run(loss, feed_dict={x:val_x, y:val_y}))"
   ]
  },
  {
   "cell_type": "code",
   "execution_count": null,
   "metadata": {},
   "outputs": [],
   "source": []
  }
 ],
 "metadata": {
  "kernelspec": {
   "display_name": "Python [conda env:ai_env]",
   "language": "python",
   "name": "conda-env-ai_env-py"
  },
  "language_info": {
   "codemirror_mode": {
    "name": "ipython",
    "version": 3
   },
   "file_extension": ".py",
   "mimetype": "text/x-python",
   "name": "python",
   "nbconvert_exporter": "python",
   "pygments_lexer": "ipython3",
   "version": "3.6.6"
  }
 },
 "nbformat": 4,
 "nbformat_minor": 2
}
