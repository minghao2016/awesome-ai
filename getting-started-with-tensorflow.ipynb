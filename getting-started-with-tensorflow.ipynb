{
 "cells": [
  {
   "cell_type": "code",
   "execution_count": 1,
   "metadata": {
    "ExecuteTime": {
     "end_time": "2019-01-26T11:43:24.169154Z",
     "start_time": "2019-01-26T11:43:22.905985Z"
    }
   },
   "outputs": [
    {
     "data": {
      "text/plain": [
       "'1.12.0'"
      ]
     },
     "execution_count": 1,
     "metadata": {},
     "output_type": "execute_result"
    }
   ],
   "source": [
    "# import packages\n",
    "import os\n",
    "import sys\n",
    "import numpy as np\n",
    "import tensorflow as tf\n",
    "tf.__version__"
   ]
  },
  {
   "cell_type": "markdown",
   "metadata": {},
   "source": [
    "## tf.constant()"
   ]
  },
  {
   "cell_type": "code",
   "execution_count": 2,
   "metadata": {
    "ExecuteTime": {
     "end_time": "2019-01-26T11:43:24.187043Z",
     "start_time": "2019-01-26T11:43:24.171597Z"
    }
   },
   "outputs": [],
   "source": [
    "# constant is used to hold fixed numeric values\n",
    "node1 = tf.constant(3.0, tf.float32) # nodes are nothing but tensors\n",
    "node2 = tf.constant(4.5) # implicitly applied: float32"
   ]
  },
  {
   "cell_type": "code",
   "execution_count": 3,
   "metadata": {
    "ExecuteTime": {
     "end_time": "2019-01-26T11:43:24.193301Z",
     "start_time": "2019-01-26T11:43:24.189112Z"
    }
   },
   "outputs": [
    {
     "data": {
      "text/plain": [
       "(<tf.Tensor 'Const:0' shape=() dtype=float32>,\n",
       " <tf.Tensor 'Const_1:0' shape=() dtype=float32>)"
      ]
     },
     "execution_count": 3,
     "metadata": {},
     "output_type": "execute_result"
    }
   ],
   "source": [
    "node1, node2"
   ]
  },
  {
   "cell_type": "code",
   "execution_count": 4,
   "metadata": {
    "ExecuteTime": {
     "end_time": "2019-01-26T11:43:24.204775Z",
     "start_time": "2019-01-26T11:43:24.197611Z"
    }
   },
   "outputs": [],
   "source": [
    "# create a session object to evaluate nodes\n",
    "with tf.Session() as sess:\n",
    "    sess.run(node1)"
   ]
  },
  {
   "cell_type": "code",
   "execution_count": 5,
   "metadata": {
    "ExecuteTime": {
     "end_time": "2019-01-26T11:43:24.212664Z",
     "start_time": "2019-01-26T11:43:24.207894Z"
    }
   },
   "outputs": [
    {
     "name": "stdout",
     "output_type": "stream",
     "text": [
      "[3.0, 4.5]\n"
     ]
    }
   ],
   "source": [
    "# you can evaluate multiple nodes at once\n",
    "with tf.Session() as sess:\n",
    "    print(sess.run([node1, node2]))"
   ]
  },
  {
   "cell_type": "code",
   "execution_count": 6,
   "metadata": {
    "ExecuteTime": {
     "end_time": "2019-01-26T11:43:24.218976Z",
     "start_time": "2019-01-26T11:43:24.214616Z"
    }
   },
   "outputs": [],
   "source": [
    "node3 = tf.add(node1, node2) # add two nodes and assign to another node"
   ]
  },
  {
   "cell_type": "code",
   "execution_count": 7,
   "metadata": {
    "ExecuteTime": {
     "end_time": "2019-01-26T11:43:24.227056Z",
     "start_time": "2019-01-26T11:43:24.222105Z"
    }
   },
   "outputs": [
    {
     "data": {
      "text/plain": [
       "<tf.Tensor 'Add:0' shape=() dtype=float32>"
      ]
     },
     "execution_count": 7,
     "metadata": {},
     "output_type": "execute_result"
    }
   ],
   "source": [
    "node3"
   ]
  },
  {
   "cell_type": "code",
   "execution_count": 8,
   "metadata": {
    "ExecuteTime": {
     "end_time": "2019-01-26T11:43:24.234640Z",
     "start_time": "2019-01-26T11:43:24.228945Z"
    }
   },
   "outputs": [
    {
     "name": "stdout",
     "output_type": "stream",
     "text": [
      "7.5\n"
     ]
    }
   ],
   "source": [
    "# run the computation graph\n",
    "with tf.Session() as sess:\n",
    "    print(sess.run(node3))"
   ]
  },
  {
   "cell_type": "markdown",
   "metadata": {},
   "source": [
    "## tf.placeholders()"
   ]
  },
  {
   "cell_type": "code",
   "execution_count": 9,
   "metadata": {
    "ExecuteTime": {
     "end_time": "2019-01-26T11:43:24.241326Z",
     "start_time": "2019-01-26T11:43:24.236553Z"
    }
   },
   "outputs": [],
   "source": [
    "# placeholders are used to hold variable input\n",
    "a = tf.placeholder(tf.int32) # define the data type of the input\n",
    "b = tf.placeholder(tf.int32)"
   ]
  },
  {
   "cell_type": "code",
   "execution_count": 10,
   "metadata": {
    "ExecuteTime": {
     "end_time": "2019-01-26T11:43:24.246843Z",
     "start_time": "2019-01-26T11:43:24.243239Z"
    }
   },
   "outputs": [],
   "source": [
    "adder_node = tf.add(a, b) # add two nodes"
   ]
  },
  {
   "cell_type": "code",
   "execution_count": 11,
   "metadata": {
    "ExecuteTime": {
     "end_time": "2019-01-26T11:43:24.256790Z",
     "start_time": "2019-01-26T11:43:24.248524Z"
    }
   },
   "outputs": [
    {
     "name": "stdout",
     "output_type": "stream",
     "text": [
      "6\n"
     ]
    }
   ],
   "source": [
    "# evaluate computation graph\n",
    "with tf.Session() as sess:\n",
    "    print(sess.run(adder_node, feed_dict={a: 2, b: 4})) # use feed_dict to pass input to nodes"
   ]
  },
  {
   "cell_type": "code",
   "execution_count": 12,
   "metadata": {
    "ExecuteTime": {
     "end_time": "2019-01-26T11:43:24.266010Z",
     "start_time": "2019-01-26T11:43:24.259108Z"
    }
   },
   "outputs": [
    {
     "name": "stdout",
     "output_type": "stream",
     "text": [
      "[ 4 12]\n"
     ]
    }
   ],
   "source": [
    "# evaluate computation graph\n",
    "with tf.Session() as sess:\n",
    "    print(sess.run(adder_node, feed_dict={a:[1, 2], b:[3, 10]})) # pass multiple input to nodes"
   ]
  },
  {
   "cell_type": "code",
   "execution_count": 13,
   "metadata": {
    "ExecuteTime": {
     "end_time": "2019-01-26T11:43:24.275619Z",
     "start_time": "2019-01-26T11:43:24.267966Z"
    }
   },
   "outputs": [
    {
     "name": "stdout",
     "output_type": "stream",
     "text": [
      "[ 6  8 10]\n"
     ]
    }
   ],
   "source": [
    "with tf.Session() as sess:\n",
    "    result = sess.run(adder_node, feed_dict={a:[2, 3, 4], b:[4, 5, 6]}) # save the result into another node\n",
    "    print(result)"
   ]
  },
  {
   "cell_type": "code",
   "execution_count": 14,
   "metadata": {
    "ExecuteTime": {
     "end_time": "2019-01-26T11:43:24.281139Z",
     "start_time": "2019-01-26T11:43:24.277216Z"
    }
   },
   "outputs": [
    {
     "data": {
      "text/plain": [
       "(array([ 6,  8, 10], dtype=int32), (3,))"
      ]
     },
     "execution_count": 14,
     "metadata": {},
     "output_type": "execute_result"
    }
   ],
   "source": [
    "result, result.shape"
   ]
  },
  {
   "cell_type": "markdown",
   "metadata": {},
   "source": [
    "## tf.Variable()"
   ]
  },
  {
   "cell_type": "code",
   "execution_count": 15,
   "metadata": {
    "ExecuteTime": {
     "end_time": "2019-01-26T11:43:24.292802Z",
     "start_time": "2019-01-26T11:43:24.283131Z"
    }
   },
   "outputs": [
    {
     "data": {
      "text/plain": [
       "<tf.Variable 'Variable:0' shape=() dtype=float32_ref>"
      ]
     },
     "execution_count": 15,
     "metadata": {},
     "output_type": "execute_result"
    }
   ],
   "source": [
    "# variable is used to hold values that keep changing during the process\n",
    "# variable maintains state in the graph across calls to run\n",
    "variable_a = tf.Variable(1.0, tf.float32)\n",
    "variable_a"
   ]
  },
  {
   "cell_type": "code",
   "execution_count": 16,
   "metadata": {
    "ExecuteTime": {
     "end_time": "2019-01-26T11:43:24.304821Z",
     "start_time": "2019-01-26T11:43:24.295949Z"
    }
   },
   "outputs": [
    {
     "data": {
      "text/plain": [
       "<tf.Variable 'Variable_1:0' shape=(2,) dtype=float32_ref>"
      ]
     },
     "execution_count": 16,
     "metadata": {},
     "output_type": "execute_result"
    }
   ],
   "source": [
    "variable_b = tf.Variable([1.0, 2.0], tf.float32)\n",
    "variable_b"
   ]
  },
  {
   "cell_type": "markdown",
   "metadata": {},
   "source": [
    "## Forward Pass Over Linear Regression with Unit Feature"
   ]
  },
  {
   "cell_type": "code",
   "execution_count": 17,
   "metadata": {
    "ExecuteTime": {
     "end_time": "2019-01-26T11:43:24.347220Z",
     "start_time": "2019-01-26T11:43:24.306618Z"
    }
   },
   "outputs": [
    {
     "name": "stdout",
     "output_type": "stream",
     "text": [
      "Loss =  41.0\n",
      "[2. 3. 4. 5.]\n"
     ]
    }
   ],
   "source": [
    "weight = tf.Variable([1.0], tf.float32) # set intial weight as 1.0\n",
    "bias = tf.Variable([1.0], tf.float32) # set initial weight as 1.0\n",
    "x = tf.placeholder(tf.float32) # unit feature\n",
    "\n",
    "model = weight * x + bias # vectorize linear model\n",
    "\n",
    "# create placeholder for predicted value\n",
    "y_original = tf.placeholder(tf.float32)\n",
    "\n",
    "# create a error metric\n",
    "error_measure = tf.squared_difference(model, y_original)\n",
    "\n",
    "# create a loss function\n",
    "loss_function = tf.reduce_mean(error_measure)\n",
    "\n",
    "with tf.Session() as sess:\n",
    "    sess.run(tf.global_variables_initializer())\n",
    "    # now run to evaluate the loss function\n",
    "    print(\"Loss = \", sess.run(loss_function, feed_dict={x:[1, 2, 3, 4], y_original:[-1, -2, -3, -4]}))\n",
    "    # predict\n",
    "    print(sess.run(model, feed_dict={x:[1, 2, 3, 4], y_original:[-1, -2, -3, -4]}))"
   ]
  },
  {
   "cell_type": "code",
   "execution_count": 18,
   "metadata": {
    "ExecuteTime": {
     "end_time": "2019-01-26T11:43:24.395786Z",
     "start_time": "2019-01-26T11:43:24.352369Z"
    }
   },
   "outputs": [
    {
     "name": "stdout",
     "output_type": "stream",
     "text": [
      "Loss =  0.0\n",
      "[-1. -2. -3. -4.]\n"
     ]
    }
   ],
   "source": [
    "# now lets change weight and bais\n",
    "weight = tf.Variable([-1.0], tf.float32) # set intial weight as 1.0\n",
    "bias = tf.Variable([0.0], tf.float32) # set initial weight as 1.0\n",
    "x = tf.placeholder(tf.float32) # unit feature\n",
    "\n",
    "model = weight * x + bias # vectorize linear model\n",
    "\n",
    "# create placeholder for predicted value\n",
    "y_original = tf.placeholder(tf.float32)\n",
    "\n",
    "# create a error metric\n",
    "error_measure = tf.squared_difference(model, y_original)\n",
    "\n",
    "# create a loss function\n",
    "loss_function = tf.reduce_mean(error_measure)\n",
    "\n",
    "with tf.Session() as sess:\n",
    "    sess.run(tf.global_variables_initializer())\n",
    "    # now run to evaluate the loss function\n",
    "    print(\"Loss = \", sess.run(loss_function, feed_dict={x:[1, 2, 3, 4], y_original:[-1, -2, -3, -4]}))\n",
    "    # predict\n",
    "    print(sess.run(model, feed_dict={x:[1, 2, 3, 4], y_original:[-1, -2, -3, -4]}))"
   ]
  },
  {
   "cell_type": "markdown",
   "metadata": {},
   "source": [
    "## Linear Regression Using Gradient Descent Optimizer"
   ]
  },
  {
   "cell_type": "code",
   "execution_count": 19,
   "metadata": {
    "ExecuteTime": {
     "end_time": "2019-01-26T11:43:24.402138Z",
     "start_time": "2019-01-26T11:43:24.398010Z"
    }
   },
   "outputs": [],
   "source": [
    "# get dummy data for now\n",
    "# training data\n",
    "x_train = [1, 2, 3, 4, 5, 6, 7, 8, 9]\n",
    "y_train = [2, 4, 6, 8, 10, 12, 14, 16, 18]\n",
    "\n",
    "# validation data\n",
    "x_val = [0, 10, 20, 30, 40, 50]\n",
    "y_val = [0, 20, 40, 60, 80, 100]\n",
    "\n",
    "# test data\n",
    "x_test = [0, -1, 100]\n",
    "y_test = [0, -2, 200]"
   ]
  },
  {
   "cell_type": "code",
   "execution_count": 20,
   "metadata": {
    "ExecuteTime": {
     "end_time": "2019-01-26T11:43:24.473554Z",
     "start_time": "2019-01-26T11:43:24.404223Z"
    }
   },
   "outputs": [],
   "source": [
    "# first set some initial values for weight and bias: same as before\n",
    "weight = tf.Variable([0.0])\n",
    "bias = tf.Variable([0.0])\n",
    "\n",
    "x = tf.placeholder(tf.float32) # placeholder\n",
    "y = tf.placeholder(tf.float32)\n",
    "\n",
    "linear_model = tf.add(tf.multiply(weight, x), bias) # model\n",
    "\n",
    "loss_function = tf.reduce_mean(tf.square(tf.subtract(linear_model, y))) # minimize the loss function = mean squared difference\n",
    "\n",
    "alpha = tf.constant(0.01) # set fixed learning rate\n",
    "\n",
    "optimizer = tf.train.GradientDescentOptimizer(learning_rate=alpha) # use an optimizer to optimize the weights and bias\n",
    "\n",
    "# use the optimizer to minimise the loss function\n",
    "trainer = optimizer.minimize(loss_function)"
   ]
  },
  {
   "cell_type": "code",
   "execution_count": 21,
   "metadata": {
    "ExecuteTime": {
     "end_time": "2019-01-26T11:43:24.918177Z",
     "start_time": "2019-01-26T11:43:24.475620Z"
    },
    "scrolled": true
   },
   "outputs": [
    {
     "name": "stdout",
     "output_type": "stream",
     "text": [
      "Training...\n",
      "\t\tValidation Loss =  485.66968\n",
      "\t\tWeights =  [1.2666667]\n",
      "\t\tBias =  [0.19999999]\n",
      "\t\tValidation Loss =  0.6782417\n",
      "\t\tWeights =  [1.9674879]\n",
      "\t\tBias =  [0.2045743]\n",
      "\t\tValidation Loss =  0.2977697\n",
      "\t\tWeights =  [1.9784577]\n",
      "\t\tBias =  [0.13554992]\n",
      "\t\tValidation Loss =  0.13073128\n",
      "\t\tWeights =  [1.9857261]\n",
      "\t\tBias =  [0.08981472]\n",
      "\t\tValidation Loss =  0.057394724\n",
      "\t\tWeights =  [1.9905423]\n",
      "\t\tBias =  [0.05951079]\n",
      "\t\tValidation Loss =  0.025199456\n",
      "\t\tWeights =  [1.9937333]\n",
      "\t\tBias =  [0.03943158]\n",
      "\t\tValidation Loss =  0.011062431\n",
      "\t\tWeights =  [1.9958477]\n",
      "\t\tBias =  [0.0261272]\n",
      "\t\tValidation Loss =  0.0048566204\n",
      "\t\tWeights =  [1.9972488]\n",
      "\t\tBias =  [0.0173117]\n",
      "\t\tValidation Loss =  0.002132545\n",
      "\t\tWeights =  [1.998177]\n",
      "\t\tBias =  [0.0114706]\n",
      "\t\tValidation Loss =  0.0009361114\n",
      "\t\tWeights =  [1.9987922]\n",
      "\t\tBias =  [0.0076003]\n",
      "Testing...\n",
      "Test Loss =  0.0019101078\n",
      "Prediction =  [ 5.0567007e-03 -1.9941397e+00  1.9992470e+02]\n"
     ]
    }
   ],
   "source": [
    "# run the mode\n",
    "with tf.Session() as sess:\n",
    "    print(\"Training...\")\n",
    "    sess.run(tf.global_variables_initializer()) # initialize variables\n",
    "    # run the optimizer for 1000 iterations\n",
    "    for i in range(1000):\n",
    "        sess.run(trainer, feed_dict={x:x_train, y:y_train})\n",
    "        # print(\"Train Loss = \", sess.run(loss_function, feed_dict={x:x_train, y:y_train}))\n",
    "        if i % 100 == 0:\n",
    "            print(\"\\t\\tValidation Loss = \", sess.run(loss_function, feed_dict={x:x_val, y:y_val}))\n",
    "            print(\"\\t\\tWeights = \", sess.run(weight))\n",
    "            print(\"\\t\\tBias = \", sess.run(bias))\n",
    "    # now perform prediction\n",
    "    print(\"Testing...\")\n",
    "    print(\"Test Loss = \", sess.run(loss_function, feed_dict={x:x_test, y:y_test}))\n",
    "    print(\"Prediction = \", sess.run(linear_model, feed_dict={x:x_test})) # expected values are in y_test"
   ]
  },
  {
   "cell_type": "markdown",
   "metadata": {},
   "source": [
    "As we can see that we didnt get the exact value but its very close and error has been reduced drastically."
   ]
  },
  {
   "cell_type": "code",
   "execution_count": null,
   "metadata": {},
   "outputs": [],
   "source": []
  }
 ],
 "metadata": {
  "kernelspec": {
   "display_name": "Python [conda env:ai_env]",
   "language": "python",
   "name": "conda-env-ai_env-py"
  },
  "language_info": {
   "codemirror_mode": {
    "name": "ipython",
    "version": 3
   },
   "file_extension": ".py",
   "mimetype": "text/x-python",
   "name": "python",
   "nbconvert_exporter": "python",
   "pygments_lexer": "ipython3",
   "version": "3.6.6"
  }
 },
 "nbformat": 4,
 "nbformat_minor": 2
}
