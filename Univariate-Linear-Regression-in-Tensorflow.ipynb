{
 "cells": [
  {
   "cell_type": "code",
   "execution_count": 1,
   "metadata": {
    "ExecuteTime": {
     "end_time": "2019-01-30T19:08:26.622244Z",
     "start_time": "2019-01-30T19:08:25.257533Z"
    }
   },
   "outputs": [
    {
     "data": {
      "text/plain": [
       "'1.12.0'"
      ]
     },
     "execution_count": 1,
     "metadata": {},
     "output_type": "execute_result"
    }
   ],
   "source": [
    "# load packages\n",
    "import os\n",
    "import sys\n",
    "import numpy as np\n",
    "import tensorflow as tf\n",
    "import matplotlib.pyplot as plt\n",
    "tf.__version__"
   ]
  },
  {
   "cell_type": "code",
   "execution_count": 2,
   "metadata": {
    "ExecuteTime": {
     "end_time": "2019-01-30T19:08:26.629294Z",
     "start_time": "2019-01-30T19:08:26.624893Z"
    }
   },
   "outputs": [],
   "source": [
    "# sample data\n",
    "x_train = np.arange(1000, step=0.1)\n",
    "x_train = x_train.reshape((len(x_train), 1))\n",
    "y_train = x_train + 20 * np.sin(x_train / 10)\n",
    "y_train = y_train.reshape((len(y_train), 1))"
   ]
  },
  {
   "cell_type": "code",
   "execution_count": 3,
   "metadata": {
    "ExecuteTime": {
     "end_time": "2019-01-30T19:08:26.635728Z",
     "start_time": "2019-01-30T19:08:26.631466Z"
    }
   },
   "outputs": [
    {
     "data": {
      "text/plain": [
       "((10000, 1), (10000, 1))"
      ]
     },
     "execution_count": 3,
     "metadata": {},
     "output_type": "execute_result"
    }
   ],
   "source": [
    "x_train.shape, y_train.shape"
   ]
  },
  {
   "cell_type": "code",
   "execution_count": 4,
   "metadata": {
    "ExecuteTime": {
     "end_time": "2019-01-30T19:08:26.786357Z",
     "start_time": "2019-01-30T19:08:26.638630Z"
    }
   },
   "outputs": [
    {
     "data": {
      "image/png": "[encoded data removed]",
      "text/plain": [
       "<Figure size 432x288 with 1 Axes>"
      ]
     },
     "metadata": {
      "needs_background": "light"
     },
     "output_type": "display_data"
    }
   ],
   "source": [
    "plt.plot(x_train, y_train, c=\"red\")\n",
    "plt.show()"
   ]
  },
  {
   "cell_type": "code",
   "execution_count": 5,
   "metadata": {
    "ExecuteTime": {
     "end_time": "2019-01-30T19:08:26.792933Z",
     "start_time": "2019-01-30T19:08:26.789955Z"
    }
   },
   "outputs": [],
   "source": [
    "num_samples = x_train.shape[0]\n",
    "batch_size = 100"
   ]
  },
  {
   "cell_type": "code",
   "execution_count": 6,
   "metadata": {
    "ExecuteTime": {
     "end_time": "2019-01-30T19:08:26.800387Z",
     "start_time": "2019-01-30T19:08:26.795356Z"
    }
   },
   "outputs": [
    {
     "data": {
      "text/plain": [
       "10000"
      ]
     },
     "execution_count": 6,
     "metadata": {},
     "output_type": "execute_result"
    }
   ],
   "source": [
    "num_samples"
   ]
  },
  {
   "cell_type": "code",
   "execution_count": 7,
   "metadata": {
    "ExecuteTime": {
     "end_time": "2019-01-30T19:08:26.820853Z",
     "start_time": "2019-01-30T19:08:26.803323Z"
    }
   },
   "outputs": [],
   "source": [
    "# define placeholders for input\n",
    "x = tf.placeholder(tf.float32, shape=(batch_size, 1))\n",
    "y = tf.placeholder(tf.float32, shape=(batch_size, 1))"
   ]
  },
  {
   "cell_type": "code",
   "execution_count": 8,
   "metadata": {
    "ExecuteTime": {
     "end_time": "2019-01-30T19:08:26.887027Z",
     "start_time": "2019-01-30T19:08:26.822826Z"
    }
   },
   "outputs": [],
   "source": [
    "# define variables to be learned\n",
    "w = tf.get_variable(\"weights\", (1, 1), initializer=tf.random_normal_initializer())\n",
    "b = tf.get_variable(\"bias\", (1, 1), initializer=tf.constant_initializer(0.0))"
   ]
  },
  {
   "cell_type": "code",
   "execution_count": 9,
   "metadata": {
    "ExecuteTime": {
     "end_time": "2019-01-30T19:08:26.897243Z",
     "start_time": "2019-01-30T19:08:26.888978Z"
    }
   },
   "outputs": [],
   "source": [
    "# prediction\n",
    "y_pred = np.add(np.multiply(x, w), b)\n",
    "\n",
    "# loss function\n",
    "loss = tf.reduce_mean(tf.square(tf.subtract(y_pred, y)))"
   ]
  },
  {
   "cell_type": "code",
   "execution_count": 10,
   "metadata": {
    "ExecuteTime": {
     "end_time": "2019-01-30T19:08:26.957491Z",
     "start_time": "2019-01-30T19:08:26.898970Z"
    }
   },
   "outputs": [],
   "source": [
    "optimizer = tf.train.AdamOptimizer().minimize(loss) # set optimizer"
   ]
  },
  {
   "cell_type": "code",
   "execution_count": 11,
   "metadata": {
    "ExecuteTime": {
     "end_time": "2019-01-30T19:08:29.058270Z",
     "start_time": "2019-01-30T19:08:26.959191Z"
    },
    "scrolled": true
   },
   "outputs": [
    {
     "name": "stdout",
     "output_type": "stream",
     "text": [
      "Index 6 -> Loss Decreased: 3874.13\n",
      "\n",
      "Index 7 -> Loss Decreased: 3471.7432\n",
      "\n",
      "Index 8 -> Loss Decreased: 3435.5872\n",
      "\n",
      "Index 11 -> Loss Decreased: 3112.2312\n",
      "\n",
      "Index 12 -> Loss Decreased: 2840.1921\n",
      "\n",
      "Index 20 -> Loss Decreased: 2778.519\n",
      "\n",
      "Index 26 -> Loss Decreased: 2355.1704\n",
      "\n",
      "Index 30 -> Loss Decreased: 2135.0193\n",
      "\n",
      "Index 35 -> Loss Decreased: 2127.7808\n",
      "\n",
      "Index 36 -> Loss Decreased: 1890.0101\n",
      "\n",
      "Index 38 -> Loss Decreased: 1737.6892\n",
      "\n",
      "Index 40 -> Loss Decreased: 1230.4287\n",
      "\n",
      "Index 56 -> Loss Decreased: 1028.4015\n",
      "\n",
      "Index 64 -> Loss Decreased: 979.4699\n",
      "\n",
      "Index 70 -> Loss Decreased: 789.5069\n",
      "\n",
      "Index 73 -> Loss Decreased: 785.3382\n",
      "\n",
      "Index 78 -> Loss Decreased: 653.0846\n",
      "\n",
      "Index 82 -> Loss Decreased: 602.0388\n",
      "\n",
      "Index 89 -> Loss Decreased: 580.1612\n",
      "\n",
      "Index 92 -> Loss Decreased: 502.54404\n",
      "\n",
      "Index 103 -> Loss Decreased: 469.05664\n",
      "\n",
      "Index 104 -> Loss Decreased: 401.53357\n",
      "\n",
      "Index 105 -> Loss Decreased: 385.32245\n",
      "\n",
      "Index 115 -> Loss Decreased: 370.29782\n",
      "\n",
      "Index 118 -> Loss Decreased: 349.69086\n",
      "\n",
      "Index 119 -> Loss Decreased: 299.96823\n",
      "\n",
      "Index 123 -> Loss Decreased: 276.50345\n",
      "\n",
      "Index 126 -> Loss Decreased: 258.25604\n",
      "\n",
      "Index 132 -> Loss Decreased: 235.38374\n",
      "\n",
      "Index 135 -> Loss Decreased: 199.88419\n",
      "\n",
      "Index 160 -> Loss Decreased: 196.44872\n",
      "\n",
      "Index 167 -> Loss Decreased: 189.42178\n",
      "\n",
      "Index 171 -> Loss Decreased: 182.49939\n",
      "\n",
      "Index 185 -> Loss Decreased: 180.36678\n",
      "\n",
      "Index 187 -> Loss Decreased: 163.90855\n",
      "\n",
      "Index 670 -> Loss Decreased: 159.79214\n",
      "\n",
      "Index 1686 -> Loss Decreased: 155.60179\n",
      "\n"
     ]
    }
   ],
   "source": [
    "iterations = 5000\n",
    "with tf.Session() as sess:\n",
    "    # initialize variables in graph\n",
    "    sess.run(tf.global_variables_initializer())\n",
    "    # iterations\n",
    "    for step_idx in range(1, iterations+1):\n",
    "        # select random mini-batch\n",
    "        indices = np.random.choice(num_samples, batch_size)\n",
    "        x_batch, y_batch = x_train[indices], y_train[indices]\n",
    "        _, loss_val = sess.run([optimizer, loss], feed_dict={x: x_batch, y: y_batch})\n",
    "        if step_idx > 1:\n",
    "            if loss_val < prev_loss:\n",
    "                w_val, b_val = sess.run([w, b])\n",
    "                print(\"Index\", step_idx, \"->\", \"Loss Decreased:\", loss_val)\n",
    "                print()\n",
    "                prev_loss = loss_val\n",
    "        else:\n",
    "            prev_loss = loss_val"
   ]
  },
  {
   "cell_type": "code",
   "execution_count": 12,
   "metadata": {
    "ExecuteTime": {
     "end_time": "2019-01-30T19:08:29.064935Z",
     "start_time": "2019-01-30T19:08:29.059951Z"
    }
   },
   "outputs": [
    {
     "data": {
      "text/plain": [
       "(array([[0.9989058]], dtype=float32), array([[0.1500815]], dtype=float32))"
      ]
     },
     "execution_count": 12,
     "metadata": {},
     "output_type": "execute_result"
    }
   ],
   "source": [
    "w_val, b_val"
   ]
  },
  {
   "cell_type": "code",
   "execution_count": 13,
   "metadata": {
    "ExecuteTime": {
     "end_time": "2019-01-30T19:08:29.213769Z",
     "start_time": "2019-01-30T19:08:29.066748Z"
    }
   },
   "outputs": [
    {
     "data": {
      "image/png": "[encoded data removed]",
      "text/plain": [
       "<Figure size 432x288 with 1 Axes>"
      ]
     },
     "metadata": {
      "needs_background": "light"
     },
     "output_type": "display_data"
    }
   ],
   "source": [
    "# test sample\n",
    "x_test = x_train\n",
    "y_test = x_test * np.float(w_val) + np.float(b_val)\n",
    "\n",
    "# visualize results\n",
    "plt.plot(x_train, y_train, c=\"red\")\n",
    "plt.plot(x_test, y_test, c=\"blue\")\n",
    "plt.show()"
   ]
  },
  {
   "cell_type": "markdown",
   "metadata": {},
   "source": [
    "As expected since the model is a linear in nature, the prediction is linear and did not get the non-linear nature of the data."
   ]
  },
  {
   "cell_type": "code",
   "execution_count": null,
   "metadata": {},
   "outputs": [],
   "source": []
  }
 ],
 "metadata": {
  "kernelspec": {
   "display_name": "Python [conda env:ai_env]",
   "language": "python",
   "name": "conda-env-ai_env-py"
  },
  "language_info": {
   "codemirror_mode": {
    "name": "ipython",
    "version": 3
   },
   "file_extension": ".py",
   "mimetype": "text/x-python",
   "name": "python",
   "nbconvert_exporter": "python",
   "pygments_lexer": "ipython3",
   "version": "3.6.6"
  }
 },
 "nbformat": 4,
 "nbformat_minor": 2
}
