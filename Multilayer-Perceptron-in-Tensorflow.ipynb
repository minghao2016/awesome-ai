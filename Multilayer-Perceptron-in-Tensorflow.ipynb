{
 "cells": [
  {
   "cell_type": "code",
   "execution_count": 1,
   "metadata": {
    "ExecuteTime": {
     "end_time": "2019-01-31T20:55:31.871691Z",
     "start_time": "2019-01-31T20:55:30.527690Z"
    }
   },
   "outputs": [
    {
     "data": {
      "text/plain": [
       "'1.12.0'"
      ]
     },
     "execution_count": 1,
     "metadata": {},
     "output_type": "execute_result"
    }
   ],
   "source": [
    "# load packages\n",
    "import os\n",
    "import sys\n",
    "import numpy as np\n",
    "import pandas as pd\n",
    "import tensorflow as tf\n",
    "tf.__version__"
   ]
  },
  {
   "cell_type": "markdown",
   "metadata": {},
   "source": [
    "# Load Data"
   ]
  },
  {
   "cell_type": "code",
   "execution_count": 2,
   "metadata": {
    "ExecuteTime": {
     "end_time": "2019-01-31T20:55:31.888827Z",
     "start_time": "2019-01-31T20:55:31.877188Z"
    }
   },
   "outputs": [
    {
     "data": {
      "text/plain": [
       "((150, 6),\n",
       " Index(['Id', 'SepalLengthCm', 'SepalWidthCm', 'PetalLengthCm', 'PetalWidthCm',\n",
       "        'Species'],\n",
       "       dtype='object'))"
      ]
     },
     "execution_count": 2,
     "metadata": {},
     "output_type": "execute_result"
    }
   ],
   "source": [
    "data = pd.read_csv(\"data/iris-dataset.csv\")\n",
    "data.shape, data.columns"
   ]
  },
  {
   "cell_type": "code",
   "execution_count": 3,
   "metadata": {
    "ExecuteTime": {
     "end_time": "2019-01-31T20:55:31.895858Z",
     "start_time": "2019-01-31T20:55:31.890974Z"
    }
   },
   "outputs": [
    {
     "data": {
      "text/plain": [
       "array(['Iris-setosa', 'Iris-versicolor', 'Iris-virginica'], dtype=object)"
      ]
     },
     "execution_count": 3,
     "metadata": {},
     "output_type": "execute_result"
    }
   ],
   "source": [
    "target_values = data.Species.unique()\n",
    "target_values"
   ]
  },
  {
   "cell_type": "code",
   "execution_count": 4,
   "metadata": {
    "ExecuteTime": {
     "end_time": "2019-01-31T20:55:31.904606Z",
     "start_time": "2019-01-31T20:55:31.898752Z"
    }
   },
   "outputs": [],
   "source": [
    "# create mapping string -> numeric value\n",
    "target_values_mapping = dict()\n",
    "i = 0\n",
    "for tar in target_values:\n",
    "    if tar not in target_values_mapping:\n",
    "        target_values_mapping[tar] = i\n",
    "        i += 1\n",
    "    else:\n",
    "        continue"
   ]
  },
  {
   "cell_type": "code",
   "execution_count": 5,
   "metadata": {
    "ExecuteTime": {
     "end_time": "2019-01-31T20:55:31.912809Z",
     "start_time": "2019-01-31T20:55:31.908292Z"
    }
   },
   "outputs": [
    {
     "data": {
      "text/plain": [
       "{'Iris-setosa': 0, 'Iris-versicolor': 1, 'Iris-virginica': 2}"
      ]
     },
     "execution_count": 5,
     "metadata": {},
     "output_type": "execute_result"
    }
   ],
   "source": [
    "target_values_mapping"
   ]
  },
  {
   "cell_type": "code",
   "execution_count": 6,
   "metadata": {
    "ExecuteTime": {
     "end_time": "2019-01-31T20:55:31.939362Z",
     "start_time": "2019-01-31T20:55:31.914534Z"
    }
   },
   "outputs": [
    {
     "data": {
      "text/html": [
       "<div>\n",
       "<style scoped>\n",
       "    .dataframe tbody tr th:only-of-type {\n",
       "        vertical-align: middle;\n",
       "    }\n",
       "\n",
       "    .dataframe tbody tr th {\n",
       "        vertical-align: top;\n",
       "    }\n",
       "\n",
       "    .dataframe thead th {\n",
       "        text-align: right;\n",
       "    }\n",
       "</style>\n",
       "<table border=\"1\" class=\"dataframe\">\n",
       "  <thead>\n",
       "    <tr style=\"text-align: right;\">\n",
       "      <th></th>\n",
       "      <th>Id</th>\n",
       "      <th>SepalLengthCm</th>\n",
       "      <th>SepalWidthCm</th>\n",
       "      <th>PetalLengthCm</th>\n",
       "      <th>PetalWidthCm</th>\n",
       "      <th>Species</th>\n",
       "    </tr>\n",
       "  </thead>\n",
       "  <tbody>\n",
       "    <tr>\n",
       "      <th>0</th>\n",
       "      <td>1</td>\n",
       "      <td>5.1</td>\n",
       "      <td>3.5</td>\n",
       "      <td>1.4</td>\n",
       "      <td>0.2</td>\n",
       "      <td>0</td>\n",
       "    </tr>\n",
       "    <tr>\n",
       "      <th>1</th>\n",
       "      <td>2</td>\n",
       "      <td>4.9</td>\n",
       "      <td>3.0</td>\n",
       "      <td>1.4</td>\n",
       "      <td>0.2</td>\n",
       "      <td>0</td>\n",
       "    </tr>\n",
       "    <tr>\n",
       "      <th>2</th>\n",
       "      <td>3</td>\n",
       "      <td>4.7</td>\n",
       "      <td>3.2</td>\n",
       "      <td>1.3</td>\n",
       "      <td>0.2</td>\n",
       "      <td>0</td>\n",
       "    </tr>\n",
       "    <tr>\n",
       "      <th>3</th>\n",
       "      <td>4</td>\n",
       "      <td>4.6</td>\n",
       "      <td>3.1</td>\n",
       "      <td>1.5</td>\n",
       "      <td>0.2</td>\n",
       "      <td>0</td>\n",
       "    </tr>\n",
       "    <tr>\n",
       "      <th>4</th>\n",
       "      <td>5</td>\n",
       "      <td>5.0</td>\n",
       "      <td>3.6</td>\n",
       "      <td>1.4</td>\n",
       "      <td>0.2</td>\n",
       "      <td>0</td>\n",
       "    </tr>\n",
       "  </tbody>\n",
       "</table>\n",
       "</div>"
      ],
      "text/plain": [
       "   Id  SepalLengthCm  SepalWidthCm  PetalLengthCm  PetalWidthCm  Species\n",
       "0   1            5.1           3.5            1.4           0.2        0\n",
       "1   2            4.9           3.0            1.4           0.2        0\n",
       "2   3            4.7           3.2            1.3           0.2        0\n",
       "3   4            4.6           3.1            1.5           0.2        0\n",
       "4   5            5.0           3.6            1.4           0.2        0"
      ]
     },
     "execution_count": 6,
     "metadata": {},
     "output_type": "execute_result"
    }
   ],
   "source": [
    "# convert string value to numeric values\n",
    "data.Species = data.Species.apply(lambda x: target_values_mapping[x])\n",
    "data.head(5)"
   ]
  },
  {
   "cell_type": "code",
   "execution_count": 7,
   "metadata": {
    "ExecuteTime": {
     "end_time": "2019-01-31T20:55:31.948496Z",
     "start_time": "2019-01-31T20:55:31.942866Z"
    }
   },
   "outputs": [
    {
     "data": {
      "text/plain": [
       "array([0, 1, 2])"
      ]
     },
     "execution_count": 7,
     "metadata": {},
     "output_type": "execute_result"
    }
   ],
   "source": [
    "data.Species.unique()"
   ]
  },
  {
   "cell_type": "code",
   "execution_count": 8,
   "metadata": {
    "ExecuteTime": {
     "end_time": "2019-01-31T20:55:31.958365Z",
     "start_time": "2019-01-31T20:55:31.950412Z"
    }
   },
   "outputs": [
    {
     "data": {
      "text/plain": [
       "((150, 1), (150, 4))"
      ]
     },
     "execution_count": 8,
     "metadata": {},
     "output_type": "execute_result"
    }
   ],
   "source": [
    "features = np.array(data.iloc[:, 1:-1]) # load features into a numpy array\n",
    "labels = np.array(data.iloc[:, [-1]]) # load target values into a numpy array\n",
    "\n",
    "labels.shape, features.shape"
   ]
  },
  {
   "cell_type": "code",
   "execution_count": 9,
   "metadata": {
    "ExecuteTime": {
     "end_time": "2019-01-31T20:55:31.967632Z",
     "start_time": "2019-01-31T20:55:31.961959Z"
    }
   },
   "outputs": [
    {
     "data": {
      "text/plain": [
       "(array([[5.1, 3.5, 1.4, 0.2],\n",
       "        [4.9, 3. , 1.4, 0.2],\n",
       "        [4.7, 3.2, 1.3, 0.2]]), array([[0],\n",
       "        [0],\n",
       "        [0]]))"
      ]
     },
     "execution_count": 9,
     "metadata": {},
     "output_type": "execute_result"
    }
   ],
   "source": [
    "features[:3], labels[:3]"
   ]
  },
  {
   "cell_type": "code",
   "execution_count": 10,
   "metadata": {
    "ExecuteTime": {
     "end_time": "2019-01-31T20:55:31.972653Z",
     "start_time": "2019-01-31T20:55:31.969190Z"
    }
   },
   "outputs": [],
   "source": [
    "labels = tf.keras.utils.to_categorical(labels, num_classes=3)"
   ]
  },
  {
   "cell_type": "code",
   "execution_count": 11,
   "metadata": {
    "ExecuteTime": {
     "end_time": "2019-01-31T20:55:31.981362Z",
     "start_time": "2019-01-31T20:55:31.975804Z"
    }
   },
   "outputs": [],
   "source": [
    "# split data into train and validate\n",
    "val_split_size = 0.2\n",
    "random_indices = np.random.rand(len(features)) < val_split_size\n",
    "\n",
    "# split data\n",
    "train_x = features[~random_indices]\n",
    "val_x = features[random_indices]\n",
    "train_y = labels[~random_indices]\n",
    "val_y = labels[random_indices]"
   ]
  },
  {
   "cell_type": "code",
   "execution_count": 12,
   "metadata": {
    "ExecuteTime": {
     "end_time": "2019-01-31T20:55:31.991236Z",
     "start_time": "2019-01-31T20:55:31.984679Z"
    }
   },
   "outputs": [
    {
     "data": {
      "text/plain": [
       "((106, 4), (106, 3), (44, 4), (44, 3))"
      ]
     },
     "execution_count": 12,
     "metadata": {},
     "output_type": "execute_result"
    }
   ],
   "source": [
    "train_x.shape, train_y.shape, val_x.shape, val_y.shape"
   ]
  },
  {
   "cell_type": "markdown",
   "metadata": {},
   "source": [
    "# Multilayer Perceptron Model"
   ]
  },
  {
   "cell_type": "code",
   "execution_count": 13,
   "metadata": {
    "ExecuteTime": {
     "end_time": "2019-01-31T20:55:31.998621Z",
     "start_time": "2019-01-31T20:55:31.995135Z"
    }
   },
   "outputs": [],
   "source": [
    "num_features = train_x.shape[1]\n",
    "num_classes = train_y.shape[1]"
   ]
  },
  {
   "cell_type": "code",
   "execution_count": 42,
   "metadata": {
    "ExecuteTime": {
     "end_time": "2019-01-31T20:55:56.514418Z",
     "start_time": "2019-01-31T20:55:56.510360Z"
    }
   },
   "outputs": [
    {
     "data": {
      "text/plain": [
       "(4, 3)"
      ]
     },
     "execution_count": 42,
     "metadata": {},
     "output_type": "execute_result"
    }
   ],
   "source": [
    "num_features, num_classes"
   ]
  },
  {
   "cell_type": "code",
   "execution_count": 43,
   "metadata": {
    "ExecuteTime": {
     "end_time": "2019-01-31T20:55:56.522922Z",
     "start_time": "2019-01-31T20:55:56.517005Z"
    }
   },
   "outputs": [],
   "source": [
    "# placeholders\n",
    "x = tf.placeholder(dtype=tf.float32, shape=(None, num_features), name=\"feature_x\")\n",
    "y = tf.placeholder(dtype=tf.float32, shape=(None, num_classes), name=\"target_y\")"
   ]
  },
  {
   "cell_type": "code",
   "execution_count": 44,
   "metadata": {
    "ExecuteTime": {
     "end_time": "2019-01-31T20:55:56.534445Z",
     "start_time": "2019-01-31T20:55:56.525444Z"
    }
   },
   "outputs": [],
   "source": [
    "# define baias for layers\n",
    "bias = tf.Variable([[1.0]], dtype=tf.float32, name=\"layer_bias\")"
   ]
  },
  {
   "cell_type": "code",
   "execution_count": 45,
   "metadata": {
    "ExecuteTime": {
     "end_time": "2019-01-31T20:55:56.554568Z",
     "start_time": "2019-01-31T20:55:56.538010Z"
    }
   },
   "outputs": [],
   "source": [
    "# configure layer 1\n",
    "l1_nodes = 10\n",
    "w1 = tf.Variable(tf.random_normal(shape=(l1_nodes, num_features), mean=0.0, stddev=1.0, dtype=tf.float32, name=\"w1\"))\n",
    "l1_output = tf.nn.relu(tf.add(tf.matmul(x, tf.transpose(w1)), bias))"
   ]
  },
  {
   "cell_type": "code",
   "execution_count": 46,
   "metadata": {
    "ExecuteTime": {
     "end_time": "2019-01-31T20:55:56.583196Z",
     "start_time": "2019-01-31T20:55:56.557458Z"
    }
   },
   "outputs": [],
   "source": [
    "# configure second hidden layer\n",
    "l2_nodes = 32\n",
    "w2 = tf.Variable(tf.random_normal(shape=(l2_nodes, l1_nodes), mean=0.0, stddev=1.0, dtype=tf.float32, name=\"w2\"))\n",
    "l2_output = tf.nn.relu(tf.add(tf.matmul(l1_output, tf.transpose(w2)), bias))"
   ]
  },
  {
   "cell_type": "code",
   "execution_count": 47,
   "metadata": {
    "ExecuteTime": {
     "end_time": "2019-01-31T20:55:56.606464Z",
     "start_time": "2019-01-31T20:55:56.586096Z"
    }
   },
   "outputs": [],
   "source": [
    "# output layer\n",
    "w3 = tf.Variable(tf.random_normal(shape=(num_classes, l2_nodes), mean=0.0, stddev=1.0, dtype=tf.float32, name=\"w3\"))\n",
    "l3_output = tf.nn.softmax(tf.add(tf.matmul(l2_output, tf.transpose(w3)), bias))"
   ]
  },
  {
   "cell_type": "code",
   "execution_count": 48,
   "metadata": {
    "ExecuteTime": {
     "end_time": "2019-01-31T20:55:56.621712Z",
     "start_time": "2019-01-31T20:55:56.608658Z"
    }
   },
   "outputs": [],
   "source": [
    "# define loss function\n",
    "# loss_function = tf.reduce_mean(tf.nn.softmax_cross_entropy_with_logits_v2(labels=y, logits=l3_output), name=\"loss\")\n",
    "loss_function = tf.reduce_mean(-tf.reduce_sum(y*tf.log(l3_output + 0.0001)))"
   ]
  },
  {
   "cell_type": "code",
   "execution_count": 49,
   "metadata": {
    "ExecuteTime": {
     "end_time": "2019-01-31T20:55:56.748328Z",
     "start_time": "2019-01-31T20:55:56.625293Z"
    }
   },
   "outputs": [],
   "source": [
    "trainer = tf.train.RMSPropOptimizer(learning_rate = 0.01).minimize(loss_function)"
   ]
  },
  {
   "cell_type": "code",
   "execution_count": 50,
   "metadata": {
    "ExecuteTime": {
     "end_time": "2019-01-31T20:55:57.440218Z",
     "start_time": "2019-01-31T20:55:56.751028Z"
    },
    "scrolled": true
   },
   "outputs": [
    {
     "name": "stdout",
     "output_type": "stream",
     "text": [
      "Step: 0 Train Loss: 369.03073\n",
      "Step: 100 Train Loss: 303.934\n",
      "Step: 200 Train Loss: 303.934\n",
      "Step: 300 Train Loss: 303.93393\n",
      "Step: 400 Train Loss: 62.686295\n",
      "Step: 500 Train Loss: 43.670845\n",
      "Step: 600 Train Loss: 27.073212\n",
      "Step: 700 Train Loss: 16.737186\n",
      "Step: 800 Train Loss: 10.015486\n",
      "Step: 900 Train Loss: 8.215415\n",
      "Validation Loss: 1.3870778\n"
     ]
    }
   ],
   "source": [
    "# run the model\n",
    "epochs = 1000\n",
    "with tf.Session() as sess:\n",
    "    sess.run(tf.global_variables_initializer())\n",
    "    for i in range(epochs):\n",
    "        sess.run(trainer, feed_dict={x:train_x, y:train_y})\n",
    "        if i % 100 == 0:\n",
    "            train_loss = sess.run(loss_function, feed_dict={x:train_x, y:train_y})\n",
    "            print(\"Step:\", i, \"Train Loss:\", train_loss)\n",
    "    val_loss = sess.run(loss_function, feed_dict={x:val_x, y:val_y})\n",
    "    predicted = sess.run(l3_output, feed_dict={x:val_x, y:val_y})\n",
    "    print(\"Validation Loss:\", val_loss)"
   ]
  },
  {
   "cell_type": "code",
   "execution_count": 51,
   "metadata": {
    "ExecuteTime": {
     "end_time": "2019-01-31T20:55:57.445712Z",
     "start_time": "2019-01-31T20:55:57.442354Z"
    }
   },
   "outputs": [],
   "source": [
    "predicted_labels = list()\n",
    "for res in predicted:\n",
    "    predicted_labels.append(np.argmax(res))"
   ]
  },
  {
   "cell_type": "code",
   "execution_count": 52,
   "metadata": {
    "ExecuteTime": {
     "end_time": "2019-01-31T20:55:57.452614Z",
     "start_time": "2019-01-31T20:55:57.448036Z"
    }
   },
   "outputs": [
    {
     "data": {
      "text/plain": [
       "44"
      ]
     },
     "execution_count": 52,
     "metadata": {},
     "output_type": "execute_result"
    }
   ],
   "source": [
    "len(predicted_labels)"
   ]
  },
  {
   "cell_type": "code",
   "execution_count": 53,
   "metadata": {
    "ExecuteTime": {
     "end_time": "2019-01-31T20:55:57.458201Z",
     "start_time": "2019-01-31T20:55:57.454651Z"
    }
   },
   "outputs": [],
   "source": [
    "original_labels = list()\n",
    "for lab in val_y:\n",
    "    original_labels.append(np.argmax(lab))"
   ]
  },
  {
   "cell_type": "code",
   "execution_count": 54,
   "metadata": {
    "ExecuteTime": {
     "end_time": "2019-01-31T20:55:57.464580Z",
     "start_time": "2019-01-31T20:55:57.460316Z"
    }
   },
   "outputs": [
    {
     "data": {
      "text/plain": [
       "44"
      ]
     },
     "execution_count": 54,
     "metadata": {},
     "output_type": "execute_result"
    }
   ],
   "source": [
    "len(original_labels)"
   ]
  },
  {
   "cell_type": "code",
   "execution_count": 55,
   "metadata": {
    "ExecuteTime": {
     "end_time": "2019-01-31T20:55:57.479516Z",
     "start_time": "2019-01-31T20:55:57.471519Z"
    }
   },
   "outputs": [
    {
     "data": {
      "text/plain": [
       "1.0"
      ]
     },
     "execution_count": 55,
     "metadata": {},
     "output_type": "execute_result"
    }
   ],
   "source": [
    "from sklearn.metrics import accuracy_score\n",
    "# accurayc score\n",
    "accuracy_score(predicted_labels, original_labels)"
   ]
  },
  {
   "cell_type": "code",
   "execution_count": null,
   "metadata": {},
   "outputs": [],
   "source": []
  }
 ],
 "metadata": {
  "kernelspec": {
   "display_name": "Python [conda env:ai_env]",
   "language": "python",
   "name": "conda-env-ai_env-py"
  },
  "language_info": {
   "codemirror_mode": {
    "name": "ipython",
    "version": 3
   },
   "file_extension": ".py",
   "mimetype": "text/x-python",
   "name": "python",
   "nbconvert_exporter": "python",
   "pygments_lexer": "ipython3",
   "version": "3.6.6"
  }
 },
 "nbformat": 4,
 "nbformat_minor": 2
}
